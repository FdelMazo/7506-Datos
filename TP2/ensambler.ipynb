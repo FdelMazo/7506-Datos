{
 "cells": [
  {
   "cell_type": "code",
   "execution_count": 1,
   "metadata": {},
   "outputs": [],
   "source": [
    "import pandas as pd"
   ]
  },
  {
   "cell_type": "code",
   "execution_count": 2,
   "metadata": {},
   "outputs": [],
   "source": [
    "df1 = pd.read_csv('submission-lightgbm_bagging_all_in-0.8701.csv', low_memory=False, index_col='person')\n",
    "df2 = pd.read_csv('submission-xgboost_bagging_all_in-0.8678.csv', low_memory=False, index_col='person')\n",
    "# df3 = pd.read_csv('submission-xgboost_all_in-0.8669.csv', low_memory=False, index_col='person')"
   ]
  },
  {
   "cell_type": "code",
   "execution_count": 3,
   "metadata": {},
   "outputs": [],
   "source": [
    "df1.rename(columns={'label':'label_1'}, inplace=True)\n",
    "df2.rename(columns={'label':'label_2'}, inplace=True)\n",
    "# df3.rename(columns={'label':'label_3'}, inplace=True)"
   ]
  },
  {
   "cell_type": "code",
   "execution_count": 4,
   "metadata": {},
   "outputs": [],
   "source": [
    "merge = df1.join(df2)\n",
    "# merge = merge.join(df3)"
   ]
  },
  {
   "cell_type": "code",
   "execution_count": 5,
   "metadata": {},
   "outputs": [],
   "source": [
    "merge['label'] = merge['label_1'] * 0.65 + merge['label_2'] * 0.35"
   ]
  },
  {
   "cell_type": "code",
   "execution_count": 6,
   "metadata": {},
   "outputs": [
    {
     "data": {
      "text/html": [
       "<div>\n",
       "<style scoped>\n",
       "    .dataframe tbody tr th:only-of-type {\n",
       "        vertical-align: middle;\n",
       "    }\n",
       "\n",
       "    .dataframe tbody tr th {\n",
       "        vertical-align: top;\n",
       "    }\n",
       "\n",
       "    .dataframe thead th {\n",
       "        text-align: right;\n",
       "    }\n",
       "</style>\n",
       "<table border=\"1\" class=\"dataframe\">\n",
       "  <thead>\n",
       "    <tr style=\"text-align: right;\">\n",
       "      <th></th>\n",
       "      <th>label_1</th>\n",
       "      <th>label_2</th>\n",
       "      <th>label</th>\n",
       "    </tr>\n",
       "    <tr>\n",
       "      <th>person</th>\n",
       "      <th></th>\n",
       "      <th></th>\n",
       "      <th></th>\n",
       "    </tr>\n",
       "  </thead>\n",
       "  <tbody>\n",
       "    <tr>\n",
       "      <th>00091926</th>\n",
       "      <td>0.077898</td>\n",
       "      <td>0.187324</td>\n",
       "      <td>0.116197</td>\n",
       "    </tr>\n",
       "    <tr>\n",
       "      <th>00091a7a</th>\n",
       "      <td>0.138623</td>\n",
       "      <td>0.285984</td>\n",
       "      <td>0.190199</td>\n",
       "    </tr>\n",
       "    <tr>\n",
       "      <th>000ba417</th>\n",
       "      <td>0.048745</td>\n",
       "      <td>0.174441</td>\n",
       "      <td>0.092738</td>\n",
       "    </tr>\n",
       "    <tr>\n",
       "      <th>000e4d9e</th>\n",
       "      <td>0.037219</td>\n",
       "      <td>0.162847</td>\n",
       "      <td>0.081189</td>\n",
       "    </tr>\n",
       "    <tr>\n",
       "      <th>000e619d</th>\n",
       "      <td>0.015657</td>\n",
       "      <td>0.115885</td>\n",
       "      <td>0.050737</td>\n",
       "    </tr>\n",
       "  </tbody>\n",
       "</table>\n",
       "</div>"
      ],
      "text/plain": [
       "           label_1   label_2     label\n",
       "person                                \n",
       "00091926  0.077898  0.187324  0.116197\n",
       "00091a7a  0.138623  0.285984  0.190199\n",
       "000ba417  0.048745  0.174441  0.092738\n",
       "000e4d9e  0.037219  0.162847  0.081189\n",
       "000e619d  0.015657  0.115885  0.050737"
      ]
     },
     "execution_count": 6,
     "metadata": {},
     "output_type": "execute_result"
    }
   ],
   "source": [
    "merge.head()"
   ]
  },
  {
   "cell_type": "code",
   "execution_count": 7,
   "metadata": {},
   "outputs": [],
   "source": [
    "merge[['label']].to_csv('submission-avg.csv', sep=',')"
   ]
  }
 ],
 "metadata": {
  "kernelspec": {
   "display_name": "Python 3",
   "language": "python",
   "name": "python3"
  },
  "language_info": {
   "codemirror_mode": {
    "name": "ipython",
    "version": 3
   },
   "file_extension": ".py",
   "mimetype": "text/x-python",
   "name": "python",
   "nbconvert_exporter": "python",
   "pygments_lexer": "ipython3",
   "version": "3.6.6"
  },
  "toc": {
   "base_numbering": 1,
   "nav_menu": {},
   "number_sections": true,
   "sideBar": true,
   "skip_h1_title": false,
   "title_cell": "Table of Contents",
   "title_sidebar": "Contents",
   "toc_cell": false,
   "toc_position": {},
   "toc_section_display": true,
   "toc_window_display": false
  }
 },
 "nbformat": 4,
 "nbformat_minor": 2
}
