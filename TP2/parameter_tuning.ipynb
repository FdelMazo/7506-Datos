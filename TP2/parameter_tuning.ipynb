{
 "cells": [
  {
   "cell_type": "markdown",
   "metadata": {},
   "source": [
    "# [75.06 / 95.58] Organización de Datos <br> Trabajo Práctico 2: Machine Learning\n",
    "# Parameter Tuning\n",
    "\n",
    "**Grupo 30: Datatouille**\n",
    "\n",
    "**http://fdelmazo.github.io/7506-Datos/**"
   ]
  },
  {
   "cell_type": "markdown",
   "metadata": {},
   "source": [
    "# AL SER UN PROCESO MUY COSTOSO EN TIEMPO Y MEMORIA, SE GUARDAN LOS RESULTADOS FINALES EN VARIABLES Y SE COMENTA TODO EL CÓDIGO"
   ]
  },
  {
   "cell_type": "code",
   "execution_count": null,
   "metadata": {},
   "outputs": [],
   "source": [
    "best_params_decision_tree = ''\n",
    "best_params_random_forest = ''\n",
    "best_params_xgboost = ''"
   ]
  },
  {
   "cell_type": "markdown",
   "metadata": {},
   "source": [
    "---\n",
    "---\n",
    "---\n"
   ]
  },
  {
   "cell_type": "code",
   "execution_count": null,
   "metadata": {},
   "outputs": [],
   "source": [
    "# import nbimporter # pip install nbimporter\n",
    "# nbimporter.options['only_defs'] = False\n",
    "# import pandas as pd\n",
    "# import numpy as np\n",
    "# from sklearn.model_selection import GridSearchCV\n",
    "# import submission_framework as SF"
   ]
  },
  {
   "cell_type": "code",
   "execution_count": null,
   "metadata": {},
   "outputs": [],
   "source": [
    "# columnas_a_mano = ['total_checkouts_month_5',\n",
    "# 'timestamp_last_checkout',\n",
    "# 'timestamp_last_event',\n",
    "# 'has_checkout_month_5',\n",
    "# 'total_checkouts',\n",
    "# 'days_to_last_event',\n",
    "# 'total_checkouts_last_week',\n",
    "# 'total_checkouts_months_1_to_4',\n",
    "# 'total_conversions',\n",
    "# 'total_session_conversions',\n",
    "# 'total_events',\n",
    "# 'total_sessions',\n",
    "# 'avg_events_per_session',\n",
    "# 'total_session_checkouts',\n",
    "# 'has_checkout'\n",
    "# ]"
   ]
  },
  {
   "cell_type": "markdown",
   "metadata": {},
   "source": [
    "## Decision Tree"
   ]
  },
  {
   "cell_type": "code",
   "execution_count": null,
   "metadata": {},
   "outputs": [],
   "source": [
    "# from sklearn.tree import DecisionTreeClassifier, export_graphviz\n",
    "\n",
    "# param_grid = {#'max_depth': np.arange(3, 10),\n",
    "#               'criterion':['gini','entropy'],\n",
    "#               #'min_samples_leaf':np.arange(1, 5),\n",
    "#               #'min_samples_split':np.arange(2, 5)\n",
    "#  }\n",
    "\n",
    "# def decision_tree_GS(X_train, y_train, seed):\n",
    "#     tree = GridSearchCV(DecisionTreeClassifier(random_state=seed), param_grid, cv=5)\n",
    "#     tree.fit(X_train, y_train)\n",
    "#     return tree\n",
    "\n",
    "# model,auc = SF.full_framework_wrapper('decision_tree_GS',decision_tree_GS,columns=columnas_a_mano,verbosity=-1)\n",
    "# best_params_decision_tree = model.best_params_\n",
    "\n",
    "# best_params_decision_tree"
   ]
  },
  {
   "cell_type": "markdown",
   "metadata": {},
   "source": [
    "## Random Forest"
   ]
  },
  {
   "cell_type": "code",
   "execution_count": null,
   "metadata": {},
   "outputs": [],
   "source": [
    "# from sklearn.ensemble import RandomForestClassifier\n",
    "\n",
    "# param_grid = {#'max_depth': np.arange(3, 10),\n",
    "#               'n_estimators':np.arange(15,20),\n",
    "#               #'n_jobs':np.arange(1,5),\n",
    "#               'criterion':['gini','entropy'],\n",
    "#               #'class_weight':['balanced']              \n",
    "# }\n",
    "\n",
    "# def random_forest_GS(X_train, y_train, seed):\n",
    "#     rf = GridSearchCV(RandomForestClassifier(random_state=seed), param_grid, cv=5)\n",
    "#     y_train.shape = y_train.shape[0]\n",
    "#     rf.fit(X_train, y_train)\n",
    "#     return rf\n",
    "\n",
    "# model, auc = SF.full_framework_wrapper('random_forest_GS',random_forest_GS,columns=columnas_a_mano,verbosity=-1)\n",
    "# best_params_random_forest = model.best_params_\n",
    "# best_params_random_forest"
   ]
  },
  {
   "cell_type": "markdown",
   "metadata": {},
   "source": [
    "## XGBoost\n"
   ]
  },
  {
   "cell_type": "code",
   "execution_count": null,
   "metadata": {},
   "outputs": [],
   "source": [
    "# import xgboost as xgb #conda install -c conda-forge xgboost \n",
    "\n",
    "# param_grid = {'objective': ['binary:logistic'],\n",
    "#               #'learning_rate':[0.1,0.3],\n",
    "#               #'max_depth':np.arange(3,10,2),\n",
    "#               #'min_child_weight':np.arange(1,6,2),\n",
    "#               #'gamma':np.arange(0,0.5,0.1),\n",
    "#               #'subsample':np.arange(0.6,1.0,0.1),\n",
    "#               #'colsample_bytree':np.arange(0.6,1.0,0.1),\n",
    "#               #'n_estimators':np.arange(100,105),\n",
    "#               #'reg_alpha':np.arange(1,15),\n",
    "#               #'colsample_bytree':np.arange(0.3,1,0.1),\n",
    "# }\n",
    "\n",
    "# def xgboost_GS(X_train, y_train, seed):\n",
    "#     rf = GridSearchCV(xgb.XGBClassifier(random_state=seed), param_grid, cv=5)\n",
    "#     y_train.shape = y_train.shape[0]\n",
    "#     rf.fit(X_train, y_train)\n",
    "#     return rf\n",
    "\n",
    "# model, auc = SF.full_framework_wrapper('xgboost_GS',xgboost_GS,columns=columnas_a_mano,verbosity=-1)\n",
    "# best_params_xgboost = model.best_params_\n",
    "# best_params_xgboost"
   ]
  },
  {
   "cell_type": "markdown",
   "metadata": {},
   "source": [
    "## KNN"
   ]
  },
  {
   "cell_type": "code",
   "execution_count": null,
   "metadata": {},
   "outputs": [],
   "source": [
    "# from sklearn.neighbors import KNeighborsClassifier\n",
    "# model_name = 'knn'\n",
    "\n",
    "# rango = 5\n",
    "# def knn_gridsearch(x_train, y_train, x_test, y_test):\n",
    "#     y_train.shape = y_train.shape[0]\n",
    "#     k_max = (0,0)\n",
    "#     for k in range(1,100, rango):\n",
    "#         knn = KNeighborsClassifier(n_neighbors=k, weights='uniform', n_jobs=-1)\n",
    "#         knn.fit(x_train, y_train)\n",
    "#         score = knn.score(x_test, y_test)*100\n",
    "#         if score > k_max[1]:\n",
    "#             k_max = (k,score)\n",
    "#         print(\"K: {}, {}\".format(k, score))\n",
    "#     a = k_max[0]\n",
    "#     k_max = (0,0)\n",
    "#     for k in range(a - rango, a + rango):\n",
    "#         knn = KNeighborsClassifier(n_neighbors=k, weights='uniform', n_jobs=-1)\n",
    "#         knn.fit(x_train, y_train)\n",
    "#         score = knn.score(x_test, y_test)*100\n",
    "#         if score > k_max[1]:\n",
    "#             k_max = (k,score)\n",
    "#         print(\"K: {}, {}\".format(k, score))\n",
    "#     return k_max[0]\n",
    "\n",
    "# X, y = SF.fr1_extract_X_y(df_users, df_y)\n",
    "# X_train, X_test, y_train, y_test = SF.fr2_train_test_split(X, y, seed, test_size)    \n",
    "# K = knn_gridsearch(X_train, y_train, X_test, y_test)\n",
    "\n",
    "# def knn(X_train, y_train, seed, k=K):\n",
    "#     knn = KNeighborsClassifier(n_neighbors=k, weights='uniform', n_jobs=-1)\n",
    "#     y_train.shape = y_train.shape[0]\n",
    "#     knn.fit(X_train, y_train)\n",
    "#     return knn\n",
    "\n",
    "# SF.full_framework_wrapper(f'KNN{K}',knn,columns=columnas_a_mano,verbosity=-1)"
   ]
  }
 ],
 "metadata": {
  "kernelspec": {
   "display_name": "Python 3",
   "language": "python",
   "name": "python3"
  },
  "language_info": {
   "codemirror_mode": {
    "name": "ipython",
    "version": 3
   },
   "file_extension": ".py",
   "mimetype": "text/x-python",
   "name": "python",
   "nbconvert_exporter": "python",
   "pygments_lexer": "ipython3",
   "version": "3.6.6"
  },
  "toc": {
   "base_numbering": 1,
   "nav_menu": {},
   "number_sections": false,
   "sideBar": true,
   "skip_h1_title": true,
   "title_cell": "Índice",
   "title_sidebar": "Contenido",
   "toc_cell": false,
   "toc_position": {
    "height": "calc(100% - 180px)",
    "left": "10px",
    "top": "150px",
    "width": "204.867px"
   },
   "toc_section_display": true,
   "toc_window_display": true
  }
 },
 "nbformat": 4,
 "nbformat_minor": 2
}
