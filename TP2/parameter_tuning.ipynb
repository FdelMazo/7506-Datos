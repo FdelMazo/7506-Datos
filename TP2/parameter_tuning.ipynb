{
 "cells": [
  {
   "cell_type": "markdown",
   "metadata": {},
   "source": [
    "# [75.06 / 95.58] Organización de Datos <br> Trabajo Práctico 2: Machine Learning\n",
    "# Parameter Tuning\n",
    "\n",
    "**Grupo 30: Datatouille**\n",
    "\n",
    "**http://fdelmazo.github.io/7506-Datos/**"
   ]
  },
  {
   "cell_type": "markdown",
   "metadata": {},
   "source": [
    "# AL SER UN PROCESO MUY COSTOSO EN TIEMPO Y MEMORIA, SE GUARDAN LOS RESULTADOS FINALES EN VARIABLES Y SE COMENTA TODO EL CÓDIGO"
   ]
  },
  {
   "cell_type": "code",
   "execution_count": null,
   "metadata": {},
   "outputs": [],
   "source": [
    "best_params_decision_tree = {'criterion': 'entropy',\n",
    " 'max_features': 0.1,\n",
    " 'max_depth': 1.0,\n",
    " 'min_samples_split': 0.1,\n",
    " 'min_samples_leaf': 0.1}\n",
    "\n",
    "best_params_random_forest = {'n_estimators': 200,\n",
    " 'criterion': 'gini',\n",
    " 'max_features': 0.3,\n",
    " 'max_depth': 1.0,\n",
    " 'min_samples_split': 0.1,\n",
    " 'min_samples_leaf': 0.1}\n",
    "\n",
    "best_params_xgboost = {'learning_rate': 0.1,\n",
    " 'objective': 'binary:logistic',\n",
    " 'max_depth': 3,\n",
    " 'min_child_weight': 9,\n",
    " 'gamma': 0.0,\n",
    " 'colsample_bytree': 0.89,\n",
    " 'subsample': 0.79,\n",
    " 'reg_alpha': 1e-05}\n",
    "\n",
    "best_params_knn = {'n_neighbors':21, 'weights':'uniform', 'n_jobs':-1}\n",
    "\n",
    "best_params_naive_bayes = {'var_smoothing': 1e-09}"
   ]
  },
  {
   "cell_type": "markdown",
   "metadata": {},
   "source": [
    "---\n",
    "---\n",
    "---\n"
   ]
  },
  {
   "cell_type": "code",
   "execution_count": null,
   "metadata": {},
   "outputs": [],
   "source": [
    "# import nbimporter # pip install nbimporter\n",
    "# nbimporter.options['only_defs'] = False\n",
    "# import pandas as pd\n",
    "# import numpy as np\n",
    "# from sklearn.model_selection import GridSearchCV\n",
    "# import submission_framework as SF"
   ]
  },
  {
   "cell_type": "code",
   "execution_count": null,
   "metadata": {},
   "outputs": [],
   "source": [
    "# columnas_a_mano = ['dow_last_conversion', 'has_conversion_last_week', \n",
    "#                          'total_conversions_month_4', 'total_session_checkouts', \n",
    "#                          'doy_last_conversion', 'timestamp_last_event', \n",
    "#                          'dow_last_checkout', 'total_checkouts', \n",
    "#                          'has_checkout', 'doy_last_checkout', \n",
    "#                          'has_checkout_month_1', 'timestamp_last_checkout', \n",
    "#                          'total_sessions', 'woy_last_event', 'has_checkout_month_5', \n",
    "#                          'avg_events_per_session']"
   ]
  },
  {
   "cell_type": "markdown",
   "metadata": {},
   "source": [
    "## Decision Tree\n",
    "\n",
    "> https://medium.com/@mohtedibf/indepth-parameter-tuning-for-decision-tree-6753118a03c3"
   ]
  },
  {
   "cell_type": "code",
   "execution_count": null,
   "metadata": {},
   "outputs": [],
   "source": [
    "# from sklearn.tree import DecisionTreeClassifier, export_graphviz\n",
    "  \n",
    "# list_of_progressive_params = [{'criterion':['gini','entropy']},\n",
    "#                               {'max_features': np.arange(0.1,0.4,0.1)},\n",
    "#                               {'max_depth': np.linspace(1, 32, 5, endpoint=True)},\n",
    "#                               {'min_samples_split': np.linspace(0.1, 1.0, 10, endpoint=True)},\n",
    "#                               {'min_samples_leaf': np.linspace(0.1, 0.5, 5, endpoint=True)}\n",
    "#                    ]\n",
    "# params = {}\n",
    "# params_grid = {}\n",
    "# i=1\n",
    "# for params_grid in list_of_progressive_params:\n",
    "#     print(f\"\\n\\n Iteración {i} de {len(list_of_progressive_params)}\")\n",
    "#     def random_forest_GS(X_train, y_train, seed, params=params, params_grid=params_grid):\n",
    "#         tree = GridSearchCV(DecisionTreeClassifier(**params, random_state=seed), params_grid, cv=5)\n",
    "#         y_train.shape = y_train.shape[0]\n",
    "#         tree.fit(X_train, y_train)\n",
    "#         return tree\n",
    "\n",
    "#     model, auc = SF.full_framework_wrapper('random_forest_GS',random_forest_GS,columns=columnas_a_mano)\n",
    "#     params.update(model.best_params_)\n",
    "#     display(params)\n",
    "#     i+=1\n",
    "    \n",
    "# best_params_decision_tree = params\n",
    "# best_params_decision_tree"
   ]
  },
  {
   "cell_type": "markdown",
   "metadata": {},
   "source": [
    "## Random Forest\n",
    "\n",
    "> https://medium.com/all-things-ai/in-depth-parameter-tuning-for-random-forest-d67bb7e920d"
   ]
  },
  {
   "cell_type": "code",
   "execution_count": null,
   "metadata": {},
   "outputs": [],
   "source": [
    "# from sklearn.ensemble import RandomForestClassifier\n",
    "   \n",
    "# list_of_progressive_params = [{'n_estimators':[1, 2, 4, 8, 16, 32, 64, 100, 200]},\n",
    "#                               {'criterion':['gini','entropy']},\n",
    "#                               {'max_features': np.arange(0.1,0.4,0.1)},\n",
    "#                               {'max_depth': np.linspace(1, 32, 3, endpoint=True)},\n",
    "#                               {'min_samples_split': np.arange(0.1, 1.0, 0.1)},\n",
    "#                               {'min_samples_leaf': np.linspace(0.1, 0.5, 5, endpoint=True)}\n",
    "#                    ]\n",
    "# params = {}\n",
    "# params_grid = {}\n",
    "# i=1\n",
    "# for params_grid in list_of_progressive_params:\n",
    "#     print(f\"\\n\\n Iteración {i} de {len(list_of_progressive_params)}\")\n",
    "#     def random_forest_GS(X_train, y_train, seed, params=params, params_grid=params_grid):\n",
    "#         rf = GridSearchCV(RandomForestClassifier(**params, random_state=seed), params_grid, cv=5)\n",
    "#         y_train.shape = y_train.shape[0]\n",
    "#         rf.fit(X_train, y_train)\n",
    "#         return rf\n",
    "\n",
    "#     model, auc = SF.full_framework_wrapper('random_forest_GS',random_forest_GS,columns=columnas_a_mano)\n",
    "#     params.update(model.best_params_)\n",
    "#     display(params)\n",
    "#     i+=1\n",
    "\n",
    "# best_params_rf = params\n",
    "# best_params_rf"
   ]
  },
  {
   "cell_type": "markdown",
   "metadata": {},
   "source": [
    "## XGBoost\n",
    "\n",
    "> https://www.analyticsvidhya.com/blog/2016/03/complete-guide-parameter-tuning-xgboost-with-codes-python/"
   ]
  },
  {
   "cell_type": "code",
   "execution_count": null,
   "metadata": {},
   "outputs": [],
   "source": [
    "# import xgboost as xgb #conda install -c conda-forge xgboost \n",
    "    \n",
    "# list_of_progressive_params = [\n",
    "#                               {'objective': ['binary:logistic'],'learning_rate':[0.1,0.3]},\n",
    "#                               {'max_depth':np.arange(1,10,2),'min_child_weight':np.arange(1,10,2)},\n",
    "#                               {'gamma':np.arange(0,0.5,0.1)},\n",
    "#                               {'subsample':np.arange(0.6,1,0.1),'colsample_bytree':np.arange(0.6,1,0.1)},\n",
    "#                               {'reg_alpha':[1e-5, 1e-2, 0.1, 1, 100]}\n",
    "#                    ]\n",
    "# params = {}\n",
    "# params_grid = {}\n",
    "# i=1\n",
    "# for params_grid in list_of_progressive_params:\n",
    "#     print(f\"\\n\\n Iteración {i} de {len(list_of_progressive_params)}\")    \n",
    "#     def xgboost_GS(X_train, y_train, seed, params=params, params_grid=params_grid):\n",
    "#         xg = GridSearchCV(xgb.XGBClassifier(**params, random_state=seed), params_grid, cv=5)\n",
    "#         y_train.shape = y_train.shape[0]\n",
    "#         xg.fit(X_train, y_train)\n",
    "#         return xg\n",
    "\n",
    "#     model, auc = SF.full_framework_wrapper('xgboost_GS',xgboost_GS,columns=columnas_a_mano)\n",
    "#     params.update(model.best_params_)\n",
    "#     display(params)\n",
    "#     i+=1\n",
    "    \n",
    "# best_params_xgboost = params\n",
    "# best_params_xgboost"
   ]
  },
  {
   "cell_type": "markdown",
   "metadata": {},
   "source": [
    "## KNN"
   ]
  },
  {
   "cell_type": "code",
   "execution_count": null,
   "metadata": {},
   "outputs": [],
   "source": [
    "# from sklearn.neighbors import KNeighborsClassifier\n",
    "# model_name = 'knn'\n",
    "\n",
    "# rango = 5\n",
    "# def knn_gridsearch(x_train, y_train, x_test, y_test):\n",
    "#     y_train.shape = y_train.shape[0]\n",
    "#     k_max = (0,0)\n",
    "#     for k in range(1,100, rango):\n",
    "#         knn = KNeighborsClassifier(n_neighbors=k, weights='uniform', n_jobs=-1)\n",
    "#         knn.fit(x_train, y_train)\n",
    "#         score = knn.score(x_test, y_test)*100\n",
    "#         if score > k_max[1]:\n",
    "#             k_max = (k,score)\n",
    "#         print(\"K: {}, {}\".format(k, score))\n",
    "#     a = k_max[0]\n",
    "#     k_max = (0,0)\n",
    "#     for k in range(a - rango, a + rango):\n",
    "#         knn = KNeighborsClassifier(n_neighbors=k, weights='uniform', n_jobs=-1)\n",
    "#         knn.fit(x_train, y_train)\n",
    "#         score = knn.score(x_test, y_test)*100\n",
    "#         if score > k_max[1]:\n",
    "#             k_max = (k,score)\n",
    "#         print(\"K: {}, {}\".format(k, score))\n",
    "#     return k_max[0]\n",
    "\n",
    "# X, y = SF.fr1_extract_X_y(df_users, df_y)\n",
    "# X_train, X_test, y_train, y_test = SF.fr2_train_test_split(X, y, seed, test_size)    \n",
    "# K = knn_gridsearch(X_train, y_train, X_test, y_test)\n",
    "\n",
    "# def knn(X_train, y_train, seed, k=K):\n",
    "#     knn = KNeighborsClassifier(n_neighbors=k, weights='uniform', n_jobs=-1)\n",
    "#     y_train.shape = y_train.shape[0]\n",
    "#     knn.fit(X_train, y_train)\n",
    "#     return knn\n",
    "\n",
    "# SF.full_framework_wrapper(f'KNN{K}',knn,columns=columnas_a_mano,verbosity=-1)"
   ]
  },
  {
   "cell_type": "markdown",
   "metadata": {},
   "source": [
    "## Naive Bayes"
   ]
  },
  {
   "cell_type": "code",
   "execution_count": null,
   "metadata": {},
   "outputs": [],
   "source": []
  }
 ],
 "metadata": {
  "kernelspec": {
   "display_name": "Python 3",
   "language": "python",
   "name": "python3"
  },
  "language_info": {
   "codemirror_mode": {
    "name": "ipython",
    "version": 3
   },
   "file_extension": ".py",
   "mimetype": "text/x-python",
   "name": "python",
   "nbconvert_exporter": "python",
   "pygments_lexer": "ipython3",
   "version": "3.6.6"
  },
  "toc": {
   "base_numbering": 1,
   "nav_menu": {},
   "number_sections": false,
   "sideBar": true,
   "skip_h1_title": true,
   "title_cell": "Índice",
   "title_sidebar": "Contenido",
   "toc_cell": false,
   "toc_position": {
    "height": "calc(100% - 180px)",
    "left": "10px",
    "top": "150px",
    "width": "204.867px"
   },
   "toc_section_display": true,
   "toc_window_display": true
  }
 },
 "nbformat": 4,
 "nbformat_minor": 2
}
