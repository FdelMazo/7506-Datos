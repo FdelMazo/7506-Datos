{
 "cells": [
  {
   "cell_type": "markdown",
   "metadata": {},
   "source": [
    "# [75.06 / 95.58] Organización de Datos <br> Trabajo Práctico 2: Machine Learning\n",
    "\n",
    "**Grupo 30: Datatouille**\n",
    "\n",
    "- 101055 - Bojman, Camila\n",
    "- 100029 - del Mazo, Federico\n",
    "- 100687 - Hortas, Cecilia\n",
    "- 97649 - Souto, Rodrigo\n",
    "\n",
    "**https://github.com/FdelMazo/7506-Datos**\n",
    "\n",
    "**https://www.kaggle.com/datatouille2018/competitions**"
   ]
  },
  {
   "cell_type": "code",
   "execution_count": null,
   "metadata": {},
   "outputs": [],
   "source": [
    "# https://github.com/Kaggle/kaggle-api\n",
    "# Ver la documentación de la API de kaggle para saber como usar los tokens\n",
    "# Antes de comenzar, buscar las credenciales de kaggle (el nombre de usuario, y el token) y setearlos en las siguientes dos lineas\n",
    "\n",
    "#%env KAGGLE_USERNAME=\"xxx\"\n",
    "#%env KAGGLE_KEY=\"xxx\"\n",
    "\n",
    "#!pip install kaggle\n",
    "#!kaggle competitions download -c trocafone -p data\n",
    "#!unzip -q data/events_up_to_01062018.csv.zip -d data\n",
    "#!rm data/events_up_to_01062018.csv.zip\n",
    "#!ls data/"
   ]
  },
  {
   "cell_type": "markdown",
   "metadata": {},
   "source": [
    "### Lista de robos\n",
    "\n",
    "* [ ] https://github.com/urielkelman/abracadata/tree/master/TP2\n",
    "\n",
    "* [ ] https://github.com/GastonMontes/Datos-TP2\n",
    "\n",
    "* [ ] https://github.com/MatiasReimondo/Datos\n",
    "\n",
    "* [ ] Ver diapos argerich feature engineering\n",
    "\n",
    "* [ ] Spammear ramos mejia de preguntas\n",
    "\n",
    "### Lista de cosas a hacer\n",
    "\n",
    "* [ ] Dividir en set de entrenamientos y set de test. Ojo, hay que hacerlo con tiempo! No se puede hacer al azar. Los primeros meses entrenan a los siguientes. Etc\n",
    "\n",
    "* [ ] Identificar bias y varianza, ploteando error de set de entrenamiento y error de set de test en funcion de cantidad de datos en set de entrenamiento (mismo plot)\n",
    "\n",
    "* [ ] Perturbar datos de entrada -> reducir overfitting\n",
    "\n",
    "* [ ] Feature engineering --> no olvidar documentar y versionar!!!\n",
    "\n",
    "* [ ] Catboost\n",
    "\n",
    "* [ ] Feature: dia de la semana\n",
    "\n",
    "* [ ] Loopear interacciones importantes! Random forest claveee\n",
    "\n",
    "* [ ] No perder nombre de feature original\n",
    "\n",
    "* [ ] Scrapear trocafone --> Precios\n",
    "\n",
    "* [ ] Xgboost no sirve para importancia de features. No es estable\n"
   ]
  }
 ],
 "metadata": {
  "kernelspec": {
   "display_name": "Python 3",
   "language": "python",
   "name": "python3"
  },
  "language_info": {
   "codemirror_mode": {
    "name": "ipython",
    "version": 3
   },
   "file_extension": ".py",
   "mimetype": "text/x-python",
   "name": "python",
   "nbconvert_exporter": "python",
   "pygments_lexer": "ipython3",
   "version": "3.6.6"
  },
  "toc": {
   "base_numbering": 1,
   "nav_menu": {},
   "number_sections": false,
   "sideBar": true,
   "skip_h1_title": true,
   "title_cell": "Índice",
   "title_sidebar": "Contenido",
   "toc_cell": false,
   "toc_position": {
    "height": "calc(100% - 180px)",
    "left": "10px",
    "top": "150px",
    "width": "204.867px"
   },
   "toc_section_display": true,
   "toc_window_display": true
  }
 },
 "nbformat": 4,
 "nbformat_minor": 2
}
