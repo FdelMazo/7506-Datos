{
 "cells": [
  {
   "cell_type": "markdown",
   "metadata": {},
   "source": [
    "# [75.06 / 95.58] Organización de Datos <br> Trabajo Práctico 2: Machine Learning\n",
    "# Notebook Principal\n",
    "\n",
    "**Grupo 30: Datatouille**\n",
    "\n",
    "- 101055 - Bojman, Camila\n",
    "- 100029 - del Mazo, Federico\n",
    "- 100687 - Hortas, Cecilia\n",
    "- 97649 - Souto, Rodrigo\n",
    "\n",
    "**http://fdelmazo.github.io/7506-Datos/**\n",
    "\n",
    "**https://www.kaggle.com/datatouille2018/**\n",
    "\n",
    "**https://www.kaggle.com/c/trocafone**"
   ]
  },
  {
   "cell_type": "markdown",
   "metadata": {},
   "source": [
    "Continuando la investigación sobre la empresa Trocafone realizada en el TP1, se busca determinar la probabilidad de que un usuario del sitio realice una conversión en el período determinado.\n",
    "\n",
    "Notebooks en orden de corrida y lectura:\n",
    "\n",
    "0. [TP1](https://fdelmazo.github.io/7506-Datos/TP1/TP1.html) y su [anexo](https://fdelmazo.github.io/7506-Datos/TP1/anexo.html) --> Familiarización con el set de datos y exploración de estos.\n",
    "\n",
    "1. [Investigación Previa](https://fdelmazo.github.io/7506-Datos/TP2/investigacion.html) --> Con ayuda de lo trabajado en el TP1, se averiguan más cosas de las datos, en busqueda de que poder reutilizar.\n",
    "\n",
    "2. [Creación de Dataframes](https://fdelmazo.github.io/7506-Datos/TP2/new_dataframes.html) --> Como parte del feature engineering, se crean dataframes nuevos con información de los productos del sitio y de como se accede a este (marcas, sistemas operativos, etc).\n",
    "\n",
    "3. [Feature Engineering](https://fdelmazo.github.io/7506-Datos/TP2/feature_engineering.html) --> Busqueda de atributos de los usuarios de los cuales se busca predecir la conversión.\n",
    "\n",
    "4. [Feature Selection](https://fdelmazo.github.io/7506-Datos/TP2/feature_selection.html) --> Busqueda de la combinación de features más favorable.\n",
    "\n",
    "5. [Parameter Tuning](https://fdelmazo.github.io/7506-Datos/TP2/parameter_tuning.html) --> Busqueda de los mejores hiper-parametros para cada algoritmo de ML.\n",
    "\n",
    "6. [Submission Framework](https://fdelmazo.github.io/7506-Datos/TP2/submission_framework.html) --> Pequeño framework para construir las postulaciones de labels. \n",
    "\n",
    "7. TP2 (este notebook)--> Teniendo todo en cuenta, usando los dataframes con todos los atributos buscados y encontrados, se definen y aplican los algoritmos de clasificación, se realizan los entrenamientos y posteriores predicciones de conversiones y finalmente se arman las postulaciones de labels."
   ]
  },
  {
   "cell_type": "markdown",
   "metadata": {},
   "source": [
    "**Antes de comenzar, setear las credenciales (usuario y token)**\n",
    "1. Visitar: https://www.kaggle.com/datatouille2018/account (con la cuenta que sea)\n",
    "2. 'Create New API Token'\n",
    "3. Guardar el archivo descargado en ~/.kaggle/kaggle.json"
   ]
  },
  {
   "cell_type": "code",
   "execution_count": null,
   "metadata": {},
   "outputs": [],
   "source": [
    "# !unzip -q -o data/events_up_to_01062018.zip -d data\n",
    "\n",
    "# !pip install kaggle\n",
    "# !pip install nbimporter\n",
    "# !pip install ggplot\n",
    "# !pip install hdbscan\n",
    "# !conda install -y -c conda-forge xgboost \n",
    "# !conda install -y -c conda-forge lightgbm \n",
    "# !conda install -y -c conda-forge catboost"
   ]
  },
  {
   "cell_type": "code",
   "execution_count": 1,
   "metadata": {},
   "outputs": [
    {
     "name": "stdout",
     "output_type": "stream",
     "text": [
      "Importing Jupyter notebook from parameter_tuning.ipynb\n",
      "Importing Jupyter notebook from submission_framework.ipynb\n",
      "Importing Jupyter notebook from feature_selection.ipynb\n"
     ]
    }
   ],
   "source": [
    "import nbimporter # pip install nbimporter\n",
    "import pandas as pd\n",
    "import numpy as np\n",
    "import time\n",
    "import calendar\n",
    "from itertools import combinations\n",
    "import random\n",
    "from time import sleep\n",
    "from parameter_tuning import get_hiper_params\n",
    "from feature_selection import get_feature_selection\n",
    "import submission_framework as SF\n",
    "\n",
    "seed = 42\n",
    "hiper_params = get_hiper_params()\n",
    "feature_selection = get_feature_selection()"
   ]
  },
  {
   "cell_type": "code",
   "execution_count": 2,
   "metadata": {},
   "outputs": [
    {
     "data": {
      "text/html": [
       "<div>\n",
       "<style scoped>\n",
       "    .dataframe tbody tr th:only-of-type {\n",
       "        vertical-align: middle;\n",
       "    }\n",
       "\n",
       "    .dataframe tbody tr th {\n",
       "        vertical-align: top;\n",
       "    }\n",
       "\n",
       "    .dataframe thead th {\n",
       "        text-align: right;\n",
       "    }\n",
       "</style>\n",
       "<table border=\"1\" class=\"dataframe\">\n",
       "  <thead>\n",
       "    <tr style=\"text-align: right;\">\n",
       "      <th></th>\n",
       "      <th>total_brand_listings</th>\n",
       "      <th>total_viewed_products</th>\n",
       "      <th>total_checkouts</th>\n",
       "      <th>total_conversions</th>\n",
       "      <th>total_events</th>\n",
       "      <th>total_sessions</th>\n",
       "      <th>total_session_checkout</th>\n",
       "      <th>total_session_conversion</th>\n",
       "      <th>total_events_ad_session</th>\n",
       "      <th>total_ad_sessions</th>\n",
       "      <th>...</th>\n",
       "      <th>percentage_l2w_week_activity</th>\n",
       "      <th>percentage_l2w_brand_listings</th>\n",
       "      <th>percentage_l2w_viewed_products</th>\n",
       "      <th>percentage_l2w_checkouts</th>\n",
       "      <th>percentage_l2w_conversions</th>\n",
       "      <th>kmeans_3</th>\n",
       "      <th>kmeans_5</th>\n",
       "      <th>kmeans_6</th>\n",
       "      <th>kmeans_15</th>\n",
       "      <th>kmeans_25</th>\n",
       "    </tr>\n",
       "    <tr>\n",
       "      <th>person</th>\n",
       "      <th></th>\n",
       "      <th></th>\n",
       "      <th></th>\n",
       "      <th></th>\n",
       "      <th></th>\n",
       "      <th></th>\n",
       "      <th></th>\n",
       "      <th></th>\n",
       "      <th></th>\n",
       "      <th></th>\n",
       "      <th></th>\n",
       "      <th></th>\n",
       "      <th></th>\n",
       "      <th></th>\n",
       "      <th></th>\n",
       "      <th></th>\n",
       "      <th></th>\n",
       "      <th></th>\n",
       "      <th></th>\n",
       "      <th></th>\n",
       "      <th></th>\n",
       "    </tr>\n",
       "  </thead>\n",
       "  <tbody>\n",
       "    <tr>\n",
       "      <th>0008ed71</th>\n",
       "      <td>0.0</td>\n",
       "      <td>0.0</td>\n",
       "      <td>3.0</td>\n",
       "      <td>0.0</td>\n",
       "      <td>6</td>\n",
       "      <td>3.0</td>\n",
       "      <td>3.0</td>\n",
       "      <td>0.0</td>\n",
       "      <td>0.0</td>\n",
       "      <td>0.0</td>\n",
       "      <td>...</td>\n",
       "      <td>1.000000</td>\n",
       "      <td>0.000000</td>\n",
       "      <td>0.000000</td>\n",
       "      <td>0.500000</td>\n",
       "      <td>0.000000</td>\n",
       "      <td>1</td>\n",
       "      <td>1</td>\n",
       "      <td>4</td>\n",
       "      <td>0</td>\n",
       "      <td>14</td>\n",
       "    </tr>\n",
       "    <tr>\n",
       "      <th>00091926</th>\n",
       "      <td>25.0</td>\n",
       "      <td>372.0</td>\n",
       "      <td>2.0</td>\n",
       "      <td>0.0</td>\n",
       "      <td>448</td>\n",
       "      <td>34.0</td>\n",
       "      <td>2.0</td>\n",
       "      <td>0.0</td>\n",
       "      <td>54.0</td>\n",
       "      <td>9.0</td>\n",
       "      <td>...</td>\n",
       "      <td>0.582589</td>\n",
       "      <td>0.006696</td>\n",
       "      <td>0.511161</td>\n",
       "      <td>0.004464</td>\n",
       "      <td>0.000000</td>\n",
       "      <td>1</td>\n",
       "      <td>1</td>\n",
       "      <td>1</td>\n",
       "      <td>3</td>\n",
       "      <td>7</td>\n",
       "    </tr>\n",
       "    <tr>\n",
       "      <th>00091a7a</th>\n",
       "      <td>5.0</td>\n",
       "      <td>3.0</td>\n",
       "      <td>0.0</td>\n",
       "      <td>0.0</td>\n",
       "      <td>10</td>\n",
       "      <td>1.0</td>\n",
       "      <td>0.0</td>\n",
       "      <td>0.0</td>\n",
       "      <td>10.0</td>\n",
       "      <td>1.0</td>\n",
       "      <td>...</td>\n",
       "      <td>0.000000</td>\n",
       "      <td>0.000000</td>\n",
       "      <td>0.000000</td>\n",
       "      <td>0.000000</td>\n",
       "      <td>0.000000</td>\n",
       "      <td>0</td>\n",
       "      <td>3</td>\n",
       "      <td>3</td>\n",
       "      <td>8</td>\n",
       "      <td>16</td>\n",
       "    </tr>\n",
       "    <tr>\n",
       "      <th>000ba417</th>\n",
       "      <td>24.0</td>\n",
       "      <td>153.0</td>\n",
       "      <td>6.0</td>\n",
       "      <td>1.0</td>\n",
       "      <td>206</td>\n",
       "      <td>5.0</td>\n",
       "      <td>4.0</td>\n",
       "      <td>1.0</td>\n",
       "      <td>0.0</td>\n",
       "      <td>0.0</td>\n",
       "      <td>...</td>\n",
       "      <td>1.000000</td>\n",
       "      <td>0.116505</td>\n",
       "      <td>0.742718</td>\n",
       "      <td>0.029126</td>\n",
       "      <td>0.004854</td>\n",
       "      <td>2</td>\n",
       "      <td>2</td>\n",
       "      <td>0</td>\n",
       "      <td>12</td>\n",
       "      <td>0</td>\n",
       "    </tr>\n",
       "    <tr>\n",
       "      <th>000c79fe</th>\n",
       "      <td>0.0</td>\n",
       "      <td>3.0</td>\n",
       "      <td>1.0</td>\n",
       "      <td>0.0</td>\n",
       "      <td>17</td>\n",
       "      <td>1.0</td>\n",
       "      <td>1.0</td>\n",
       "      <td>0.0</td>\n",
       "      <td>17.0</td>\n",
       "      <td>1.0</td>\n",
       "      <td>...</td>\n",
       "      <td>1.000000</td>\n",
       "      <td>0.000000</td>\n",
       "      <td>0.176471</td>\n",
       "      <td>0.058824</td>\n",
       "      <td>0.000000</td>\n",
       "      <td>1</td>\n",
       "      <td>1</td>\n",
       "      <td>1</td>\n",
       "      <td>3</td>\n",
       "      <td>7</td>\n",
       "    </tr>\n",
       "  </tbody>\n",
       "</table>\n",
       "<p>5 rows × 188 columns</p>\n",
       "</div>"
      ],
      "text/plain": [
       "          total_brand_listings  total_viewed_products  total_checkouts  \\\n",
       "person                                                                   \n",
       "0008ed71                   0.0                    0.0              3.0   \n",
       "00091926                  25.0                  372.0              2.0   \n",
       "00091a7a                   5.0                    3.0              0.0   \n",
       "000ba417                  24.0                  153.0              6.0   \n",
       "000c79fe                   0.0                    3.0              1.0   \n",
       "\n",
       "          total_conversions  total_events  total_sessions  \\\n",
       "person                                                      \n",
       "0008ed71                0.0             6             3.0   \n",
       "00091926                0.0           448            34.0   \n",
       "00091a7a                0.0            10             1.0   \n",
       "000ba417                1.0           206             5.0   \n",
       "000c79fe                0.0            17             1.0   \n",
       "\n",
       "          total_session_checkout  total_session_conversion  \\\n",
       "person                                                       \n",
       "0008ed71                     3.0                       0.0   \n",
       "00091926                     2.0                       0.0   \n",
       "00091a7a                     0.0                       0.0   \n",
       "000ba417                     4.0                       1.0   \n",
       "000c79fe                     1.0                       0.0   \n",
       "\n",
       "          total_events_ad_session  total_ad_sessions    ...      \\\n",
       "person                                                  ...       \n",
       "0008ed71                      0.0                0.0    ...       \n",
       "00091926                     54.0                9.0    ...       \n",
       "00091a7a                     10.0                1.0    ...       \n",
       "000ba417                      0.0                0.0    ...       \n",
       "000c79fe                     17.0                1.0    ...       \n",
       "\n",
       "          percentage_l2w_week_activity  percentage_l2w_brand_listings  \\\n",
       "person                                                                  \n",
       "0008ed71                      1.000000                       0.000000   \n",
       "00091926                      0.582589                       0.006696   \n",
       "00091a7a                      0.000000                       0.000000   \n",
       "000ba417                      1.000000                       0.116505   \n",
       "000c79fe                      1.000000                       0.000000   \n",
       "\n",
       "          percentage_l2w_viewed_products  percentage_l2w_checkouts  \\\n",
       "person                                                               \n",
       "0008ed71                        0.000000                  0.500000   \n",
       "00091926                        0.511161                  0.004464   \n",
       "00091a7a                        0.000000                  0.000000   \n",
       "000ba417                        0.742718                  0.029126   \n",
       "000c79fe                        0.176471                  0.058824   \n",
       "\n",
       "          percentage_l2w_conversions  kmeans_3  kmeans_5  kmeans_6  kmeans_15  \\\n",
       "person                                                                          \n",
       "0008ed71                    0.000000         1         1         4          0   \n",
       "00091926                    0.000000         1         1         1          3   \n",
       "00091a7a                    0.000000         0         3         3          8   \n",
       "000ba417                    0.004854         2         2         0         12   \n",
       "000c79fe                    0.000000         1         1         1          3   \n",
       "\n",
       "          kmeans_25  \n",
       "person               \n",
       "0008ed71         14  \n",
       "00091926          7  \n",
       "00091a7a         16  \n",
       "000ba417          0  \n",
       "000c79fe          7  \n",
       "\n",
       "[5 rows x 188 columns]"
      ]
     },
     "metadata": {},
     "output_type": "display_data"
    },
    {
     "data": {
      "text/html": [
       "<div>\n",
       "<style scoped>\n",
       "    .dataframe tbody tr th:only-of-type {\n",
       "        vertical-align: middle;\n",
       "    }\n",
       "\n",
       "    .dataframe tbody tr th {\n",
       "        vertical-align: top;\n",
       "    }\n",
       "\n",
       "    .dataframe thead th {\n",
       "        text-align: right;\n",
       "    }\n",
       "</style>\n",
       "<table border=\"1\" class=\"dataframe\">\n",
       "  <thead>\n",
       "    <tr style=\"text-align: right;\">\n",
       "      <th></th>\n",
       "      <th>label</th>\n",
       "    </tr>\n",
       "    <tr>\n",
       "      <th>person</th>\n",
       "      <th></th>\n",
       "    </tr>\n",
       "  </thead>\n",
       "  <tbody>\n",
       "    <tr>\n",
       "      <th>0008ed71</th>\n",
       "      <td>0</td>\n",
       "    </tr>\n",
       "    <tr>\n",
       "      <th>000c79fe</th>\n",
       "      <td>0</td>\n",
       "    </tr>\n",
       "    <tr>\n",
       "      <th>001802e4</th>\n",
       "      <td>0</td>\n",
       "    </tr>\n",
       "    <tr>\n",
       "      <th>0019e639</th>\n",
       "      <td>0</td>\n",
       "    </tr>\n",
       "    <tr>\n",
       "      <th>001b0bf9</th>\n",
       "      <td>0</td>\n",
       "    </tr>\n",
       "  </tbody>\n",
       "</table>\n",
       "</div>"
      ],
      "text/plain": [
       "          label\n",
       "person         \n",
       "0008ed71      0\n",
       "000c79fe      0\n",
       "001802e4      0\n",
       "0019e639      0\n",
       "001b0bf9      0"
      ]
     },
     "metadata": {},
     "output_type": "display_data"
    }
   ],
   "source": [
    "df_users = pd.read_csv('data/user-features.csv',low_memory=False).set_index('person')\n",
    "df_y = pd.read_csv('data/labels_training_set.csv').groupby('person').sum()\n",
    "\n",
    "display(df_users.head(), df_y.head())"
   ]
  },
  {
   "cell_type": "markdown",
   "metadata": {},
   "source": [
    "## Algoritmos de Machine Learning"
   ]
  },
  {
   "cell_type": "code",
   "execution_count": 9,
   "metadata": {},
   "outputs": [],
   "source": [
    "posibilidades_algoritmos = []"
   ]
  },
  {
   "cell_type": "markdown",
   "metadata": {},
   "source": [
    "---\n",
    "\n",
    "### Decision Tree\n"
   ]
  },
  {
   "cell_type": "code",
   "execution_count": 10,
   "metadata": {},
   "outputs": [
    {
     "name": "stdout",
     "output_type": "stream",
     "text": [
      "Model: decision_tree - AUC: 0.8250 - AUCPR:0.1890 - Accuracy: 0.9496 \n"
     ]
    }
   ],
   "source": [
    "from sklearn.tree import DecisionTreeClassifier, export_graphviz\n",
    "\n",
    "model_name = 'decision_tree'\n",
    "params = hiper_params[model_name]\n",
    "model = DecisionTreeClassifier(**params,random_state=seed)\n",
    "model_with_name = (model_name,model)\n",
    "\n",
    "SF.full_framework_wrapper(df_users,df_y,model_with_name)\n",
    "\n",
    "posibilidades_algoritmos.append(model_with_name)"
   ]
  },
  {
   "cell_type": "markdown",
   "metadata": {},
   "source": [
    "---\n",
    "\n",
    "### Random Forest"
   ]
  },
  {
   "cell_type": "code",
   "execution_count": 52,
   "metadata": {},
   "outputs": [
    {
     "name": "stdout",
     "output_type": "stream",
     "text": [
      "Model: random_forest - AUC: 0.8420 - AUCPR:0.1634 - Accuracy: 0.9496 \n"
     ]
    }
   ],
   "source": [
    "from sklearn.ensemble import RandomForestClassifier\n",
    "\n",
    "model_name = 'random_forest'\n",
    "params = hiper_params[model_name]\n",
    "model = RandomForestClassifier(**params,random_state=seed)\n",
    "model_with_name = (model_name,model)\n",
    "\n",
    "SF.full_framework_wrapper(df_users,df_y,model_with_name)\n",
    "\n",
    "posibilidades_algoritmos.append(model_with_name)"
   ]
  },
  {
   "cell_type": "markdown",
   "metadata": {},
   "source": [
    "---\n",
    "\n",
    "### XGBoost\n"
   ]
  },
  {
   "cell_type": "code",
   "execution_count": 53,
   "metadata": {},
   "outputs": [
    {
     "name": "stdout",
     "output_type": "stream",
     "text": [
      "Model: xgboost - AUC: 0.8599 - AUCPR:0.2521 - Accuracy: 0.9491 \n"
     ]
    }
   ],
   "source": [
    "import xgboost as xgb #conda install -c conda-forge xgboost \n",
    "\n",
    "model_name = 'xgboost'\n",
    "params = hiper_params[model_name]\n",
    "model = xgb.XGBClassifier(**params,random_state=seed)\n",
    "model_with_name = (model_name,model)\n",
    "\n",
    "SF.full_framework_wrapper(df_users,df_y,model_with_name)\n",
    "\n",
    "posibilidades_algoritmos.append(model_with_name)"
   ]
  },
  {
   "cell_type": "markdown",
   "metadata": {},
   "source": [
    "---\n",
    "\n",
    "### KNN"
   ]
  },
  {
   "cell_type": "code",
   "execution_count": 13,
   "metadata": {},
   "outputs": [
    {
     "name": "stdout",
     "output_type": "stream",
     "text": [
      "Model: KNN21_normalized - AUC: 0.7901 - AUCPR:0.1666 - Accuracy: 0.9489 \n"
     ]
    }
   ],
   "source": [
    "from sklearn.neighbors import KNeighborsClassifier\n",
    "\n",
    "model_name = 'knn'\n",
    "params = hiper_params[model_name]\n",
    "K = params['n_neighbors']\n",
    "model_name = f'KNN{K}'\n",
    "\n",
    "model = KNeighborsClassifier(**params)\n",
    "model_with_name = (model_name,model)\n",
    "\n",
    "SF.full_framework_wrapper(df_users,df_y,model_with_name, normalize=True)\n",
    "\n",
    "posibilidades_algoritmos.append(model_with_name)"
   ]
  },
  {
   "cell_type": "markdown",
   "metadata": {},
   "source": [
    "---\n",
    "\n",
    "### Naive-Bayes"
   ]
  },
  {
   "cell_type": "code",
   "execution_count": 14,
   "metadata": {},
   "outputs": [
    {
     "name": "stdout",
     "output_type": "stream",
     "text": [
      "Model: naive_bayes_Gaussian - AUC: 0.7809 - AUCPR:0.1531 - Accuracy: 0.9274 \n",
      "Model: naive_bayes_Bernoulli - AUC: 0.8126 - AUCPR:0.1731 - Accuracy: 0.8068 \n",
      "Model: naive_bayes_Multinomial - AUC: 0.7450 - AUCPR:0.1152 - Accuracy: 0.7587 \n",
      "Model: naive_bayes_Complement - AUC: 0.7450 - AUCPR:0.1152 - Accuracy: 0.7587 \n"
     ]
    }
   ],
   "source": [
    "from sklearn.naive_bayes import GaussianNB,BernoulliNB,MultinomialNB,ComplementNB\n",
    "\n",
    "model_name = 'naive_bayes_Gaussian'\n",
    "model = GaussianNB(**{'var_smoothing': 1e-09})\n",
    "model_with_name = (model_name,model)\n",
    "\n",
    "SF.full_framework_wrapper(df_users,df_y,model_with_name)\n",
    "posibilidades_algoritmos.append(model_with_name)\n",
    "\n",
    "model_name = 'naive_bayes_Bernoulli'\n",
    "model = BernoulliNB()\n",
    "model_with_name = (model_name,model)\n",
    "\n",
    "SF.full_framework_wrapper(df_users,df_y,model_with_name)\n",
    "posibilidades_algoritmos.append(model_with_name)\n",
    "\n",
    "model_name = 'naive_bayes_Multinomial'\n",
    "model = MultinomialNB()\n",
    "model_with_name = (model_name,model)\n",
    "\n",
    "SF.full_framework_wrapper(df_users,df_y,model_with_name)\n",
    "posibilidades_algoritmos.append(model_with_name)\n",
    "\n",
    "model_name = 'naive_bayes_Complement'\n",
    "model = ComplementNB()\n",
    "model_with_name = (model_name,model)\n",
    "SF.full_framework_wrapper(df_users,df_y,model_with_name)\n",
    "posibilidades_algoritmos.append(model_with_name)"
   ]
  },
  {
   "cell_type": "markdown",
   "metadata": {},
   "source": [
    "---\n",
    "\n",
    "### LightGBM"
   ]
  },
  {
   "cell_type": "code",
   "execution_count": 15,
   "metadata": {},
   "outputs": [
    {
     "name": "stdout",
     "output_type": "stream",
     "text": [
      "Model: lightgbm - AUC: 0.8669 - AUCPR:0.2556 - Accuracy: 0.9497 \n"
     ]
    }
   ],
   "source": [
    "import lightgbm as lgb  #conda install -c conda-forge lightgbm \n",
    "\n",
    "model_name = 'lightgbm'\n",
    "params = hiper_params[model_name]\n",
    "model = lgb.LGBMClassifier(**params)\n",
    "model_with_name = (model_name,model)\n",
    "\n",
    "\n",
    "SF.full_framework_wrapper(df_users,df_y, model_with_name)\n",
    "\n",
    "posibilidades_algoritmos.append(model_with_name)"
   ]
  },
  {
   "cell_type": "markdown",
   "metadata": {},
   "source": [
    "---\n",
    "\n",
    "### Neural Network"
   ]
  },
  {
   "cell_type": "code",
   "execution_count": 16,
   "metadata": {},
   "outputs": [
    {
     "name": "stdout",
     "output_type": "stream",
     "text": [
      "Model: neuralnetwork_normalized - AUC: 0.8526 - AUCPR:0.2151 - Accuracy: 0.9496 \n"
     ]
    }
   ],
   "source": [
    "from sklearn.neural_network import MLPClassifier\n",
    "\n",
    "model_name = 'neuralnetwork'\n",
    "params = hiper_params[model_name]\n",
    "model = MLPClassifier(**params)\n",
    "model_with_name = (model_name, model)\n",
    "\n",
    "# Funciona sólo con datos normalizados\n",
    "SF.full_framework_wrapper(df_users, df_y, model_with_name, normalize=True)\n",
    "posibilidades_algoritmos.append(model_with_name)"
   ]
  },
  {
   "cell_type": "markdown",
   "metadata": {},
   "source": [
    "---\n",
    "\n",
    "### Gradient Boosting"
   ]
  },
  {
   "cell_type": "code",
   "execution_count": null,
   "metadata": {},
   "outputs": [],
   "source": [
    "from sklearn.ensemble import GradientBoostingClassifier as GBC  \n",
    "\n",
    "model_name = 'gradient_boosting'\n",
    "params = hiper_params[model_name]\n",
    "\n",
    "model = GBC(**params)\n",
    "model_with_name = (model_name,model)\n",
    "\n",
    "SF.full_framework_wrapper(df_users,df_y,model_with_name)\n",
    "posibilidades_algoritmos.append(model_with_name)"
   ]
  },
  {
   "cell_type": "markdown",
   "metadata": {},
   "source": [
    "---\n",
    "\n",
    "### Adaboost"
   ]
  },
  {
   "cell_type": "code",
   "execution_count": null,
   "metadata": {},
   "outputs": [],
   "source": [
    "from sklearn.ensemble import AdaBoostClassifier\n",
    "\n",
    "model_name = 'adaboost'\n",
    "\n",
    "model = AdaBoostClassifier()\n",
    "model_with_name = (model_name,model)\n",
    "\n",
    "SF.full_framework_wrapper(df_users,df_y,model_with_name)\n",
    "posibilidades_algoritmos.append(model_with_name)"
   ]
  },
  {
   "cell_type": "markdown",
   "metadata": {},
   "source": [
    "---\n",
    "\n",
    "### Catboost"
   ]
  },
  {
   "cell_type": "code",
   "execution_count": 17,
   "metadata": {},
   "outputs": [],
   "source": [
    "# Muy costoso en tiempo, no lo valen sus resultados\n",
    "\n",
    "# import catboost as cb #conda install -c conda-forge catboost\n",
    "\n",
    "# model_name = 'catboost'\n",
    "# params = hiper_params[model_name]\n",
    "\n",
    "# model = cb.CatBoostClassifier(**params,verbose=False)\n",
    "# model_with_name = (model_name,model)\n",
    "\n",
    "# SF.full_framework_wrapper(df_users,df_y,model_with_name)\n",
    "# posibilidades_algoritmos.append(model_with_name)"
   ]
  },
  {
   "cell_type": "markdown",
   "metadata": {},
   "source": [
    "---\n",
    "\n",
    "### Logistic Regression"
   ]
  },
  {
   "cell_type": "code",
   "execution_count": 18,
   "metadata": {},
   "outputs": [],
   "source": [
    "# Resultados pauperrimos\n",
    "\n",
    "# from sklearn.linear_model import LogisticRegression\n",
    "\n",
    "# model_name = 'logistic_regresion'\n",
    "# model = LogisticRegression(solver='lbfgs')\n",
    "# model_with_name = (model_name,model)\n",
    "\n",
    "# SF.full_framework_wrapper(df_users,df_y,model_with_name)\n",
    "\n",
    "# posibilidades_algoritmos.append(model_with_name)"
   ]
  },
  {
   "cell_type": "markdown",
   "metadata": {},
   "source": [
    "---\n",
    "\n",
    "## Encontrando el mejor submit\n",
    "\n",
    "Corremos todos los algoritmos definidos sobre esas combinaciones, incluso ensamblados, en busqueda de su mejor combinación de hiper-parametros.\n",
    "\n",
    "Finalmente, se corren todos los algoritmos en su mejor combinación contra todos los set de features definidos, en busqueda de la mejor fusión universal."
   ]
  },
  {
   "cell_type": "markdown",
   "metadata": {},
   "source": [
    "### Todos los posibles algoritmos"
   ]
  },
  {
   "cell_type": "code",
   "execution_count": 40,
   "metadata": {},
   "outputs": [
    {
     "name": "stdout",
     "output_type": "stream",
     "text": [
      "['decision_tree', 'random_forest', 'xgboost', 'KNN21', 'naive_bayes_Gaussian', 'naive_bayes_Bernoulli', 'naive_bayes_Multinomial', 'naive_bayes_Complement', 'lightgbm', 'neuralnetwork']\n"
     ]
    }
   ],
   "source": [
    "print([x[0] for x in posibilidades_algoritmos])\n",
    "\n",
    "posibilidades_algoritmos_y_ensambles = posibilidades_algoritmos[:]"
   ]
  },
  {
   "cell_type": "code",
   "execution_count": 41,
   "metadata": {},
   "outputs": [],
   "source": [
    "from sklearn.ensemble import BaggingClassifier\n",
    "\n",
    "# Se excluyen los algoritmos que ya de por si son de Bagging y los que consumen mucho tiempo\n",
    "\n",
    "EXCLUDED = ['catboost','neuralnetwork',f'KNN{K}','random_forest']\n",
    "\n",
    "def bagging(posibilidades):\n",
    "    posibilidades = list(filter(lambda x:x[0] not in EXCLUDED,posibilidades))\n",
    "    baggins = [] # Frodo\n",
    "    for n,m in posibilidades:\n",
    "        baggins.append((n+'_bagging',BaggingClassifier(m)))\n",
    "    return baggins\n",
    "\n",
    "posibilidades_algoritmos_y_ensambles += bagging(posibilidades_algoritmos)"
   ]
  },
  {
   "cell_type": "code",
   "execution_count": 42,
   "metadata": {},
   "outputs": [],
   "source": [
    "EXCLUDED = ['catboost','neuralnetwork']\n",
    "\n",
    "def ensamblar_algoritmos(posibilidades, n, tipo):\n",
    "    posibilidades = list(filter(lambda x:x[0] not in EXCLUDED,posibilidades))\n",
    "    result = list(combinations(posibilidades,n))\n",
    "    result_names = [f'{x[0][0]}+{x[1][0]}_{tipo}' for x in result]\n",
    "    return list(zip(result_names,result))\n",
    "\n",
    "def ensambles_a_mano(posibilidades, nombres,tipo):\n",
    "    result = list(combinations(posibilidades, len(nombres)))\n",
    "    for r in result:\n",
    "        if not r: continue\n",
    "        names = [x[0] for x in r]\n",
    "        if all([x in names for x in nombres]):\n",
    "            result_names = '+'.join(nombres)\n",
    "            if tipo=='both':\n",
    "                return [(result_names+'_hard',r),(result_names+'_soft',r)]\n",
    "            result_names += f\"_{tipo}\"\n",
    "            return [(result_names,r)]"
   ]
  },
  {
   "cell_type": "code",
   "execution_count": 43,
   "metadata": {},
   "outputs": [],
   "source": [
    "posibilidades_algoritmos_y_ensambles += ensambles_a_mano(posibilidades_algoritmos,['random_forest','lightgbm','neuralnetwork'],'soft')\n",
    "posibilidades_algoritmos_y_ensambles += ensambles_a_mano(posibilidades_algoritmos,['random_forest','xgboost','naive_bayes_Bernoulli'],'soft')\n",
    "\n",
    "#Agrega todos los ensambles posibles de pares. \n",
    "# Mas allá de algunas corridas para dar una idea de lo que funciona y lo que no, \n",
    "# no sirve en el día a dia por su fuerza bruta y el tardar tanto\n",
    "\n",
    "# posibilidades_algoritmos_y_ensambles += ensamblar_algoritmos(posibilidades_algoritmos,2)"
   ]
  },
  {
   "cell_type": "code",
   "execution_count": 44,
   "metadata": {},
   "outputs": [
    {
     "name": "stdout",
     "output_type": "stream",
     "text": [
      "['decision_tree', 'random_forest', 'xgboost', 'KNN21', 'naive_bayes_Gaussian', 'naive_bayes_Bernoulli', 'naive_bayes_Multinomial', 'naive_bayes_Complement', 'lightgbm', 'neuralnetwork', 'decision_tree_bagging', 'xgboost_bagging', 'naive_bayes_Gaussian_bagging', 'naive_bayes_Bernoulli_bagging', 'naive_bayes_Multinomial_bagging', 'naive_bayes_Complement_bagging', 'lightgbm_bagging', 'random_forest+lightgbm+neuralnetwork_soft', 'random_forest+xgboost+naive_bayes_Bernoulli_soft']\n"
     ]
    }
   ],
   "source": [
    "print([x[0] for x in posibilidades_algoritmos_y_ensambles])"
   ]
  },
  {
   "cell_type": "markdown",
   "metadata": {},
   "source": [
    "### Todos los posibles sets de features"
   ]
  },
  {
   "cell_type": "code",
   "execution_count": 67,
   "metadata": {},
   "outputs": [],
   "source": [
    "posibilidades_features = {\n",
    "    'Cumulative Importance':feature_selection['best_features_progresivo'],\n",
    "    'Forward Selection':feature_selection['best_features_forward'],\n",
    "    'Backward Elimination':feature_selection['best_features_backward'],\n",
    "    'Stepwise Regression':feature_selection['best_features_stepwise'],\n",
    "    'Full Dataframe':[],\n",
    "}"
   ]
  },
  {
   "cell_type": "code",
   "execution_count": 46,
   "metadata": {},
   "outputs": [],
   "source": [
    "todo_junto = [x for f in posibilidades_features.values() for x in f]\n",
    "intersec = list(set([x for x in todo_junto if todo_junto.count(x)>=2]))\n",
    "posibilidades_features['Feature Intersection'] = intersec"
   ]
  },
  {
   "cell_type": "code",
   "execution_count": 47,
   "metadata": {},
   "outputs": [],
   "source": [
    "posibilidades_features['Seleccion a Mano (Boj)'] = ['total_checkouts_month_5',\n",
    "                    'timestamp_last_checkout',\n",
    "                    'timestamp_last_event',\n",
    "                    'has_checkout_month_5',\n",
    "                    'total_checkouts',\n",
    "                    'days_to_last_event',\n",
    "                    'total_checkouts_lw',\n",
    "                    'total_checkouts_months_1_to_4',\n",
    "                    'total_conversions',\n",
    "                    'total_session_conversion',\n",
    "                    'total_events',\n",
    "                    'total_sessions',\n",
    "                    'avg_events_per_session',\n",
    "                    'total_session_checkout',\n",
    "                    'has_checkout'\n",
    "                    ]\n",
    "\n",
    "posibilidades_features['Seleccion a Mano (Souto)'] = ['dow_last_conversion', \n",
    "                     'has_conversion_lw', 'total_conversions_month_4', \n",
    "                     'total_session_checkout', 'doy_last_conversion', 'timestamp_last_event', \n",
    "                     'dow_last_checkout', 'total_checkouts', 'has_checkout', 'doy_last_checkout', \n",
    "                     'has_checkout_month_1', 'timestamp_last_checkout', 'total_sessions', \n",
    "                     'woy_last_event', 'has_checkout_month_5', 'avg_events_per_session']\n",
    "\n",
    "posibilidades_features['Seleccion a Mano (Chortas)'] = [\n",
    "    'dow_last_conversion', \n",
    "    'timestamp_last_event',\n",
    "    'timestamp_last_checkout',\n",
    "    'timestamp_last_conversion',\n",
    "    'timestamp_last_viewed_product',\n",
    "    'days_to_last_event',\n",
    "    'days_to_last_checkout',\n",
    "    'days_to_last_conversion',\n",
    "    'days_to_last_viewed_product',\n",
    "    'total_brand_listings_lw',\n",
    "    'total_viewed_products_lw',\n",
    "    'total_checkouts_lw',\n",
    "    'total_conversions_lw',\n",
    "    'total_events_lw',\n",
    "    'total_sessions_lw',\n",
    "    'total_session_checkouts_lw',\n",
    "    'total_session_conversions_lw',\n",
    "    'total_events_ad_session_lw',\n",
    "    'total_ad_sessions_lw',\n",
    "    'has_checkout_lw',\n",
    "    'has_conversion_lw',\n",
    "    'percentage_last_week_activity',\n",
    "    'percentage_last_week_brand_listings',\n",
    "    'percentage_last_week_viewed_products',\n",
    "    'percentage_last_week_checkouts',\n",
    "    'percentage_last_week_conversions',\n",
    "    'amount_of_months_that_has_bought'\n",
    "]\n",
    "\n",
    "posibilidades_features['Seleccion a Mano (FdM)'] = [ 'total_checkouts',\n",
    "                                                     'total_conversions',\n",
    "                                                     'total_events',\n",
    "                                                     'total_sessions',\n",
    "                                                     'total_session_checkout',\n",
    "                                                     'total_session_conversion',\n",
    "                                                     'total_events_ad_session',\n",
    "                                                     'total_ad_sessions',\n",
    "                                                     'avg_events_per_session',\n",
    "                                                     'avg_events_per_ad_session',\n",
    "                                                     'percentage_session_ad',\n",
    "                                                     'has_checkout',\n",
    "                                                     'has_conversion',\n",
    "                                                     'total_viewed_products_month_1',\n",
    "                                                     'total_checkouts_month_1',\n",
    "                                                     'total_conversions_month_1',\n",
    "                                                     'total_events_month_1',\n",
    "                                                     'total_sessions_month_1',\n",
    "                                                     'total_session_checkouts_month_1',\n",
    "                                                     'total_session_conversions_month_1',\n",
    "                                                     'total_events_ad_session_month_1',\n",
    "                                                     'total_ad_sessions_month_1',\n",
    "                                                     'has_checkout_month_1',\n",
    "                                                     'has_conversion_month_1',\n",
    "                                                     'total_viewed_products_month_2',\n",
    "                                                     'total_checkouts_month_2',\n",
    "                                                     'total_conversions_month_2',\n",
    "                                                     'total_events_month_2',\n",
    "                                                     'total_sessions_month_2',\n",
    "                                                     'total_session_checkouts_month_2',\n",
    "                                                     'total_session_conversions_month_2',\n",
    "                                                     'total_events_ad_session_month_2',\n",
    "                                                     'total_ad_sessions_month_2',\n",
    "                                                     'has_checkout_month_2',\n",
    "                                                     'has_conversion_month_2',\n",
    "                                                     'total_viewed_products_month_3',\n",
    "                                                     'total_checkouts_month_3',\n",
    "                                                     'total_conversions_month_3',\n",
    "                                                     'total_events_month_3',\n",
    "                                                     'total_sessions_month_3',\n",
    "                                                     'total_session_checkouts_month_3',\n",
    "                                                     'total_session_conversions_month_3',\n",
    "                                                     'total_events_ad_session_month_3',\n",
    "                                                     'total_ad_sessions_month_3',\n",
    "                                                     'has_checkout_month_3',\n",
    "                                                     'has_conversion_month_3',\n",
    "                                                     'total_viewed_products_month_4',\n",
    "                                                     'total_checkouts_month_4',\n",
    "                                                     'total_conversions_month_4',\n",
    "                                                     'total_events_month_4',\n",
    "                                                     'total_sessions_month_4',\n",
    "                                                     'total_session_checkouts_month_4',\n",
    "                                                     'total_session_conversions_month_4',\n",
    "                                                     'total_events_ad_session_month_4',\n",
    "                                                     'total_ad_sessions_month_4',\n",
    "                                                     'has_checkout_month_4',\n",
    "                                                     'has_conversion_month_4',\n",
    "                                                     'total_viewed_products_month_5',\n",
    "                                                     'total_checkouts_month_5',\n",
    "                                                     'total_conversions_month_5',\n",
    "                                                     'total_events_month_5',\n",
    "                                                     'total_sessions_month_5',\n",
    "                                                     'total_session_checkouts_month_5',\n",
    "                                                     'total_session_conversions_month_5',\n",
    "                                                     'total_events_ad_session_month_5',\n",
    "                                                     'total_ad_sessions_month_5',\n",
    "                                                     'has_checkout_month_5',\n",
    "                                                     'has_conversion_month_5',\n",
    "                                                     'total_viewed_products_months_1_to_4',\n",
    "                                                     'total_checkouts_months_1_to_4',\n",
    "                                                     'total_conversions_months_1_to_4',\n",
    "                                                     'total_events_months_1_to_4',\n",
    "                                                     'total_sessions_months_1_to_4',\n",
    "                                                     'total_session_checkouts_months_1_to_4',\n",
    "                                                     'total_session_conversions_months_1_to_4',\n",
    "                                                     'total_events_ad_session_months_1_to_4',\n",
    "                                                     'total_ad_sessions_months_1_to_4',\n",
    "                                                     'has_checkout_months_1_to_4',\n",
    "                                                     'has_conversion_months_1_to_4',\n",
    "                                                     'total_viewed_products_lw',\n",
    "                                                     'total_checkouts_lw',\n",
    "                                                     'total_conversions_lw',\n",
    "                                                     'total_events_lw',\n",
    "                                                     'total_sessions_lw',\n",
    "                                                     'total_session_checkouts_lw',\n",
    "                                                     'total_session_conversions_lw',\n",
    "                                                     'total_events_ad_session_lw',\n",
    "                                                     'total_ad_sessions_lw',\n",
    "                                                     'has_checkout_lw',\n",
    "                                                     'has_conversion_lw',\n",
    "                                                     'amount_of_months_that_has_bought',\n",
    "                                                     'timestamp_last_event',\n",
    "                                                     'timestamp_last_checkout',\n",
    "                                                     'timestamp_last_conversion',\n",
    "                                                     'timestamp_last_viewed_product',\n",
    "                                                     'days_to_last_event',\n",
    "                                                     'days_to_last_checkout',\n",
    "                                                     'days_to_last_conversion',\n",
    "                                                     'days_to_last_viewed_product',\n",
    "                                                     'doy_last_event',\n",
    "                                                     'dow_last_event',\n",
    "                                                     'dom_last_event',\n",
    "                                                     'woy_last_event',\n",
    "                                                     'doy_last_checkout',\n",
    "                                                     'dow_last_checkout',\n",
    "                                                     'dom_last_checkout',\n",
    "                                                     'woy_last_checkout',\n",
    "                                                     'doy_last_conversion',\n",
    "                                                     'dow_last_conversion',\n",
    "                                                     'dom_last_conversion',\n",
    "                                                     'woy_last_conversion',\n",
    "                                                     'doy_last_viewed_product',\n",
    "                                                     'dow_last_viewed_product',\n",
    "                                                     'dom_last_viewed_product',\n",
    "                                                     'woy_last_viewed_product',\n",
    "                                                     'last_conversion_sku',\n",
    "                                                     'last_conversion_price',\n",
    "                                                     'percentage_last_week_activity',\n",
    "                                                     'percentage_last_month_activity',\n",
    "                                                     'days_between_last_event_and_checkout',\n",
    "                                                     'percentage_regular_celphones_activity',\n",
    "                                                     'var_viewed',\n",
    "                                                     'conversion_gt_media'\n",
    "]"
   ]
  },
  {
   "cell_type": "code",
   "execution_count": 48,
   "metadata": {},
   "outputs": [],
   "source": [
    "cant_features = 30\n",
    "\n",
    "posibilidades_features[f'{cant_features} Random Sample'] = random.sample(df_users.columns.tolist(),cant_features)\n",
    "posibilidades_features[f'{cant_features} Random Sample 2'] = random.sample(df_users.columns.tolist(),cant_features)"
   ]
  },
  {
   "cell_type": "code",
   "execution_count": 49,
   "metadata": {},
   "outputs": [
    {
     "name": "stdout",
     "output_type": "stream",
     "text": [
      "['Cumulative Importance', 'Forward Selection', 'Backward Elimination', 'Stepwise Regression ', 'Full Dataframe', 'Feature Intersection', 'Seleccion a Mano (Boj)', 'Seleccion a Mano (Souto)', 'Seleccion a Mano (Chortas)', 'Seleccion a Mano (FdM)', '30 Random Sample', '30 Random Sample 2']\n"
     ]
    }
   ],
   "source": [
    "print([x for x in posibilidades_features])"
   ]
  },
  {
   "cell_type": "markdown",
   "metadata": {},
   "source": [
    "---\n",
    "\n",
    "### Combinando ambas ideas"
   ]
  },
  {
   "cell_type": "code",
   "execution_count": 70,
   "metadata": {
    "scrolled": false
   },
   "outputs": [
    {
     "name": "stdout",
     "output_type": "stream",
     "text": [
      "                                            Tardó: 0.00s                                            \n",
      "                                      -----------------------                                       \n",
      "Cumulative Importance:\n",
      "\n",
      "['timestamp_last_checkout', 'doy_last_checkout', 'woy_last_checkout', 'percentage_last_month_checkouts', 'has_checkout_month_5', 'total_checkouts_month_5', 'days_between_last_event_and_checkout', 'kmeans_5', 'total_events_ad_session', 'dom_last_checkout', 'total_events', 'days_to_last_checkout', 'kmeans_3', 'total_events_month_5', 'total_events_ad_session_month_5', 'total_viewed_products', 'dow_last_checkout', 'total_sessions', 'total_viewed_products_month_5', 'timestamp_last_event', 'total_events_lw', 'total_events_ad_session_lw', 'total_checkouts', 'total_max_viewed_product', 'total_ad_sessions', 'percentage_last_week_checkouts', 'percentage_last_month_activity', 'total_last_week_max_viewed_brand', 'days_to_last_viewed_product', 'doy_last_event', 'days_to_last_event', 'avg_events_per_ad_session', 'dom_last_event', 'total_sessions_month_5', 'avg_events_per_session', 'kmeans_6', 'total_viewed_products_months_1_to_4', 'total_viewed_products_lw', 'total_sessions_last_week', 'var_viewed', 'total_ad_sessions_month_5', 'woy_last_event', 'days_to_last_conversion', 'total_brand_listings', 'percentage_max_viewed_product', 'total_events_months_1_to_4', 'total_brand_listings_lw', 'total_sessions_lw', 'total_last_week_max_viewed_model', 'has_checkout_lw', 'total_checkouts_lw', 'total_sessions_months_1_to_4', 'percentage_last_week_viewed_products', 'total_session_checkout', 'percentage_regular_celphones_activity', 'percentage_last_month_viewed_products', 'percentage_last_week_activity', 'percentage_last_week_brand_listings', 'percentage_last_week_max_viewed_brand', 'percentage_last_week_max_viewed_model', 'dow_last_event', 'total_ad_sessions_lw', 'percentage_session_ad', 'total_sessions_month_1', 'total_conversions_month_2', 'total_session_checkouts_month_1', 'total_events_month_1', 'doy_last_conversion', 'total_checkouts_month_2', 'total_ad_sessions_month_1', 'total_session_conversions_month_1', 'total_events_ad_session_month_1', 'total_viewed_products_month_2', 'dom_last_conversion', 'has_checkout_month_1', 'has_conversion_month_1', 'dow_last_conversion', 'dom_last_viewed_product', 'woy_last_conversion', 'conversion_gt_media', 'total_conversions', 'total_session_conversion', 'cant_visitas_faq_ecommerce', 'cant_visitas_customer_service', 'has_event_last_week', 'ratio_sessions_last_week_over_total', 'percentage_session_conversion', 'cant_viewed_brand_last_conversion', 'has_checkout', 'has_conversion', 'doy_last_viewed_product', 'total_viewed_products_month_1', 'total_checkouts_month_1', 'percentage_last_month_conversions', 'total_conversions_month_1', 'last_conversion_price', 'last_conversion_sku', 'woy_last_viewed_product', 'timestamp_last_conversion', 'dow_last_viewed_product', 'timestamp_last_viewed_product', 'total_events_ad_session_month_3', 'total_events_month_2', 'total_ad_sessions_month_4', 'total_session_conversions_month_5', 'total_session_checkouts_month_5', 'total_events_month_3', 'total_sessions_month_3', 'total_conversions_month_5']\n",
      "\n",
      "\n",
      "\t * Model: random_forest - AUC: 0.8443 - AUCPR:0.1678 - Accuracy: 0.9496 \n",
      "\t\t Tardó: 10.58s\n",
      "\t * Model: xgboost - AUC: 0.8636 - AUCPR:0.2545 - Accuracy: 0.9496 \n",
      "\t\t Tardó: 2.79s\n",
      "                                           Tardó: 13.37s                                            \n",
      "                                      -----------------------                                       \n",
      "Forward Selection:\n",
      "\n",
      "['doy_last_checkout', 'total_events', 'dom_last_event', 'percentage_session_ad', 'avg_events_per_session', 'total_events_lw']\n",
      "\n",
      "\n",
      "\t * Model: random_forest - AUC: 0.8563 - AUCPR:0.2025 - Accuracy: 0.9496 \n",
      "\t\t Tardó: 3.46s\n",
      "\t * Model: xgboost - AUC: 0.8587 - AUCPR:0.2124 - Accuracy: 0.9496 \n",
      "\t\t Tardó: 0.40s\n",
      "                                            Tardó: 3.86s                                            \n",
      "                                      -----------------------                                       \n",
      "Backward Elimination:\n",
      "\n",
      "['total_conversions', 'total_events', 'total_session_conversion', 'total_events_ad_session', 'total_ad_sessions', 'avg_events_per_session', 'avg_events_per_ad_session', 'percentage_session_ad', 'percentage_session_conversion', 'has_checkout', 'has_conversion', 'total_viewed_products_month_1', 'total_checkouts_month_1', 'total_conversions_month_1', 'total_events_month_1', 'total_sessions_month_1', 'total_session_checkouts_month_1', 'total_session_conversions_month_1', 'total_events_ad_session_month_1', 'total_ad_sessions_month_1', 'has_checkout_month_1', 'has_conversion_month_1', 'total_viewed_products_month_2', 'total_checkouts_month_2', 'total_conversions_month_2', 'total_events_month_2', 'total_sessions_month_2', 'total_session_checkouts_month_2', 'total_session_conversions_month_2', 'total_events_ad_session_month_2', 'total_ad_sessions_month_2', 'has_checkout_month_2', 'has_conversion_month_2', 'total_viewed_products_month_3', 'total_checkouts_month_3', 'total_conversions_month_3', 'total_events_month_3', 'total_sessions_month_3', 'total_session_checkouts_month_3', 'total_session_conversions_month_3', 'total_events_ad_session_month_3', 'total_ad_sessions_month_3', 'has_checkout_month_3', 'has_conversion_month_3', 'total_viewed_products_month_4', 'total_checkouts_month_4', 'total_conversions_month_4', 'total_session_checkouts_month_4', 'total_session_conversions_month_4', 'total_events_ad_session_month_4', 'total_ad_sessions_month_4', 'has_checkout_month_4', 'has_conversion_month_4', 'total_viewed_products_month_5', 'total_events_month_5', 'total_sessions_month_5', 'total_session_checkouts_month_5', 'total_session_conversions_month_5', 'total_events_ad_session_month_5', 'total_ad_sessions_month_5', 'total_checkouts_months_1_to_4', 'total_conversions_months_1_to_4', 'total_session_conversions_months_1_to_4', 'total_events_ad_session_months_1_to_4', 'total_ad_sessions_months_1_to_4', 'has_conversion_months_1_to_4', 'amount_of_months_that_has_bought', 'timestamp_last_event', 'days_to_last_event', 'days_to_last_conversion', 'days_to_last_viewed_product', 'doy_last_event', 'dow_last_event', 'dom_last_event', 'woy_last_event', 'doy_last_checkout', 'woy_last_checkout', 'dow_last_conversion', 'dom_last_conversion', 'woy_last_conversion', 'dow_last_viewed_product', 'dom_last_viewed_product', 'woy_last_viewed_product', 'last_conversion_price', 'percentage_last_week_activity', 'percentage_last_week_conversions', 'percentage_last_week_viewed_products', 'percentage_last_month_activity', 'percentage_last_month_checkouts', 'percentage_regular_celphones_activity', 'var_viewed', 'conversion_gt_media', 'total_max_viewed_product', 'cant_viewed_brand_last_conversion', 'ratio_sessions_last_week_over_total', 'has_event_last_week', 'cant_visitas_customer_service', 'cant_visitas_faq_ecommerce']\n",
      "\n",
      "\n",
      "\t * Model: random_forest - AUC: 0.8510 - AUCPR:0.1967 - Accuracy: 0.9496 \n",
      "\t\t Tardó: 8.51s\n",
      "\t * Model: xgboost - AUC: 0.8669 - AUCPR:0.2624 - Accuracy: 0.9496 \n",
      "\t\t Tardó: 1.68s\n",
      "                                           Tardó: 10.19s                                            \n",
      "                                      -----------------------                                       \n",
      "Stepwise Regression:\n",
      "\n",
      "['doy_last_checkout', 'total_events', 'dom_last_event', 'percentage_session_ad', 'avg_events_per_session', 'total_events_lw']\n",
      "\n",
      "\n",
      "\t * Model: random_forest - AUC: 0.8563 - AUCPR:0.2025 - Accuracy: 0.9496 \n",
      "\t\t Tardó: 3.21s\n",
      "\t * Model: xgboost - AUC: 0.8587 - AUCPR:0.2124 - Accuracy: 0.9496 \n",
      "\t\t Tardó: 0.49s\n",
      "                                            Tardó: 3.70s                                            \n",
      "                                      -----------------------                                       \n",
      "Full Dataframe:\n",
      "\n",
      "[]\n",
      "\n",
      "\n",
      "\t * Model: random_forest - AUC: 0.8420 - AUCPR:0.1634 - Accuracy: 0.9496 \n",
      "\t\t Tardó: 15.80s\n",
      "\t * Model: xgboost - AUC: 0.8599 - AUCPR:0.2521 - Accuracy: 0.9491 \n",
      "\t\t Tardó: 3.53s\n"
     ]
    }
   ],
   "source": [
    "resultados = []\n",
    "global_time = 0\n",
    "\n",
    "norm = False\n",
    "\n",
    "for forma, features in posibilidades_features.items():\n",
    "    global_start = time.process_time()\n",
    "    print(\"{: ^100}\\n{: ^100s}\".format(f\"Tardó: {global_time:.2f}s\",'-----------------------'))\n",
    "    print(f'{forma}:\\n')\n",
    "    print(f'{features}\\n\\n')\n",
    "    for nombre,algoritmo in posibilidades_algoritmos_y_ensambles:\n",
    "        norm = True if ('NN' in nombre or 'neuralnetwork' in nombre) and ('+' not in nombre) else False\n",
    "        print('\\t * ',end='')\n",
    "        model_with_name = (f'{nombre}',algoritmo)\n",
    "        start = time.process_time()\n",
    "        model, auc = SF.full_framework_wrapper(df_users, df_y, model_with_name, columns=features, normalize=norm)\n",
    "        end = time.process_time()\n",
    "        print(f'\\t\\t Tardó: {end-start:.2f}s')\n",
    "        resultados.append((auc, forma, (nombre, algoritmo), features))\n",
    "    global_end = time.process_time()\n",
    "    global_time = global_end-global_start"
   ]
  },
  {
   "cell_type": "code",
   "execution_count": 71,
   "metadata": {},
   "outputs": [
    {
     "data": {
      "text/plain": [
       "[(0.8669218835938682, 'Backward Elimination', 'xgboost'),\n",
       " (0.8635511708262187, 'Cumulative Importance', 'xgboost'),\n",
       " (0.8598891648508751, 'Full Dataframe', 'xgboost'),\n",
       " (0.8587055466442831, 'Stepwise Regression', 'xgboost'),\n",
       " (0.8587055466442831, 'Forward Selection', 'xgboost'),\n",
       " (0.8563304050700351, 'Stepwise Regression', 'random_forest'),\n",
       " (0.8563304050700351, 'Forward Selection', 'random_forest'),\n",
       " (0.8510466433248821, 'Backward Elimination', 'random_forest'),\n",
       " (0.844323663165399, 'Cumulative Importance', 'random_forest'),\n",
       " (0.8420273336514561, 'Full Dataframe', 'random_forest')]"
      ]
     },
     "metadata": {},
     "output_type": "display_data"
    }
   ],
   "source": [
    "resultados.sort(reverse=True)\n",
    "display([(x[0],x[1],x[2][0]) for x in resultados])"
   ]
  },
  {
   "cell_type": "markdown",
   "metadata": {},
   "source": [
    "## Corrida Final\n",
    "\n",
    "Se corre entrenando con X (y no X_train) el submit final."
   ]
  },
  {
   "cell_type": "code",
   "execution_count": 72,
   "metadata": {},
   "outputs": [
    {
     "data": {
      "text/plain": [
       "'Mejor Apuesta: xgboost (0.8669 AUC) - Features: Backward Elimination'"
      ]
     },
     "metadata": {},
     "output_type": "display_data"
    },
    {
     "data": {
      "text/plain": [
       "\"Features: ['total_conversions', 'total_events', 'total_session_conversion', 'total_events_ad_session', 'total_ad_sessions', 'avg_events_per_session', 'avg_events_per_ad_session', 'percentage_session_ad', 'percentage_session_conversion', 'has_checkout', 'has_conversion', 'total_viewed_products_month_1', 'total_checkouts_month_1', 'total_conversions_month_1', 'total_events_month_1', 'total_sessions_month_1', 'total_session_checkouts_month_1', 'total_session_conversions_month_1', 'total_events_ad_session_month_1', 'total_ad_sessions_month_1', 'has_checkout_month_1', 'has_conversion_month_1', 'total_viewed_products_month_2', 'total_checkouts_month_2', 'total_conversions_month_2', 'total_events_month_2', 'total_sessions_month_2', 'total_session_checkouts_month_2', 'total_session_conversions_month_2', 'total_events_ad_session_month_2', 'total_ad_sessions_month_2', 'has_checkout_month_2', 'has_conversion_month_2', 'total_viewed_products_month_3', 'total_checkouts_month_3', 'total_conversions_month_3', 'total_events_month_3', 'total_sessions_month_3', 'total_session_checkouts_month_3', 'total_session_conversions_month_3', 'total_events_ad_session_month_3', 'total_ad_sessions_month_3', 'has_checkout_month_3', 'has_conversion_month_3', 'total_viewed_products_month_4', 'total_checkouts_month_4', 'total_conversions_month_4', 'total_session_checkouts_month_4', 'total_session_conversions_month_4', 'total_events_ad_session_month_4', 'total_ad_sessions_month_4', 'has_checkout_month_4', 'has_conversion_month_4', 'total_viewed_products_month_5', 'total_events_month_5', 'total_sessions_month_5', 'total_session_checkouts_month_5', 'total_session_conversions_month_5', 'total_events_ad_session_month_5', 'total_ad_sessions_month_5', 'total_checkouts_months_1_to_4', 'total_conversions_months_1_to_4', 'total_session_conversions_months_1_to_4', 'total_events_ad_session_months_1_to_4', 'total_ad_sessions_months_1_to_4', 'has_conversion_months_1_to_4', 'amount_of_months_that_has_bought', 'timestamp_last_event', 'days_to_last_event', 'days_to_last_conversion', 'days_to_last_viewed_product', 'doy_last_event', 'dow_last_event', 'dom_last_event', 'woy_last_event', 'doy_last_checkout', 'woy_last_checkout', 'dow_last_conversion', 'dom_last_conversion', 'woy_last_conversion', 'dow_last_viewed_product', 'dom_last_viewed_product', 'woy_last_viewed_product', 'last_conversion_price', 'percentage_last_week_activity', 'percentage_last_week_conversions', 'percentage_last_week_viewed_products', 'percentage_last_month_activity', 'percentage_last_month_checkouts', 'percentage_regular_celphones_activity', 'var_viewed', 'conversion_gt_media', 'total_max_viewed_product', 'cant_viewed_brand_last_conversion', 'ratio_sessions_last_week_over_total', 'has_event_last_week', 'cant_visitas_customer_service', 'cant_visitas_faq_ecommerce']\""
      ]
     },
     "metadata": {},
     "output_type": "display_data"
    }
   ],
   "source": [
    "max_auc, campeon_forma, (campeon_nombre, campeon_algoritmo), campeon_features = resultados[0]\n",
    "display(f\"Mejor Apuesta: {campeon_nombre} ({max_auc:.4f} AUC) - Features: {campeon_forma}\")\n",
    "display(f\"Features: {campeon_features}\")"
   ]
  },
  {
   "cell_type": "code",
   "execution_count": 73,
   "metadata": {},
   "outputs": [
    {
     "name": "stdout",
     "output_type": "stream",
     "text": [
      "xgboost - Backward Elimination - 0.8669\n",
      "Model: xgboost_all_in - AUC: 0.8669 - AUCPR:0.2624 - Accuracy: 0.9496 \n"
     ]
    },
    {
     "data": {
      "text/plain": [
       "'submission-xgboost_all_in-0.8669.csv'"
      ]
     },
     "metadata": {},
     "output_type": "display_data"
    },
    {
     "data": {
      "text/plain": [
       "\"xgboost_all_in - {'base_score': 0.5, 'booster': 'gbtree', 'colsample_bylevel': 0.65, 'colsample_bytree': 0.7500000000000001, 'gamma': 0.0, 'learning_rate': 0.1, 'max_delta_step': 0, 'max_depth': 4, 'min_child_weight': 5, 'missing': None, 'n_estimators': 16, 'n_jobs': 1, 'nthread': None, 'objective': 'binary:logistic', 'random_state': 42, 'reg_alpha': 0, 'reg_lambda': 1, 'scale_pos_weight': 2, 'seed': None, 'silent': True, 'subsample': 0.7} - ['total_conversions', 'total_events', 'total_session_conversion', 'total_events_ad_session', 'total_ad_sessions', 'avg_events_per_session', 'avg_events_per_ad_session', 'percentage_session_ad', 'percentage_session_conversion', 'has_checkout', 'has_conversion', 'total_viewed_products_month_1', 'total_checkouts_month_1', 'total_conversions_month_1', 'total_events_month_1', 'total_sessions_month_1', 'total_session_checkouts_month_1', 'total_session_conversions_month_1', 'total_events_ad_session_month_1', 'total_ad_sessions_month_1', 'has_checkout_month_1', 'has_conversion_month_1', 'total_viewed_products_month_2', 'total_checkouts_month_2', 'total_conversions_month_2', 'total_events_month_2', 'total_sessions_month_2', 'total_session_checkouts_month_2', 'total_session_conversions_month_2', 'total_events_ad_session_month_2', 'total_ad_sessions_month_2', 'has_checkout_month_2', 'has_conversion_month_2', 'total_viewed_products_month_3', 'total_checkouts_month_3', 'total_conversions_month_3', 'total_events_month_3', 'total_sessions_month_3', 'total_session_checkouts_month_3', 'total_session_conversions_month_3', 'total_events_ad_session_month_3', 'total_ad_sessions_month_3', 'has_checkout_month_3', 'has_conversion_month_3', 'total_viewed_products_month_4', 'total_checkouts_month_4', 'total_conversions_month_4', 'total_session_checkouts_month_4', 'total_session_conversions_month_4', 'total_events_ad_session_month_4', 'total_ad_sessions_month_4', 'has_checkout_month_4', 'has_conversion_month_4', 'total_viewed_products_month_5', 'total_events_month_5', 'total_sessions_month_5', 'total_session_checkouts_month_5', 'total_session_conversions_month_5', 'total_events_ad_session_month_5', 'total_ad_sessions_month_5', 'total_checkouts_months_1_to_4', 'total_conversions_months_1_to_4', 'total_session_conversions_months_1_to_4', 'total_events_ad_session_months_1_to_4', 'total_ad_sessions_months_1_to_4', 'has_conversion_months_1_to_4', 'amount_of_months_that_has_bought', 'timestamp_last_event', 'days_to_last_event', 'days_to_last_conversion', 'days_to_last_viewed_product', 'doy_last_event', 'dow_last_event', 'dom_last_event', 'woy_last_event', 'doy_last_checkout', 'woy_last_checkout', 'dow_last_conversion', 'dom_last_conversion', 'woy_last_conversion', 'dow_last_viewed_product', 'dom_last_viewed_product', 'woy_last_viewed_product', 'last_conversion_price', 'percentage_last_week_activity', 'percentage_last_week_conversions', 'percentage_last_week_viewed_products', 'percentage_last_month_activity', 'percentage_last_month_checkouts', 'percentage_regular_celphones_activity', 'var_viewed', 'conversion_gt_media', 'total_max_viewed_product', 'cant_viewed_brand_last_conversion', 'ratio_sessions_last_week_over_total', 'has_event_last_week', 'cant_visitas_customer_service', 'cant_visitas_faq_ecommerce']\""
      ]
     },
     "metadata": {},
     "output_type": "display_data"
    }
   ],
   "source": [
    "print(f\"{campeon_nombre} - {campeon_forma} - {max_auc:.4f}\")\n",
    "norm = True if ('NN' in campeon_nombre or 'neuralnetwork' in campeon_nombre) and ('+' not in campeon_nombre) else False\n",
    "campeon_model, campeon_auc, csv_name, campeon_message = SF.full_framework_wrapper(df_users, \n",
    "                                                                                    df_y, \n",
    "                                                                                    (campeon_nombre,campeon_algoritmo),\n",
    "                                                                                    columns=campeon_features,\n",
    "                                                                                    submit=True,\n",
    "                                                                                    all_in=True,\n",
    "                                                                                    normalize=norm)   \n",
    "\n",
    "#!kaggle competitions submit -f {csv_name} -m \"{campeon_message}\" trocafone"
   ]
  },
  {
   "cell_type": "code",
   "execution_count": null,
   "metadata": {},
   "outputs": [],
   "source": [
    "# Quemar n submits de punta a punta \n",
    "\n",
    "# for resultado in resultados:\n",
    "#     print(f\"\\n\\n{resultado[2][0]} - {resultado[1]} - {resultado[0]:.4f}\\n\\n)\n",
    "#     max_auc, campeon_forma, (campeon_nombre, campeon_algoritmo), campeon_features = resultado\n",
    "#     norm = True if ('NN' in campeon_nombre or 'neuralnetwork' in campeon_nombre) and ('+' not in campeon_nombre) else False\n",
    "#     campeon_model, campeon_auc, csv_name, campeon_message = SF.full_framework_wrapper(df_users, \n",
    "#                                                                                     df_y, \n",
    "#                                                                                     (campeon_nombre,campeon_algoritmo),\n",
    "#                                                                                     columns=campeon_features,\n",
    "#                                                                                     submit=True,\n",
    "#                                                                                     all_in=True,\n",
    "#                                                                                     normalize=norm)   \n",
    "#     !kaggle competitions submit -f {csv_name} -m \"{campeon_message}\" trocafone\n",
    "#     sleep(10)\n",
    "#     print()"
   ]
  },
  {
   "cell_type": "code",
   "execution_count": 74,
   "metadata": {},
   "outputs": [
    {
     "name": "stdout",
     "output_type": "stream",
     "text": [
      "Warning: Your Kaggle API key is readable by otherusers on this system! To fix this, you can run'chmod 600 /home/delmazo/.kaggle/kaggle.json'\n",
      "Downloading trocafone.zip to /home/delmazo/Desktop/7506-Datos/TP2\n",
      "  0%|                                               | 0.00/5.82k [00:00<?, ?B/s]\n",
      "100%|██████████████████████████████████████| 5.82k/5.82k [00:00<00:00, 1.84MB/s]\n",
      "Archive:  trocafone.zip\n",
      "  inflating: trocafone-publicleaderboard.csv  \n",
      "Last Best Score\n",
      "\t Fecha: \"2018-11-29 22:33:11\"\n",
      "\t Porcentaje: 0.87196\n"
     ]
    }
   ],
   "source": [
    "#!kaggle competitions leaderboard -d trocafone\n",
    "#!unzip -o trocafone.zip\n",
    "#print('\\n\\nLast Best Score')\n",
    "#!cat trocafone-publicleaderboard.csv | grep Datatouille | tail -n 1 | awk '{split($0,a,\",\"); print \"\\t Fecha: \" a[3] ; print \"\\t Porcentaje: \" a[4]}'"
   ]
  },
  {
   "cell_type": "markdown",
   "metadata": {},
   "source": [
    "https://www.kaggle.com/c/trocafone/submissions?sortBy=date\n",
    "\n",
    "https://www.kaggle.com/c/trocafone/leaderboard"
   ]
  }
 ],
 "metadata": {
  "kernelspec": {
   "display_name": "Python 3",
   "language": "python",
   "name": "python3"
  },
  "language_info": {
   "codemirror_mode": {
    "name": "ipython",
    "version": 3
   },
   "file_extension": ".py",
   "mimetype": "text/x-python",
   "name": "python",
   "nbconvert_exporter": "python",
   "pygments_lexer": "ipython3",
   "version": "3.6.6"
  },
  "toc": {
   "base_numbering": 1,
   "nav_menu": {},
   "number_sections": false,
   "sideBar": true,
   "skip_h1_title": true,
   "title_cell": "Índice",
   "title_sidebar": "Contenido",
   "toc_cell": false,
   "toc_position": {
    "height": "calc(100% - 180px)",
    "left": "10px",
    "top": "150px",
    "width": "204.867px"
   },
   "toc_section_display": true,
   "toc_window_display": true
  }
 },
 "nbformat": 4,
 "nbformat_minor": 2
}
