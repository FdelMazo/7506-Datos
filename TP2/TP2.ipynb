{
 "cells": [
  {
   "cell_type": "markdown",
   "metadata": {},
   "source": [
    "# [75.06 / 95.58] Organización de Datos <br> Trabajo Práctico 2: Machine Learning\n",
    "# Notebook Principal\n",
    "\n",
    "**Grupo 30: Datatouille**\n",
    "\n",
    "- 101055 - Bojman, Camila\n",
    "- 100029 - del Mazo, Federico\n",
    "- 100687 - Hortas, Cecilia\n",
    "- 97649 - Souto, Rodrigo\n",
    "\n",
    "**http://fdelmazo.github.io/7506-Datos/**\n",
    "\n",
    "**https://www.kaggle.com/datatouille2018/competitions**"
   ]
  },
  {
   "cell_type": "markdown",
   "metadata": {},
   "source": [
    "Continuando la investigación sobre la empresa Trocafone realizada en el [TP1](https://fdelmazo.github.io/7506-Datos/TP1/TP1.html), se busca determinar la probabilidad de que un usuario del sitio realice una conversión en el período determinado.\n",
    "\n",
    "Notebooks en orden de corrida y lectura:\n",
    "\n",
    "0. [TP1](https://fdelmazo.github.io/7506-Datos/TP1/TP1.html) --> Familiarización con el set de datos y exploración de estos.\n",
    "\n",
    "1. [Investigación Previa](https://fdelmazo.github.io/7506-Datos/TP2/investigacion.html) --> Con ayuda de lo trabajado en el TP1, se averiguan más cosas de las datos, en busqueda de que poder reutilizar.\n",
    "\n",
    "2. [Creación de Dataframes](https://fdelmazo.github.io/7506-Datos/TP2/new_dataframes.html) --> Como parte del feature engineering, se crean dataframes nuevos con información de los productos del sitio y de como se accede a este (marcas, sistemas operativos, etc).\n",
    "\n",
    "3. [Feature Engineering](https://fdelmazo.github.io/7506-Datos/TP2/feature_engineering.html) --> Busqueda de atributos de los usuarios de los cuales se busca predecir la conversión.\n",
    "\n",
    "4. [Submission Framework](https://fdelmazo.github.io/7506-Datos/TP2/submission_framework.html) --> Pequeño framework para construir las postulaciones de labels. \n",
    "\n",
    "5. [Parameter Tuning](https://fdelmazo.github.io/7506-Datos/TP2/parameter_tuning.html) --> Busqueda de los mejores hiper-parametros para cada algoritmo de ML.\n",
    "\n",
    "6. [Feature Selection](https://fdelmazo.github.io/7506-Datos/TP2/feature_selection.html) --> Busqueda de la combinación de features más favorable.\n",
    "\n",
    "7. TP2 (este notebook)--> Teniendo todo en cuenta, usando los dataframes con todos los atributos buscados y encontrados, se definen y aplican los algoritmos de clasificación, se realizan los entrenamientos y posteriores predicciones de conversiones y finalmente se arman las postulaciones de labels."
   ]
  },
  {
   "cell_type": "code",
   "execution_count": 1,
   "metadata": {},
   "outputs": [],
   "source": [
    "# Set-up inicial, se deja comentado para evitar instalarle módulos al usuario\n",
    "## Primero, descargar los datasets de no tenerlos\n",
    "\n",
    "# Antes de comenzar, setear las credenciales (usuario y token)\n",
    "\n",
    "# 1. Visitar: https://www.kaggle.com/datatouille2018/account (con la cuenta que sea)\n",
    "# 2. Tocar en Create New API Token\n",
    "# 3. Guardar el archivo descargado en ~/.kaggle/kaggle.json\n",
    "\n",
    "#!pip install kaggle # https://github.com/Kaggle/kaggle-api\n",
    "# !kaggle competitions download -c trocafone -p data\n",
    "# !unzip -q data/events_up_to_01062018.csv.zip -d data\n",
    "# !rm data/events_up_to_01062018.csv.zip\n",
    "# !ls data/\n",
    "\n",
    "## Luego, descargar los módulos a utilizar a lo largo de todo el trabajo\n",
    "\n",
    "#!pip install nbimporter\n",
    "#!conda install -y -c conda-forge xgboost \n",
    "#!conda install -y -c conda-forge lightgbm \n",
    "#!conda install -y -c conda-forge catboost"
   ]
  },
  {
   "cell_type": "code",
   "execution_count": 2,
   "metadata": {},
   "outputs": [
    {
     "name": "stdout",
     "output_type": "stream",
     "text": [
      "Importing Jupyter notebook from parameter_tuning.ipynb\n",
      "Importing Jupyter notebook from submission_framework.ipynb\n",
      "Importing Jupyter notebook from feature_selection.ipynb\n"
     ]
    }
   ],
   "source": [
    "import nbimporter # pip install nbimporter\n",
    "import pandas as pd\n",
    "import numpy as np\n",
    "import calendar\n",
    "import requests\n",
    "from bs4 import BeautifulSoup\n",
    "from time import sleep\n",
    "from parameter_tuning import get_hiper_params\n",
    "from feature_selection import get_feature_selection\n",
    "import submission_framework as SF\n",
    "\n",
    "seed = 42\n",
    "hiper_params = get_hiper_params()\n",
    "feature_selection = get_feature_selection()"
   ]
  },
  {
   "cell_type": "code",
   "execution_count": 3,
   "metadata": {},
   "outputs": [
    {
     "data": {
      "text/html": [
       "<div>\n",
       "<style scoped>\n",
       "    .dataframe tbody tr th:only-of-type {\n",
       "        vertical-align: middle;\n",
       "    }\n",
       "\n",
       "    .dataframe tbody tr th {\n",
       "        vertical-align: top;\n",
       "    }\n",
       "\n",
       "    .dataframe thead th {\n",
       "        text-align: right;\n",
       "    }\n",
       "</style>\n",
       "<table border=\"1\" class=\"dataframe\">\n",
       "  <thead>\n",
       "    <tr style=\"text-align: right;\">\n",
       "      <th></th>\n",
       "      <th>total_viewed_products</th>\n",
       "      <th>total_checkouts</th>\n",
       "      <th>total_conversions</th>\n",
       "      <th>total_events</th>\n",
       "      <th>total_sessions</th>\n",
       "      <th>total_session_checkouts</th>\n",
       "      <th>total_session_conversions</th>\n",
       "      <th>total_events_ad_session</th>\n",
       "      <th>total_ad_sessions</th>\n",
       "      <th>avg_events_per_session</th>\n",
       "      <th>...</th>\n",
       "      <th>dom_last_viewed_product</th>\n",
       "      <th>woy_last_viewed_product</th>\n",
       "      <th>last_conversion_sku</th>\n",
       "      <th>last_conversion_price</th>\n",
       "      <th>percentage_last_week_activity</th>\n",
       "      <th>percentage_last_month_activity</th>\n",
       "      <th>days_between_last_event_and_checkout</th>\n",
       "      <th>percentage_regular_celphones_activity</th>\n",
       "      <th>var_viewed</th>\n",
       "      <th>conversion_gt_media</th>\n",
       "    </tr>\n",
       "    <tr>\n",
       "      <th>person</th>\n",
       "      <th></th>\n",
       "      <th></th>\n",
       "      <th></th>\n",
       "      <th></th>\n",
       "      <th></th>\n",
       "      <th></th>\n",
       "      <th></th>\n",
       "      <th></th>\n",
       "      <th></th>\n",
       "      <th></th>\n",
       "      <th></th>\n",
       "      <th></th>\n",
       "      <th></th>\n",
       "      <th></th>\n",
       "      <th></th>\n",
       "      <th></th>\n",
       "      <th></th>\n",
       "      <th></th>\n",
       "      <th></th>\n",
       "      <th></th>\n",
       "      <th></th>\n",
       "    </tr>\n",
       "  </thead>\n",
       "  <tbody>\n",
       "    <tr>\n",
       "      <th>0008ed71</th>\n",
       "      <td>0</td>\n",
       "      <td>3</td>\n",
       "      <td>0</td>\n",
       "      <td>6</td>\n",
       "      <td>3</td>\n",
       "      <td>3</td>\n",
       "      <td>0</td>\n",
       "      <td>0</td>\n",
       "      <td>0</td>\n",
       "      <td>2</td>\n",
       "      <td>...</td>\n",
       "      <td>1</td>\n",
       "      <td>1</td>\n",
       "      <td>0</td>\n",
       "      <td>0</td>\n",
       "      <td>0</td>\n",
       "      <td>1</td>\n",
       "      <td>0</td>\n",
       "      <td>0</td>\n",
       "      <td>0</td>\n",
       "      <td>0</td>\n",
       "    </tr>\n",
       "    <tr>\n",
       "      <th>00091926</th>\n",
       "      <td>372</td>\n",
       "      <td>2</td>\n",
       "      <td>0</td>\n",
       "      <td>448</td>\n",
       "      <td>34</td>\n",
       "      <td>2</td>\n",
       "      <td>0</td>\n",
       "      <td>39</td>\n",
       "      <td>5</td>\n",
       "      <td>13</td>\n",
       "      <td>...</td>\n",
       "      <td>1</td>\n",
       "      <td>1</td>\n",
       "      <td>0</td>\n",
       "      <td>0</td>\n",
       "      <td>0</td>\n",
       "      <td>1</td>\n",
       "      <td>5</td>\n",
       "      <td>0</td>\n",
       "      <td>12</td>\n",
       "      <td>0</td>\n",
       "    </tr>\n",
       "    <tr>\n",
       "      <th>00091a7a</th>\n",
       "      <td>3</td>\n",
       "      <td>0</td>\n",
       "      <td>0</td>\n",
       "      <td>10</td>\n",
       "      <td>1</td>\n",
       "      <td>0</td>\n",
       "      <td>0</td>\n",
       "      <td>10</td>\n",
       "      <td>1</td>\n",
       "      <td>10</td>\n",
       "      <td>...</td>\n",
       "      <td>1</td>\n",
       "      <td>1</td>\n",
       "      <td>0</td>\n",
       "      <td>0</td>\n",
       "      <td>0</td>\n",
       "      <td>0</td>\n",
       "      <td>180</td>\n",
       "      <td>0</td>\n",
       "      <td>11</td>\n",
       "      <td>0</td>\n",
       "    </tr>\n",
       "    <tr>\n",
       "      <th>000ba417</th>\n",
       "      <td>153</td>\n",
       "      <td>6</td>\n",
       "      <td>1</td>\n",
       "      <td>206</td>\n",
       "      <td>5</td>\n",
       "      <td>4</td>\n",
       "      <td>1</td>\n",
       "      <td>0</td>\n",
       "      <td>0</td>\n",
       "      <td>41</td>\n",
       "      <td>...</td>\n",
       "      <td>1</td>\n",
       "      <td>1</td>\n",
       "      <td>7631</td>\n",
       "      <td>2469</td>\n",
       "      <td>0</td>\n",
       "      <td>1</td>\n",
       "      <td>0</td>\n",
       "      <td>0</td>\n",
       "      <td>12</td>\n",
       "      <td>1</td>\n",
       "    </tr>\n",
       "    <tr>\n",
       "      <th>000c79fe</th>\n",
       "      <td>3</td>\n",
       "      <td>1</td>\n",
       "      <td>0</td>\n",
       "      <td>17</td>\n",
       "      <td>1</td>\n",
       "      <td>1</td>\n",
       "      <td>0</td>\n",
       "      <td>0</td>\n",
       "      <td>0</td>\n",
       "      <td>17</td>\n",
       "      <td>...</td>\n",
       "      <td>1</td>\n",
       "      <td>1</td>\n",
       "      <td>0</td>\n",
       "      <td>0</td>\n",
       "      <td>1</td>\n",
       "      <td>1</td>\n",
       "      <td>0</td>\n",
       "      <td>1</td>\n",
       "      <td>0</td>\n",
       "      <td>0</td>\n",
       "    </tr>\n",
       "  </tbody>\n",
       "</table>\n",
       "<p>5 rows × 124 columns</p>\n",
       "</div>"
      ],
      "text/plain": [
       "          total_viewed_products  total_checkouts  total_conversions  \\\n",
       "person                                                                \n",
       "0008ed71                      0                3                  0   \n",
       "00091926                    372                2                  0   \n",
       "00091a7a                      3                0                  0   \n",
       "000ba417                    153                6                  1   \n",
       "000c79fe                      3                1                  0   \n",
       "\n",
       "          total_events  total_sessions  total_session_checkouts  \\\n",
       "person                                                            \n",
       "0008ed71             6               3                        3   \n",
       "00091926           448              34                        2   \n",
       "00091a7a            10               1                        0   \n",
       "000ba417           206               5                        4   \n",
       "000c79fe            17               1                        1   \n",
       "\n",
       "          total_session_conversions  total_events_ad_session  \\\n",
       "person                                                         \n",
       "0008ed71                          0                        0   \n",
       "00091926                          0                       39   \n",
       "00091a7a                          0                       10   \n",
       "000ba417                          1                        0   \n",
       "000c79fe                          0                        0   \n",
       "\n",
       "          total_ad_sessions  avg_events_per_session         ...           \\\n",
       "person                                                      ...            \n",
       "0008ed71                  0                       2         ...            \n",
       "00091926                  5                      13         ...            \n",
       "00091a7a                  1                      10         ...            \n",
       "000ba417                  0                      41         ...            \n",
       "000c79fe                  0                      17         ...            \n",
       "\n",
       "          dom_last_viewed_product  woy_last_viewed_product  \\\n",
       "person                                                       \n",
       "0008ed71                        1                        1   \n",
       "00091926                        1                        1   \n",
       "00091a7a                        1                        1   \n",
       "000ba417                        1                        1   \n",
       "000c79fe                        1                        1   \n",
       "\n",
       "          last_conversion_sku  last_conversion_price  \\\n",
       "person                                                 \n",
       "0008ed71                    0                      0   \n",
       "00091926                    0                      0   \n",
       "00091a7a                    0                      0   \n",
       "000ba417                 7631                   2469   \n",
       "000c79fe                    0                      0   \n",
       "\n",
       "          percentage_last_week_activity  percentage_last_month_activity  \\\n",
       "person                                                                    \n",
       "0008ed71                              0                               1   \n",
       "00091926                              0                               1   \n",
       "00091a7a                              0                               0   \n",
       "000ba417                              0                               1   \n",
       "000c79fe                              1                               1   \n",
       "\n",
       "          days_between_last_event_and_checkout  \\\n",
       "person                                           \n",
       "0008ed71                                     0   \n",
       "00091926                                     5   \n",
       "00091a7a                                   180   \n",
       "000ba417                                     0   \n",
       "000c79fe                                     0   \n",
       "\n",
       "          percentage_regular_celphones_activity  var_viewed  \\\n",
       "person                                                        \n",
       "0008ed71                                      0           0   \n",
       "00091926                                      0          12   \n",
       "00091a7a                                      0          11   \n",
       "000ba417                                      0          12   \n",
       "000c79fe                                      1           0   \n",
       "\n",
       "          conversion_gt_media  \n",
       "person                         \n",
       "0008ed71                    0  \n",
       "00091926                    0  \n",
       "00091a7a                    0  \n",
       "000ba417                    1  \n",
       "000c79fe                    0  \n",
       "\n",
       "[5 rows x 124 columns]"
      ]
     },
     "metadata": {},
     "output_type": "display_data"
    },
    {
     "data": {
      "text/html": [
       "<div>\n",
       "<style scoped>\n",
       "    .dataframe tbody tr th:only-of-type {\n",
       "        vertical-align: middle;\n",
       "    }\n",
       "\n",
       "    .dataframe tbody tr th {\n",
       "        vertical-align: top;\n",
       "    }\n",
       "\n",
       "    .dataframe thead th {\n",
       "        text-align: right;\n",
       "    }\n",
       "</style>\n",
       "<table border=\"1\" class=\"dataframe\">\n",
       "  <thead>\n",
       "    <tr style=\"text-align: right;\">\n",
       "      <th></th>\n",
       "      <th>label</th>\n",
       "    </tr>\n",
       "    <tr>\n",
       "      <th>person</th>\n",
       "      <th></th>\n",
       "    </tr>\n",
       "  </thead>\n",
       "  <tbody>\n",
       "    <tr>\n",
       "      <th>0008ed71</th>\n",
       "      <td>0</td>\n",
       "    </tr>\n",
       "    <tr>\n",
       "      <th>000c79fe</th>\n",
       "      <td>0</td>\n",
       "    </tr>\n",
       "    <tr>\n",
       "      <th>001802e4</th>\n",
       "      <td>0</td>\n",
       "    </tr>\n",
       "    <tr>\n",
       "      <th>0019e639</th>\n",
       "      <td>0</td>\n",
       "    </tr>\n",
       "    <tr>\n",
       "      <th>001b0bf9</th>\n",
       "      <td>0</td>\n",
       "    </tr>\n",
       "  </tbody>\n",
       "</table>\n",
       "</div>"
      ],
      "text/plain": [
       "          label\n",
       "person         \n",
       "0008ed71      0\n",
       "000c79fe      0\n",
       "001802e4      0\n",
       "0019e639      0\n",
       "001b0bf9      0"
      ]
     },
     "metadata": {},
     "output_type": "display_data"
    }
   ],
   "source": [
    "df_users = pd.read_csv('data/user-features.csv',low_memory=False).set_index('person')\n",
    "df_y = pd.read_csv('data/labels_training_set.csv').groupby('person').sum()\n",
    "\n",
    "display(df_users.head(), df_y.head())"
   ]
  },
  {
   "cell_type": "markdown",
   "metadata": {},
   "source": [
    "## Algoritmos de Machine Learning"
   ]
  },
  {
   "cell_type": "code",
   "execution_count": 4,
   "metadata": {},
   "outputs": [],
   "source": [
    "posibilidades_algoritmos = []"
   ]
  },
  {
   "cell_type": "markdown",
   "metadata": {},
   "source": [
    "---\n",
    "\n",
    "### Decision Tree\n"
   ]
  },
  {
   "cell_type": "code",
   "execution_count": 5,
   "metadata": {},
   "outputs": [
    {
     "name": "stdout",
     "output_type": "stream",
     "text": [
      "Model: decision_tree - AUC: 0.7442 - AUCPR:0.1345 - Accuracy: 0.9496 \n"
     ]
    }
   ],
   "source": [
    "from sklearn.tree import DecisionTreeClassifier, export_graphviz\n",
    "\n",
    "model_name = 'decision_tree'\n",
    "params = hiper_params[model_name]\n",
    "model = DecisionTreeClassifier(**params,random_state=seed)\n",
    "model_with_name = (model_name,model)\n",
    "\n",
    "SF.full_framework_wrapper(df_users,df_y,model_with_name)\n",
    "\n",
    "posibilidades_algoritmos.append(model_with_name)"
   ]
  },
  {
   "cell_type": "markdown",
   "metadata": {},
   "source": [
    "---\n",
    "\n",
    "### Random Forest"
   ]
  },
  {
   "cell_type": "code",
   "execution_count": 6,
   "metadata": {},
   "outputs": [
    {
     "name": "stdout",
     "output_type": "stream",
     "text": [
      "Model: random_forest - AUC: 0.7755 - AUCPR:0.1541 - Accuracy: 0.9496 \n"
     ]
    }
   ],
   "source": [
    "from sklearn.ensemble import RandomForestClassifier\n",
    "\n",
    "model_name = 'random_forest'\n",
    "params = hiper_params[model_name]\n",
    "model = RandomForestClassifier(**params,random_state=seed)\n",
    "model_with_name = (model_name,model)\n",
    "\n",
    "SF.full_framework_wrapper(df_users,df_y,model_with_name)\n",
    "\n",
    "posibilidades_algoritmos.append(model_with_name)"
   ]
  },
  {
   "cell_type": "markdown",
   "metadata": {},
   "source": [
    "---\n",
    "\n",
    "### XGBoost\n"
   ]
  },
  {
   "cell_type": "code",
   "execution_count": 7,
   "metadata": {},
   "outputs": [
    {
     "name": "stdout",
     "output_type": "stream",
     "text": [
      "Model: xgboost - AUC: 0.8556 - AUCPR:0.2193 - Accuracy: 0.9496 \n"
     ]
    }
   ],
   "source": [
    "import xgboost as xgb #conda install -c conda-forge xgboost \n",
    "\n",
    "model_name = 'xgboost'\n",
    "params = hiper_params[model_name]\n",
    "model = xgb.XGBClassifier(**params,random_state=seed)\n",
    "model_with_name = (model_name,model)\n",
    "\n",
    "SF.full_framework_wrapper(df_users,df_y,model_with_name)\n",
    "\n",
    "posibilidades_algoritmos.append(model_with_name)"
   ]
  },
  {
   "cell_type": "markdown",
   "metadata": {},
   "source": [
    "---\n",
    "\n",
    "### KNN"
   ]
  },
  {
   "cell_type": "code",
   "execution_count": 8,
   "metadata": {},
   "outputs": [
    {
     "name": "stdout",
     "output_type": "stream",
     "text": [
      "Model: KNN21 - AUC: 0.7792 - AUCPR:0.1612 - Accuracy: 0.9497 \n"
     ]
    }
   ],
   "source": [
    "from sklearn.neighbors import KNeighborsClassifier\n",
    "\n",
    "model_name = 'knn'\n",
    "params = hiper_params[model_name]\n",
    "K = params['n_neighbors']\n",
    "model_name = f'KNN{K}'\n",
    "\n",
    "model = KNeighborsClassifier(**params)\n",
    "model_with_name = (model_name,model)\n",
    "\n",
    "SF.full_framework_wrapper(df_users,df_y,model_with_name)\n",
    "\n",
    "posibilidades_algoritmos.append(model_with_name)"
   ]
  },
  {
   "cell_type": "markdown",
   "metadata": {},
   "source": [
    "---\n",
    "\n",
    "### Naive-Bayes"
   ]
  },
  {
   "cell_type": "code",
   "execution_count": 9,
   "metadata": {},
   "outputs": [
    {
     "name": "stdout",
     "output_type": "stream",
     "text": [
      "Model: naive_bayes - AUC: 0.7809 - AUCPR:0.1534 - Accuracy: 0.9274 \n"
     ]
    }
   ],
   "source": [
    "from sklearn.naive_bayes import GaussianNB\n",
    "\n",
    "model_name = 'naive_bayes'\n",
    "params = hiper_params[model_name]\n",
    "model = GaussianNB(**params)\n",
    "model_with_name = (model_name,model)\n",
    "\n",
    "SF.full_framework_wrapper(df_users,df_y,model_with_name)\n",
    "\n",
    "posibilidades_algoritmos.append(model_with_name)"
   ]
  },
  {
   "cell_type": "markdown",
   "metadata": {},
   "source": [
    "---\n",
    "\n",
    "### LightGBM"
   ]
  },
  {
   "cell_type": "code",
   "execution_count": 10,
   "metadata": {},
   "outputs": [
    {
     "name": "stdout",
     "output_type": "stream",
     "text": [
      "Model: lightgbm - AUC: 0.8644 - AUCPR:0.2216 - Accuracy: 0.9491 \n"
     ]
    }
   ],
   "source": [
    "import lightgbm as lgb  #conda install -c conda-forge lightgbm \n",
    "\n",
    "model_name = 'lightgbm'\n",
    "params = hiper_params[model_name]\n",
    "model = lgb.LGBMClassifier(**params)\n",
    "model_with_name = (model_name,model)\n",
    "\n",
    "SF.full_framework_wrapper(df_users,df_y,model_with_name)\n",
    "\n",
    "posibilidades_algoritmos.append(model_with_name)"
   ]
  },
  {
   "cell_type": "markdown",
   "metadata": {},
   "source": [
    "---\n",
    "\n",
    "### Neural Network"
   ]
  },
  {
   "cell_type": "code",
   "execution_count": 11,
   "metadata": {},
   "outputs": [
    {
     "name": "stdout",
     "output_type": "stream",
     "text": [
      "Model: neuralnetwork - AUC: 0.5000 - AUCPR:0.0504 - Accuracy: 0.9496 \n"
     ]
    }
   ],
   "source": [
    "from sklearn.neural_network import MLPClassifier\n",
    "\n",
    "model_name = 'neuralnetwork'\n",
    "params = {'activation':'relu', 'alpha':1e-05, 'beta_1':0.9, \n",
    "          'beta_2':0.999, 'early_stopping':False, 'epsilon':1e-08, \n",
    "          'hidden_layer_sizes':(4, 7), 'learning_rate':'constant', \n",
    "          'learning_rate_init':0.001, 'max_iter':200, 'momentum':0.9, \n",
    "          'nesterovs_momentum':True, 'power_t':0.5, 'random_state':seed, \n",
    "          'shuffle':True, 'solver':'adam', 'tol':0.0001, 'validation_fraction':0.1, 'verbose':False, \n",
    "          'warm_start':False}\n",
    "\n",
    "model = MLPClassifier(**params)\n",
    "model_with_name = (model_name,model)\n",
    "\n",
    "SF.full_framework_wrapper(df_users,df_y,model_with_name)\n",
    "posibilidades_algoritmos.append(model_with_name)"
   ]
  },
  {
   "cell_type": "markdown",
   "metadata": {},
   "source": [
    "---\n",
    "\n",
    "### Catboost"
   ]
  },
  {
   "cell_type": "code",
   "execution_count": 12,
   "metadata": {
    "scrolled": false
   },
   "outputs": [
    {
     "name": "stdout",
     "output_type": "stream",
     "text": [
      "Model: catboost - AUC: 0.8362 - AUCPR:0.2023 - Accuracy: 0.9496 \n"
     ]
    }
   ],
   "source": [
    "import catboost as cb #conda install -c conda-forge catboost\n",
    "\n",
    "model_name = 'catboost'\n",
    "params = hiper_params[model_name]\n",
    "\n",
    "model = cb.CatBoostClassifier(**params,verbose=False)\n",
    "model_with_name = (model_name,model)\n",
    "\n",
    "SF.full_framework_wrapper(df_users,df_y,model_with_name)\n",
    "posibilidades_algoritmos.append(model_with_name)"
   ]
  },
  {
   "cell_type": "markdown",
   "metadata": {},
   "source": [
    "---\n",
    "\n",
    "### Gradient Boosting"
   ]
  },
  {
   "cell_type": "code",
   "execution_count": 13,
   "metadata": {
    "scrolled": false
   },
   "outputs": [
    {
     "name": "stdout",
     "output_type": "stream",
     "text": [
      "Model: gradient_boosting - AUC: 0.5000 - AUCPR:0.0504 - Accuracy: 0.9496 \n"
     ]
    }
   ],
   "source": [
    "from sklearn.ensemble import GradientBoostingClassifier as GBC  \n",
    "\n",
    "model_name = 'gradient_boosting'\n",
    "params = hiper_params[model_name]\n",
    "\n",
    "model = GBC(**params)\n",
    "model_with_name = (model_name,model)\n",
    "\n",
    "SF.full_framework_wrapper(df_users,df_y,model_with_name)\n",
    "posibilidades_algoritmos.append(model_with_name)"
   ]
  },
  {
   "cell_type": "markdown",
   "metadata": {},
   "source": [
    "---\n",
    "\n",
    "## Encontrando el mejor submit\n",
    "\n",
    "Corremos todos los algoritmos definidos sobre esas combinaciones, incluso ensamblados, en busqueda de su mejor combinación de hiper-parametros.\n",
    "\n",
    "Finalmente, se corren todos los algoritmos en su mejor combinación contra todos los set de features definidos, en busqueda de la mejor fusión universal."
   ]
  },
  {
   "cell_type": "code",
   "execution_count": 14,
   "metadata": {},
   "outputs": [],
   "source": [
    "columnas_a_mano = ['total_checkouts_month_5',\n",
    "                    'timestamp_last_checkout',\n",
    "                    'timestamp_last_event',\n",
    "                    'has_checkout_month_5',\n",
    "                    'total_checkouts',\n",
    "                    'days_to_last_event',\n",
    "                    'total_checkouts_last_week',\n",
    "                    'total_checkouts_months_1_to_4',\n",
    "                    'total_conversions',\n",
    "                    'total_session_conversions',\n",
    "                    'total_events',\n",
    "                    'total_sessions',\n",
    "                    'avg_events_per_session',\n",
    "                    'total_session_checkouts',\n",
    "                    'has_checkout'\n",
    "                    ]\n",
    "\n",
    "columnas_a_mano_2 = ['dow_last_conversion', \n",
    "                     'has_conversion_last_week', 'total_conversions_month_4', \n",
    "                     'total_session_checkouts', 'doy_last_conversion', 'timestamp_last_event', \n",
    "                     'dow_last_checkout', 'total_checkouts', 'has_checkout', 'doy_last_checkout', \n",
    "                     'has_checkout_month_1', 'timestamp_last_checkout', 'total_sessions', \n",
    "                     'woy_last_event', 'has_checkout_month_5', 'avg_events_per_session']"
   ]
  },
  {
   "cell_type": "code",
   "execution_count": 15,
   "metadata": {},
   "outputs": [],
   "source": [
    "posibilidades_features = {\n",
    "    'Full Dataframe':None,\n",
    "    'Best Cumulative Importance':feature_selection['best_features_progresivo'],\n",
    "    'Best Forward Selection':feature_selection['best_features_forward'],\n",
    "    'Best Backward Elimination':feature_selection['best_features_backward'],\n",
    "    'Leap Cumulative Importance':feature_selection['features_con_saltos_progresivo'],\n",
    "    'Leap Forward Selection':feature_selection['features_con_saltos_forward'],\n",
    "    'Selección a Mano': columnas_a_mano,\n",
    "    'Selección a Mano 2': columnas_a_mano_2\n",
    "}"
   ]
  },
  {
   "cell_type": "code",
   "execution_count": 16,
   "metadata": {},
   "outputs": [],
   "source": [
    "from itertools import combinations\n",
    "                             \n",
    "def ensamblar_algoritmos(n):\n",
    "    result = list(combinations(posibilidades_algoritmos, n))\n",
    "    result_names = [f'{x[0][0]}+{x[1][0]}' for x in result]\n",
    "    return list(zip(result_names,result))"
   ]
  },
  {
   "cell_type": "code",
   "execution_count": 17,
   "metadata": {},
   "outputs": [],
   "source": [
    "posibilidades_algoritmos_y_ensambles = posibilidades_algoritmos + ensamblar_algoritmos(2)"
   ]
  },
  {
   "cell_type": "code",
   "execution_count": 18,
   "metadata": {},
   "outputs": [],
   "source": [
    "resultados = [\n",
    "    # (auc, forma, (nombre, algoritmo) features)\n",
    "]"
   ]
  },
  {
   "cell_type": "code",
   "execution_count": null,
   "metadata": {},
   "outputs": [
    {
     "name": "stdout",
     "output_type": "stream",
     "text": [
      "Full Dataframe:\n",
      "\t * Model: decision_tree - AUC: 0.7442 - AUCPR:0.1345 - Accuracy: 0.9496 \n",
      "\t * Model: random_forest - AUC: 0.7755 - AUCPR:0.1541 - Accuracy: 0.9496 \n",
      "\t * Model: xgboost - AUC: 0.8556 - AUCPR:0.2193 - Accuracy: 0.9496 \n",
      "\t * Model: KNN21 - AUC: 0.7792 - AUCPR:0.1612 - Accuracy: 0.9497 \n",
      "\t * Model: naive_bayes - AUC: 0.7809 - AUCPR:0.1534 - Accuracy: 0.9274 \n",
      "\t * Model: lightgbm - AUC: 0.8644 - AUCPR:0.2216 - Accuracy: 0.9491 \n",
      "\t * Model: neuralnetwork - AUC: 0.5000 - AUCPR:0.0504 - Accuracy: 0.9496 \n",
      "\t * Model: catboost - AUC: 0.8362 - AUCPR:0.2023 - Accuracy: 0.9496 \n",
      "\t * Model: gradient_boosting - AUC: 0.5000 - AUCPR:0.0504 - Accuracy: 0.9496 \n",
      "\t * Model: decision_tree+random_forest - AUC: 0.8169 - Accuracy: 0.9496\n",
      "\t * Model: decision_tree+xgboost - AUC: 0.8792 - Accuracy: 0.9496\n",
      "\t * Model: decision_tree+KNN21 - AUC: 0.8437 - Accuracy: 0.9496\n",
      "\t * Model: decision_tree+naive_bayes - AUC: 0.8228 - Accuracy: 0.9368\n",
      "\t * Model: decision_tree+lightgbm - AUC: 0.8897 - Accuracy: 0.9496\n",
      "\t * Model: decision_tree+neuralnetwork - AUC: 0.8047 - Accuracy: 0.9496\n",
      "\t * Model: decision_tree+catboost - AUC: 0.8554 - Accuracy: 0.9496\n",
      "\t * Model: decision_tree+gradient_boosting - AUC: 0.8047 - Accuracy: 0.9496\n",
      "\t * "
     ]
    }
   ],
   "source": [
    "for forma, features in posibilidades_features.items():\n",
    "    print(f'{forma}:')\n",
    "    for nombre,algoritmo in posibilidades_algoritmos_y_ensambles:\n",
    "        print('\\t * ',end='')\n",
    "        model_with_name = (f'{nombre}',algoritmo)\n",
    "        model, auc = SF.full_framework_wrapper(df_users, df_y, model_with_name, columns=features)\n",
    "        resultados.append((auc, forma, (nombre, algoritmo), features))"
   ]
  },
  {
   "cell_type": "code",
   "execution_count": null,
   "metadata": {},
   "outputs": [],
   "source": [
    "resultados.sort(reverse=True)\n",
    "display([(x[0],x[1],x[2][0]) for x in resultados])"
   ]
  },
  {
   "cell_type": "code",
   "execution_count": null,
   "metadata": {},
   "outputs": [],
   "source": [
    "max_auc, campeon_forma, (campeon_nombre, campeon_algoritmo), campeon_features = resultados[0]\n",
    "display(f\"Mejor Apuesta: {campeon_nombre} ({max_auc:.4f} AUC) - Features: {campeon_forma}\")\n",
    "display(f\"Features: {campeon_features}\")"
   ]
  },
  {
   "cell_type": "markdown",
   "metadata": {},
   "source": [
    "## Corrida Final\n",
    "\n",
    "Se corre entrenando con X (y no X_train) el submit final."
   ]
  },
  {
   "cell_type": "code",
   "execution_count": null,
   "metadata": {},
   "outputs": [],
   "source": [
    "n_ensamble = 300\n",
    "\n",
    "campeon_model, campeon_auc, csv_name, campeon_message = SF.full_framework_wrapper(df_users, \n",
    "                                                                                    df_y, \n",
    "                                                                                    (campeon_nombre,campeon_algoritmo),\n",
    "                                                                                    columns=campeon_features,\n",
    "                                                                                    n_ensamble=n_ensamble,\n",
    "                                                                                    submit=True,\n",
    "                                                                                    verbosity=1,\n",
    "                                                                                    all_in=True)   "
   ]
  },
  {
   "cell_type": "code",
   "execution_count": null,
   "metadata": {},
   "outputs": [],
   "source": [
    "## Descomentar y submitear!\n",
    "## Ojo, solo correr una vez!!!\n",
    "\n",
    "#!kaggle competitions submit -f {csv_name} -m \"{campeon_message}\" trocafone"
   ]
  },
  {
   "cell_type": "code",
   "execution_count": null,
   "metadata": {},
   "outputs": [],
   "source": [
    "# # Quemar 10 submits de punta a punta\n",
    "\n",
    "# n_ensamble = 300\n",
    "\n",
    "# for resultado in resultados[:10]:\n",
    "#     max_auc, campeon_forma, (campeon_nombre, campeon_algoritmo), campeon_features = resultado\n",
    "#     campeon_model, campeon_auc, csv_name, campeon_message = SF.full_framework_wrapper(df_users, \n",
    "#                                                                                     df_y, \n",
    "#                                                                                     (campeon_nombre,campeon_algoritmo),\n",
    "#                                                                                     columns=campeon_features,\n",
    "#                                                                                     n_ensamble=n_ensamble,\n",
    "#                                                                                     submit=True,\n",
    "#                                                                                     verbosity=1,\n",
    "#                                                                                     all_in=True)   \n",
    "#     !kaggle competitions submit -f {csv_name} -m \"{campeon_message}\" trocafone\n",
    "#     sleep(10)"
   ]
  },
  {
   "cell_type": "code",
   "execution_count": null,
   "metadata": {},
   "outputs": [],
   "source": [
    "!kaggle competitions leaderboard -d trocafone\n",
    "!unzip -o trocafone.zip\n",
    "\n",
    "print(\"Last Best Score... \")\n",
    "sleep(15) # Le damos 15 segundos a kaggle para evaluar el submit\n",
    "!cat trocafone-publicleaderboard.csv | grep Datatouille | tail -n 1 | awk '{split($0,a,\",\"); print a[3],a[4]}'\n",
    "\n",
    "!rm trocafone.zip\n",
    "!rm trocafone-publicleaderboard.csv"
   ]
  },
  {
   "cell_type": "markdown",
   "metadata": {},
   "source": [
    "https://www.kaggle.com/c/trocafone/submissions?sortBy=date\n",
    "\n",
    "https://www.kaggle.com/c/trocafone/leaderboard"
   ]
  }
 ],
 "metadata": {
  "kernelspec": {
   "display_name": "Python 3",
   "language": "python",
   "name": "python3"
  },
  "language_info": {
   "codemirror_mode": {
    "name": "ipython",
    "version": 3
   },
   "file_extension": ".py",
   "mimetype": "text/x-python",
   "name": "python",
   "nbconvert_exporter": "python",
   "pygments_lexer": "ipython3",
   "version": "3.6.6"
  },
  "toc": {
   "base_numbering": 1,
   "nav_menu": {},
   "number_sections": false,
   "sideBar": true,
   "skip_h1_title": true,
   "title_cell": "Índice",
   "title_sidebar": "Contenido",
   "toc_cell": false,
   "toc_position": {
    "height": "calc(100% - 180px)",
    "left": "10px",
    "top": "150px",
    "width": "204.867px"
   },
   "toc_section_display": true,
   "toc_window_display": false
  }
 },
 "nbformat": 4,
 "nbformat_minor": 2
}
