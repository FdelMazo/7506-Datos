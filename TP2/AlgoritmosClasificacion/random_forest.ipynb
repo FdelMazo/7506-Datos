{
 "cells": [
  {
   "cell_type": "code",
   "execution_count": null,
   "metadata": {},
   "outputs": [],
   "source": [
    "# Framework para entrenar\n",
    "\n",
    "# SÓLO CAMBIAR ESTOS PARÁMETROS\n",
    "cols1 = ['total_checkouts_month_5', 'total_conversions_month_5', 'total_conversions', 'total_conversions_month_1_4', 'has_conversion_month_1_4']\n",
    "cols2 = ['total_checkouts_last_week', 'total_conversions_month_5', 'total_conversions', 'total_conversions_month_1_4', 'has_conversion_month_1_4']\n",
    "cols3 = ['total_checkouts_last_week', 'total_checkouts', 'total_conversions_month_5', 'amount_of_months_that_has_bought']\n",
    "fr_df, fr_df_y = udf, df_y\n",
    "\n",
    "# De acá no tienen que tocar nada\n",
    "X, y = fr1_extract_X_y(fr_df, fr_df_y)\n",
    "X_train, X_test, y_train, y_test = fr2_train_test_split(X, y, seed, 0.34)\n",
    "fr_model = fr3_random_forest(X_train, X_test, y_train, seed)\n",
    "fr4_accuracy_score(X_test, y_test, fr_model, 'RandomForestClassifier')"
   ]
  },
  {
   "cell_type": "code",
   "execution_count": null,
   "metadata": {},
   "outputs": [],
   "source": [
    "# Framework para predecir, luego se submitea el archivo generado\n",
    "\n",
    "# SÓLO CAMBIAR ESTOS PARÁMETROS\n",
    "\n",
    "# De acá no tienen que tocar nada\n",
    "X_to_predict, predictions = fr5_extract_X_to_predict(fr_df, fr_df_y, fr_model)\n",
    "fr6_print_information(fr_df, predictions, fr_model)\n",
    "fr7_to_csv(X_to_predict, predictions, 'submission-random-forest-1.csv')"
   ]
  }
 ],
 "metadata": {
  "kernelspec": {
   "display_name": "Python 3",
   "language": "python",
   "name": "python3"
  },
  "language_info": {
   "codemirror_mode": {
    "name": "ipython",
    "version": 3
   },
   "file_extension": ".py",
   "mimetype": "text/x-python",
   "name": "python",
   "nbconvert_exporter": "python",
   "pygments_lexer": "ipython3",
   "version": "3.6.3"
  },
  "toc": {
   "base_numbering": 1,
   "nav_menu": {},
   "number_sections": false,
   "sideBar": true,
   "skip_h1_title": false,
   "title_cell": "Table of Contents",
   "title_sidebar": "Contents",
   "toc_cell": false,
   "toc_position": {},
   "toc_section_display": true,
   "toc_window_display": false
  }
 },
 "nbformat": 4,
 "nbformat_minor": 2
}
