{
 "cells": [
  {
   "cell_type": "markdown",
   "metadata": {},
   "source": [
    "# [75.06 / 95.58] Organización de Datos <br> Trabajo Práctico 2: Machine Learning\n",
    "# Feature Selection\n",
    "\n",
    "**Grupo 30: Datatouille**\n",
    "\n",
    "**http://fdelmazo.github.io/7506-Datos/**"
   ]
  },
  {
   "cell_type": "markdown",
   "metadata": {},
   "source": [
    "Fuentes:\n",
    "\n",
    "* http://people.stat.sfu.ca/~lockhart/richard/350/08_2/lectures/VariableSelection/web.pdf"
   ]
  },
  {
   "cell_type": "code",
   "execution_count": null,
   "metadata": {},
   "outputs": [],
   "source": [
    "def get_feature_selection():\n",
    "    # Se esconde en un def para poder importarlo\n",
    "\n",
    "    return {\n",
    "\n",
    "        'best_features_progresivo': [],\n",
    "        \n",
    "        'best_features_forward': [],\n",
    "  \n",
    "        'best_features_backward' : [],\n",
    "        \n",
    "        'best_features_stepwise' : [] \n",
    "\n",
    "}"
   ]
  },
  {
   "cell_type": "code",
   "execution_count": null,
   "metadata": {},
   "outputs": [],
   "source": [
    "import nbimporter # pip install nbimporter\n",
    "import pandas as pd\n",
    "from parameter_tuning import get_hiper_params\n",
    "import submission_framework as SF\n",
    "\n",
    "df_users = pd.read_csv('data/user-features.csv',low_memory=False).set_index('person')\n",
    "df_y = pd.read_csv('data/labels_training_set.csv').groupby('person').sum()\n",
    "\n",
    "seed=42\n",
    "hiper_params = get_hiper_params()\n",
    "\n",
    "df_users.head()"
   ]
  },
  {
   "cell_type": "markdown",
   "metadata": {},
   "source": [
    "---\n",
    "---\n",
    "---\n"
   ]
  },
  {
   "cell_type": "markdown",
   "metadata": {},
   "source": [
    "Usando Random Forest, el algoritmo más estable de los definidos (XGBoost es poco estable) encontramos que combinación de features es la mas favorable (con la métrica Area Under Curve)."
   ]
  },
  {
   "cell_type": "code",
   "execution_count": null,
   "metadata": {},
   "outputs": [],
   "source": [
    "from sklearn.ensemble import RandomForestClassifier\n",
    "\n",
    "model_name = 'random_forest'\n",
    "params = hiper_params[model_name]\n",
    "model = RandomForestClassifier(**params,random_state=seed)\n",
    "random_forest = (model_name,model)\n",
    "\n",
    "SF.full_framework_wrapper(df_users,df_y,random_forest)"
   ]
  },
  {
   "cell_type": "code",
   "execution_count": null,
   "metadata": {},
   "outputs": [],
   "source": [
    "full_features = df_users.columns.tolist()\n",
    "cantidad_features = len(full_features)\n",
    "\n",
    "tried = {}"
   ]
  },
  {
   "cell_type": "markdown",
   "metadata": {},
   "source": [
    "## Cumulative Importance\n",
    "\n",
    "Se parte de una lista de todos los features ordeandos segun importancia, y se genera una lista de listas acumulativa de esto. Es decir de `[a,b,c]` se pasa a `[ [a], [a,b], [a,b,c] ]`\n",
    "\n",
    "Esto se hace porque se esta buscando el 'codo': Los features que hacen que incremente el AUC."
   ]
  },
  {
   "cell_type": "code",
   "execution_count": null,
   "metadata": {
    "keep_output": true
   },
   "outputs": [],
   "source": [
    "feature_importances = SF.get_feature_importances(df_users,df_y,random_forest)\n",
    "features_ordenados = feature_importances.index.tolist()\n",
    "lista_progresiva_de_cols = [features_ordenados[:i] for i in range(1,len(features_ordenados))]\n",
    "\n",
    "model, max_auc = SF.full_framework_wrapper(df_users,df_y,random_forest)\n",
    "best_features_progresivo = features_ordenados\n",
    "features_con_saltos_progresivo = []\n",
    "\n",
    "for i, cols in enumerate(lista_progresiva_de_cols):\n",
    "    print(f'\\n\\nIteración {i+1} de {len(lista_progresiva_de_cols)}\\n\\n')\n",
    "    if tuple(cols) not in tried:\n",
    "        model, auc = SF.full_framework_wrapper(df_users,df_y,random_forest,columns=cols,verbosity=1)\n",
    "        tried[tuple(cols)] = auc\n",
    "    else:\n",
    "        auc = tried[tuple(cols)]\n",
    "    if auc > max_auc + 0.0001:\n",
    "        max_auc = auc\n",
    "        best_features_progresivo = cols\n",
    "        features_con_saltos_progresivo.append(cols[-1])"
   ]
  },
  {
   "cell_type": "code",
   "execution_count": null,
   "metadata": {},
   "outputs": [],
   "source": [
    "best_features_progresivo"
   ]
  },
  {
   "cell_type": "markdown",
   "metadata": {},
   "source": [
    "##  Forward Selection\n",
    "\n",
    "Se parte de una lista vacía y se van agregando todos los features uno por uno."
   ]
  },
  {
   "cell_type": "code",
   "execution_count": null,
   "metadata": {
    "keep_output": true
   },
   "outputs": [],
   "source": [
    "def step_forward(features_usadas, features_sin_usar):\n",
    "    if not features_sin_usar: \n",
    "        return SF.full_framework_wrapper(df_users,df_y,random_forest,columns=features_usadas,verbosity=1)[1], None\n",
    "    max_auc = 0\n",
    "    features_a_usar = None\n",
    "    la_posta = None\n",
    "    for f in features_sin_usar:\n",
    "        features_a_probar = features_usadas + [f]\n",
    "        if tuple(features_a_probar) not in tried: \n",
    "            model, auc = SF.full_framework_wrapper(df_users,df_y,random_forest,columns=features_a_probar,verbosity=1)\n",
    "            tried[tuple(features_a_probar)] = auc\n",
    "        else: \n",
    "            auc = tried[tuple(features_a_probar)]\n",
    "        if auc > max_auc + 0.0001:\n",
    "            la_posta = f\n",
    "            max_auc = auc\n",
    "            \n",
    "    return max_auc, la_posta"
   ]
  },
  {
   "cell_type": "code",
   "execution_count": null,
   "metadata": {},
   "outputs": [],
   "source": [
    "best_features_forward = None\n",
    "max_auc = 0\n",
    "features_usadas = []\n",
    "features_sin_usar = full_features[:]\n",
    "\n",
    "for i in range(cantidad_features):\n",
    "    print(f'\\n\\nIteración {i+1} de {cantidad_features}')\n",
    "    print(f'Lo mejor al momento: {best_features_forward} (AUC: {max_auc:.4f}) \\n\\n')\n",
    "    auc, feature_a_agregar = step_forward(features_usadas, features_sin_usar)\n",
    "    features_usadas.append(feature_a_agregar)\n",
    "    features_sin_usar.remove(feature_a_agregar)\n",
    "    if auc > max_auc + 0.0001:\n",
    "        best_features_forward = features_usadas[:]\n",
    "        max_auc = auc   "
   ]
  },
  {
   "cell_type": "code",
   "execution_count": null,
   "metadata": {},
   "outputs": [],
   "source": [
    "best_features_forward"
   ]
  },
  {
   "cell_type": "markdown",
   "metadata": {},
   "source": [
    "##  Backward Elimination\n",
    "\n",
    "Se parte de una lista con todos los features y se van sacando uno por uno, en busqueda de cual hace que incremente un AUC una vez que se lo remueva."
   ]
  },
  {
   "cell_type": "code",
   "execution_count": null,
   "metadata": {
    "keep_output": true
   },
   "outputs": [],
   "source": [
    "def step_backward(features):\n",
    "    if len(features) == 1: \n",
    "        print('atroden')\n",
    "        return SF.full_framework_wrapper(df_users,df_y,random_forest,columns=features,verbosity=1)[1], None\n",
    "    max_auc = 0\n",
    "    features_a_usar = None\n",
    "    la_posta = None\n",
    "    for f in features:\n",
    "        features_a_probar = features[:]\n",
    "        features_a_probar.remove(f)\n",
    "        if tuple(features_a_probar) not in tried:\n",
    "            model, auc = SF.full_framework_wrapper(df_users,df_y,random_forest,columns=features_a_probar,verbosity=1)\n",
    "            tried[tuple(features_a_probar)] = auc\n",
    "        else:\n",
    "            auc = tried[tuple(features_a_probar)]\n",
    "        if auc > max_auc + 0.0001:\n",
    "            la_posta = f\n",
    "            max_auc = auc\n",
    "                \n",
    "    return max_auc, la_posta"
   ]
  },
  {
   "cell_type": "code",
   "execution_count": null,
   "metadata": {
    "keep_output": true
   },
   "outputs": [],
   "source": [
    "features = full_features[:]\n",
    "best_features_backward = features[:]\n",
    "max_auc = SF.full_framework_wrapper(df_users,df_y,random_forest,columns=best_features_backward)[1]\n",
    "\n",
    "for i in range(1,cantidad_features):\n",
    "    print(f'\\n\\nIteración {i} de {cantidad_features-1}')\n",
    "    print(f'Lo mejor al momento: {best_features_backward} (AUC: {max_auc:.4f}) \\n\\n')\n",
    "    auc, feature_a_borrar = step_backward(features)\n",
    "    features.remove(feature_a_borrar)\n",
    "    if auc > max_auc + 0.0001:\n",
    "        best_features_backward = features[:]\n",
    "        max_auc = auc"
   ]
  },
  {
   "cell_type": "code",
   "execution_count": null,
   "metadata": {},
   "outputs": [],
   "source": [
    "best_features_backward"
   ]
  },
  {
   "cell_type": "markdown",
   "metadata": {},
   "source": [
    "##  Stepwise Regression\n",
    "\n",
    "Combinación de Forward Selection y Backward Elimination"
   ]
  },
  {
   "cell_type": "code",
   "execution_count": null,
   "metadata": {
    "keep_output": true
   },
   "outputs": [],
   "source": [
    "best_features_stepwise = []\n",
    "max_auc = 0\n",
    "features_usadas = []\n",
    "features_sin_usar = full_features[:]\n",
    "\n",
    "for i in range(cantidad_features):\n",
    "    print(f'\\n\\nIteración {i+1} de {cantidad_features}')\n",
    "    print(f'Lo mejor al momento: {best_features_stepwise} (AUC: {max_auc:.4f}) \\n\\n')\n",
    "    auc_loc, feature_a_agregar = step_forward(features_usadas, features_sin_usar)\n",
    "    features_usadas.append(feature_a_agregar)\n",
    "    features_sin_usar.remove(feature_a_agregar)\n",
    "    features_to_stepwisear = features_usadas[:]\n",
    "    iteraciones = len(features_to_stepwisear)\n",
    "    \n",
    "    print(f'\\nStepWise: {features_to_stepwisear}\\n')\n",
    "    for i in range(1,iteraciones):\n",
    "        auc, feature_a_borrar = step_backward(features_to_stepwisear)\n",
    "        features_to_stepwisear.remove(feature_a_borrar)\n",
    "        if auc > auc_loc:\n",
    "            features_usadas = features_to_stepwisear[:]\n",
    "            auc_loc = auc\n",
    "\n",
    "    if auc_loc > max_auc:\n",
    "        best_features_stepwise = features_usadas[:]\n",
    "        max_auc = auc_loc   "
   ]
  },
  {
   "cell_type": "code",
   "execution_count": null,
   "metadata": {},
   "outputs": [],
   "source": [
    "best_features_stepwise"
   ]
  }
 ],
 "metadata": {
  "kernelspec": {
   "display_name": "Python 3",
   "language": "python",
   "name": "python3"
  },
  "language_info": {
   "codemirror_mode": {
    "name": "ipython",
    "version": 3
   },
   "file_extension": ".py",
   "mimetype": "text/x-python",
   "name": "python",
   "nbconvert_exporter": "python",
   "pygments_lexer": "ipython3",
   "version": "3.6.6"
  },
  "toc": {
   "base_numbering": 1,
   "nav_menu": {},
   "number_sections": false,
   "sideBar": true,
   "skip_h1_title": true,
   "title_cell": "Índice",
   "title_sidebar": "Contenido",
   "toc_cell": false,
   "toc_position": {
    "height": "calc(100% - 180px)",
    "left": "10px",
    "top": "150px",
    "width": "204.867px"
   },
   "toc_section_display": true,
   "toc_window_display": true
  }
 },
 "nbformat": 4,
 "nbformat_minor": 2
}
