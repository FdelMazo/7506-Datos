{
 "cells": [
  {
   "cell_type": "markdown",
   "metadata": {},
   "source": [
    "# [75.06 / 95.58] Organización de Datos <br> Trabajo Práctico 2: Machine Learning\n",
    "# Feature Selection\n",
    "\n",
    "**Grupo 30: Datatouille**\n",
    "\n",
    "**http://fdelmazo.github.io/7506-Datos/**"
   ]
  },
  {
   "cell_type": "code",
   "execution_count": null,
   "metadata": {},
   "outputs": [],
   "source": [
    "def get_feature_selection():\n",
    "    # Se esconde en un def para poder importarlo\n",
    "\n",
    "    return {\n",
    "        'features_con_saltos_progresivo':['total_session_conversions',\n",
    "                                         'days_to_last_conversion',\n",
    "                                         'doy_last_event',\n",
    "                                         'total_conversions_month_3',\n",
    "                                         'has_conversion_month_2'],\n",
    "\n",
    "        'best_features_progresivo': ['timestamp_last_checkout',\n",
    "                                     'doy_last_checkout',\n",
    "                                     'woy_last_checkout',\n",
    "                                     'total_checkouts_month_5',\n",
    "                                     'has_checkout_month_5',\n",
    "                                     'dom_last_checkout',\n",
    "                                     'days_to_last_checkout',\n",
    "                                     'days_between_last_event_and_checkout',\n",
    "                                     'dow_last_checkout',\n",
    "                                     'total_session_conversions',\n",
    "                                     'has_checkout_last_week',\n",
    "                                     'has_checkout_month_1',\n",
    "                                     'has_conversion_month_1',\n",
    "                                     'has_checkout',\n",
    "                                     'days_to_last_conversion',\n",
    "                                     'days_to_last_viewed_product',\n",
    "                                     'doy_last_event',\n",
    "                                     'dow_last_event',\n",
    "                                     'dom_last_event',\n",
    "                                     'woy_last_event',\n",
    "                                     'avg_events_per_session',\n",
    "                                     'total_session_checkouts',\n",
    "                                     'total_sessions',\n",
    "                                     'total_events_x',\n",
    "                                     'doy_last_conversion',\n",
    "                                     'dow_last_conversion',\n",
    "                                     'dom_last_conversion',\n",
    "                                     'woy_last_conversion',\n",
    "                                     'doy_last_viewed_product',\n",
    "                                     'dow_last_viewed_product',\n",
    "                                     'dom_last_viewed_product',\n",
    "                                     'woy_last_viewed_product',\n",
    "                                     'last_conversion_sku',\n",
    "                                     'last_conversion_price',\n",
    "                                     'total_events_y',\n",
    "                                     'events_last_week',\n",
    "                                     'percentage_last_week_activity'],\n",
    "        \n",
    "        'best_features_forward': ['dow_last_conversion', 'has_conversion_last_week', \n",
    "                                 'total_conversions_month_4', 'total_session_checkouts', \n",
    "                                 'doy_last_conversion', 'timestamp_last_event', \n",
    "                                 'dow_last_checkout', 'total_checkouts', \n",
    "                                 'has_checkout', 'doy_last_checkout', \n",
    "                                 'has_checkout_month_1', 'timestamp_last_checkout', \n",
    "                                 'total_sessions', 'woy_last_event', 'has_checkout_month_5', \n",
    "                                 'avg_events_per_session'],\n",
    "        \n",
    "        'features_con_saltos_forward': ['woy_last_checkout',\n",
    "                                         'has_conversion_month_5',\n",
    "                                         'has_checkout_months_1_to_4',\n",
    "                                         'has_conversion_month_2',\n",
    "                                         'dom_last_viewed_product'],\n",
    "        \n",
    "        'best_features_backward' : ['total_checkouts', 'total_conversions', 'total_events', \n",
    "                                    'total_sessions', 'total_session_checkouts', 'total_session_conversions', \n",
    "                                    'avg_events_per_session', 'has_checkout', 'total_conversions_month_1', \n",
    "                                    'total_checkouts_month_1', 'has_checkout_month_1', 'has_conversion_month_1', \n",
    "                                    'total_conversions_month_2', 'total_checkouts_month_2', 'has_checkout_month_2', \n",
    "                                    'has_conversion_month_2', 'total_conversions_month_3', 'total_checkouts_month_3',\n",
    "                                    'has_checkout_month_3', 'has_conversion_month_3', 'has_checkout_month_4',\n",
    "                                    'has_conversion_month_4', 'total_conversions_month_5', 'total_checkouts_month_5',\n",
    "                                    'has_checkout_month_5', 'has_conversion_month_5', 'total_conversions_months_1_to_4',\n",
    "                                    'total_checkouts_months_1_to_4', 'has_checkout_months_1_to_4', 'has_conversion_months_1_to_4', \n",
    "                                    'total_conversions_last_week', 'total_checkouts_last_week', 'has_checkout_last_week', \n",
    "                                    'has_conversion_last_week', 'amount_of_months_that_has_bought', 'timestamp_last_event', \n",
    "                                    'timestamp_last_checkout', 'timestamp_last_conversion', 'timestamp_last_viewed_product',\n",
    "                                    'days_to_last_event', 'days_to_last_checkout', 'days_to_last_viewed_product', 'doy_last_event', \n",
    "                                    'dow_last_event', 'dom_last_event', 'woy_last_event', 'doy_last_checkout', 'dow_last_checkout', \n",
    "                                    'dom_last_checkout', 'woy_last_checkout', 'doy_last_conversion', 'dow_last_conversion', \n",
    "                                    'dom_last_conversion', 'doy_last_viewed_product', 'dow_last_viewed_product',\n",
    "                                    'dom_last_viewed_product', 'woy_last_viewed_product'] \n",
    "\n",
    "}"
   ]
  },
  {
   "cell_type": "markdown",
   "metadata": {},
   "source": [
    "---\n",
    "---\n",
    "---\n"
   ]
  },
  {
   "cell_type": "code",
   "execution_count": null,
   "metadata": {},
   "outputs": [],
   "source": [
    "import nbimporter # pip install nbimporter\n",
    "import pandas as pd\n",
    "from parameter_tuning import get_hiper_params\n",
    "import submission_framework as SF\n",
    "\n",
    "df_users = pd.read_csv('data/user-features.csv',low_memory=False).set_index('person')\n",
    "df_y = pd.read_csv('data/labels_training_set.csv').groupby('person').sum()\n",
    "\n",
    "seed=42\n",
    "hiper_params = get_hiper_params()\n",
    "\n",
    "df_users.head()"
   ]
  },
  {
   "cell_type": "markdown",
   "metadata": {},
   "source": [
    "Usando Random Forest, el algoritmo más estable de los definidos (XGBoost es poco estable) encontramos que combinación de features es la mas favorable (con la métrica Area Under Curve)."
   ]
  },
  {
   "cell_type": "code",
   "execution_count": null,
   "metadata": {},
   "outputs": [],
   "source": [
    "from sklearn.ensemble import RandomForestClassifier\n",
    "\n",
    "model_name = 'random_forest'\n",
    "params = hiper_params[model_name]\n",
    "model = RandomForestClassifier(**params,random_state=seed)\n",
    "random_forest = (model_name,model)\n",
    "\n",
    "SF.full_framework_wrapper(df_users,df_y,random_forest)"
   ]
  },
  {
   "cell_type": "markdown",
   "metadata": {},
   "source": [
    "## Cumulative Importance\n",
    "\n",
    "Se parte de una lista de todos los features ordeandos segun importancia, y se genera una lista de listas acumulativa de esto. Es decir de `[a,b,c]` se pasa a `[ [a], [a,b], [a,b,c] ]`\n",
    "\n",
    "Esto se hace porque se esta buscando el 'codo': Los features que hacen que incremente el AUC."
   ]
  },
  {
   "cell_type": "code",
   "execution_count": null,
   "metadata": {
    "keep_output": true
   },
   "outputs": [],
   "source": [
    "feature_importances = SF.get_feature_importances(df_users,df_y,random_forest)\n",
    "features_ordenados = feature_importances.index.tolist()\n",
    "lista_progresiva_de_cols = [features_ordenados[:i] for i in range(1,len(features_ordenados))]\n",
    "\n",
    "model, max_auc = SF.full_framework_wrapper(df_users,df_y,random_forest)\n",
    "best_features_progresivo = features_ordenados\n",
    "features_con_saltos_progresivo = []\n",
    "\n",
    "for i, cols in enumerate(lista_progresiva_de_cols):\n",
    "    print(f'\\n\\nIteración {i+1} de {len(lista_progresiva_de_cols)}\\n\\n')\n",
    "    model, auc = SF.full_framework_wrapper(df_users,df_y,random_forest,columns=cols,verbosity=1)\n",
    "    if auc > max_auc + 0.0001:\n",
    "        max_auc = auc\n",
    "        best_features_progresivo = cols\n",
    "        features_con_saltos_progresivo.append(cols[-1])\n",
    "        \n",
    "best_features_progresivo\n"
   ]
  },
  {
   "cell_type": "code",
   "execution_count": null,
   "metadata": {},
   "outputs": [],
   "source": [
    "df_users.columns.tolist()"
   ]
  },
  {
   "cell_type": "markdown",
   "metadata": {},
   "source": [
    "##  Forward Selection\n",
    "\n",
    "Se parte de una lista vacía y se van agregando todos los features uno por uno."
   ]
  },
  {
   "cell_type": "code",
   "execution_count": null,
   "metadata": {
    "keep_output": true
   },
   "outputs": [],
   "source": [
    "features = df_users.columns.tolist()\n",
    "cantidad_features = len(features)\n",
    "\n",
    "max_auc = 0\n",
    "features_no_usadas = features\n",
    "features_ya_usadas = []\n",
    "best_features_forward = []\n",
    "features_con_saltos_forward = []\n",
    "\n",
    "for i in range(cantidad_features+1):\n",
    "    print(f'\\n\\nIteración {i} de {cantidad_features}')\n",
    "    print(f'Lo mejor al momento: {best_features_forward} (AUC: {max_auc:.4f}) \\n\\n')\n",
    "    max_local_auc = 0\n",
    "    for f in features_no_usadas:\n",
    "        features_a_usar = features_ya_usadas + [f]\n",
    "        model, auc = SF.full_framework_wrapper(df_users,df_y,random_forest,columns=features_a_usar,verbosity=1)\n",
    "        if auc > max_local_auc + 0.0001:\n",
    "            max_local_auc = auc\n",
    "            feature_a_agregar = f\n",
    "            \n",
    "        \n",
    "    features_ya_usadas += [feature_a_agregar]\n",
    "    if features_no_usadas: features_no_usadas.remove(feature_a_agregar)\n",
    "    \n",
    "    if max_local_auc > max_auc + 0.0001:\n",
    "        max_auc = max_local_auc\n",
    "        best_features_forward = features_ya_usadas[:]\n",
    "        features_con_saltos_forward.append(feature_a_agregar)\n",
    "        \n",
    "best_features_forward"
   ]
  },
  {
   "cell_type": "markdown",
   "metadata": {},
   "source": [
    "##  Backward Elimination\n",
    "\n",
    "Se parte de una lista con todos los features y se van sacando uno por uno, en busqueda de cual hace que incremente un AUC una vez que se lo remueva."
   ]
  },
  {
   "cell_type": "code",
   "execution_count": null,
   "metadata": {
    "keep_output": true
   },
   "outputs": [],
   "source": [
    "features = df_users.columns.tolist()\n",
    "cantidad_features = len(features)\n",
    "\n",
    "model, max_auc = SF.full_framework_wrapper(df_users,df_y,random_forest,verbosity=1)\n",
    "max_local_auc = max_auc\n",
    "best_features_backward = features\n",
    "features_ya_usadas = features\n",
    "features_con_saltos_backward = []\n",
    "\n",
    "for i in range(cantidad_features+1):\n",
    "    print(f'\\n\\nIteración {i} de {cantidad_features}')\n",
    "    print(f'Lo mejor al momento: {best_features_backward} (AUC: {max_auc:.4f}) \\n\\n')\n",
    "    for f in features_ya_usadas:\n",
    "        features_a_usar = features_ya_usadas[:]\n",
    "        features_a_usar.remove(f)\n",
    "        model, auc = SF.full_framework_wrapper(df_users,df_y,random_forest,columns=features_a_usar,verbosity=1)\n",
    "        if auc > max_local_auc + 0.0001:\n",
    "            max_local_auc = auc\n",
    "            feature_a_borrar = f\n",
    "            \n",
    "    if feature_a_borrar in features_ya_usadas: features_ya_usadas.remove(feature_a_borrar)\n",
    "        \n",
    "    if max_local_auc > max_auc + 0.0001:\n",
    "        max_auc = max_local_auc\n",
    "        best_features_backward = features_ya_usadas[:]\n",
    "        features_con_saltos_backward.append(feature_a_borrar)\n",
    "        \n",
    "        \n",
    "# Ojo, features_con_saltos_backward se refiere a aquellos features que al removerlos se ve un incremento. \n",
    "# Es decir, son los features que menos sirven, correr el algoritmo solo sobre esto tendría resultados muy pobres."
   ]
  }
 ],
 "metadata": {
  "kernelspec": {
   "display_name": "Python 3",
   "language": "python",
   "name": "python3"
  },
  "language_info": {
   "codemirror_mode": {
    "name": "ipython",
    "version": 3
   },
   "file_extension": ".py",
   "mimetype": "text/x-python",
   "name": "python",
   "nbconvert_exporter": "python",
   "pygments_lexer": "ipython3",
   "version": "3.6.6"
  },
  "toc": {
   "base_numbering": 1,
   "nav_menu": {},
   "number_sections": false,
   "sideBar": true,
   "skip_h1_title": true,
   "title_cell": "Índice",
   "title_sidebar": "Contenido",
   "toc_cell": false,
   "toc_position": {
    "height": "calc(100% - 180px)",
    "left": "10px",
    "top": "150px",
    "width": "204.867px"
   },
   "toc_section_display": true,
   "toc_window_display": true
  }
 },
 "nbformat": 4,
 "nbformat_minor": 2
}
