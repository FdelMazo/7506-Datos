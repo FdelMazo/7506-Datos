{
 "cells": [
  {
   "cell_type": "markdown",
   "metadata": {},
   "source": [
    "# [75.06 / 95.58] Organización de Datos <br> Trabajo Práctico 2: Machine Learning\n",
    "# Feature Selection\n",
    "\n",
    "**Grupo 30: Datatouille**\n",
    "\n",
    "**http://fdelmazo.github.io/7506-Datos/**"
   ]
  },
  {
   "cell_type": "markdown",
   "metadata": {},
   "source": [
    "# AL SER UN PROCESO MUY COSTOSO EN TIEMPO Y MEMORIA, SE GUARDAN LOS RESULTADOS FINALES EN VARIABLES Y SE COMENTA TODO EL CÓDIGO"
   ]
  },
  {
   "cell_type": "code",
   "execution_count": null,
   "metadata": {},
   "outputs": [],
   "source": [
    "features_con_saltos_progresivo = ''\n",
    "best_features_progresivo = ''\n",
    "\n",
    "best_features_forward = ''\n",
    "features_con_saltos_forward = ''\n",
    "\n",
    "best_features_backward = ''"
   ]
  },
  {
   "cell_type": "markdown",
   "metadata": {},
   "source": [
    "---\n",
    "---\n",
    "---\n"
   ]
  },
  {
   "cell_type": "code",
   "execution_count": null,
   "metadata": {},
   "outputs": [],
   "source": [
    "# import nbimporter # pip install nbimporter\n",
    "# nbimporter.options['only_defs'] = False\n",
    "# import pandas as pd\n",
    "# import parameter_tuning as params\n",
    "# import submission_framework as SF"
   ]
  },
  {
   "cell_type": "markdown",
   "metadata": {},
   "source": [
    "Usando Random Forest, el algoritmo más estable de los definidos (XGBoost es poco estable) encontramos que combinación de features es la mas favorable (con la métrica Area Under Curve)."
   ]
  },
  {
   "cell_type": "code",
   "execution_count": null,
   "metadata": {},
   "outputs": [],
   "source": [
    "# from sklearn.ensemble import RandomForestClassifier\n",
    "\n",
    "# def random_forest(X_train, y_train, seed):\n",
    "#     rf = RandomForestClassifier(**params.best_params_random_forest)\n",
    "#     y_train.shape = y_train.shape[0]\n",
    "#     rf.fit(X_train, y_train)\n",
    "#     return rf\n",
    "\n",
    "# model, auc = SF.full_framework_wrapper('random_forest',random_forest,verbosity=-1)"
   ]
  },
  {
   "cell_type": "markdown",
   "metadata": {},
   "source": [
    "## Cumulative Importance\n",
    "\n",
    "Se parte de una lista de todos los features ordeandos segun importancia, y se genera una lista de listas acumulativa de esto. Es decir de `[a,b,c]` se pasa a `[ [a], [a,b], [a,b,c] ]`\n",
    "\n",
    "Esto se hace porque se esta buscando el 'codo': Los features que hacen que incremente el AUC."
   ]
  },
  {
   "cell_type": "code",
   "execution_count": null,
   "metadata": {
    "keep_output": true
   },
   "outputs": [],
   "source": [
    "# X, y = SF.fr1_extract_X_y(df_users, df_y)\n",
    "# X_train, X_test, y_train, y_test = SF.fr2_train_test_split(X, y, seed, test_size)\n",
    "# model = random_forest(X_train, y_train, seed)\n",
    "# X_to_predict, predictions = SF.fr6_extract_X_to_predict(df_users, df_y, model)\n",
    "# feature_importances = SF.fr7_print_information(df_users, model, X_to_predict, True)\n",
    "\n",
    "# features_ordenados = feature_importances.index.tolist()\n",
    "# lista_progresiva_de_cols = [features_ordenados[:i] for i in range(1,len(features_ordenados))]\n",
    "\n",
    "# model, max_auc = full_framework_wrapper('random_forest',random_forest)\n",
    "# best_features_progresivo = features_ordenados\n",
    "# features_con_saltos_progresivo = []\n",
    "\n",
    "# for i, cols in enumerate(lista_progresiva_de_cols):\n",
    "#     print(f'\\n\\nIteración {i} de {len(lista_progresiva_de_cols)}\\n\\n')\n",
    "#     model, auc = full_framework_wrapper('random_forest',random_forest,columns=cols,verbosity=1)\n",
    "#     if auc > max_auc + 0.0001:\n",
    "#         max_auc = auc\n",
    "#         best_features_progresivo = cols\n",
    "#         features_con_saltos_progresivo.append(cols[-1])\n",
    "        \n",
    "# best_features_progresivo"
   ]
  },
  {
   "cell_type": "markdown",
   "metadata": {},
   "source": [
    "##  Forward Selection\n",
    "\n",
    "Se parte de una lista vacía y se van agregando todos los features uno por uno."
   ]
  },
  {
   "cell_type": "code",
   "execution_count": null,
   "metadata": {
    "keep_output": true
   },
   "outputs": [],
   "source": [
    "# features = df_users.columns.tolist()\n",
    "\n",
    "# cantidad_features = len(features)\n",
    "\n",
    "# max_auc = 0\n",
    "# features_no_usadas = features\n",
    "# features_ya_usadas = []\n",
    "# best_features_forward = []\n",
    "# features_con_saltos_forward = []\n",
    "\n",
    "# for i in range(cantidad_features+1):\n",
    "#     print(f'\\n\\nIteración {i} de {cantidad_features}')\n",
    "#     print(f'Lo mejor al momento: {best_features_forward} (AUC: {max_auc:.4f}) \\n\\n')\n",
    "#     max_local_auc = 0\n",
    "#     for f in features_no_usadas:\n",
    "#         features_a_usar = features_ya_usadas + [f]\n",
    "#         model, auc = full_framework_wrapper('random_forest',random_forest,columns=features_a_usar,verbosity=1)\n",
    "#         if auc > max_local_auc + 0.0001:\n",
    "#             max_local_auc = auc\n",
    "#             feature_a_agregar = f\n",
    "        \n",
    "#     features_ya_usadas += [feature_a_agregar]\n",
    "#     if features_no_usadas: features_no_usadas.remove(feature_a_agregar)\n",
    "    \n",
    "#     if max_local_auc > max_auc + 0.0001:\n",
    "#         max_auc = max_local_auc\n",
    "#         best_features_forward = features_ya_usadas[:]\n",
    "#         features_con_saltos_forward.append(feature_a_agregar)\n",
    "        \n",
    "# best_features_forward"
   ]
  },
  {
   "cell_type": "markdown",
   "metadata": {},
   "source": [
    "##  Backward Elimination\n",
    "\n",
    "Se parte de una lista con todos los features y se van sacando uno por uno, en busqueda de cual hace que incremente un AUC una vez que se lo remueva."
   ]
  },
  {
   "cell_type": "code",
   "execution_count": null,
   "metadata": {
    "keep_output": true
   },
   "outputs": [],
   "source": [
    "# features = df_users.columns.tolist()\n",
    "# cantidad_features = len(features)\n",
    "\n",
    "# model, max_auc = full_framework_wrapper('random_forest',random_forest,verbosity=1)\n",
    "# max_local_auc = max_auc\n",
    "# best_features_backward = features\n",
    "# features_ya_usadas = features\n",
    "# features_con_saltos_backward = []\n",
    "\n",
    "# for i in range(cantidad_features+1):\n",
    "#     print(f'\\n\\nIteración {i} de {cantidad_features}')\n",
    "#     print(f'Lo mejor al momento: {best_features_backward} (AUC: {max_auc:.4f}) \\n\\n')\n",
    "#     for f in features_ya_usadas:\n",
    "#         features_a_usar = features_ya_usadas[:]\n",
    "#         features_a_usar.remove(f)\n",
    "#         model, auc = full_framework_wrapper('random_forest',random_forest,columns=features_a_usar,verbosity=1)\n",
    "#         if auc > max_local_auc + 0.0001:\n",
    "#             max_local_auc = auc\n",
    "#             feature_a_borrar = f\n",
    "            \n",
    "#     if feature_a_borrar in features_ya_usadas: features_ya_usadas.remove(feature_a_borrar)\n",
    "        \n",
    "#     if max_local_auc > max_auc + 0.0001:\n",
    "#         max_auc = max_local_auc\n",
    "#         best_features_backward = features_ya_usadas[:]\n",
    "#         features_con_saltos_backward.append(feature_a_borrar)\n",
    "        \n",
    "        \n",
    "# # Ojo, features_con_saltos_backward se refiere a aquellos features que al removerlos se ve un incremento. \n",
    "# # Es decir, son los features que menos sirven, correr el algoritmo solo sobre esto tendría resultados muy pobres.\n",
    "# best_features_backward"
   ]
  }
 ],
 "metadata": {
  "kernelspec": {
   "display_name": "Python 3",
   "language": "python",
   "name": "python3"
  },
  "language_info": {
   "codemirror_mode": {
    "name": "ipython",
    "version": 3
   },
   "file_extension": ".py",
   "mimetype": "text/x-python",
   "name": "python",
   "nbconvert_exporter": "python",
   "pygments_lexer": "ipython3",
   "version": "3.6.6"
  },
  "toc": {
   "base_numbering": 1,
   "nav_menu": {},
   "number_sections": false,
   "sideBar": true,
   "skip_h1_title": true,
   "title_cell": "Índice",
   "title_sidebar": "Contenido",
   "toc_cell": false,
   "toc_position": {
    "height": "calc(100% - 180px)",
    "left": "10px",
    "top": "150px",
    "width": "204.867px"
   },
   "toc_section_display": true,
   "toc_window_display": true
  }
 },
 "nbformat": 4,
 "nbformat_minor": 2
}
