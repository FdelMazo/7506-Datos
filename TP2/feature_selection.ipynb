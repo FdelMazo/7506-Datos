{
 "cells": [
  {
   "cell_type": "markdown",
   "metadata": {},
   "source": [
    "# [75.06 / 95.58] Organización de Datos <br> Trabajo Práctico 2: Machine Learning\n",
    "# Feature Selection\n",
    "\n",
    "**Grupo 30: Datatouille**\n",
    "\n",
    "**http://fdelmazo.github.io/7506-Datos/**"
   ]
  },
  {
   "cell_type": "markdown",
   "metadata": {},
   "source": [
    "Fuentes:\n",
    "\n",
    "* http://people.stat.sfu.ca/~lockhart/richard/350/08_2/lectures/VariableSelection/web.pdf"
   ]
  },
  {
   "cell_type": "code",
   "execution_count": null,
   "metadata": {},
   "outputs": [],
   "source": [
    "def get_feature_selection():\n",
    "    # Se esconde en un def para poder importarlo\n",
    "\n",
    "    return {\n",
    "\n",
    "        'best_features_progresivo': ['timestamp_last_checkout',\n",
    "                                     'doy_last_checkout',\n",
    "                                     'woy_last_checkout',\n",
    "                                     'has_checkout_month_5',\n",
    "                                     'total_checkouts_month_5',\n",
    "                                     'total_session_checkouts_month_5',\n",
    "                                     'days_between_last_event_and_checkout',\n",
    "                                     'dom_last_checkout',\n",
    "                                     'total_events_months_1_to_4',\n",
    "                                     'dow_last_checkout',\n",
    "                                     'days_to_last_checkout',\n",
    "                                     'total_sessions_months_1_to_4',\n",
    "                                     'has_checkout',\n",
    "                                     'total_session_checkouts_last_week',\n",
    "                                     'has_conversion_months_1_to_4',\n",
    "                                     'total_sessions_last_week',\n",
    "                                     'total_events_last_week',\n",
    "                                     'total_conversions_last_week',\n",
    "                                     'total_checkouts_last_week',\n",
    "                                     'total_viewed_products_last_week',\n",
    "                                     'total_events_ad_session_last_week',\n",
    "                                     'total_session_conversions_last_week',\n",
    "                                     'total_viewed_products',\n",
    "                                     'has_checkout_months_1_to_4',\n",
    "                                     'has_checkout_last_week',\n",
    "                                     'total_ad_sessions_months_1_to_4',\n",
    "                                     'total_events_ad_session_months_1_to_4',\n",
    "                                     'total_session_conversions_months_1_to_4',\n",
    "                                     'total_session_checkouts_months_1_to_4',\n",
    "                                     'total_conversions_months_1_to_4',\n",
    "                                     'total_checkouts_months_1_to_4',\n",
    "                                     'total_viewed_products_months_1_to_4',\n",
    "                                     'has_conversion_month_5',\n",
    "                                     'total_ad_sessions_month_5',\n",
    "                                     'total_events_ad_session_month_5',\n",
    "                                     'total_ad_sessions_last_week',\n",
    "                                     'timestamp_last_conversion',\n",
    "                                     'has_conversion_last_week',\n",
    "                                     'amount_of_months_that_has_bought',\n",
    "                                     'var_viewed',\n",
    "                                     'percentage_regular_celphones_activity',\n",
    "                                     'percentage_last_month_activity',\n",
    "                                     'percentage_last_week_activity',\n",
    "                                     'last_conversion_price',\n",
    "                                     'last_conversion_sku',\n",
    "                                     'woy_last_viewed_product',\n",
    "                                     'dom_last_viewed_product',\n",
    "                                     'dow_last_viewed_product',\n",
    "                                     'doy_last_viewed_product',\n",
    "                                     'woy_last_conversion',\n",
    "                                     'dom_last_conversion',\n",
    "                                     'dow_last_conversion',\n",
    "                                     'doy_last_conversion',\n",
    "                                     'woy_last_event',\n",
    "                                     'dom_last_event',\n",
    "                                     'dow_last_event',\n",
    "                                     'doy_last_event',\n",
    "                                     'days_to_last_viewed_product',\n",
    "                                     'days_to_last_conversion',\n",
    "                                     'days_to_last_event',\n",
    "                                     'timestamp_last_viewed_product',\n",
    "                                     'timestamp_last_event',\n",
    "                                     'total_session_conversions_month_5',\n",
    "                                     'total_sessions_month_5',\n",
    "                                     'total_checkouts',\n",
    "                                     'total_events_month_5',\n",
    "                                     'total_sessions_month_2',\n",
    "                                     'total_events_month_2',\n",
    "                                     'total_conversions_month_2',\n",
    "                                     'total_checkouts_month_2',\n",
    "                                     'total_viewed_products_month_2',\n",
    "                                     'has_conversion_month_1',\n",
    "                                     'has_checkout_month_1',\n",
    "                                     'total_ad_sessions_month_1',\n",
    "                                     'total_events_ad_session_month_1',\n",
    "                                     'total_session_conversions_month_1',\n",
    "                                     'total_session_checkouts_month_1',\n",
    "                                     'total_sessions_month_1',\n",
    "                                     'total_events_month_1',\n",
    "                                     'total_conversions_month_1',\n",
    "                                     'total_checkouts_month_1',\n",
    "                                     'total_viewed_products_month_1',\n",
    "                                     'has_conversion',\n",
    "                                     'percentage_of_ad_sessions',\n",
    "                                     'avg_events_per_ad_session',\n",
    "                                     'avg_events_per_session',\n",
    "                                     'total_ad_sessions',\n",
    "                                     'total_events_ad_session',\n",
    "                                     'total_session_conversions',\n",
    "                                     'total_session_checkouts',\n",
    "                                     'total_sessions',\n",
    "                                     'total_events',\n",
    "                                     'total_conversions',\n",
    "                                     'total_session_checkouts_month_2',\n",
    "                                     'total_session_conversions_month_2',\n",
    "                                     'total_events_ad_session_month_2',\n",
    "                                     'total_viewed_products_month_4',\n",
    "                                     'total_conversions_month_5',\n",
    "                                     'total_viewed_products_month_5'],\n",
    "        \n",
    "        'best_features_forward': ['dow_last_conversion', 'has_conversion_last_week', \n",
    "                                 'total_conversions_month_4', 'total_session_checkouts', \n",
    "                                 'doy_last_conversion', 'timestamp_last_event', \n",
    "                                 'dow_last_checkout', 'total_checkouts', \n",
    "                                 'has_checkout', 'doy_last_checkout', \n",
    "                                 'has_checkout_month_1', 'timestamp_last_checkout', \n",
    "                                 'total_sessions', 'woy_last_event', 'has_checkout_month_5', \n",
    "                                 'avg_events_per_session'],\n",
    "        \n",
    "  \n",
    "        'best_features_backward' : ['total_checkouts', 'total_conversions', 'total_events', \n",
    "                                    'total_sessions', 'total_session_checkouts', 'total_session_conversions', \n",
    "                                    'avg_events_per_session', 'has_checkout', 'total_conversions_month_1', \n",
    "                                    'total_checkouts_month_1', 'has_checkout_month_1', 'has_conversion_month_1', \n",
    "                                    'total_conversions_month_2', 'total_checkouts_month_2', 'has_checkout_month_2', \n",
    "                                    'has_conversion_month_2', 'total_conversions_month_3', 'total_checkouts_month_3',\n",
    "                                    'has_checkout_month_3', 'has_conversion_month_3', 'has_checkout_month_4',\n",
    "                                    'has_conversion_month_4', 'total_conversions_month_5', 'total_checkouts_month_5',\n",
    "                                    'has_checkout_month_5', 'has_conversion_month_5', 'total_conversions_months_1_to_4',\n",
    "                                    'total_checkouts_months_1_to_4', 'has_checkout_months_1_to_4', 'has_conversion_months_1_to_4', \n",
    "                                    'total_conversions_last_week', 'total_checkouts_last_week', 'has_checkout_last_week', \n",
    "                                    'has_conversion_last_week', 'amount_of_months_that_has_bought', 'timestamp_last_event', \n",
    "                                    'timestamp_last_checkout', 'timestamp_last_conversion', 'timestamp_last_viewed_product',\n",
    "                                    'days_to_last_event', 'days_to_last_checkout', 'days_to_last_viewed_product', 'doy_last_event', \n",
    "                                    'dow_last_event', 'dom_last_event', 'woy_last_event', 'doy_last_checkout', 'dow_last_checkout', \n",
    "                                    'dom_last_checkout', 'woy_last_checkout', 'doy_last_conversion', 'dow_last_conversion', \n",
    "                                    'dom_last_conversion', 'doy_last_viewed_product', 'dow_last_viewed_product',\n",
    "                                    'dom_last_viewed_product', 'woy_last_viewed_product'] \n",
    "\n",
    "}"
   ]
  },
  {
   "cell_type": "code",
   "execution_count": null,
   "metadata": {},
   "outputs": [],
   "source": [
    "import nbimporter # pip install nbimporter\n",
    "import pandas as pd\n",
    "from parameter_tuning import get_hiper_params\n",
    "import submission_framework as SF\n",
    "\n",
    "df_users = pd.read_csv('data/user-features.csv',low_memory=False).set_index('person')\n",
    "df_y = pd.read_csv('data/labels_training_set.csv').groupby('person').sum()\n",
    "\n",
    "seed=42\n",
    "hiper_params = get_hiper_params()\n",
    "\n",
    "df_users.head()"
   ]
  },
  {
   "cell_type": "markdown",
   "metadata": {},
   "source": [
    "---\n",
    "---\n",
    "---\n"
   ]
  },
  {
   "cell_type": "markdown",
   "metadata": {},
   "source": [
    "Usando Random Forest, el algoritmo más estable de los definidos (XGBoost es poco estable) encontramos que combinación de features es la mas favorable (con la métrica Area Under Curve)."
   ]
  },
  {
   "cell_type": "code",
   "execution_count": null,
   "metadata": {},
   "outputs": [],
   "source": [
    "from sklearn.ensemble import RandomForestClassifier\n",
    "\n",
    "model_name = 'random_forest'\n",
    "params = hiper_params[model_name]\n",
    "model = RandomForestClassifier(**params,random_state=seed)\n",
    "random_forest = (model_name,model)\n",
    "\n",
    "SF.full_framework_wrapper(df_users,df_y,random_forest)"
   ]
  },
  {
   "cell_type": "code",
   "execution_count": null,
   "metadata": {},
   "outputs": [],
   "source": [
    "full_features = df_users.columns.tolist()\n",
    "cantidad_features = len(full_features)\n",
    "\n",
    "tried = {}"
   ]
  },
  {
   "cell_type": "markdown",
   "metadata": {},
   "source": [
    "## Cumulative Importance\n",
    "\n",
    "Se parte de una lista de todos los features ordeandos segun importancia, y se genera una lista de listas acumulativa de esto. Es decir de `[a,b,c]` se pasa a `[ [a], [a,b], [a,b,c] ]`\n",
    "\n",
    "Esto se hace porque se esta buscando el 'codo': Los features que hacen que incremente el AUC."
   ]
  },
  {
   "cell_type": "code",
   "execution_count": null,
   "metadata": {
    "keep_output": true
   },
   "outputs": [
    {
     "name": "stdout",
     "output_type": "stream",
     "text": [
      "Model: random_forest - AUC: 0.7922 - AUCPR:0.1578 - Accuracy: 0.9496 \n",
      "\n",
      "\n",
      "Iteración 1 de 9\n",
      "\n",
      "\n",
      "\n",
      "\n",
      "Iteración 2 de 9\n",
      "\n",
      "\n",
      "\n",
      "\n",
      "Iteración 3 de 9\n",
      "\n",
      "\n",
      "\n",
      "\n",
      "Iteración 4 de 9\n",
      "\n",
      "\n",
      "\n",
      "\n",
      "Iteración 5 de 9\n",
      "\n",
      "\n",
      "\n",
      "\n",
      "Iteración 6 de 9\n",
      "\n",
      "\n",
      "\n",
      "\n",
      "Iteración 7 de 9\n",
      "\n",
      "\n",
      "\n",
      "\n",
      "Iteración 8 de 9\n",
      "\n",
      "\n",
      "\n",
      "\n",
      "Iteración 9 de 9\n",
      "\n",
      "\n"
     ]
    }
   ],
   "source": [
    "feature_importances = SF.get_feature_importances(df_users,df_y,random_forest)\n",
    "features_ordenados = feature_importances.index.tolist()\n",
    "lista_progresiva_de_cols = [features_ordenados[:i] for i in range(1,len(features_ordenados))]\n",
    "\n",
    "model, max_auc = SF.full_framework_wrapper(df_users,df_y,random_forest)\n",
    "best_features_progresivo = features_ordenados\n",
    "features_con_saltos_progresivo = []\n",
    "\n",
    "for i, cols in enumerate(lista_progresiva_de_cols):\n",
    "    print(f'\\n\\nIteración {i+1} de {len(lista_progresiva_de_cols)}\\n\\n')\n",
    "    if tuple(cols) not in tried:\n",
    "        model, auc = SF.full_framework_wrapper(df_users,df_y,random_forest,columns=cols,verbosity=1)\n",
    "        tried[tuple(cols)] = auc\n",
    "    else:\n",
    "        auc = tried[tuple(cols)]\n",
    "    if auc > max_auc + 0.0001:\n",
    "        max_auc = auc\n",
    "        best_features_progresivo = cols\n",
    "        features_con_saltos_progresivo.append(cols[-1])"
   ]
  },
  {
   "cell_type": "code",
   "execution_count": null,
   "metadata": {},
   "outputs": [],
   "source": [
    "best_features_progresivo"
   ]
  },
  {
   "cell_type": "markdown",
   "metadata": {},
   "source": [
    "##  Forward Selection\n",
    "\n",
    "Se parte de una lista vacía y se van agregando todos los features uno por uno."
   ]
  },
  {
   "cell_type": "code",
   "execution_count": null,
   "metadata": {
    "keep_output": true
   },
   "outputs": [],
   "source": [
    "def step_forward(features_usadas, features_sin_usar):\n",
    "    if not features_sin_usar: \n",
    "        return SF.full_framework_wrapper(df_users,df_y,random_forest,columns=features_usadas,verbosity=1)[1], None\n",
    "    max_auc = 0\n",
    "    features_a_usar = None\n",
    "    la_posta = None\n",
    "    for f in features_sin_usar:\n",
    "        features_a_probar = features_usadas + [f]\n",
    "        if tuple(features_a_probar) not in tried: \n",
    "            model, auc = SF.full_framework_wrapper(df_users,df_y,random_forest,columns=features_a_probar,verbosity=1)\n",
    "            tried[tuple(features_a_probar)] = auc\n",
    "        else: \n",
    "            auc = tried[tuple(features_a_probar)]\n",
    "        if auc > max_auc + 0.0001:\n",
    "            la_posta = f\n",
    "            max_auc = auc\n",
    "            \n",
    "    return max_auc, la_posta"
   ]
  },
  {
   "cell_type": "code",
   "execution_count": null,
   "metadata": {},
   "outputs": [],
   "source": [
    "best_features_forward = None\n",
    "max_auc = 0\n",
    "features_usadas = []\n",
    "features_sin_usar = full_features[:]\n",
    "\n",
    "for i in range(cantidad_features):\n",
    "    print(f'\\n\\nIteración {i+1} de {cantidad_features}')\n",
    "    print(f'Lo mejor al momento: {best_features_forward} (AUC: {max_auc:.4f}) \\n\\n')\n",
    "    auc, feature_a_agregar = step_forward(features_usadas, features_sin_usar)\n",
    "    features_usadas.append(feature_a_agregar)\n",
    "    features_sin_usar.remove(feature_a_agregar)\n",
    "    if auc > max_auc + 0.0001:\n",
    "        best_features_forward = features_usadas[:]\n",
    "        max_auc = auc   "
   ]
  },
  {
   "cell_type": "code",
   "execution_count": null,
   "metadata": {},
   "outputs": [],
   "source": [
    "best_features_forward"
   ]
  },
  {
   "cell_type": "markdown",
   "metadata": {},
   "source": [
    "##  Backward Elimination\n",
    "\n",
    "Se parte de una lista con todos los features y se van sacando uno por uno, en busqueda de cual hace que incremente un AUC una vez que se lo remueva."
   ]
  },
  {
   "cell_type": "code",
   "execution_count": null,
   "metadata": {
    "keep_output": true
   },
   "outputs": [],
   "source": [
    "def step_backward(features):\n",
    "    if len(features) == 1: \n",
    "        print('atroden')\n",
    "        return SF.full_framework_wrapper(df_users,df_y,random_forest,columns=features,verbosity=1)[1], None\n",
    "    max_auc = 0\n",
    "    features_a_usar = None\n",
    "    la_posta = None\n",
    "    for f in features:\n",
    "        features_a_probar = features[:]\n",
    "        features_a_probar.remove(f)\n",
    "        if tuple(features_a_probar) not in tried:\n",
    "            model, auc = SF.full_framework_wrapper(df_users,df_y,random_forest,columns=features_a_probar,verbosity=1)\n",
    "            tried[tuple(features_a_probar)] = auc\n",
    "        else:\n",
    "            auc = tried[tuple(features_a_probar)]\n",
    "        if auc > max_auc + 0.0001:\n",
    "            la_posta = f\n",
    "            max_auc = auc\n",
    "                \n",
    "    return max_auc, la_posta"
   ]
  },
  {
   "cell_type": "code",
   "execution_count": null,
   "metadata": {
    "keep_output": true
   },
   "outputs": [],
   "source": [
    "features = full_features[:]\n",
    "best_features_backward = features[:]\n",
    "max_auc = SF.full_framework_wrapper(df_users,df_y,random_forest,columns=best_features_backward)[1]\n",
    "\n",
    "for i in range(1,cantidad_features):\n",
    "    print(f'\\n\\nIteración {i} de {cantidad_features-1}')\n",
    "    print(f'Lo mejor al momento: {best_features_backward} (AUC: {max_auc:.4f}) \\n\\n')\n",
    "    auc, feature_a_borrar = step_backward(features)\n",
    "    features.remove(feature_a_borrar)\n",
    "    if auc > max_auc + 0.0001:\n",
    "        best_features_backward = features[:]\n",
    "        max_auc = auc"
   ]
  },
  {
   "cell_type": "code",
   "execution_count": null,
   "metadata": {},
   "outputs": [],
   "source": [
    "best_features_backward"
   ]
  },
  {
   "cell_type": "markdown",
   "metadata": {},
   "source": [
    "##  Stepwise Regression\n",
    "\n",
    "Combinación de Forward Selection y Backward Elimination"
   ]
  },
  {
   "cell_type": "code",
   "execution_count": null,
   "metadata": {
    "keep_output": true
   },
   "outputs": [],
   "source": [
    "best_features_stepwise = []\n",
    "max_auc = 0\n",
    "features_usadas = []\n",
    "features_sin_usar = full_features[:]\n",
    "\n",
    "for i in range(cantidad_features):\n",
    "    print(f'\\n\\nIteración {i+1} de {cantidad_features}')\n",
    "    print(f'Lo mejor al momento: {best_features_stepwise} (AUC: {max_auc:.4f}) \\n\\n')\n",
    "    auc_loc, feature_a_agregar = step_forward(features_usadas, features_sin_usar)\n",
    "    features_usadas.append(feature_a_agregar)\n",
    "    features_sin_usar.remove(feature_a_agregar)\n",
    "    features_to_stepwisear = features_usadas[:]\n",
    "    iteraciones = len(features_to_stepwisear)\n",
    "    \n",
    "    print(f'\\nStepWise: {features_to_stepwisear}\\n')\n",
    "    for i in range(1,iteraciones):\n",
    "        auc, feature_a_borrar = step_backward(features_to_stepwisear)\n",
    "        features_to_stepwisear.remove(feature_a_borrar)\n",
    "        if auc > auc_loc:\n",
    "            features_usadas = features_to_stepwisear[:]\n",
    "            auc_loc = auc\n",
    "\n",
    "    if auc_loc > max_auc:\n",
    "        best_features_stepwise = features_usadas[:]\n",
    "        max_auc = auc_loc   "
   ]
  },
  {
   "cell_type": "code",
   "execution_count": null,
   "metadata": {},
   "outputs": [],
   "source": [
    "best_features_stepwise"
   ]
  }
 ],
 "metadata": {
  "kernelspec": {
   "display_name": "Python 3",
   "language": "python",
   "name": "python3"
  },
  "toc": {
   "base_numbering": 1,
   "nav_menu": {},
   "number_sections": false,
   "sideBar": true,
   "skip_h1_title": true,
   "title_cell": "Índice",
   "title_sidebar": "Contenido",
   "toc_cell": false,
   "toc_position": {
    "height": "calc(100% - 180px)",
    "left": "10px",
    "top": "150px",
    "width": "204.867px"
   },
   "toc_section_display": true,
   "toc_window_display": true
  }
 },
 "nbformat": 4,
 "nbformat_minor": 2
}
