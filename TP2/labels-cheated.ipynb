{
 "cells": [
  {
   "cell_type": "markdown",
   "metadata": {},
   "source": [
    "## INFORMACIÓN RECOPILADA\n",
    "\n",
    "1. No se repiten usuarios en los datasets.\n",
    "2. En el **primer** dataset hay 27624.\n",
    "3. De los cuales 13967 tuvieron actividad en Junio.\n",
    "4. Entre el 1 y el 15 (inclusive) de Junio 82 usuarios compraron productos.\n",
    "2. En el **segundo** dataset hay 19414.\n",
    "3. De los cuales 980 compraron en Junio."
   ]
  },
  {
   "cell_type": "code",
   "execution_count": null,
   "metadata": {},
   "outputs": [],
   "source": [
    "import pandas as pd\n",
    "import numpy as np"
   ]
  },
  {
   "cell_type": "code",
   "execution_count": null,
   "metadata": {},
   "outputs": [],
   "source": [
    "df1 = pd.read_csv('../TP1/data/events.csv', low_memory=False)\n",
    "df2 = pd.read_csv('./data/events_up_to_01062018.csv', low_memory=False)\n",
    "dfl = pd.read_csv('./data/labels_training_set.csv', low_memory=False)"
   ]
  },
  {
   "cell_type": "code",
   "execution_count": null,
   "metadata": {},
   "outputs": [],
   "source": [
    "def labelize(df):\n",
    "    df_tmp = df\n",
    "    df_tmp['timestamp'] = pd.to_datetime(df_tmp['timestamp'])\n",
    "    \n",
    "    df_tmp['is_useful_conversion'] = (df_tmp['event'] == 'conversion') \\\n",
    "        & (df_tmp['timestamp'] > pd.to_datetime('2018-06-01'))\n",
    "    \n",
    "    df_tmp = df_tmp[['person', 'is_useful_conversion']]\n",
    "    gb = df_tmp.groupby('person')\n",
    "    df_tmp = gb.sum()\n",
    "    df_tmp.columns = ['label']\n",
    "    df_tmp['label'] = df_tmp['label'].astype('bool')\n",
    "    df_tmp['label'] = df_tmp['label'].astype('int')\n",
    "    \n",
    "    return df_tmp"
   ]
  },
  {
   "cell_type": "code",
   "execution_count": null,
   "metadata": {},
   "outputs": [],
   "source": [
    "df1l = labelize(df1)\n",
    "\n",
    "display(\"len(df1l): \" + str(len(df1l)))\n",
    "display(\"len(df1l > 0): \" + str(len(df1l[df1l['label'] > 0])))\n",
    "display(\"len(df1l > 1): \" + str(len(df1l[df1l['label'] > 1])))"
   ]
  },
  {
   "cell_type": "code",
   "execution_count": null,
   "metadata": {},
   "outputs": [],
   "source": [
    "df2l = labelize(df2)\n",
    "\n",
    "display(\"len(df2l): \" + str(len(df2l)))\n",
    "display(\"len(df2l > 0): \" + str(len(df2l[df2l['label'] > 0])))\n",
    "display(\"len(df2l > 1): \" + str(len(df2l[df2l['label'] > 1])))"
   ]
  },
  {
   "cell_type": "code",
   "execution_count": null,
   "metadata": {},
   "outputs": [],
   "source": [
    "# Chequeando que todos los usuarios tienen actividad después de 2018-06-01\n",
    "df_tmp = df1\n",
    "df_tmp['timestamp'] = pd.to_datetime(df_tmp['timestamp'])\n",
    "df_tmp = df_tmp.loc[df_tmp['timestamp'] > pd.to_datetime('2018-06-01')]\n",
    "\n",
    "display(len(df1['person'].unique()))\n",
    "display(len(df_tmp['person'].unique()))\n",
    "display(len(df_tmp[df_tmp['timestamp'] < pd.to_datetime('2018-06-16')]['person'].unique()))"
   ]
  },
  {
   "cell_type": "code",
   "execution_count": null,
   "metadata": {},
   "outputs": [],
   "source": [
    "# "
   ]
  },
  {
   "cell_type": "code",
   "execution_count": null,
   "metadata": {},
   "outputs": [],
   "source": [
    "# Cantidad de usuarios \n",
    "display(len(dfl))\n",
    "display(len(dfl[dfl['label'] > 0]))"
   ]
  },
  {
   "cell_type": "code",
   "execution_count": null,
   "metadata": {},
   "outputs": [],
   "source": []
  }
 ],
 "metadata": {
  "kernelspec": {
   "display_name": "Python 3",
   "language": "python",
   "name": "python3"
  },
  "language_info": {
   "codemirror_mode": {
    "name": "ipython",
    "version": 3
   },
   "file_extension": ".py",
   "mimetype": "text/x-python",
   "name": "python",
   "nbconvert_exporter": "python",
   "pygments_lexer": "ipython3",
   "version": "3.6.5"
  }
 },
 "nbformat": 4,
 "nbformat_minor": 2
}
