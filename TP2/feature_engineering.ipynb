{
 "cells": [
  {
   "cell_type": "markdown",
   "metadata": {},
   "source": [
    "# [75.06 / 95.58] Organización de Datos <br> Trabajo Práctico 2: Machine Learning\n",
    "\n",
    "# Feature Engineering\n",
    "\n",
    "**Grupo 30: Datatouille**\n",
    "\n",
    "**http://fdelmazo.github.io/7506-Datos/**"
   ]
  },
  {
   "cell_type": "markdown",
   "metadata": {},
   "source": [
    "En este notebook se buscan atributos nuevos para concatenar al set de datos original, así pudiendo armar un modelo predictivo más robusto y eficiente."
   ]
  },
  {
   "cell_type": "code",
   "execution_count": null,
   "metadata": {},
   "outputs": [],
   "source": [
    "import pandas as pd\n",
    "import numpy as np\n",
    "\n",
    "df_events = pd.read_csv('./data/events_up_to_01062018.csv', low_memory=False)\n",
    "df_sessions = pd.read_csv('./data/sessions.csv', low_memory=False)\n",
    "df_brands = pd.read_csv('./data/brands.csv')\n",
    "df_os = pd.read_csv('./data/os.csv')\n",
    "df_browsers = pd.read_csv('./data/browsers.csv')\n",
    "df_prices = pd.read_csv('./data/prices.csv')\n",
    "\n",
    "df = df_events.merge(df_sessions, how='left', left_index=True, right_index=True)\n",
    "df = df.merge(df_browsers, how='left', on='browser_version')\n",
    "df = df.merge(df_os, how='left', on='operating_system_version')\n",
    "df = df.merge(df_brands, how='left', on='model')\n",
    "df = df.merge(df_prices, how='left', on='sku')"
   ]
  },
  {
   "cell_type": "code",
   "execution_count": null,
   "metadata": {},
   "outputs": [],
   "source": [
    "df['timestamp'] = pd.to_datetime(df['timestamp'])\n",
    "df['month_number'] = df['timestamp'].dt.month\n",
    "\n",
    "df['is_viewed_product'] = df['event'] == 'viewed_product'\n",
    "df['is_conversion'] = df['event'] == 'conversion'\n",
    "df['is_checkout'] = df['event'] == 'checkout'\n",
    "df['is_viewed_product'] = df['event'] == 'viewed product'\n",
    "df['session_checkout_first'] = df['session_first'] & df['session_has_checkout']\n",
    "df['session_conversion_first'] = df['session_first'] & df['session_has_conversion']\n",
    "df['session_ad_first'] = df['session_first'] & df['session_ad']\n",
    "df['session_ad_checkout_event'] = df['session_first'] & df['session_ad']\n",
    "df['session_ad_conversion_event'] = df['session_first'] & df['session_ad']"
   ]
  },
  {
   "cell_type": "code",
   "execution_count": null,
   "metadata": {},
   "outputs": [],
   "source": [
    "with pd.option_context('display.max_column',0):\n",
    "  display(df.sample(5))"
   ]
  },
  {
   "cell_type": "markdown",
   "metadata": {},
   "source": [
    "### Eventos en total\n",
    "\n",
    "Checkouts y conversiones en total por usuario.\n",
    "\n",
    "A motivos prácticos, en todo este notebook con eventos nos referimos solamente a:\n",
    "\n",
    "* Checkout: Un usuario ingresa al checkout de compra de un producto\n",
    "\n",
    "* Conversión: Un usuario realiza una conversión comprando un producto."
   ]
  },
  {
   "cell_type": "code",
   "execution_count": null,
   "metadata": {},
   "outputs": [],
   "source": [
    "udf_tmp1 = df.groupby('person').agg({'is_viewed_product':'sum',\n",
    "                                     'is_checkout':'sum', \n",
    "                                     'is_conversion':'sum', \n",
    "                                     'event':'count',\n",
    "                                     'session_first':'sum',                                                                         'session_total_conversions':'sum',\n",
    "                                     'session_checkout_first':'sum',\n",
    "                                     'session_conversion_first':'sum',\n",
    "                                     'session_ad':'sum',\n",
    "                                     'session_ad_first':'sum'})\n",
    "\n",
    "# Cosa rara que aparece solo\n",
    "del udf_tmp1['session_total_conversions']\n",
    "\n",
    "udf_tmp1.columns = ['total_viewed_products',\n",
    "                    'total_checkouts',\n",
    "                    'total_conversions',\n",
    "                    'total_events',\n",
    "                    'total_sessions',\n",
    "                    'total_session_checkouts',\n",
    "                    'total_session_conversions',\n",
    "                    'total_events_ad_session',\n",
    "                    'total_ad_sessions']\n",
    "\n",
    "\n",
    "udf_tmp1['avg_events_per_session'] = udf_tmp1['total_events'] / udf_tmp1['total_sessions']\n",
    "udf_tmp1['avg_events_per_ad_session'] = (udf_tmp1['total_events_ad_session'] / udf_tmp1['total_ad_sessions']).replace([np.inf, -np.inf], np.nan).fillna(0)\n",
    "udf_tmp1['percentage_of_ad_sessions'] = udf_tmp1['total_ad_sessions'] / udf_tmp1['total_sessions']\n",
    "\n",
    "udf_tmp1['has_checkout'] = udf_tmp1['total_checkouts'] > 0\n",
    "udf_tmp1['has_conversion'] = udf_tmp1['total_conversions'] > 0\n",
    "\n",
    "\n",
    "udf_tmp1.head()"
   ]
  },
  {
   "cell_type": "markdown",
   "metadata": {},
   "source": [
    "### Eventos por mes\n",
    "\n",
    "Checkouts y conversiones por usuario por mes"
   ]
  },
  {
   "cell_type": "code",
   "execution_count": null,
   "metadata": {},
   "outputs": [],
   "source": [
    "udf_tmp2 = df['person'].drop_duplicates().to_frame().set_index('person')\n",
    "\n",
    "for i in range(1,6):\n",
    "    gb = df[df['month_number'] == i].groupby('person')\n",
    "    udf_tmp2i = gb.agg({'is_viewed_product':'sum',\n",
    "                                     'is_checkout':'sum', \n",
    "                                     'is_conversion':'sum', \n",
    "                                     'event':'count',\n",
    "                                     'session_first':'sum',                                                                         'session_total_conversions':'sum',\n",
    "                                     'session_checkout_first':'sum',\n",
    "                                     'session_conversion_first':'sum',\n",
    "                                     'session_ad':'sum',\n",
    "                                     'session_ad_first':'sum'})\n",
    "    \n",
    "    # Cosa rara que aparece solo\n",
    "    del udf_tmp2i['session_total_conversions']\n",
    "\n",
    "    udf_tmp2i.columns = ['total_viewed_products_month_{}'.format(i),\n",
    "                    'total_checkouts_month_{}'.format(i),\n",
    "                    'total_conversions_month_{}'.format(i),\n",
    "                    'total_events_month_{}'.format(i),\n",
    "                    'total_sessions_month_{}'.format(i),\n",
    "                    'total_session_checkouts_month_{}'.format(i),\n",
    "                    'total_session_conversions_month_{}'.format(i),\n",
    "                    'total_events_ad_session_month_{}'.format(i),\n",
    "                    'total_ad_sessions_month_{}'.format(i)]\n",
    "\n",
    "    \n",
    "    udf_tmp2i['has_checkout_month_{}'.format(i)] = udf_tmp2i['total_checkouts_month_{}'.format(i)] > 0\n",
    "    udf_tmp2i['has_conversion_month_{}'.format(i)] = udf_tmp2i['total_conversions_month_{}'.format(i)] > 0\n",
    "\n",
    "    udf_tmp2 = udf_tmp2.merge(udf_tmp2i, how='outer', left_index=True, right_index=True)\n",
    "\n",
    "udf_tmp2 = udf_tmp2.fillna(0)\n",
    "\n",
    "udf_tmp2.head()"
   ]
  },
  {
   "cell_type": "markdown",
   "metadata": {},
   "source": [
    "### Eventos sin contar mayo\n",
    "\n",
    "Checkouts y conversiones por usuario sin contar mayo (último mes registrado)"
   ]
  },
  {
   "cell_type": "code",
   "execution_count": null,
   "metadata": {},
   "outputs": [],
   "source": [
    "gb = df[df['month_number'] != 5].groupby('person')\n",
    "\n",
    "udf_tmp3 = gb.agg({'is_viewed_product':'sum',\n",
    "                   'is_checkout':'sum', \n",
    "                   'is_conversion':'sum', \n",
    "                   'event':'count',\n",
    "                   'session_first':'sum',                                                                         \n",
    "                   'session_total_conversions':'sum',\n",
    "                   'session_checkout_first':'sum',\n",
    "                   'session_conversion_first':'sum',\n",
    "                   'session_ad':'sum',\n",
    "                   'session_ad_first':'sum'})\n",
    "    \n",
    "# Cosa rara que aparece solo\n",
    "del udf_tmp3['session_total_conversions']\n",
    "\n",
    "udf_tmp3.columns = ['total_viewed_products_months_1_to_4',\n",
    "                    'total_checkouts_months_1_to_4',\n",
    "                    'total_conversions_months_1_to_4',\n",
    "                    'total_events_months_1_to_4',\n",
    "                    'total_sessions_months_1_to_4',\n",
    "                    'total_session_checkouts_months_1_to_4',\n",
    "                    'total_session_conversions_months_1_to_4',\n",
    "                    'total_events_ad_session_months_1_to_4',\n",
    "                    'total_ad_sessions_months_1_to_4']\n",
    "\n",
    "\n",
    "udf_tmp3['has_checkout_months_1_to_4'] = udf_tmp3['total_checkouts_months_1_to_4'] > 0\n",
    "udf_tmp3['has_conversion_months_1_to_4'] = udf_tmp3['total_conversions_months_1_to_4'] > 0\n",
    "\n",
    "\n",
    "udf_tmp3.head()"
   ]
  },
  {
   "cell_type": "markdown",
   "metadata": {},
   "source": [
    "### Eventos en última semana\n",
    "\n",
    "Checkouts y conversiones por usuario en la última semana registrada"
   ]
  },
  {
   "cell_type": "code",
   "execution_count": null,
   "metadata": {},
   "outputs": [],
   "source": [
    "gb = df[df['timestamp'] > pd.to_datetime('2018-05-23')].groupby('person')\n",
    "\n",
    "udf_tmp4 = gb.agg({'is_viewed_product':'sum',\n",
    "                   'is_checkout':'sum', \n",
    "                   'is_conversion':'sum', \n",
    "                   'event':'count',\n",
    "                   'session_first':'sum',                                                                         \n",
    "                   'session_total_conversions':'sum',\n",
    "                   'session_checkout_first':'sum',\n",
    "                   'session_conversion_first':'sum',\n",
    "                   'session_ad':'sum',\n",
    "                   'session_ad_first':'sum'})\n",
    "    \n",
    "# Cosa rara que aparece solo\n",
    "del udf_tmp4['session_total_conversions']\n",
    "\n",
    "udf_tmp4.columns = ['total_viewed_products_last_week',\n",
    "                    'total_checkouts_last_week',\n",
    "                    'total_conversions_last_week',\n",
    "                    'total_events_last_week',\n",
    "                    'total_sessions_last_week',\n",
    "                    'total_session_checkouts_last_week',\n",
    "                    'total_session_conversions_last_week',\n",
    "                    'total_events_ad_session_last_week',\n",
    "                    'total_ad_sessions_last_week']\n",
    "\n",
    "\n",
    "udf_tmp4['has_checkout_last_week'] = udf_tmp4['total_checkouts_last_week'] > 0\n",
    "udf_tmp4['has_conversion_last_week'] = udf_tmp4['total_conversions_last_week'] > 0\n",
    "\n",
    "\n",
    "udf_tmp1.head()"
   ]
  },
  {
   "cell_type": "markdown",
   "metadata": {},
   "source": [
    "### Distribución mensual de las conversiones\n",
    "\n",
    "Cuan esparcidas (en meses) estan las conversiones de los usuarios"
   ]
  },
  {
   "cell_type": "code",
   "execution_count": null,
   "metadata": {},
   "outputs": [],
   "source": [
    "udf_tmp5 = udf_tmp2['has_conversion_month_1']\n",
    "for i in range(2,6):\n",
    "    udf_tmp5 = udf_tmp5 + udf_tmp2['has_conversion_month_{}'.format(i)]\n",
    "    \n",
    "udf_tmp5 = udf_tmp5.to_frame()\n",
    "udf_tmp5.columns = ['amount_of_months_that_has_bought']\n",
    "\n",
    "for i in range(6):\n",
    "    print('Users that have bought in {} different months: {}'.format(i, len(udf_tmp5[udf_tmp5['amount_of_months_that_has_bought'] >= i])))\n",
    "\n",
    "udf_tmp5.head()"
   ]
  },
  {
   "cell_type": "markdown",
   "metadata": {},
   "source": [
    "### Informacion de los últimos eventos registrados por usuario\n",
    "\n",
    "Información como días hasta la última conversión, que día de la semana fue esta y demás.\n",
    "\n",
    "(En esta celda por evento nos referimos a cualquier tipo de evento)"
   ]
  },
  {
   "cell_type": "code",
   "execution_count": null,
   "metadata": {},
   "outputs": [],
   "source": [
    "df_event = df.groupby('person').agg({'timestamp':'max'})\n",
    "df_event.columns = ['timestamp_last_event']\n",
    "\n",
    "df_checkout = df[df['event'] == 'checkout']\n",
    "df_checkout = df_checkout.groupby('person').agg({'timestamp': 'max'})\n",
    "df_checkout.columns = ['timestamp_last_checkout']\n",
    "\n",
    "df_conversion = df[df['event'] == 'conversion']\n",
    "df_conversion = df_conversion.groupby('person').agg({'timestamp': 'max'})\n",
    "df_conversion.columns = ['timestamp_last_conversion']\n",
    "\n",
    "df_viewed_product = df[df['event'] == 'viewed_product']\n",
    "df_viewed_product = df_viewed_product.groupby('person').agg({'timestamp': 'max'})\n",
    "df_viewed_product.columns = ['timestamp_last_viewed_product']\n",
    "\n",
    "df_timelapse = df_event.merge(df_checkout, how='outer', on='person')\n",
    "df_timelapse = df_timelapse.merge(df_conversion, how='outer', on='person')\n",
    "df_timelapse = df_timelapse.merge(df_viewed_product, how='outer', on='person')\n",
    "\n",
    "#Fecha arbitraria cuando el usuario nunca hizo checkout/conversion/viewed_product\n",
    "df_timelapse = df_timelapse.fillna(pd.to_datetime('2018-01-01')) \n",
    "\n",
    "df_timelapse.head()"
   ]
  },
  {
   "cell_type": "code",
   "execution_count": null,
   "metadata": {},
   "outputs": [],
   "source": [
    "udf_tmp6 = df_timelapse.loc[:]\n",
    "\n",
    "udf_tmp6['days_to_last_event'] = pd.to_datetime('2018-06-01').dayofyear - df_timelapse['timestamp_last_event'].dt.dayofyear\n",
    "\n",
    "udf_tmp6['days_to_last_checkout'] = df_timelapse['timestamp_last_event'].dt.dayofyear - df_timelapse['timestamp_last_checkout'].dt.dayofyear\n",
    "udf_tmp6['days_to_last_conversion'] = df_timelapse['timestamp_last_event'].dt.dayofyear - df_timelapse['timestamp_last_conversion'].dt.dayofyear\n",
    "udf_tmp6['days_to_last_viewed_product'] = df_timelapse['timestamp_last_event'].dt.dayofyear - df_timelapse['timestamp_last_viewed_product'].dt.dayofyear\n",
    "\n",
    "udf_tmp6.head()"
   ]
  },
  {
   "cell_type": "code",
   "execution_count": null,
   "metadata": {},
   "outputs": [],
   "source": [
    "udf_tmp6['doy_last_event'] = udf_tmp6['timestamp_last_event'].dt.dayofyear\n",
    "udf_tmp6['dow_last_event'] = udf_tmp6['timestamp_last_event'].dt.dayofweek\n",
    "udf_tmp6['dom_last_event'] = udf_tmp6['timestamp_last_event'].dt.day\n",
    "udf_tmp6['woy_last_event'] = udf_tmp6['timestamp_last_event'].dt.weekofyear\n",
    "\n",
    "udf_tmp6['doy_last_checkout'] = udf_tmp6['timestamp_last_checkout'].dt.dayofyear\n",
    "udf_tmp6['dow_last_checkout'] = udf_tmp6['timestamp_last_checkout'].dt.dayofweek\n",
    "udf_tmp6['dom_last_checkout'] = udf_tmp6['timestamp_last_checkout'].dt.day\n",
    "udf_tmp6['woy_last_checkout'] = udf_tmp6['timestamp_last_checkout'].dt.weekofyear\n",
    "\n",
    "udf_tmp6['doy_last_conversion'] = udf_tmp6['timestamp_last_conversion'].dt.dayofyear\n",
    "udf_tmp6['dow_last_conversion'] = udf_tmp6['timestamp_last_conversion'].dt.dayofweek\n",
    "udf_tmp6['dom_last_conversion'] = udf_tmp6['timestamp_last_conversion'].dt.day\n",
    "udf_tmp6['woy_last_conversion'] = udf_tmp6['timestamp_last_conversion'].dt.weekofyear\n",
    "\n",
    "udf_tmp6['doy_last_viewed_product'] = udf_tmp6['timestamp_last_viewed_product'].dt.dayofyear\n",
    "udf_tmp6['dow_last_viewed_product'] = udf_tmp6['timestamp_last_viewed_product'].dt.dayofweek\n",
    "udf_tmp6['dom_last_viewed_product'] = udf_tmp6['timestamp_last_viewed_product'].dt.day\n",
    "udf_tmp6['woy_last_viewed_product'] = udf_tmp6['timestamp_last_viewed_product'].dt.weekofyear\n",
    "\n",
    "\n",
    "udf_tmp6.head()"
   ]
  },
  {
   "cell_type": "markdown",
   "metadata": {},
   "source": [
    "### Precios de la ultima conversion realizada por el usuario"
   ]
  },
  {
   "cell_type": "code",
   "execution_count": null,
   "metadata": {},
   "outputs": [],
   "source": [
    "df_prices.head()"
   ]
  },
  {
   "cell_type": "code",
   "execution_count": null,
   "metadata": {},
   "outputs": [],
   "source": [
    "udf_tmp7 = df[df['event'] == 'conversion']\n",
    "udf_tmp7.set_index('person', inplace=True)\n",
    "udf_tmp7 = udf_tmp7.groupby('person').agg({'timestamp': 'max','sku':'max'})\n",
    "udf_tmp7.reset_index(inplace=True)\n",
    "udf_tmp7 = udf_tmp7.merge(df_prices, how='inner', on='sku')\n",
    "udf_tmp7['sku'] =  udf_tmp7['sku'].astype('int')\n",
    "udf_tmp7 = udf_tmp7.rename(columns={'precio_reales': 'last_conversion_price', 'sku': 'last_conversion_sku'})\n",
    "\n",
    "udf_tmp7.set_index('person',inplace=True)\n",
    "del udf_tmp7['timestamp']\n",
    "udf_tmp7['last_conversion_price'] =  udf_tmp7['last_conversion_price'].astype('float')\n",
    "udf_tmp7.head()"
   ]
  },
  {
   "cell_type": "markdown",
   "metadata": {},
   "source": [
    "### Porcentaje de la actividad de la ultima semana\n",
    "Cantidad de eventos de la ultima semana sobre el total"
   ]
  },
  {
   "cell_type": "code",
   "execution_count": null,
   "metadata": {},
   "outputs": [],
   "source": [
    "udf_tmp8 = df.groupby('person').agg({'event': 'count'})\n",
    "udf_tmp8 = udf_tmp8.rename(columns = {'event': 'total_events'})\n",
    "df_last_week = df[df['timestamp'] > pd.to_datetime('2018-05-23')]\n",
    "df_last_week = df_last_week.groupby('person').agg({'event': 'count'})\n",
    "df_last_week = df_last_week.rename(columns = {'event': 'events_last_week'})\n",
    "udf_tmp8 = udf_tmp8.merge(df_last_week, how='outer', on='person')\n",
    "udf_tmp8 = udf_tmp8.fillna(0) #Si no tuvo actividad en la última semana el porcentaje es 0\n",
    "udf_tmp8['percentage_last_week_activity'] = udf_tmp8['events_last_week'] / udf_tmp8['total_events']\n",
    "\n",
    "del udf_tmp8['total_events']\n",
    "del udf_tmp8['events_last_week']\n",
    "\n",
    "udf_tmp8.head()"
   ]
  },
  {
   "cell_type": "markdown",
   "metadata": {},
   "source": [
    "### Porcentaje de la actividad del ultimo mes\n",
    "Cantidad de eventos del último mes sobre el total"
   ]
  },
  {
   "cell_type": "code",
   "execution_count": null,
   "metadata": {},
   "outputs": [],
   "source": [
    "udf_tmp9 = df.groupby('person').agg({'event': 'count'})\n",
    "udf_tmp9 = udf_tmp9.rename(columns = {'event': 'total_events'})\n",
    "df_last_month = df[df['timestamp'] > pd.to_datetime('2018-05-01')]\n",
    "df_last_month = df_last_month.groupby('person').agg({'event': 'count'})\n",
    "df_last_month = df_last_month.rename(columns = {'event': 'events_last_month'})\n",
    "udf_tmp9 = udf_tmp9.merge(df_last_month, how='outer', on='person')\n",
    "udf_tmp9 = udf_tmp9.fillna(0) #Si no tuvo actividad en el ultimo mes el porcentaje es 0\n",
    "udf_tmp9['percentage_last_month_activity'] = udf_tmp9['events_last_month'] / udf_tmp9['total_events']\n",
    "\n",
    "del udf_tmp9['total_events']\n",
    "del udf_tmp9['events_last_month']\n",
    "\n",
    "udf_tmp9.head()"
   ]
  },
  {
   "cell_type": "markdown",
   "metadata": {},
   "source": [
    "### Días entre el último checkout y última actividad\n",
    "Se guardan los días entre el último evento del usuario y el último checkout"
   ]
  },
  {
   "cell_type": "code",
   "execution_count": null,
   "metadata": {},
   "outputs": [],
   "source": [
    "df_last_checkout = df[df['event'] == 'checkout']\n",
    "df_last_checkout = df_last_checkout.groupby('person').agg({'timestamp': 'max'})\n",
    "df_last_checkout = df_last_checkout.rename(columns = {'timestamp': 'timestamp_last_checkout'})\n",
    "df_last_event = df.groupby('person').agg({'timestamp': 'max'})\n",
    "df_last_event = df_last_event.rename(columns = {'timestamp': 'timestamp_last_event'})\n",
    "\n",
    "udf_tmp10 = df_last_checkout.merge(df_last_event, how='outer', on='person')\n",
    "udf_tmp10['days_between_last_event_and_checkout'] = udf_tmp10['timestamp_last_event'].dt.dayofyear - udf_tmp10['timestamp_last_checkout'].dt.dayofyear\n",
    "udf_tmp10 = udf_tmp10.fillna(180) #Se utiliza el tope de tiempo si no tuvo una conversión\n",
    "udf_tmp10['days_between_last_event_and_checkout'] = udf_tmp10['days_between_last_event_and_checkout'].astype('int')\n",
    "del udf_tmp10['timestamp_last_event']\n",
    "del udf_tmp10['timestamp_last_checkout']\n",
    "\n",
    "udf_tmp10.head()"
   ]
  },
  {
   "cell_type": "markdown",
   "metadata": {},
   "source": [
    "### Estados de celulares\n",
    "\n",
    "Utilizando la lógica de que hay empresas que compran celulares en mal estado y en una primera instancia (obviamente) lo ven, se agrega una columna que indique porcentaje de celulares en estado Bom - Sem Touch ID vs Bom sobre todos los celulares vistos"
   ]
  },
  {
   "cell_type": "code",
   "execution_count": null,
   "metadata": {},
   "outputs": [],
   "source": [
    "df_viewed_product = df[df['event'] == 'viewed product']\n",
    "\n",
    "df_regular_phones = df_viewed_product[(df_viewed_product['condition'] == 'Bom') | (df_viewed_product['condition'] == 'Bom - Sem Touch ID')]\n",
    "df_regular_phones = df_regular_phones.groupby('person').agg({'condition': 'count'})\n",
    "df_regular_phones = df_regular_phones.rename(columns = {'condition': 'amount_regular_phones'})\n",
    "\n",
    "df_all_phones = df_viewed_product.groupby('person').agg({'condition': 'count'})\n",
    "df_all_phones = df_all_phones.rename(columns = {'condition': 'amount_total_phones'})\n",
    "\n",
    "udf_tmp11 = df_regular_phones.merge(df_all_phones, how='outer', on='person')\n",
    "\n",
    "udf_tmp11['percentage_regular_celphones_activity'] = udf_tmp11['amount_regular_phones'] / udf_tmp11['amount_total_phones']\n",
    "\n",
    "del udf_tmp11['amount_regular_phones']\n",
    "del udf_tmp11['amount_total_phones']\n",
    "\n",
    "udf_tmp11.head()"
   ]
  },
  {
   "cell_type": "markdown",
   "metadata": {},
   "source": [
    "## Varianza logarítmica de productos vistos"
   ]
  },
  {
   "cell_type": "code",
   "execution_count": null,
   "metadata": {},
   "outputs": [],
   "source": [
    "import numpy as np\n",
    "\n",
    "udf_tmp12 = df[df['event'] == 'viewed product']\n",
    "udf_tmp12 = udf_tmp12.groupby('person').agg({'precio_reales': 'var'})\n",
    "udf_tmp12['precio_reales'] = np.log(udf_tmp12['precio_reales']) \n",
    "udf_tmp12['precio_reales'] = udf_tmp12['precio_reales'].replace([np.inf, -np.inf], 0)\n",
    "udf_tmp12 = udf_tmp12.rename(columns={'precio_reales': 'var_viewed'})\n",
    "udf_tmp12.head()"
   ]
  },
  {
   "cell_type": "code",
   "execution_count": null,
   "metadata": {},
   "outputs": [],
   "source": []
  },
  {
   "cell_type": "markdown",
   "metadata": {},
   "source": [
    "## Compró más de la media"
   ]
  },
  {
   "cell_type": "code",
   "execution_count": null,
   "metadata": {},
   "outputs": [],
   "source": [
    "conversions = df[df['event'] == 'conversion']\n",
    "monto_total = np.sum(conversions['precio_reales'])\n",
    "cantidad = conversions['precio_reales'].count()\n",
    "media = monto_total/cantidad\n",
    "\n",
    "udf_tmp13 = conversions.groupby('person').agg({'precio_reales': 'max'})\n",
    "udf_tmp13['conversion_gt_media'] = udf_tmp13['precio_reales'] > media\n",
    "udf_tmp13['conversion_gt_media'] = udf_tmp13['conversion_gt_media'].astype('int')\n",
    "\n",
    "del udf_tmp13['precio_reales']\n",
    "\n",
    "udf_tmp13.head()"
   ]
  },
  {
   "cell_type": "markdown",
   "metadata": {},
   "source": [
    "----\n",
    "\n",
    "**Se guarda todo en `user-features.csv`**"
   ]
  },
  {
   "cell_type": "code",
   "execution_count": null,
   "metadata": {},
   "outputs": [],
   "source": [
    "udf = udf_tmp1\n",
    "udf = udf.merge(udf_tmp2, how='outer', on='person')\n",
    "udf = udf.merge(udf_tmp3, how='outer', on='person')\n",
    "udf = udf.merge(udf_tmp4, how='outer', on='person')\n",
    "udf = udf.merge(udf_tmp5, how='outer', on='person')\n",
    "udf = udf.merge(udf_tmp6, how='outer', on='person')\n",
    "udf = udf.merge(udf_tmp7, how='outer', on='person')\n",
    "udf = udf.merge(udf_tmp8, how='outer', on='person')\n",
    "udf = udf.merge(udf_tmp9, how='outer', on='person')\n",
    "udf = udf.merge(udf_tmp10, how='outer', on='person')\n",
    "udf = udf.merge(udf_tmp11, how='outer', on='person')\n",
    "udf = udf.merge(udf_tmp12, how='outer', on='person') \n",
    "udf = udf.merge(udf_tmp13, how='outer', on='person') \n",
    "\n",
    "\n",
    "udf = udf.fillna(0)\n",
    "udf = udf.astype('int')\n",
    "\n",
    "udf.head()"
   ]
  },
  {
   "cell_type": "code",
   "execution_count": null,
   "metadata": {},
   "outputs": [],
   "source": [
    "# Confirmamos no haber perdido datos en el medio\n",
    "\n",
    "assert(len(udf)==len(df['person'].unique()))\n",
    "display(len(udf))"
   ]
  },
  {
   "cell_type": "code",
   "execution_count": null,
   "metadata": {},
   "outputs": [],
   "source": [
    "udf.reset_index().to_csv('data/user-features.csv', index=False)"
   ]
  }
 ],
 "metadata": {
  "kernelspec": {
   "display_name": "Python 3",
   "language": "python",
   "name": "python3"
  },
  "language_info": {
   "codemirror_mode": {
    "name": "ipython",
    "version": 3
   },
   "file_extension": ".py",
   "mimetype": "text/x-python",
   "name": "python",
   "nbconvert_exporter": "python",
   "pygments_lexer": "ipython3",
   "version": "3.6.6"
  },
  "toc": {
   "base_numbering": 1,
   "nav_menu": {},
   "number_sections": false,
   "sideBar": true,
   "skip_h1_title": true,
   "title_cell": "Table of Contents",
   "title_sidebar": "Contents",
   "toc_cell": false,
   "toc_position": {},
   "toc_section_display": true,
   "toc_window_display": true
  }
 },
 "nbformat": 4,
 "nbformat_minor": 2
}
