{
 "cells": [
  {
   "cell_type": "markdown",
   "metadata": {},
   "source": [
    "# [75.06 / 95.58] Organización de Datos <br> Trabajo Práctico 2: Machine Learning\n",
    "\n",
    "# Feature Engineering\n",
    "\n",
    "**Grupo 30: Datatouille**\n",
    "\n",
    "**http://fdelmazo.github.io/7506-Datos/**"
   ]
  },
  {
   "cell_type": "markdown",
   "metadata": {},
   "source": [
    "En este notebook se buscan atributos nuevos para concatenar al set de datos original, así pudiendo armar un modelo predictivo más robusto y eficiente."
   ]
  },
  {
   "cell_type": "code",
   "execution_count": null,
   "metadata": {},
   "outputs": [],
   "source": [
    "import pandas as pd\n",
    "\n",
    "df_events = pd.read_csv('./data/events_up_to_01062018.csv', low_memory=False)\n",
    "df_sessions = pd.read_csv('./data/sessions.csv', low_memory=False)\n",
    "df_brands = pd.read_csv('./data/brands.csv')\n",
    "df_os = pd.read_csv('./data/os.csv')\n",
    "df_browsers = pd.read_csv('./data/browsers.csv')\n",
    "\n",
    "df = df_events.merge(df_sessions, how='left', left_index=True, right_index=True)\n",
    "df = df.merge(df_browsers, how='left', on='browser_version')\n",
    "df = df.merge(df_os, how='left', on='operating_system_version')\n",
    "df = df.merge(df_brands, how='left', on='model')"
   ]
  },
  {
   "cell_type": "code",
   "execution_count": null,
   "metadata": {},
   "outputs": [],
   "source": [
    "df['timestamp'] = pd.to_datetime(df['timestamp'])\n",
    "df['month_number'] = df['timestamp'].dt.month\n",
    "\n",
    "df['is_conversion'] = df['event'] == 'conversion'\n",
    "df['is_checkout'] = df['event'] == 'checkout'\n",
    "df['is_viewed_product'] = df['event'] == 'viewed product'"
   ]
  },
  {
   "cell_type": "code",
   "execution_count": null,
   "metadata": {},
   "outputs": [],
   "source": [
    "with pd.option_context('display.max_column',0):\n",
    "  display(df.head())"
   ]
  },
  {
   "cell_type": "markdown",
   "metadata": {},
   "source": [
    "### Eventos en total\n",
    "\n",
    "Checkouts y conversiones en total por usuario.\n",
    "\n",
    "A motivos prácticos, en todo este notebook con eventos nos referimos solamente a:\n",
    "\n",
    "* Checkout: Un usuario ingresa al checkout de compra de un producto\n",
    "\n",
    "* Conversión: Un usuario realiza una conversión comprando un producto."
   ]
  },
  {
   "cell_type": "code",
   "execution_count": null,
   "metadata": {},
   "outputs": [],
   "source": [
    "udf_tmp1 = df.groupby('person').agg({'is_checkout':'sum', \n",
    "                                     'is_conversion':'sum', \n",
    "                                     'session_total_events':'sum',\n",
    "                                     'session_first':'sum',                                                                         'session_total_conversions':'sum',\n",
    "                                     'session_total_checkouts':'sum',\n",
    "                                     'session_total_conversions':'sum'})\n",
    "\n",
    "udf_tmp1.columns = ['total_checkouts',\n",
    "                    'total_conversions',\n",
    "                    'total_events',\n",
    "                    'total_sessions',\n",
    "                    'total_session_checkouts',\n",
    "                    'total_session_conversions']\n",
    "\n",
    "udf_tmp1['total_checkouts'] = udf_tmp1['total_checkouts'].astype('int')\n",
    "udf_tmp1['total_conversions'] = udf_tmp1['total_conversions'].astype('int')\n",
    "udf_tmp1['total_events'] = udf_tmp1['total_events'].astype('int')\n",
    "udf_tmp1['total_sessions'] = udf_tmp1['total_sessions'].astype('int')\n",
    "udf_tmp1['total_session_checkouts'] = udf_tmp1['total_session_checkouts'].astype('int')\n",
    "udf_tmp1['total_session_conversions'] = udf_tmp1['total_session_conversions'].astype('int')\n",
    "\n",
    "udf_tmp1['avg_events_per_session'] = udf_tmp1['total_events'] / udf_tmp1['total_sessions']\n",
    "\n",
    "udf_tmp1['has_checkout'] = udf_tmp1['total_checkouts'] > 0\n",
    "udf_tmp1['has_conversion'] = udf_tmp1['total_conversions'] > 0\n",
    "\n",
    "udf_tmp1 = udf_tmp1.astype('int') \n",
    "\n",
    "udf_tmp1.head()"
   ]
  },
  {
   "cell_type": "markdown",
   "metadata": {},
   "source": [
    "### Eventos por mes\n",
    "\n",
    "Checkouts y conversiones por usuario por mes"
   ]
  },
  {
   "cell_type": "code",
   "execution_count": null,
   "metadata": {},
   "outputs": [],
   "source": [
    "udf_tmp2 = df['person'].drop_duplicates().to_frame().set_index('person')\n",
    "\n",
    "for i in range(1,6):\n",
    "    gb = df[df['month_number'] == i].groupby('person')\n",
    "    udf_tmp2i = gb.agg({'is_conversion':'sum', 'is_checkout':'sum'})\n",
    "    udf_tmp2i.columns = ['total_conversions_month_{}'.format(i), 'total_checkouts_month_{}'.format(i)]\n",
    "\n",
    "    udf_tmp2i['total_checkouts_month_{}'.format(i)] = udf_tmp2i['total_checkouts_month_{}'.format(i)].astype('int')\n",
    "    udf_tmp2i['total_conversions_month_{}'.format(i)] = udf_tmp2i['total_conversions_month_{}'.format(i)].astype('int')\n",
    "\n",
    "    udf_tmp2i['has_checkout_month_{}'.format(i)] = udf_tmp2i['total_checkouts_month_{}'.format(i)] > 0\n",
    "    udf_tmp2i['has_conversion_month_{}'.format(i)] = udf_tmp2i['total_conversions_month_{}'.format(i)] > 0\n",
    "\n",
    "    udf_tmp2 = udf_tmp2.merge(udf_tmp2i, how='outer', left_index=True, right_index=True)\n",
    "\n",
    "udf_tmp2 = udf_tmp2.fillna(0)\n",
    "udf_tmp2 = udf_tmp2.astype('int')\n",
    "\n",
    "udf_tmp2.head()"
   ]
  },
  {
   "cell_type": "markdown",
   "metadata": {},
   "source": [
    "### Eventos sin contar mayo\n",
    "\n",
    "Checkouts y conversiones por usuario sin contar mayo (último mes registrado)"
   ]
  },
  {
   "cell_type": "code",
   "execution_count": null,
   "metadata": {},
   "outputs": [],
   "source": [
    "gb = df[df['month_number'] != 5].groupby('person')\n",
    "udf_tmp3 = gb.agg({'is_conversion':'sum', 'is_checkout':'sum'})\n",
    "udf_tmp3.columns = ['total_conversions_months_1_to_4', 'total_checkouts_months_1_to_4']\n",
    "\n",
    "udf_tmp3['total_checkouts_months_1_to_4'] = udf_tmp3['total_checkouts_months_1_to_4'].astype('int')\n",
    "udf_tmp3['total_conversions_months_1_to_4'] = udf_tmp3['total_conversions_months_1_to_4'].astype('int')\n",
    "\n",
    "udf_tmp3['has_checkout_months_1_to_4'] = udf_tmp3['total_checkouts_months_1_to_4'] > 0\n",
    "udf_tmp3['has_conversion_months_1_to_4'] = udf_tmp3['total_conversions_months_1_to_4'] > 0\n",
    "\n",
    "udf_tmp3 = udf_tmp3.astype('int')\n",
    "\n",
    "udf_tmp3.head()"
   ]
  },
  {
   "cell_type": "markdown",
   "metadata": {},
   "source": [
    "### Eventos en última semana\n",
    "\n",
    "Checkouts y conversiones por usuario en la última semana registrada"
   ]
  },
  {
   "cell_type": "code",
   "execution_count": null,
   "metadata": {},
   "outputs": [],
   "source": [
    "gb = df[df['timestamp'] > pd.to_datetime('2018-05-23')].groupby('person')\n",
    "udf_tmp4 = gb.agg({'is_conversion':'sum', 'is_checkout':'sum'})\n",
    "udf_tmp4.columns = ['total_conversions_last_week', 'total_checkouts_last_week']\n",
    "\n",
    "udf_tmp4['total_checkouts_last_week'] = udf_tmp4['total_checkouts_last_week'].astype('int')\n",
    "udf_tmp4['total_conversions_last_week'] = udf_tmp4['total_conversions_last_week'].astype('int')\n",
    "\n",
    "udf_tmp4['has_checkout_last_week'] = udf_tmp4['total_checkouts_last_week'] > 0\n",
    "udf_tmp4['has_conversion_last_week'] = udf_tmp4['total_conversions_last_week'] > 0\n",
    "\n",
    "udf_tmp4 = udf_tmp4.astype('int')\n",
    "\n",
    "udf_tmp1.head()"
   ]
  },
  {
   "cell_type": "markdown",
   "metadata": {},
   "source": [
    "### Distribución mensual de las conversiones\n",
    "\n",
    "Cuan esparcidas (en meses) estan las conversiones de los usuarios"
   ]
  },
  {
   "cell_type": "code",
   "execution_count": null,
   "metadata": {},
   "outputs": [],
   "source": [
    "udf_tmp5 = udf_tmp2['has_conversion_month_1']\n",
    "for i in range(2,6):\n",
    "    udf_tmp5 = udf_tmp5 + udf_tmp2['has_conversion_month_{}'.format(i)]\n",
    "    \n",
    "udf_tmp5 = udf_tmp5.to_frame()\n",
    "udf_tmp5.columns = ['amount_of_months_that_has_bought']\n",
    "\n",
    "for i in range(6):\n",
    "    print('Users that have bought in {} different months: {}'.format(i, len(udf_tmp5[udf_tmp5['amount_of_months_that_has_bought'] >= i])))\n",
    "\n",
    "udf_tmp5.head()"
   ]
  },
  {
   "cell_type": "markdown",
   "metadata": {},
   "source": [
    "### Informacion de los últimos eventos registrados por usuario\n",
    "\n",
    "Información como días hasta la última conversión, que día de la semana fue esta y demás.\n",
    "\n",
    "(En esta celda por evento nos referimos a cualquier tipo de evento)"
   ]
  },
  {
   "cell_type": "code",
   "execution_count": null,
   "metadata": {},
   "outputs": [],
   "source": [
    "df_event = df.groupby('person').agg({'timestamp':'max'})\n",
    "df_event.columns = ['timestamp_last_event']\n",
    "\n",
    "df_checkout = df[df['event'] == 'checkout']\n",
    "df_checkout = df_checkout.groupby('person').agg({'timestamp': 'max'})\n",
    "df_checkout.columns = ['timestamp_last_checkout']\n",
    "\n",
    "df_conversion = df[df['event'] == 'conversion']\n",
    "df_conversion = df_conversion.groupby('person').agg({'timestamp': 'max'})\n",
    "df_conversion.columns = ['timestamp_last_conversion']\n",
    "\n",
    "df_viewed_product = df[df['event'] == 'viewed_product']\n",
    "df_viewed_product = df_viewed_product.groupby('person').agg({'timestamp': 'max'})\n",
    "df_viewed_product.columns = ['timestamp_last_viewed_product']\n",
    "\n",
    "df_timelapse = df_event.merge(df_checkout, how='outer', on='person')\n",
    "df_timelapse = df_timelapse.merge(df_conversion, how='outer', on='person')\n",
    "df_timelapse = df_timelapse.merge(df_viewed_product, how='outer', on='person')\n",
    "\n",
    "#Fecha arbitraria cuando el usuario nunca hizo checkout/conversion/viewed_product\n",
    "df_timelapse = df_timelapse.fillna(pd.to_datetime('2018-01-01')) \n",
    "\n",
    "df_timelapse.head()"
   ]
  },
  {
   "cell_type": "code",
   "execution_count": null,
   "metadata": {},
   "outputs": [],
   "source": [
    "udf_tmp6 = df_timelapse.loc[:]\n",
    "\n",
    "udf_tmp6['days_to_last_event'] = pd.to_datetime('2018-06-01').dayofyear - df_timelapse['timestamp_last_event'].dt.dayofyear\n",
    "\n",
    "udf_tmp6['days_to_last_checkout'] = df_timelapse['timestamp_last_event'].dt.dayofyear - df_timelapse['timestamp_last_checkout'].dt.dayofyear\n",
    "udf_tmp6['days_to_last_conversion'] = df_timelapse['timestamp_last_event'].dt.dayofyear - df_timelapse['timestamp_last_conversion'].dt.dayofyear\n",
    "udf_tmp6['days_to_last_viewed_product'] = df_timelapse['timestamp_last_event'].dt.dayofyear - df_timelapse['timestamp_last_viewed_product'].dt.dayofyear\n",
    "\n",
    "udf_tmp6.head()"
   ]
  },
  {
   "cell_type": "code",
   "execution_count": null,
   "metadata": {},
   "outputs": [],
   "source": [
    "udf_tmp6['doy_last_event'] = udf_tmp6['timestamp_last_event'].dt.dayofyear\n",
    "udf_tmp6['dow_last_event'] = udf_tmp6['timestamp_last_event'].dt.dayofweek\n",
    "udf_tmp6['dom_last_event'] = udf_tmp6['timestamp_last_event'].dt.day\n",
    "udf_tmp6['woy_last_event'] = udf_tmp6['timestamp_last_event'].dt.weekofyear\n",
    "\n",
    "udf_tmp6['doy_last_checkout'] = udf_tmp6['timestamp_last_checkout'].dt.dayofyear\n",
    "udf_tmp6['dow_last_checkout'] = udf_tmp6['timestamp_last_checkout'].dt.dayofweek\n",
    "udf_tmp6['dom_last_checkout'] = udf_tmp6['timestamp_last_checkout'].dt.day\n",
    "udf_tmp6['woy_last_checkout'] = udf_tmp6['timestamp_last_checkout'].dt.weekofyear\n",
    "\n",
    "udf_tmp6['doy_last_conversion'] = udf_tmp6['timestamp_last_conversion'].dt.dayofyear\n",
    "udf_tmp6['dow_last_conversion'] = udf_tmp6['timestamp_last_conversion'].dt.dayofweek\n",
    "udf_tmp6['dom_last_conversion'] = udf_tmp6['timestamp_last_conversion'].dt.day\n",
    "udf_tmp6['woy_last_conversion'] = udf_tmp6['timestamp_last_conversion'].dt.weekofyear\n",
    "\n",
    "udf_tmp6['doy_last_viewed_product'] = udf_tmp6['timestamp_last_viewed_product'].dt.dayofyear\n",
    "udf_tmp6['dow_last_viewed_product'] = udf_tmp6['timestamp_last_viewed_product'].dt.dayofweek\n",
    "udf_tmp6['dom_last_viewed_product'] = udf_tmp6['timestamp_last_viewed_product'].dt.day\n",
    "udf_tmp6['woy_last_viewed_product'] = udf_tmp6['timestamp_last_viewed_product'].dt.weekofyear\n",
    "\n",
    "\n",
    "udf_tmp6.head()"
   ]
  },
  {
   "cell_type": "markdown",
   "metadata": {},
   "source": [
    "---\n",
    "\n",
    "**Se guarda todo en `user-features.csv`**"
   ]
  },
  {
   "cell_type": "code",
   "execution_count": null,
   "metadata": {},
   "outputs": [],
   "source": [
    "udf = udf_tmp1\n",
    "udf = udf.merge(udf_tmp2, how='outer', on='person')\n",
    "udf = udf.merge(udf_tmp3, how='outer', on='person')\n",
    "udf = udf.merge(udf_tmp4, how='outer', on='person')\n",
    "udf = udf.merge(udf_tmp5, how='outer', on='person')\n",
    "udf = udf.merge(udf_tmp6, how='outer', on='person')\n",
    "\n",
    "udf = udf.fillna(0)\n",
    "udf = udf.astype('int')\n",
    "\n",
    "udf.head()"
   ]
  },
  {
   "cell_type": "code",
   "execution_count": null,
   "metadata": {},
   "outputs": [],
   "source": [
    "# Confirmamos no haber perdido datos en el medio\n",
    "\n",
    "assert(len(udf)==len(df['person'].unique()))\n",
    "display(len(udf))"
   ]
  },
  {
   "cell_type": "code",
   "execution_count": null,
   "metadata": {},
   "outputs": [],
   "source": [
    "udf.reset_index().to_csv('data/user-features.csv', index=False)"
   ]
  }
 ],
 "metadata": {
  "kernelspec": {
   "display_name": "Python 3",
   "language": "python",
   "name": "python3"
  },
  "language_info": {
   "codemirror_mode": {
    "name": "ipython",
    "version": 3
   },
   "file_extension": ".py",
   "mimetype": "text/x-python",
   "name": "python",
   "nbconvert_exporter": "python",
   "pygments_lexer": "ipython3",
   "version": "3.6.6"
  },
  "toc": {
   "base_numbering": 1,
   "nav_menu": {},
   "number_sections": false,
   "sideBar": true,
   "skip_h1_title": true,
   "title_cell": "Table of Contents",
   "title_sidebar": "Contents",
   "toc_cell": false,
   "toc_position": {},
   "toc_section_display": true,
   "toc_window_display": true
  }
 },
 "nbformat": 4,
 "nbformat_minor": 2
}
