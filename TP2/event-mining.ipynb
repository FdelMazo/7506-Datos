{
 "cells": [
  {
   "cell_type": "markdown",
   "metadata": {},
   "source": [
    "# [75.06 / 95.58] Organización de Datos <br> Trabajo Práctico 1: Análisis Exploratorio de Datos <br> Notebook Anexo\n",
    "\n",
    "**Grupo 30: Datatouille**\n",
    "\n",
    "- 101055 - Bojman, Camila\n",
    "- 100029 - del Mazo, Federico\n",
    "- 100687 - Hortas, Cecilia\n",
    "- 97649 - Souto, Rodrigo\n",
    "\n",
    "**https://github.com/FdelMazo/7506-Datos**\n",
    "\n",
    "**https://kaggle.com/datatouille2018/7506-TP1/**\n",
    "\n",
    "**https://kaggle.com/datatouille2018/7506-TP1-anexo/**\n",
    "\n",
    "Presentamos aca un anexo al trabajo práctico, donde se generan los sets de datos adicionales usados por el TP principal."
   ]
  },
  {
   "cell_type": "code",
   "execution_count": null,
   "metadata": {},
   "outputs": [],
   "source": [
    "import pandas as pd\n",
    "import numpy as np\n",
    "\n",
    "df = pd.read_csv('./data/events_up_to_01062018.csv', low_memory=False)\n",
    "df['timestamp'] = pd.to_datetime(df['timestamp'])"
   ]
  },
  {
   "cell_type": "code",
   "execution_count": null,
   "metadata": {},
   "outputs": [],
   "source": [
    "df.head()"
   ]
  },
  {
   "cell_type": "markdown",
   "metadata": {},
   "source": [
    "### brands.csv"
   ]
  },
  {
   "cell_type": "code",
   "execution_count": null,
   "metadata": {},
   "outputs": [],
   "source": [
    "checked = ['iphone', 'samsung', 'motorola', 'lenovo', 'sony', 'lg', 'ipad', 'asus', 'quantum', 'blackberry']\n",
    "model_parsed = df['model'].dropna().map(lambda x: x.lower())\n",
    "model_parsed = model_parsed.map(lambda x: x.split())\n",
    "\n",
    "def find_brand(model):\n",
    "    for str in model:\n",
    "        if str in checked:\n",
    "            return str\n",
    "    return \"other\"\n",
    "\n",
    "\n",
    "df['brand'] = model_parsed.map(find_brand)\n",
    "df['brand'] = df['brand'].astype('category')\n",
    "#df[['model', 'brand']].dropna().drop_duplicates().to_csv('data/brands.csv', index=False)\n",
    "df[['model', 'brand']]"
   ]
  },
  {
   "cell_type": "code",
   "execution_count": null,
   "metadata": {},
   "outputs": [],
   "source": [
    "df[df['brand'] == 'blackberry']"
   ]
  },
  {
   "cell_type": "code",
   "execution_count": null,
   "metadata": {},
   "outputs": [],
   "source": [
    "brands_csv = pd.read_csv(\"data/brands.csv\", low_memory=False)\n",
    "display(brands_csv.head())\n",
    "brands_csv.shape"
   ]
  },
  {
   "cell_type": "markdown",
   "metadata": {},
   "source": [
    "### os.csv"
   ]
  },
  {
   "cell_type": "code",
   "execution_count": null,
   "metadata": {},
   "outputs": [],
   "source": [
    "df['operating_system_version'].unique()"
   ]
  },
  {
   "cell_type": "code",
   "execution_count": null,
   "metadata": {},
   "outputs": [],
   "source": [
    "checked = ['windows', 'android', 'linux', 'mac', 'ios', 'ubuntu', 'chrome os', 'tizen', 'blackberry', 'other']\n",
    "os_version_parsed = df['operating_system_version'].dropna().map(lambda x: x.lower())\n",
    "\n",
    "def find_os(os_version):\n",
    "    for os in checked:\n",
    "        if os in os_version:\n",
    "            return os\n",
    "    return \"another\"\n",
    "\n",
    "\n",
    "df['operating_system'] = os_version_parsed.map(find_os)\n",
    "df['operating_system'] = df['operating_system'].astype('category')"
   ]
  },
  {
   "cell_type": "code",
   "execution_count": null,
   "metadata": {},
   "outputs": [],
   "source": [
    "# Chequeamos cuantos os quedaron con el nombre 'another' (idealmente, ninguno)\n",
    "df[['operating_system_version', 'operating_system']].dropna().head(10)\n",
    "df[df['operating_system'] == 'another'][['operating_system_version', 'operating_system']].head(10)"
   ]
  },
  {
   "cell_type": "code",
   "execution_count": null,
   "metadata": {},
   "outputs": [],
   "source": [
    "df['operating_system'].value_counts()"
   ]
  },
  {
   "cell_type": "code",
   "execution_count": null,
   "metadata": {},
   "outputs": [],
   "source": [
    "df[['operating_system_version', 'operating_system']].dropna().drop_duplicates().to_csv('data/os.csv', index=False)"
   ]
  },
  {
   "cell_type": "code",
   "execution_count": null,
   "metadata": {},
   "outputs": [],
   "source": [
    "os_csv = pd.read_csv(\"data/os.csv\", low_memory=False)\n",
    "display(os_csv.head())\n",
    "os_csv.shape"
   ]
  },
  {
   "cell_type": "markdown",
   "metadata": {},
   "source": [
    "### browsers.csv"
   ]
  },
  {
   "cell_type": "code",
   "execution_count": null,
   "metadata": {},
   "outputs": [],
   "source": [
    "checked = ['mobile safari', 'chrome mobile', 'ie mobile', 'firefox mobile', 'edge mobile', 'opera mobile',\n",
    "           'mobile', 'blackberry os', 'blackberry webkit', 'chrome', 'android', 'opera', 'ie', 'firefox', \n",
    "           'facebook', 'samsung', 'chromium', 'edge', 'yandex', 'uc', \n",
    "           'other', 'safari', 'puffin', 'maxthon', 'vivaldi', 'pinterest']\n",
    "browser_version_parsed = df['browser_version'].dropna().map(lambda x: x.lower())\n",
    "\n",
    "def find_browser(browser_version):\n",
    "    for browser in checked:\n",
    "        if browser in browser_version:\n",
    "            return browser\n",
    "    return \"other\"\n",
    "\n",
    "\n",
    "df['browser'] = browser_version_parsed.map(find_browser)\n",
    "df['browser'] = df['browser'].astype('category')"
   ]
  },
  {
   "cell_type": "code",
   "execution_count": null,
   "metadata": {},
   "outputs": [],
   "source": [
    "df[['browser_version', 'browser']].dropna()\n",
    "display(df['browser'].value_counts().head())\n",
    "df[['browser_version', 'browser']].head()\n",
    "df[df['browser'] == 'other']['browser_version']"
   ]
  },
  {
   "cell_type": "code",
   "execution_count": null,
   "metadata": {},
   "outputs": [],
   "source": [
    "display(df[['browser_version', 'browser']].dropna().drop_duplicates().head())\n",
    "df[['browser_version', 'browser']].dropna().drop_duplicates().to_csv('data/browsers.csv', index=False)"
   ]
  },
  {
   "cell_type": "code",
   "execution_count": null,
   "metadata": {},
   "outputs": [],
   "source": [
    "browsers_csv = pd.read_csv(\"data/browsers.csv\", low_memory=False)\n",
    "display(browsers_csv.head())\n",
    "browsers_csv.shape"
   ]
  },
  {
   "cell_type": "markdown",
   "metadata": {},
   "source": [
    "## sessions.csv"
   ]
  },
  {
   "cell_type": "markdown",
   "metadata": {},
   "source": [
    "Definimos una sesión como una serie de eventos por usuario, los cuales están todos con menos de 30 minutos de inactividad entre el actual y el anterior."
   ]
  },
  {
   "cell_type": "code",
   "execution_count": null,
   "metadata": {},
   "outputs": [],
   "source": [
    "funnel = df\n",
    "funnel = funnel.sort_values(['person', 'timestamp'])\n",
    "funnel.head()"
   ]
  },
  {
   "cell_type": "code",
   "execution_count": null,
   "metadata": {},
   "outputs": [],
   "source": [
    "funnel['time_diff'] = funnel.groupby('person')['timestamp'].diff()\n",
    "funnel['time_diff'] = funnel['time_diff'].fillna(0)\n",
    "funnel['time_diff_min'] = funnel['time_diff'] / np.timedelta64(1, 'm')"
   ]
  },
  {
   "cell_type": "code",
   "execution_count": null,
   "metadata": {},
   "outputs": [],
   "source": [
    "funnel[['person', 'event', 'timestamp', 'time_diff', 'time_diff_min']]"
   ]
  },
  {
   "cell_type": "code",
   "execution_count": null,
   "metadata": {},
   "outputs": [],
   "source": [
    "THRESHOLD = 30 # minutes\n",
    "\n",
    "funnel['new_session'] = funnel['time_diff_min'] > THRESHOLD\n",
    "funnel['session_id'] = funnel.groupby('person')['new_session'].cumsum()\n",
    "funnel['session_id'] = funnel['session_id'].astype('int')"
   ]
  },
  {
   "cell_type": "code",
   "execution_count": null,
   "metadata": {},
   "outputs": [],
   "source": [
    "funnel[['person', 'new_session', 'session_id']].head(20)"
   ]
  },
  {
   "cell_type": "code",
   "execution_count": null,
   "metadata": {},
   "outputs": [],
   "source": [
    "gb = funnel.groupby(['person', 'session_id'])\n",
    "\n",
    "funnel['session_cumno'] = gb.cumcount()\n",
    "funnel['session_total_events'] = gb['session_cumno'].transform(lambda x: x.size)\n",
    "funnel['session_first'] = funnel['session_cumno'] == 0\n",
    "funnel['session_last'] = funnel['session_cumno'] == (-1+funnel['session_total_events'])"
   ]
  },
  {
   "cell_type": "code",
   "execution_count": null,
   "metadata": {},
   "outputs": [],
   "source": [
    "cols = ['person', 'timestamp', 'time_diff_min', \\\n",
    "        'session_id', 'event', 'session_total_events', \\\n",
    "        'session_cumno', 'session_first', 'session_last']\n",
    "funnel[cols]"
   ]
  },
  {
   "cell_type": "code",
   "execution_count": null,
   "metadata": {},
   "outputs": [],
   "source": [
    "funnel['is_conversion'] = funnel['event'] == 'conversion'\n",
    "gb = funnel.groupby(['person', 'session_id'])\n",
    "funnel['session_total_conversions'] = gb['is_conversion'].transform(lambda x: x.sum())\n",
    "funnel['session_has_conversion'] = funnel['session_total_conversions'] > 0"
   ]
  },
  {
   "cell_type": "code",
   "execution_count": null,
   "metadata": {},
   "outputs": [],
   "source": [
    "funnel.head()"
   ]
  },
  {
   "cell_type": "code",
   "execution_count": null,
   "metadata": {},
   "outputs": [],
   "source": [
    "funnel['is_checkout'] = funnel['event'] == 'checkout'\n",
    "gb = funnel.groupby(['person', 'session_id'])\n",
    "funnel['session_total_checkouts'] = gb['is_checkout'].transform(lambda x: x.sum())\n",
    "funnel['session_has_checkout'] = funnel['session_total_checkouts'] > 0\n",
    "funnel.head()"
   ]
  },
  {
   "cell_type": "code",
   "execution_count": null,
   "metadata": {},
   "outputs": [],
   "source": [
    "funnel['ad_origin'] = (funnel['event'] == 'ad campaign hit') & funnel['session_first']\n",
    "gb = funnel.groupby(['person', 'session_id'])\n",
    "funnel['session_ad'] = gb['ad_origin'].transform(lambda x: x.sum())\n",
    "funnel['session_ad'] = funnel['session_ad'] > 0\n",
    "funnel.head()"
   ]
  },
  {
   "cell_type": "code",
   "execution_count": null,
   "metadata": {},
   "outputs": [],
   "source": [
    "funnel[cols]"
   ]
  },
  {
   "cell_type": "code",
   "execution_count": null,
   "metadata": {},
   "outputs": [],
   "source": [
    "cols_csv = ['time_diff_min', \\\n",
    "        'session_id', 'session_total_events', \\\n",
    "        'session_cumno', 'session_first', 'session_last', \\\n",
    "        'session_total_conversions', 'session_has_conversion', \\\n",
    "        'session_total_checkouts', 'session_has_checkout', 'session_ad']\n",
    "\n",
    "funnel = funnel.sort_index()\n",
    "funnel[cols]"
   ]
  },
  {
   "cell_type": "code",
   "execution_count": null,
   "metadata": {},
   "outputs": [],
   "source": [
    "cols_check_ord = ['person', 'timestamp', 'time_diff_min', \\\n",
    "        'session_id', 'session_total_events', \\\n",
    "        'session_cumno', 'session_first', 'session_last', \\\n",
    "        'session_total_conversions', 'session_has_conversion', \\\n",
    "        'session_total_checkouts', 'session_has_checkout', 'session_ad']\n",
    "\n",
    "# IMPRIMIR ORDENADOS\n",
    "funnel.sort_values(['person', 'timestamp'])[cols_check_ord]"
   ]
  },
  {
   "cell_type": "code",
   "execution_count": null,
   "metadata": {},
   "outputs": [],
   "source": [
    "# PASAR A CSV\n",
    "funnel[cols_csv].to_csv('data/sessions.csv', index=False)"
   ]
  },
  {
   "cell_type": "code",
   "execution_count": null,
   "metadata": {},
   "outputs": [],
   "source": [
    "sessions_csv = pd.read_csv(\"data/sessions.csv\", low_memory=False)\n",
    "display(sessions_csv.head())\n",
    "sessions_csv.shape"
   ]
  }
 ],
 "metadata": {
  "kernelspec": {
   "display_name": "Python 3",
   "language": "python",
   "name": "python3"
  },
  "language_info": {
   "codemirror_mode": {
    "name": "ipython",
    "version": 3
   },
   "file_extension": ".py",
   "mimetype": "text/x-python",
   "name": "python",
   "nbconvert_exporter": "python",
   "pygments_lexer": "ipython3",
   "version": "3.6.5"
  },
  "toc": {
   "base_numbering": 1,
   "nav_menu": {},
   "number_sections": false,
   "sideBar": true,
   "skip_h1_title": true,
   "title_cell": "Table of Contents",
   "title_sidebar": "Contents",
   "toc_cell": false,
   "toc_position": {},
   "toc_section_display": true,
   "toc_window_display": true
  }
 },
 "nbformat": 4,
 "nbformat_minor": 2
}
