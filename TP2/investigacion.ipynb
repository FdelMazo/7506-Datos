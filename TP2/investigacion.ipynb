{
 "cells": [
  {
   "cell_type": "markdown",
   "metadata": {},
   "source": [
    "# [75.06 / 95.58] Organización de Datos <br> Trabajo Práctico 2: Machine Learning\n",
    "\n",
    "# Investigación Previa\n",
    "\n",
    "**Grupo 30: Datatouille**\n",
    "\n",
    "**http://fdelmazo.github.io/7506-Datos/**"
   ]
  },
  {
   "cell_type": "markdown",
   "metadata": {},
   "source": [
    "Este notebook pretende, con mucha ayuda del trabajo realizado en el [TP1](https://fdelmazo.github.io/7506-Datos/TP1/TP1.html), encontrar y recopilar información a utilizar en el resto del trabajo."
   ]
  },
  {
   "cell_type": "code",
   "execution_count": null,
   "metadata": {},
   "outputs": [],
   "source": [
    "import pandas as pd\n",
    "import numpy as np\n",
    "from ggplot import * # pip install ggplot # https://stackoverflow.com/a/50607072/10728610\n",
    "import time\n",
    "from sklearn.manifold import TSNE\n",
    "import sklearn.cluster as cluster\n",
    "import matplotlib.pyplot as plt\n",
    "import seaborn as sns\n",
    "%matplotlib inline\n",
    "\n",
    "# !unzip -q ../TP1/data/events.zip -d ../TP1/data\n",
    "df_tp1 = pd.read_csv('../TP1/data/events.csv', low_memory=False)\n",
    "df_tp2 = pd.read_csv('./data/events_up_to_01062018.csv', low_memory=False)\n",
    "df_labels = pd.read_csv('./data/labels_training_set.csv', low_memory=False)"
   ]
  },
  {
   "cell_type": "markdown",
   "metadata": {},
   "source": [
    "## Comparación TP1 y TP2"
   ]
  },
  {
   "cell_type": "code",
   "execution_count": null,
   "metadata": {},
   "outputs": [],
   "source": [
    "def labelize(df):\n",
    "    df_tmp = df\n",
    "    df_tmp['timestamp'] = pd.to_datetime(df_tmp['timestamp'])\n",
    "    \n",
    "    df_tmp['is_useful_conversion'] = (df_tmp['event'] == 'conversion') \\\n",
    "        & (df_tmp['timestamp'] > pd.to_datetime('2018-06-01'))\n",
    "    \n",
    "    df_tmp = df_tmp[['person', 'is_useful_conversion']]\n",
    "    gb = df_tmp.groupby('person')\n",
    "    df_tmp = gb.sum()\n",
    "    df_tmp.columns = ['label']\n",
    "    df_tmp['label'] = df_tmp['label'].astype('bool')\n",
    "    df_tmp['label'] = df_tmp['label'].astype('int')\n",
    "    \n",
    "    return df_tmp"
   ]
  },
  {
   "cell_type": "code",
   "execution_count": null,
   "metadata": {},
   "outputs": [],
   "source": [
    "df_tp1_labels = labelize(df_tp1)\n",
    "\n",
    "display(df_tp1_labels.head())\n",
    "display(\"Usuarios en TP1: \" + str(len(df_tp1_labels)))\n",
    "display(\"Usuarios que no convirtieron: \" + str(len(df_tp1_labels[df_tp1_labels['label'] == 0])))\n",
    "display(\"Usuarios que convirtieron: \" + str(len(df_tp1_labels[df_tp1_labels['label'] == 1])))"
   ]
  },
  {
   "cell_type": "code",
   "execution_count": null,
   "metadata": {},
   "outputs": [],
   "source": [
    "df_tp2_labels = labelize(df_tp2)\n",
    "\n",
    "display(df_tp2_labels.head())\n",
    "display(\"Usuarios en TP2: \" + str(len(df_tp2_labels)))\n",
    "display(\"Usuarios que no convirtieron: \" + str(len(df_tp2_labels[df_tp2_labels['label'] == 0])))\n",
    "display(\"Usuarios que convirtieron: \" + str(len(df_tp2_labels[df_tp2_labels['label'] == 1])))"
   ]
  },
  {
   "cell_type": "code",
   "execution_count": null,
   "metadata": {},
   "outputs": [],
   "source": [
    "# Chequeando que todos los usuarios tienen actividad después de 2018-06-01\n",
    "df_tmp = df_tp1\n",
    "df_tmp['timestamp'] = pd.to_datetime(df_tmp['timestamp'])\n",
    "df_tmp = df_tmp.loc[df_tmp['timestamp'] > pd.to_datetime('2018-06-01')]\n",
    "\n",
    "display(len(df_tp1['person'].unique()))\n",
    "display(len(df_tmp['person'].unique()))\n",
    "display(len(df_tmp[df_tmp['timestamp'] < pd.to_datetime('2018-06-16')]['person'].unique()))"
   ]
  },
  {
   "cell_type": "code",
   "execution_count": null,
   "metadata": {},
   "outputs": [],
   "source": [
    "display(\"Usuarios en set de entrenamiento: \" + str(len(df_labels)))\n",
    "display(\"Usuarios que no convirtieron: \" + str(len(df_labels[df_labels['label'] == 0])))\n",
    "display(\"Usuarios que convirtieron: \" + str(len(df_labels[df_labels['label'] == 1])))"
   ]
  },
  {
   "cell_type": "markdown",
   "metadata": {},
   "source": [
    "**Información Recopilada**\n",
    "\n",
    "1. No se repiten usuarios en los datasets.\n",
    "2. En el **primer** dataset (TP1) hay 27624 usuarios.\n",
    "3. De los cuales 13967 tuvieron actividad en Junio.\n",
    "4. Entre el 1 y el 15 (inclusive) de Junio 82 usuarios compraron productos.\n",
    "2. En el **segundo** dataset hay 19414 usuarios.\n",
    "3. De los cuales 980 compraron en Junio.\n",
    "\n",
    "**Conclusión**\n",
    "\n",
    "Hacer un merge de los datos del TP1 con los del TP2 presentaría un *skewness* en el set de datos, por la despreciabilidad de estos. Es mejor no hacerlo."
   ]
  },
  {
   "cell_type": "markdown",
   "metadata": {},
   "source": [
    "## Visualización con reducción de dimensiones"
   ]
  },
  {
   "cell_type": "markdown",
   "metadata": {},
   "source": [
    "Usamos TSNE"
   ]
  },
  {
   "cell_type": "code",
   "execution_count": null,
   "metadata": {},
   "outputs": [],
   "source": [
    "df_users = pd.read_csv('data/user-features.csv',low_memory=False).set_index('person')"
   ]
  },
  {
   "cell_type": "code",
   "execution_count": null,
   "metadata": {},
   "outputs": [],
   "source": [
    "time_start = time.time()\n",
    "tsne = TSNE(n_components=2, verbose=1, perplexity=3, n_iter=300)\n",
    "tsne_results = tsne.fit_transform(df_users.values)\n",
    "\n",
    "print('t-SNE done! Time elapsed: {} seconds'.format(time.time()-time_start))"
   ]
  },
  {
   "cell_type": "code",
   "execution_count": null,
   "metadata": {},
   "outputs": [],
   "source": [
    "df_tsne = df_users.copy()\n",
    "df_tsne['x-tsne'] = tsne_results[:,0]\n",
    "df_tsne['y-tsne'] = tsne_results[:,1]\n",
    "\n",
    "chart = ggplot(df_tsne, aes(x='x-tsne', y='y-tsne', color='has_conversion') ) \\\n",
    "        + geom_point(size=70,alpha=0.1) \\\n",
    "        + ggtitle(\"tSNE dimensions colored by has_conversion\")\n",
    "chart"
   ]
  },
  {
   "cell_type": "markdown",
   "metadata": {},
   "source": [
    "Ahora ploteamos con K-means"
   ]
  },
  {
   "cell_type": "code",
   "execution_count": null,
   "metadata": {},
   "outputs": [],
   "source": [
    "sns.set_context('poster')\n",
    "sns.set_color_codes()\n",
    "plot_kwds = {'alpha' : 0.25, 's' : 80, 'linewidths':0}"
   ]
  },
  {
   "cell_type": "code",
   "execution_count": null,
   "metadata": {},
   "outputs": [],
   "source": [
    "plt.scatter(df_users.T[], df_users.T[1], c='b', **plot_kwds)\n",
    "frame = plt.gca()\n",
    "frame.axes.get_xaxis().set_visible(False)\n",
    "frame.axes.get_yaxis().set_visible(False)"
   ]
  },
  {
   "cell_type": "code",
   "execution_count": null,
   "metadata": {},
   "outputs": [],
   "source": [
    "def plot_clusters(data, algorithm, args, kwds):\n",
    "    start_time = time.time()\n",
    "    labels = algorithm(*args, **kwds).fit_predict(data)\n",
    "    end_time = time.time()\n",
    "    palette = sns.color_palette('deep', np.unique(labels).max() + 1)\n",
    "    colors = [palette[x] if x >= 0 else (0.0, 0.0, 0.0) for x in labels]\n",
    "    plt.scatter(data.T[0], data.T[1], c=colors, **plot_kwds)\n",
    "    frame = plt.gca()\n",
    "    frame.axes.get_xaxis().set_visible(False)\n",
    "    frame.axes.get_yaxis().set_visible(False)\n",
    "    plt.title('Clusters found by {}'.format(str(algorithm.__name__)), fontsize=24)\n",
    "    plt.text(-0.5, 0.7, 'Clustering took {:.2f} s'.format(end_time - start_time), fontsize=14)"
   ]
  },
  {
   "cell_type": "code",
   "execution_count": null,
   "metadata": {},
   "outputs": [],
   "source": [
    "plot_clusters(df_users, cluster.KMeans, (), {'n_clusters':6})"
   ]
  }
 ],
 "metadata": {
  "kernelspec": {
   "display_name": "Python 3",
   "language": "python",
   "name": "python3"
  },
  "language_info": {
   "codemirror_mode": {
    "name": "ipython",
    "version": 3
   },
   "file_extension": ".py",
   "mimetype": "text/x-python",
   "name": "python",
   "nbconvert_exporter": "python",
   "pygments_lexer": "ipython3",
   "version": "3.6.6"
  },
  "toc": {
   "base_numbering": 1,
   "nav_menu": {},
   "number_sections": false,
   "sideBar": true,
   "skip_h1_title": false,
   "title_cell": "Table of Contents",
   "title_sidebar": "Contents",
   "toc_cell": false,
   "toc_position": {
    "height": "calc(100% - 180px)",
    "left": "10px",
    "top": "150px",
    "width": "273.2px"
   },
   "toc_section_display": true,
   "toc_window_display": false
  }
 },
 "nbformat": 4,
 "nbformat_minor": 2
}
