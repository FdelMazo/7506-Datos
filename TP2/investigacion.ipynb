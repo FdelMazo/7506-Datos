{
 "cells": [
  {
   "cell_type": "markdown",
   "metadata": {},
   "source": [
    "# [75.06 / 95.58] Organización de Datos <br> Trabajo Práctico 2: Machine Learning\n",
    "\n",
    "# Investigación Previa\n",
    "\n",
    "**Grupo 30: Datatouille**\n",
    "\n",
    "**http://fdelmazo.github.io/7506-Datos/**"
   ]
  },
  {
   "cell_type": "markdown",
   "metadata": {},
   "source": [
    "Este notebook pretende, con mucha ayuda del trabajo realizado en el [TP1](https://fdelmazo.github.io/7506-Datos/TP1/TP1.html), encontrar y recopilar información a utilizar en el resto del trabajo."
   ]
  },
  {
   "cell_type": "code",
   "execution_count": null,
   "metadata": {},
   "outputs": [],
   "source": [
    "import pandas as pd\n",
    "import numpy as np\n",
    "from ggplot import * # pip install ggplot # https://stackoverflow.com/a/50607072/10728610\n",
    "import time\n",
    "from sklearn.manifold import TSNE\n",
    "import sklearn.cluster as cluster\n",
    "import matplotlib.pyplot as plt\n",
    "import seaborn as sns\n",
    "%matplotlib inline\n",
    "\n",
    "# !unzip -q ../TP1/data/events.zip -d ../TP1/data\n",
    "df_tp1 = pd.read_csv('../TP1/data/events.csv', low_memory=False)\n",
    "df_tp2 = pd.read_csv('./data/events_up_to_01062018.csv', low_memory=False)\n",
    "df_labels = pd.read_csv('./data/labels_training_set.csv', low_memory=False)"
   ]
  },
  {
   "cell_type": "markdown",
   "metadata": {},
   "source": [
    "## Comparación TP1 y TP2"
   ]
  },
  {
   "cell_type": "code",
   "execution_count": null,
   "metadata": {},
   "outputs": [],
   "source": [
    "def labelize(df):\n",
    "    df_tmp = df\n",
    "    df_tmp['timestamp'] = pd.to_datetime(df_tmp['timestamp'])\n",
    "    \n",
    "    df_tmp['is_useful_conversion'] = (df_tmp['event'] == 'conversion') \\\n",
    "        & (df_tmp['timestamp'] > pd.to_datetime('2018-06-01'))\n",
    "    \n",
    "    df_tmp = df_tmp[['person', 'is_useful_conversion']]\n",
    "    gb = df_tmp.groupby('person')\n",
    "    df_tmp = gb.sum()\n",
    "    df_tmp.columns = ['label']\n",
    "    df_tmp['label'] = df_tmp['label'].astype('bool')\n",
    "    df_tmp['label'] = df_tmp['label'].astype('int')\n",
    "    \n",
    "    return df_tmp"
   ]
  },
  {
   "cell_type": "code",
   "execution_count": null,
   "metadata": {},
   "outputs": [],
   "source": [
    "df_tp1_labels = labelize(df_tp1)\n",
    "\n",
    "display(df_tp1_labels.head())\n",
    "display(\"Usuarios en TP1: \" + str(len(df_tp1_labels)))\n",
    "display(\"Usuarios que no convirtieron: \" + str(len(df_tp1_labels[df_tp1_labels['label'] == 0])))\n",
    "display(\"Usuarios que convirtieron: \" + str(len(df_tp1_labels[df_tp1_labels['label'] == 1])))"
   ]
  },
  {
   "cell_type": "code",
   "execution_count": null,
   "metadata": {},
   "outputs": [],
   "source": [
    "df_tp2_labels = labelize(df_tp2)\n",
    "\n",
    "display(df_tp2_labels.head())\n",
    "display(\"Usuarios en TP2: \" + str(len(df_tp2_labels)))\n",
    "display(\"Usuarios que no convirtieron: \" + str(len(df_tp2_labels[df_tp2_labels['label'] == 0])))\n",
    "display(\"Usuarios que convirtieron: \" + str(len(df_tp2_labels[df_tp2_labels['label'] == 1])))"
   ]
  },
  {
   "cell_type": "code",
   "execution_count": null,
   "metadata": {},
   "outputs": [],
   "source": [
    "# Chequeando que todos los usuarios tienen actividad después de 2018-06-01\n",
    "df_tmp = df_tp1\n",
    "df_tmp['timestamp'] = pd.to_datetime(df_tmp['timestamp'])\n",
    "df_tmp = df_tmp.loc[df_tmp['timestamp'] > pd.to_datetime('2018-06-01')]\n",
    "\n",
    "display(len(df_tp1['person'].unique()))\n",
    "display(len(df_tmp['person'].unique()))\n",
    "display(len(df_tmp[df_tmp['timestamp'] < pd.to_datetime('2018-06-16')]['person'].unique()))"
   ]
  },
  {
   "cell_type": "code",
   "execution_count": null,
   "metadata": {},
   "outputs": [],
   "source": [
    "display(\"Usuarios en set de entrenamiento: \" + str(len(df_labels)))\n",
    "display(\"Usuarios que no convirtieron: \" + str(len(df_labels[df_labels['label'] == 0])))\n",
    "display(\"Usuarios que convirtieron: \" + str(len(df_labels[df_labels['label'] == 1])))"
   ]
  },
  {
   "cell_type": "markdown",
   "metadata": {},
   "source": [
    "**Información Recopilada**\n",
    "\n",
    "1. No se repiten usuarios en los datasets.\n",
    "2. En el **primer** dataset (TP1) hay 27624 usuarios.\n",
    "3. De los cuales 13967 tuvieron actividad en Junio.\n",
    "4. Entre el 1 y el 15 (inclusive) de Junio 82 usuarios compraron productos.\n",
    "2. En el **segundo** dataset hay 19414 usuarios.\n",
    "3. De los cuales 980 compraron en Junio.\n",
    "\n",
    "**Conclusión**\n",
    "\n",
    "Hacer un merge de los datos del TP1 con los del TP2 presentaría un *skewness* en el set de datos, por la despreciabilidad de estos. Es mejor no hacerlo."
   ]
  },
  {
   "cell_type": "markdown",
   "metadata": {},
   "source": [
    "## Visualización con reducción de dimensiones"
   ]
  },
  {
   "cell_type": "markdown",
   "metadata": {},
   "source": [
    "Usamos TSNE"
   ]
  },
  {
   "cell_type": "code",
   "execution_count": null,
   "metadata": {},
   "outputs": [],
   "source": [
    "df_users = pd.read_csv('data/user-features.csv',low_memory=False).set_index('person')\n",
    "df_labels = pd.read_csv('data/labels_training_set.csv').groupby('person').sum()\n",
    "\n",
    "df_users = df_labels.merge(df_users, how='inner', on='person')\n",
    "del df_users['label']\n",
    "\n",
    "display(df)"
   ]
  },
  {
   "cell_type": "code",
   "execution_count": null,
   "metadata": {},
   "outputs": [],
   "source": [
    "time_start = time.time()\n",
    "tsne = TSNE(n_components=2, verbose=1, perplexity=3, n_iter=300)\n",
    "tsne_results = tsne.fit_transform(df_users.values)\n",
    "\n",
    "print('t-SNE done! Time elapsed: {} seconds'.format(time.time()-time_start))"
   ]
  },
  {
   "cell_type": "code",
   "execution_count": null,
   "metadata": {},
   "outputs": [],
   "source": [
    "df = df_users.merge(df_labels, how='inner', on='person')\n",
    "\n",
    "df_tsne = df.copy()\n",
    "df_tsne['x-tsne'] = tsne_results[:,0]\n",
    "df_tsne['y-tsne'] = tsne_results[:,1]\n",
    "\n",
    "chart = ggplot(df_tsne, aes(x='x-tsne', y='y-tsne', color='label')) \\\n",
    "        + geom_point(size=70,alpha=0.1) \\\n",
    "        + ggtitle(\"tSNE dimensions colored by has_conversion\")\n",
    "chart"
   ]
  },
  {
   "cell_type": "markdown",
   "metadata": {},
   "source": [
    "##### Ahora ploteamos con K-means"
   ]
  },
  {
   "cell_type": "code",
   "execution_count": null,
   "metadata": {},
   "outputs": [],
   "source": [
    "sns.set_context('poster')\n",
    "sns.set_color_codes()\n",
    "plot_kwds = {'alpha' : 0.25, 's' : 80, 'linewidths':0}"
   ]
  },
  {
   "cell_type": "code",
   "execution_count": null,
   "metadata": {},
   "outputs": [],
   "source": [
    "data = df_tsne.copy()\n",
    "data['x'] = data['x-tsne']\n",
    "data['y'] = data['y-tsne']\n",
    "\n",
    "plt.scatter(data['x'], data['y'], c='b', **plot_kwds)\n",
    "frame = plt.gca()\n",
    "frame.axes.get_xaxis().set_visible(False)\n",
    "frame.axes.get_yaxis().set_visible(False)"
   ]
  },
  {
   "cell_type": "code",
   "execution_count": null,
   "metadata": {},
   "outputs": [],
   "source": [
    "def plot_clusters(data, algorithm, args, kwds, plot_kwds):\n",
    "    start_time = time.time()\n",
    "    labels = algorithm(*args, **kwds).fit_predict(data)\n",
    "    end_time = time.time()\n",
    "    palette = sns.color_palette('deep', np.unique(labels).max() + 1)\n",
    "    colors = [palette[x] if x >= 0 else (0.0, 0.0, 0.0) for x in labels]\n",
    "    plt.scatter(data['x'], data['y'], c=colors, **plot_kwds)\n",
    "    frame = plt.gca()\n",
    "    frame.axes.get_xaxis().set_visible(False)\n",
    "    frame.axes.get_yaxis().set_visible(False)\n",
    "    plt.title('Clusters found by {}'.format(str(algorithm.__name__)), fontsize=24)\n",
    "    plt.text(-0.5, 0.7, 'Clustering took {:.2f} s'.format(end_time - start_time), fontsize=14)\n",
    "    return labels"
   ]
  },
  {
   "cell_type": "code",
   "execution_count": null,
   "metadata": {},
   "outputs": [],
   "source": [
    "labels = plot_clusters(data, cluster.KMeans, (), {'n_clusters':6}, plot_kwds)"
   ]
  },
  {
   "cell_type": "code",
   "execution_count": null,
   "metadata": {},
   "outputs": [],
   "source": [
    "display(labels)\n",
    "df_users['k_mean'] = labels\n",
    "\n"
   ]
  },
  {
   "cell_type": "markdown",
   "metadata": {},
   "source": [
    "##### Ahora ploteamos con HDBScan"
   ]
  },
  {
   "cell_type": "code",
   "execution_count": null,
   "metadata": {},
   "outputs": [],
   "source": [
    "import hdbscan\n",
    "plot_clusters(data, hdbscan.HDBSCAN, (), {'min_cluster_size':22}, plot_kwds)"
   ]
  },
  {
   "cell_type": "markdown",
   "metadata": {},
   "source": [
    "## Análisis comportamiento antes de compra"
   ]
  },
  {
   "cell_type": "code",
   "execution_count": null,
   "metadata": {},
   "outputs": [],
   "source": [
    "pd.set_option('display.max_rows', 500)\n",
    "pd.set_option('display.max_columns', 500)\n",
    "pd.set_option('display.width', 1000)"
   ]
  },
  {
   "cell_type": "code",
   "execution_count": null,
   "metadata": {},
   "outputs": [],
   "source": [
    "df_events = pd.read_csv('./data/events_up_to_01062018.csv', low_memory=False)\n",
    "df_sessions = pd.read_csv('./data/sessions.csv', low_memory=False)\n",
    "df_brands = pd.read_csv('./data/brands.csv')\n",
    "df_os = pd.read_csv('./data/os.csv')\n",
    "df_browsers = pd.read_csv('./data/browsers.csv')\n",
    "df_prices = pd.read_csv('./data/prices.csv')\n",
    "\n",
    "df = df_events.merge(df_sessions, how='left', left_index=True, right_index=True)\n",
    "df = df.merge(df_browsers, how='left', on='browser_version')\n",
    "df = df.merge(df_os, how='left', on='operating_system_version')\n",
    "df = df.merge(df_brands, how='left', on='model')\n",
    "df = df.merge(df_prices, how='left', on='sku')"
   ]
  },
  {
   "cell_type": "code",
   "execution_count": null,
   "metadata": {},
   "outputs": [],
   "source": [
    "df['timestamp'] = pd.to_datetime(df['timestamp'])\n",
    "df['session_timestamp_first'] = pd.to_datetime(df['session_timestamp_first'])\n",
    "df['session_timestamp_last'] = pd.to_datetime(df['session_timestamp_last'])\n",
    "df['month_number'] = df['timestamp'].dt.month\n",
    "\n",
    "df['is_viewed_product'] = df['event'] == 'viewed product'\n",
    "df['is_conversion'] = df['event'] == 'conversion'\n",
    "df['is_checkout'] = df['event'] == 'checkout'\n",
    "df['session_checkout_first'] = df['session_first'] & df['session_has_checkout']\n",
    "df['session_conversion_first'] = df['session_first'] & df['session_has_conversion']\n",
    "df['session_ad_first'] = df['session_first'] & df['session_ad']\n",
    "df['session_ad_checkout_event'] = df['session_first'] & df['session_checkout_first']\n",
    "df['session_ad_conversion_event'] = df['session_first'] & df['session_conversion_first']"
   ]
  },
  {
   "cell_type": "code",
   "execution_count": null,
   "metadata": {},
   "outputs": [],
   "source": [
    "df"
   ]
  },
  {
   "cell_type": "code",
   "execution_count": null,
   "metadata": {},
   "outputs": [],
   "source": [
    "df = df.sort_values(['person', 'timestamp'])\n",
    "df_lm = df[df['timestamp'] >= pd.to_datetime('2018-05-01')]\n",
    "df_blm = df[df['timestamp'] < pd.to_datetime('2018-05-01')]\n",
    "df_lw = df[df['timestamp'] >= pd.to_datetime('2018-05-23')]"
   ]
  },
  {
   "cell_type": "code",
   "execution_count": null,
   "metadata": {},
   "outputs": [],
   "source": [
    "amount_of_boughts = df['session_conversion_first'].sum()\n",
    "amount_of_boughts_lm = df_lm['session_conversion_first'].sum()\n",
    "amount_of_boughts_blm = df_blm['session_conversion_first'].sum()\n",
    "amount_of_boughts_lw = df_lw['session_conversion_first'].sum()\n",
    "\n",
    "users_that_bought = df[['person', 'session_conversion_first']]['person'].unique()\n",
    "users_that_bought_lm = df_lm[['person', 'session_conversion_first']]['person'].unique()\n",
    "users_that_bought_blm = df_blm[['person', 'session_conversion_first']]['person'].unique()\n",
    "users_that_bought_lw = df_lw[['person', 'session_conversion_first']]['person'].unique()\n",
    "\n",
    "amount_of_users_that_bought = len(users_that_bought)\n",
    "amount_of_users_that_bought_lm = len(users_that_bought_lm)\n",
    "amount_of_users_that_bought_blm = len(users_that_bought_blm)\n",
    "amount_of_users_that_bought_lw = len(users_that_bought_lw)\n",
    "\n",
    "print(f\"{amount_of_users_that_bought} made {amount_of_boughts} boughts.\")\n",
    "print(f\"{amount_of_users_that_bought_lm} made {amount_of_boughts_lm} boughts last month.\")\n",
    "print(f\"{amount_of_users_that_bought_blm} made {amount_of_boughts_blm} boughts before last month.\")\n",
    "print(f\"{amount_of_users_that_bought_lw} made {amount_of_boughts_lw} boughts last week.\")\n",
    "\n",
    "users_that_bought_before_and_in_lm = list(filter(lambda x: x in users_that_bought_lm, users_that_bought_blm))"
   ]
  },
  {
   "cell_type": "code",
   "execution_count": null,
   "metadata": {},
   "outputs": [],
   "source": [
    "for i in range(1, 6):\n",
    "    df_month = df[df['timestamp'].dt.month == i]\n",
    "\n",
    "    amount_of_boughts_in_month = df_month['session_conversion_first'].sum()\n",
    "    users_that_bought_in_month = df_month[['person', 'session_conversion_first']]['person'].unique()\n",
    "    amount_of_users_that_bought_in_month = len(users_that_bought_in_month)\n",
    "\n",
    "    print(f\"{amount_of_users_that_bought_in_month} made {amount_of_boughts_in_month} boughts in month {i}.\")"
   ]
  },
  {
   "cell_type": "code",
   "execution_count": null,
   "metadata": {},
   "outputs": [],
   "source": [
    "# !!!!\n",
    "df_lm[df_lm['session_total_conversions'] > 0]"
   ]
  },
  {
   "cell_type": "markdown",
   "metadata": {},
   "source": [
    "---\n",
    "\n",
    "##### Sujeto 000ba417"
   ]
  },
  {
   "cell_type": "code",
   "execution_count": null,
   "metadata": {},
   "outputs": [],
   "source": [
    "df[(df['person'] == '000ba417') & (df['event'] == 'conversion')]"
   ]
  },
  {
   "cell_type": "code",
   "execution_count": null,
   "metadata": {},
   "outputs": [],
   "source": [
    "df[(df['person'] == '000ba417') & (df['session_id'] == 4)]"
   ]
  },
  {
   "cell_type": "code",
   "execution_count": null,
   "metadata": {},
   "outputs": [],
   "source": [
    "df[(df['person'] == '000ba417') & (df['session_id'] == 3)]"
   ]
  },
  {
   "cell_type": "code",
   "execution_count": null,
   "metadata": {},
   "outputs": [],
   "source": [
    "df[(df['person'] == '000ba417') & (df['session_id'] == 1)]"
   ]
  },
  {
   "cell_type": "markdown",
   "metadata": {},
   "source": [
    "---\n",
    "##### Sujeto 001001be"
   ]
  },
  {
   "cell_type": "code",
   "execution_count": null,
   "metadata": {},
   "outputs": [],
   "source": [
    "df[(df['person'] == '001001be') & (df['event'] == 'conversion')]"
   ]
  },
  {
   "cell_type": "code",
   "execution_count": null,
   "metadata": {},
   "outputs": [],
   "source": [
    "df[(df['person'] == '001001be') & (df['session_id'] == 0)]"
   ]
  },
  {
   "cell_type": "markdown",
   "metadata": {},
   "source": [
    "---\n",
    "##### Sujeto 0019e639"
   ]
  },
  {
   "cell_type": "code",
   "execution_count": null,
   "metadata": {},
   "outputs": [],
   "source": [
    "df[(df['person'] == '0019e639') & (df['event'] == 'conversion')]"
   ]
  },
  {
   "cell_type": "code",
   "execution_count": null,
   "metadata": {},
   "outputs": [],
   "source": [
    "df[(df['person'] == '0019e639') & (df['session_id'] == 18)]"
   ]
  },
  {
   "cell_type": "code",
   "execution_count": null,
   "metadata": {},
   "outputs": [],
   "source": [
    "df[(df['person'] == '0019e639') & (df['session_id'] == 17)]"
   ]
  },
  {
   "cell_type": "code",
   "execution_count": null,
   "metadata": {},
   "outputs": [],
   "source": [
    "df[(df['person'] == '0019e639') & (df['session_id'] == 16)]"
   ]
  },
  {
   "cell_type": "code",
   "execution_count": null,
   "metadata": {},
   "outputs": [],
   "source": [
    "df[(df['person'] == '0019e639') & (df['session_id'] == 15)]"
   ]
  },
  {
   "cell_type": "code",
   "execution_count": null,
   "metadata": {},
   "outputs": [],
   "source": [
    "df[(df['person'] == '0019e639') & (df['session_id'] == 14)]"
   ]
  },
  {
   "cell_type": "markdown",
   "metadata": {},
   "source": [
    "##### Sujeto 002ed810"
   ]
  },
  {
   "cell_type": "code",
   "execution_count": null,
   "metadata": {},
   "outputs": [],
   "source": [
    "df[(df['person'] == '002ed810') & (df['event'] == 'conversion')]"
   ]
  },
  {
   "cell_type": "code",
   "execution_count": null,
   "metadata": {},
   "outputs": [],
   "source": [
    "df[(df['person'] == '002ed810') & (df['session_id'] == 2)]"
   ]
  },
  {
   "cell_type": "code",
   "execution_count": null,
   "metadata": {},
   "outputs": [],
   "source": [
    "df[(df['person'] == '002ed810') & (df['session_id'] == 1)]"
   ]
  },
  {
   "cell_type": "code",
   "execution_count": null,
   "metadata": {},
   "outputs": [],
   "source": [
    "df[(df['person'] == '002ed810') & (df['session_id'] == 0)]"
   ]
  },
  {
   "cell_type": "code",
   "execution_count": null,
   "metadata": {},
   "outputs": [],
   "source": []
  }
 ],
 "metadata": {
  "kernelspec": {
   "display_name": "Python 3",
   "language": "python",
   "name": "python3"
  },
  "language_info": {
   "codemirror_mode": {
    "name": "ipython",
    "version": 3
   },
   "file_extension": ".py",
   "mimetype": "text/x-python",
   "name": "python",
   "nbconvert_exporter": "python",
   "pygments_lexer": "ipython3",
   "version": "3.6.5"
  },
  "toc": {
   "base_numbering": 1,
   "nav_menu": {},
   "number_sections": false,
   "sideBar": true,
   "skip_h1_title": false,
   "title_cell": "Table of Contents",
   "title_sidebar": "Contents",
   "toc_cell": false,
   "toc_position": {
    "height": "calc(100% - 180px)",
    "left": "10px",
    "top": "150px",
    "width": "273.2px"
   },
   "toc_section_display": true,
   "toc_window_display": false
  }
 },
 "nbformat": 4,
 "nbformat_minor": 2
}
