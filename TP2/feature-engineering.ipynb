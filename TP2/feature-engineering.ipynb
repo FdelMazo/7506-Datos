{
 "cells": [
  {
   "cell_type": "markdown",
   "metadata": {},
   "source": [
    "# [75.06 / 95.58] Organización de Datos <br> Trabajo Práctico 2: Machine Learning\n",
    "\n",
    "# Feature Engineering\n",
    "\n",
    "**Grupo 30: Datatouille**\n",
    "\n",
    "**http://fdelmazo.github.io/7506-Datos/**"
   ]
  },
  {
   "cell_type": "markdown",
   "metadata": {},
   "source": [
    "En este notebook se buscan atributos nuevos para concatenar al set de datos original, así pudiendo armar un modelo predictivo más robusto y eficiente."
   ]
  },
  {
   "cell_type": "code",
   "execution_count": null,
   "metadata": {},
   "outputs": [],
   "source": [
    "import pandas as pd\n",
    "import numpy as np\n",
    "import calendar\n",
    "\n",
    "from sklearn.preprocessing import LabelEncoder\n",
    "from sklearn.tree import DecisionTreeClassifier, export_graphviz\n",
    "from sklearn.model_selection import train_test_split\n",
    "from sklearn.metrics import accuracy_score\n",
    "from sklearn.ensemble import RandomForestClassifier\n",
    "\n",
    "# Setting random seed.\n",
    "seed = 42"
   ]
  },
  {
   "cell_type": "code",
   "execution_count": null,
   "metadata": {},
   "outputs": [],
   "source": [
    "df_events = pd.read_csv('./data/events_up_to_01062018.csv', low_memory=False)\n",
    "df_sessions = pd.read_csv('./data/sessions.csv', low_memory=False)\n",
    "df_brands = pd.read_csv('data/brands.csv')\n",
    "df_os = pd.read_csv('data/os.csv')\n",
    "df_browsers = pd.read_csv('data/browsers.csv')\n",
    "\n",
    "df = df_events.merge(df_sessions, how='left', left_index=True, right_index=True)\n",
    "df = df.merge(df_browsers, how='left', on='browser_version')\n",
    "df = df.merge(df_os, how='left', on='operating_system_version')\n",
    "df = df.merge(df_brands, how='left', on='model')"
   ]
  },
  {
   "cell_type": "code",
   "execution_count": null,
   "metadata": {},
   "outputs": [],
   "source": [
    "df['timestamp'] = pd.to_datetime(df['timestamp'])\n",
    "df['month_number'] = df['timestamp'].dt.month\n",
    "\n",
    "df['is_conversion'] = df['event'] == 'conversion'\n",
    "df['is_checkout'] = df['event'] == 'checkout'"
   ]
  },
  {
   "cell_type": "code",
   "execution_count": null,
   "metadata": {},
   "outputs": [],
   "source": [
    "pd.set_option('display.max_columns', 500)\n",
    "pd.set_option('display.width', 1000)\n",
    "df.head()"
   ]
  },
  {
   "cell_type": "markdown",
   "metadata": {},
   "source": [
    "### 1 - user-features\n",
    "\n",
    "Checkouts y conversiones por usuario"
   ]
  },
  {
   "cell_type": "code",
   "execution_count": null,
   "metadata": {},
   "outputs": [],
   "source": [
    "# Total checkouts and conversions\n",
    "udf_tmp1 = df.groupby('person').agg({'is_checkout':'sum', \n",
    "                                     'is_conversion':'sum', \n",
    "                                     'session_total_events':'sum',\n",
    "                                     'session_first':'sum',                                                                         'session_total_conversions':'sum',\n",
    "                                     'session_total_checkouts':'sum',\n",
    "                                     'session_total_conversions':'sum'})\n",
    "\n",
    "udf_tmp1.columns = ['total_checkouts',\n",
    "                    'total_conversions',\n",
    "                    'total_events',\n",
    "                    'total_sessions',\n",
    "                    'total_session_checkouts',\n",
    "                    'total_session_conversions']\n",
    "udf_tmp1['total_checkouts'] = udf_tmp1['total_checkouts'].astype('int')\n",
    "udf_tmp1['total_conversions'] = udf_tmp1['total_conversions'].astype('int')\n",
    "udf_tmp1['total_events'] = udf_tmp1['total_events'].astype('int')\n",
    "udf_tmp1['total_sessions'] = udf_tmp1['total_sessions'].astype('int')\n",
    "udf_tmp1['total_session_checkouts'] = udf_tmp1['total_session_checkouts'].astype('int')\n",
    "udf_tmp1['total_session_conversions'] = udf_tmp1['total_session_conversions'].astype('int')\n",
    "\n",
    "udf_tmp1['avg_events_per_session'] = udf_tmp1['total_events'] / udf_tmp1['total_sessions']\n",
    "\n",
    "udf_tmp1['has_checkout'] = udf_tmp1['total_checkouts'] > 0\n",
    "udf_tmp1['has_conversion'] = udf_tmp1['total_conversions'] > 0\n",
    "\n",
    "udf_tmp1 = udf_tmp1.astype('int') "
   ]
  },
  {
   "cell_type": "code",
   "execution_count": null,
   "metadata": {},
   "outputs": [],
   "source": [
    "display(len(udf_tmp1))\n",
    "udf_tmp1[udf_tmp1['total_conversions'] > 10].sort_values('total_conversions', ascending=False)"
   ]
  },
  {
   "cell_type": "markdown",
   "metadata": {},
   "source": [
    "### 2 - user-monthly-features\n",
    "\n",
    "Checkouts y conversiones por usuario por mes"
   ]
  },
  {
   "cell_type": "code",
   "execution_count": null,
   "metadata": {},
   "outputs": [],
   "source": [
    "udf_tmp2 = df['person'].drop_duplicates().to_frame().set_index('person')\n",
    "display(udf_tmp2.head())\n",
    "\n",
    "for i in range(1,6):\n",
    "    gb = df[df['month_number'] == i].groupby('person')\n",
    "    udf_tmp2i = gb.agg({'is_conversion':'sum', 'is_checkout':'sum'})\n",
    "    udf_tmp2i.columns = ['total_conversions_month_{}'.format(i), 'total_checkouts_month_{}'.format(i)]\n",
    "\n",
    "    udf_tmp2i['total_checkouts_month_{}'.format(i)] = udf_tmp2i['total_checkouts_month_{}'.format(i)].astype('int')\n",
    "    udf_tmp2i['total_conversions_month_{}'.format(i)] = udf_tmp2i['total_conversions_month_{}'.format(i)].astype('int')\n",
    "\n",
    "    udf_tmp2i['has_checkout_month_{}'.format(i)] = udf_tmp2i['total_checkouts_month_{}'.format(i)] > 0\n",
    "    udf_tmp2i['has_conversion_month_{}'.format(i)] = udf_tmp2i['total_conversions_month_{}'.format(i)] > 0\n",
    "\n",
    "    udf_tmp2 = udf_tmp2.merge(udf_tmp2i, how='outer', left_index=True, right_index=True)\n",
    "\n",
    "udf_tmp2 = udf_tmp2.fillna(0)\n",
    "udf_tmp2 = udf_tmp2.astype('int')\n",
    "udf_tmp2.head(2)"
   ]
  },
  {
   "cell_type": "markdown",
   "metadata": {},
   "source": [
    "### 3 - user-not-in-may-features\n",
    "\n",
    "Checkouts y conversiones por usuario en mayo (último mes registrado)"
   ]
  },
  {
   "cell_type": "code",
   "execution_count": null,
   "metadata": {},
   "outputs": [],
   "source": [
    "# Has conversions or checkouts not in may\n",
    "gb = df[df['month_number'] != 5].groupby('person')\n",
    "udf_tmp3 = gb.agg({'is_conversion':'sum', 'is_checkout':'sum'})\n",
    "udf_tmp3.columns = ['total_conversions_month_1_4', 'total_checkouts_month_1_4']\n",
    "\n",
    "udf_tmp3['total_checkouts_month_1_4'] = udf_tmp3['total_checkouts_month_1_4'].astype('int')\n",
    "udf_tmp3['total_conversions_month_1_4'] = udf_tmp3['total_conversions_month_1_4'].astype('int')\n",
    "\n",
    "udf_tmp3['has_checkout_month_1_4'] = udf_tmp3['total_checkouts_month_1_4'] > 0\n",
    "udf_tmp3['has_conversion_month_1_4'] = udf_tmp3['total_conversions_month_1_4'] > 0\n",
    "\n",
    "udf_tmp3 = udf_tmp3.astype('int')\n",
    "udf_tmp3.head(10)"
   ]
  },
  {
   "cell_type": "markdown",
   "metadata": {},
   "source": [
    "### 4 - user-lastweek-features\n",
    "\n",
    "Checkouts y conversiones por usuario en la última semana registrada"
   ]
  },
  {
   "cell_type": "code",
   "execution_count": null,
   "metadata": {},
   "outputs": [],
   "source": [
    "gb = df[df['timestamp'] > pd.to_datetime('2018-05-23')].groupby('person')\n",
    "udf_tmp4 = gb.agg({'is_conversion':'sum', 'is_checkout':'sum'})\n",
    "udf_tmp4.columns = ['total_conversions_last_week', 'total_checkouts_last_week']\n",
    "\n",
    "udf_tmp4['total_checkouts_last_week'] = udf_tmp4['total_checkouts_last_week'].astype('int')\n",
    "udf_tmp4['total_conversions_last_week'] = udf_tmp4['total_conversions_last_week'].astype('int')\n",
    "\n",
    "udf_tmp4['has_checkout_last_week'] = udf_tmp4['total_checkouts_last_week'] > 0\n",
    "udf_tmp4['has_conversion_last_week'] = udf_tmp4['total_conversions_last_week'] > 0\n",
    "\n",
    "udf_tmp4 = udf_tmp4.astype('int')\n",
    "udf_tmp4.head(10)"
   ]
  },
  {
   "cell_type": "markdown",
   "metadata": {},
   "source": [
    "### 5 - user-differentmonths-features\n",
    "\n",
    "Cuan esparcidas (en meses) estan las conversiones de los usuarios"
   ]
  },
  {
   "cell_type": "code",
   "execution_count": null,
   "metadata": {},
   "outputs": [],
   "source": [
    "udf_tmp5 = udf_tmp2['has_conversion_month_1']\n",
    "display(len(udf_tmp2))\n",
    "display(len(udf_tmp5))\n",
    "for i in range(2,6):\n",
    "    udf_tmp5 = udf_tmp5 + udf_tmp2['has_conversion_month_{}'.format(i)]\n",
    "    \n",
    "udf_tmp5 = udf_tmp5.to_frame()\n",
    "udf_tmp5.columns = ['amount_of_months_that_has_bought']\n",
    "\n",
    "for i in range(6):\n",
    "    print('Users that have bought in {} different months: {}'.format(i, len(udf_tmp5[udf_tmp5['amount_of_months_that_has_bought'] >= i])))\n",
    "\n",
    "udf_tmp5.head(5)"
   ]
  },
  {
   "cell_type": "markdown",
   "metadata": {},
   "source": [
    "### 6 - user-time-lapses-features\n",
    "\n",
    "Tiempo desde últimos eventos"
   ]
  },
  {
   "cell_type": "code",
   "execution_count": null,
   "metadata": {},
   "outputs": [],
   "source": [
    "udf_tmp6 = df.groupby('person').agg({'timestamp':'max'})\n",
    "#display(udf_tmp6.head())\n",
    "display(len(udf_tmp6))\n",
    "udf_tmp6['days_to_last_event'] = pd.to_datetime('2018-06-01').dayofyear - udf_tmp6['timestamp'].dt.dayofyear\n",
    "\"\"\"\n",
    "udf_tmp7 = df[df['event'] == 'checkout'].groupby('person').agg({'timestamp':'max'})\n",
    "#display(udf_tmp7.head())\n",
    "display(len(udf_tmp7))\n",
    "udf_tmp7['days_to_last_checkout'] = pd.to_datetime('2018-06-01').dayofyear - udf_tmp7['timestamp'].dt.dayofyear\n",
    "\n",
    "\n",
    "udf_tmp8 = df[df['event'] == 'viewed product'].groupby('person').agg({'timestamp':'max'})\n",
    "#display(udf_tmp8.head())\n",
    "display(len(udf_tmp8))\n",
    "udf_tmp8['days_to_last_viewed_product'] = pd.to_datetime('2018-06-01').dayofyear - udf_tmp8['timestamp'].dt.dayofyear\n",
    "\"\"\"\n",
    "udf_tmp6.columns = ['timestamp_of_last_event', 'days_to_last_event']\n",
    "udf_tmp6"
   ]
  },
  {
   "cell_type": "markdown",
   "metadata": {},
   "source": [
    "---\n",
    "\n",
    "**Se guarda todo en `user-features.csv`**"
   ]
  },
  {
   "cell_type": "code",
   "execution_count": null,
   "metadata": {},
   "outputs": [],
   "source": [
    "udf = udf_tmp1\n",
    "udf = udf.merge(udf_tmp2, how='outer', on='person')\n",
    "udf = udf.merge(udf_tmp3, how='outer', on='person')\n",
    "udf = udf.merge(udf_tmp4, how='outer', on='person')\n",
    "udf = udf.merge(udf_tmp5, how='outer', on='person')\n",
    "udf = udf.merge(udf_tmp6, how='outer', on='person')\n",
    "udf = udf.fillna(0)\n",
    "udf = udf.astype('int')\n",
    "display(len(udf))\n",
    "udf.head()"
   ]
  },
  {
   "cell_type": "code",
   "execution_count": null,
   "metadata": {},
   "outputs": [],
   "source": [
    "# Confirmamos no haber perdido datos en el medio\n",
    "\n",
    "display(len(udf))\n",
    "display(len(df['person'].unique()))"
   ]
  },
  {
   "cell_type": "code",
   "execution_count": null,
   "metadata": {},
   "outputs": [],
   "source": [
    "udf.reset_index().to_csv('data/user-features.csv', index=False)"
   ]
  }
 ],
 "metadata": {
  "kernelspec": {
   "display_name": "Python 3",
   "language": "python",
   "name": "python3"
  },
  "language_info": {
   "codemirror_mode": {
    "name": "ipython",
    "version": 3
   },
   "file_extension": ".py",
   "mimetype": "text/x-python",
   "name": "python",
   "nbconvert_exporter": "python",
   "pygments_lexer": "ipython3",
   "version": "3.6.5"
  },
  "toc": {
   "base_numbering": 1,
   "nav_menu": {},
   "number_sections": false,
   "sideBar": true,
   "skip_h1_title": true,
   "title_cell": "Table of Contents",
   "title_sidebar": "Contents",
   "toc_cell": false,
   "toc_position": {},
   "toc_section_display": true,
   "toc_window_display": true
  }
 },
 "nbformat": 4,
 "nbformat_minor": 2
}
