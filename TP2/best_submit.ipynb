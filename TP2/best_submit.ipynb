{
 "cells": [
  {
   "cell_type": "markdown",
   "metadata": {},
   "source": [
    "# [75.06 / 95.58] Organización de Datos <br> Trabajo Práctico 2: Machine Learning\n",
    "# Best Submit\n",
    "\n",
    "**Grupo 30: Datatouille**\n",
    "\n",
    "- 101055 - Bojman, Camila\n",
    "- 100029 - del Mazo, Federico\n",
    "- 100687 - Hortas, Cecilia\n",
    "- 97649 - Souto, Rodrigo\n",
    "\n",
    "**http://fdelmazo.github.io/7506-Datos/**"
   ]
  },
  {
   "cell_type": "markdown",
   "metadata": {},
   "source": [
    "El día de la entrega hay que replicar el mejor submit al momento, para mostrar que no esta hardcodeada la solución."
   ]
  },
  {
   "cell_type": "code",
   "execution_count": 33,
   "metadata": {},
   "outputs": [
    {
     "name": "stdout",
     "output_type": "stream",
     "text": [
      "Warning: Your Kaggle API key is readable by otherusers on this system! To fix this, you can run'chmod 600 /home/camix/.kaggle/kaggle.json'\n",
      "Downloading trocafone.zip to /home/camix/Desktop/Datos/7506-Datos/TP2\n",
      "  0%|                                               | 0.00/5.89k [00:00<?, ?B/s]\n",
      "100%|██████████████████████████████████████| 5.89k/5.89k [00:00<00:00, 1.73MB/s]\n",
      "Archive:  trocafone.zip\n",
      "  inflating: trocafone-publicleaderboard.csv  \n",
      "\n",
      "\n",
      "Last Best Score\n",
      "\t Fecha: \"2018-11-29 22:33:11\"\n",
      "\t Porcentaje: 0.87196\n"
     ]
    }
   ],
   "source": [
    "!kaggle competitions leaderboard -d trocafone\n",
    "!unzip -o trocafone.zip\n",
    "print('\\n\\nLast Best Score')\n",
    "!cat trocafone-publicleaderboard.csv | grep Datatouille | tail -n 1 | awk '{split($0,a,\",\"); print \"\\t Fecha: \" a[3] ; print \"\\t Porcentaje: \" a[4]}'"
   ]
  },
  {
   "cell_type": "markdown",
   "metadata": {},
   "source": [
    "### Mejor submit\n",
    "\n",
    "```lightgbm+neuralnetwork_all_in - {'estimators': (('lightgbm', LGBMClassifier(bagging_fraction=0.8, boosting_type='gbdt', class_weight=None,        colsample_bytree=1.0, feature_fraction=0.1, lambda_l1=4,        lambda_l2=0, learning_rate=0.1, max_depth=5, min_child_samples=20,        min_child_weight=8, min_split_gain=0.001, n_estimators=100,        n_jobs=-1, num_leaves=24, objective=None, random_state=None,        reg_alpha=0.0, reg_lambda=0.0, silent=True, subsample=1.0,        subsample_for_bin=200000, subsample_freq=0)), ('neuralnetwork', MLPClassifier(activation='relu', alpha=1e-05, batch_size='auto', beta_1=0.9,       beta_2=0.999, early_stopping=False, epsilon=1e-08,       hidden_layer_sizes=(4, 7), learning_rate='constant',       learning_rate_init=0.001, max_iter=200, momentum=0.9,       n_iter_no_change=10, nesterovs_momentum=True, power_t=0.5,       random_state=42, shuffle=True, solver='adam', tol=0.0001,       validation_fraction=0.1, verbose=False, warm_start=False))), 'flatten_transform': None, 'n_jobs': None, 'voting': 'soft', 'weights': None, 'lightgbm': LGBMClassifier(bagging_fraction=0.8, boosting_type='gbdt', class_weight=None,        colsample_bytree=1.0, feature_fraction=0.1, lambda_l1=4,        lambda_l2=0, learning_rate=0.1, max_depth=5, min_child_samples=20,        min_child_weight=8, min_split_gain=0.001, n_estimators=100,        n_jobs=-1, num_leaves=24, objective=None, random_state=None,        reg_alpha=0.0, reg_lambda=0.0, silent=True, subsample=1.0,        subsample_for_bin=200000, subsample_freq=0), 'neuralnetwork': MLPClassifier(activation='relu', alpha=1e-05, batch_size='auto', beta_1=0.9,       beta_2=0.999, early_stopping=False, epsilon=1e-08,       hidden_layer_sizes=(4, 7), learning_rate='constant',       learning_rate_init=0.001, max_iter=200, momentum=0.9,       n_iter_no_change=10, nesterovs_momentum=True, power_t=0.5,       random_state=42, shuffle=True, solver='adam', tol=0.0001,       validation_fraction=0.1, verbose=False, warm_start=False), 'lightgbm__boosting_type': 'gbdt', 'lightgbm__class_weight': None, 'lightgbm__colsample_bytree': 1.0, 'lightgbm__learning_rate': 0.1, 'lightgbm__max_depth': 5, 'lightgbm__min_child_samples': 20, 'lightgbm__min_child_weight': 8, 'lightgbm__min_split_gain': 0.001, 'lightgbm__n_estimators': 100, 'lightgbm__n_jobs': -1, 'lightgbm__num_leaves': 24, 'lightgbm__objective': None, 'lightgbm__random_state': None, 'lightgbm__reg_alpha': 0.0, 'lightgbm__reg_lambda': 0.0, 'lightgbm__silent': True, 'lightgbm__subsample': 1.0, 'lightgbm__subsample_for_bin': 200000, 'lightgbm__subsample_freq': 0, 'lightgbm__bagging_fraction': 0.8, 'lightgbm__feature_fraction': 0.1, 'lightgbm__lambda_l1': 4, 'lightgbm__lambda_l2': 0, 'neuralnetwork__activation': 'relu', 'neuralnetwork__alpha': 1e-05, 'neuralnetwork__batch_size': 'auto', 'neuralnetwork__beta_1': 0.9, 'neuralnetwork__beta_2': 0.999, 'neuralnetwork__early_stopping': False, 'neuralnetwork__epsilon': 1e-08, 'neuralnetwork__hidden_layer_sizes': (4, 7), 'neuralnetwork__learning_rate': 'constant', 'neuralnetwork__learning_rate_init': 0.001, 'neuralnetwork__max_iter': 200, 'neuralnetwork__momentum': 0.9, 'neuralnetwork__n_iter_no_change': 10, 'neuralnetwork__nesterovs_momentum': True, 'neuralnetwork__power_t': 0.5, 'neuralnetwork__random_state': 42, 'neuralnetwork__shuffle': True, 'neuralnetwork__solver': 'adam', 'neuralnetwork__tol': 0.0001, 'neuralnetwork__validation_fraction': 0.1, 'neuralnetwork__verbose': False, 'neuralnetwork__warm_start': False} - ['total_viewed_products', 'total_checkouts', 'total_conversions', 'total_events', 'total_sessions', 'total_session_checkouts', 'total_session_conversions', 'total_events_ad_session', 'total_ad_sessions', 'avg_events_per_session', 'avg_events_per_ad_session', 'percentage_of_ad_sessions', 'has_checkout', 'has_conversion', 'total_viewed_products_month_1', 'total_checkouts_month_1', 'total_conversions_month_1', 'total_events_month_1', 'total_sessions_month_1', 'total_session_checkouts_month_1', 'total_session_conversions_month_1', 'total_events_ad_session_month_1', 'total_ad_sessions_month_1', 'has_checkout_month_1', 'has_conversion_month_1', 'total_viewed_products_month_2', 'total_checkouts_month_2', 'total_conversions_month_2', 'total_events_month_2', 'total_sessions_month_2', 'total_session_checkouts_month_2', 'total_session_conversions_month_2', 'total_events_ad_session_month_2', 'total_ad_sessions_month_2', 'has_checkout_month_2', 'has_conversion_month_2', 'total_viewed_products_month_3', 'total_checkouts_month_3', 'total_conversions_month_3', 'total_events_month_3', 'total_sessions_month_3', 'total_session_checkouts_month_3', 'total_session_conversions_month_3', 'total_events_ad_session_month_3', 'total_ad_sessions_month_3', 'has_checkout_month_3', 'has_conversion_month_3', 'total_viewed_products_month_4', 'total_checkouts_month_4', 'total_conversions_month_4', 'total_events_month_4', 'total_sessions_month_4', 'total_session_checkouts_month_4', 'total_session_conversions_month_4', 'total_events_ad_session_month_4', 'total_ad_sessions_month_4', 'has_checkout_month_4', 'has_conversion_month_4', 'total_viewed_products_month_5', 'total_checkouts_month_5', 'total_conversions_month_5', 'total_events_month_5', 'total_sessions_month_5', 'total_session_checkouts_month_5', 'total_session_conversions_month_5', 'total_events_ad_session_month_5', 'total_ad_sessions_month_5', 'has_checkout_month_5', 'has_conversion_month_5', 'total_viewed_products_months_1_to_4', 'total_checkouts_months_1_to_4', 'total_conversions_months_1_to_4', 'total_events_months_1_to_4', 'total_sessions_months_1_to_4', 'total_session_checkouts_months_1_to_4', 'total_session_conversions_months_1_to_4', 'total_events_ad_session_months_1_to_4', 'total_ad_sessions_months_1_to_4', 'has_checkout_months_1_to_4', 'has_conversion_months_1_to_4', 'total_viewed_products_last_week', 'total_checkouts_last_week', 'total_conversions_last_week', 'total_events_last_week', 'total_sessions_last_week', 'total_session_checkouts_last_week', 'total_session_conversions_last_week', 'total_events_ad_session_last_week', 'total_ad_sessions_last_week', 'has_checkout_last_week', 'has_conversion_last_week', 'amount_of_months_that_has_bought', 'timestamp_last_event', 'timestamp_last_checkout', 'timestamp_last_conversion', 'timestamp_last_viewed_product', 'days_to_last_event', 'days_to_last_checkout', 'days_to_last_conversion', 'days_to_last_viewed_product', 'doy_last_event', 'dow_last_event', 'dom_last_event', 'woy_last_event', 'doy_last_checkout', 'dow_last_checkout', 'dom_last_checkout', 'woy_last_checkout', 'doy_last_conversion', 'dow_last_conversion', 'dom_last_conversion', 'woy_last_conversion', 'doy_last_viewed_product', 'dow_last_viewed_product', 'dom_last_viewed_product', 'woy_last_viewed_product', 'last_conversion_sku', 'last_conversion_price', 'percentage_last_week_activity', 'percentage_last_month_activity', 'days_between_last_event_and_checkout', 'percentage_regular_celphones_activity', 'var_viewed', 'conversion_gt_media']```"
   ]
  },
  {
   "cell_type": "code",
   "execution_count": 17,
   "metadata": {},
   "outputs": [],
   "source": [
    "import nbimporter # pip install nbimporter\n",
    "import pandas as pd\n",
    "import numpy as np\n",
    "import time\n",
    "import calendar\n",
    "from itertools import combinations\n",
    "import random\n",
    "from time import sleep\n",
    "from parameter_tuning import get_hiper_params\n",
    "from feature_selection import get_feature_selection\n",
    "import submission_framework as SF\n",
    "\n",
    "seed = 42\n",
    "hiper_params = get_hiper_params()\n",
    "feature_selection = get_feature_selection()"
   ]
  },
  {
   "cell_type": "code",
   "execution_count": 18,
   "metadata": {},
   "outputs": [
    {
     "data": {
      "text/html": [
       "<div>\n",
       "<style scoped>\n",
       "    .dataframe tbody tr th:only-of-type {\n",
       "        vertical-align: middle;\n",
       "    }\n",
       "\n",
       "    .dataframe tbody tr th {\n",
       "        vertical-align: top;\n",
       "    }\n",
       "\n",
       "    .dataframe thead th {\n",
       "        text-align: right;\n",
       "    }\n",
       "</style>\n",
       "<table border=\"1\" class=\"dataframe\">\n",
       "  <thead>\n",
       "    <tr style=\"text-align: right;\">\n",
       "      <th></th>\n",
       "      <th>total_brand_listings</th>\n",
       "      <th>total_viewed_products</th>\n",
       "      <th>total_checkouts</th>\n",
       "      <th>total_conversions</th>\n",
       "      <th>total_events</th>\n",
       "      <th>total_sessions</th>\n",
       "      <th>total_session_checkout</th>\n",
       "      <th>total_session_conversion</th>\n",
       "      <th>total_events_ad_session</th>\n",
       "      <th>total_ad_sessions</th>\n",
       "      <th>...</th>\n",
       "      <th>percentage_l2w_week_activity</th>\n",
       "      <th>percentage_l2w_brand_listings</th>\n",
       "      <th>percentage_l2w_viewed_products</th>\n",
       "      <th>percentage_l2w_checkouts</th>\n",
       "      <th>percentage_l2w_conversions</th>\n",
       "      <th>kmeans_3</th>\n",
       "      <th>kmeans_5</th>\n",
       "      <th>kmeans_6</th>\n",
       "      <th>kmeans_15</th>\n",
       "      <th>kmeans_25</th>\n",
       "    </tr>\n",
       "    <tr>\n",
       "      <th>person</th>\n",
       "      <th></th>\n",
       "      <th></th>\n",
       "      <th></th>\n",
       "      <th></th>\n",
       "      <th></th>\n",
       "      <th></th>\n",
       "      <th></th>\n",
       "      <th></th>\n",
       "      <th></th>\n",
       "      <th></th>\n",
       "      <th></th>\n",
       "      <th></th>\n",
       "      <th></th>\n",
       "      <th></th>\n",
       "      <th></th>\n",
       "      <th></th>\n",
       "      <th></th>\n",
       "      <th></th>\n",
       "      <th></th>\n",
       "      <th></th>\n",
       "      <th></th>\n",
       "    </tr>\n",
       "  </thead>\n",
       "  <tbody>\n",
       "    <tr>\n",
       "      <th>0008ed71</th>\n",
       "      <td>0.0</td>\n",
       "      <td>0.0</td>\n",
       "      <td>3.0</td>\n",
       "      <td>0.0</td>\n",
       "      <td>6</td>\n",
       "      <td>3.0</td>\n",
       "      <td>3.0</td>\n",
       "      <td>0.0</td>\n",
       "      <td>0.0</td>\n",
       "      <td>0.0</td>\n",
       "      <td>...</td>\n",
       "      <td>1.000000</td>\n",
       "      <td>0.000000</td>\n",
       "      <td>0.000000</td>\n",
       "      <td>0.500000</td>\n",
       "      <td>0.000000</td>\n",
       "      <td>1</td>\n",
       "      <td>1</td>\n",
       "      <td>4</td>\n",
       "      <td>0</td>\n",
       "      <td>14</td>\n",
       "    </tr>\n",
       "    <tr>\n",
       "      <th>00091926</th>\n",
       "      <td>25.0</td>\n",
       "      <td>372.0</td>\n",
       "      <td>2.0</td>\n",
       "      <td>0.0</td>\n",
       "      <td>448</td>\n",
       "      <td>34.0</td>\n",
       "      <td>2.0</td>\n",
       "      <td>0.0</td>\n",
       "      <td>54.0</td>\n",
       "      <td>9.0</td>\n",
       "      <td>...</td>\n",
       "      <td>0.582589</td>\n",
       "      <td>0.006696</td>\n",
       "      <td>0.511161</td>\n",
       "      <td>0.004464</td>\n",
       "      <td>0.000000</td>\n",
       "      <td>1</td>\n",
       "      <td>1</td>\n",
       "      <td>1</td>\n",
       "      <td>3</td>\n",
       "      <td>7</td>\n",
       "    </tr>\n",
       "    <tr>\n",
       "      <th>00091a7a</th>\n",
       "      <td>5.0</td>\n",
       "      <td>3.0</td>\n",
       "      <td>0.0</td>\n",
       "      <td>0.0</td>\n",
       "      <td>10</td>\n",
       "      <td>1.0</td>\n",
       "      <td>0.0</td>\n",
       "      <td>0.0</td>\n",
       "      <td>10.0</td>\n",
       "      <td>1.0</td>\n",
       "      <td>...</td>\n",
       "      <td>0.000000</td>\n",
       "      <td>0.000000</td>\n",
       "      <td>0.000000</td>\n",
       "      <td>0.000000</td>\n",
       "      <td>0.000000</td>\n",
       "      <td>0</td>\n",
       "      <td>3</td>\n",
       "      <td>3</td>\n",
       "      <td>8</td>\n",
       "      <td>16</td>\n",
       "    </tr>\n",
       "    <tr>\n",
       "      <th>000ba417</th>\n",
       "      <td>24.0</td>\n",
       "      <td>153.0</td>\n",
       "      <td>6.0</td>\n",
       "      <td>1.0</td>\n",
       "      <td>206</td>\n",
       "      <td>5.0</td>\n",
       "      <td>4.0</td>\n",
       "      <td>1.0</td>\n",
       "      <td>0.0</td>\n",
       "      <td>0.0</td>\n",
       "      <td>...</td>\n",
       "      <td>1.000000</td>\n",
       "      <td>0.116505</td>\n",
       "      <td>0.742718</td>\n",
       "      <td>0.029126</td>\n",
       "      <td>0.004854</td>\n",
       "      <td>2</td>\n",
       "      <td>2</td>\n",
       "      <td>0</td>\n",
       "      <td>12</td>\n",
       "      <td>0</td>\n",
       "    </tr>\n",
       "    <tr>\n",
       "      <th>000c79fe</th>\n",
       "      <td>0.0</td>\n",
       "      <td>3.0</td>\n",
       "      <td>1.0</td>\n",
       "      <td>0.0</td>\n",
       "      <td>17</td>\n",
       "      <td>1.0</td>\n",
       "      <td>1.0</td>\n",
       "      <td>0.0</td>\n",
       "      <td>17.0</td>\n",
       "      <td>1.0</td>\n",
       "      <td>...</td>\n",
       "      <td>1.000000</td>\n",
       "      <td>0.000000</td>\n",
       "      <td>0.176471</td>\n",
       "      <td>0.058824</td>\n",
       "      <td>0.000000</td>\n",
       "      <td>1</td>\n",
       "      <td>1</td>\n",
       "      <td>1</td>\n",
       "      <td>3</td>\n",
       "      <td>7</td>\n",
       "    </tr>\n",
       "  </tbody>\n",
       "</table>\n",
       "<p>5 rows × 188 columns</p>\n",
       "</div>"
      ],
      "text/plain": [
       "          total_brand_listings  total_viewed_products  total_checkouts  \\\n",
       "person                                                                   \n",
       "0008ed71                   0.0                    0.0              3.0   \n",
       "00091926                  25.0                  372.0              2.0   \n",
       "00091a7a                   5.0                    3.0              0.0   \n",
       "000ba417                  24.0                  153.0              6.0   \n",
       "000c79fe                   0.0                    3.0              1.0   \n",
       "\n",
       "          total_conversions  total_events  total_sessions  \\\n",
       "person                                                      \n",
       "0008ed71                0.0             6             3.0   \n",
       "00091926                0.0           448            34.0   \n",
       "00091a7a                0.0            10             1.0   \n",
       "000ba417                1.0           206             5.0   \n",
       "000c79fe                0.0            17             1.0   \n",
       "\n",
       "          total_session_checkout  total_session_conversion  \\\n",
       "person                                                       \n",
       "0008ed71                     3.0                       0.0   \n",
       "00091926                     2.0                       0.0   \n",
       "00091a7a                     0.0                       0.0   \n",
       "000ba417                     4.0                       1.0   \n",
       "000c79fe                     1.0                       0.0   \n",
       "\n",
       "          total_events_ad_session  total_ad_sessions    ...      \\\n",
       "person                                                  ...       \n",
       "0008ed71                      0.0                0.0    ...       \n",
       "00091926                     54.0                9.0    ...       \n",
       "00091a7a                     10.0                1.0    ...       \n",
       "000ba417                      0.0                0.0    ...       \n",
       "000c79fe                     17.0                1.0    ...       \n",
       "\n",
       "          percentage_l2w_week_activity  percentage_l2w_brand_listings  \\\n",
       "person                                                                  \n",
       "0008ed71                      1.000000                       0.000000   \n",
       "00091926                      0.582589                       0.006696   \n",
       "00091a7a                      0.000000                       0.000000   \n",
       "000ba417                      1.000000                       0.116505   \n",
       "000c79fe                      1.000000                       0.000000   \n",
       "\n",
       "          percentage_l2w_viewed_products  percentage_l2w_checkouts  \\\n",
       "person                                                               \n",
       "0008ed71                        0.000000                  0.500000   \n",
       "00091926                        0.511161                  0.004464   \n",
       "00091a7a                        0.000000                  0.000000   \n",
       "000ba417                        0.742718                  0.029126   \n",
       "000c79fe                        0.176471                  0.058824   \n",
       "\n",
       "          percentage_l2w_conversions  kmeans_3  kmeans_5  kmeans_6  kmeans_15  \\\n",
       "person                                                                          \n",
       "0008ed71                    0.000000         1         1         4          0   \n",
       "00091926                    0.000000         1         1         1          3   \n",
       "00091a7a                    0.000000         0         3         3          8   \n",
       "000ba417                    0.004854         2         2         0         12   \n",
       "000c79fe                    0.000000         1         1         1          3   \n",
       "\n",
       "          kmeans_25  \n",
       "person               \n",
       "0008ed71         14  \n",
       "00091926          7  \n",
       "00091a7a         16  \n",
       "000ba417          0  \n",
       "000c79fe          7  \n",
       "\n",
       "[5 rows x 188 columns]"
      ]
     },
     "metadata": {},
     "output_type": "display_data"
    },
    {
     "data": {
      "text/html": [
       "<div>\n",
       "<style scoped>\n",
       "    .dataframe tbody tr th:only-of-type {\n",
       "        vertical-align: middle;\n",
       "    }\n",
       "\n",
       "    .dataframe tbody tr th {\n",
       "        vertical-align: top;\n",
       "    }\n",
       "\n",
       "    .dataframe thead th {\n",
       "        text-align: right;\n",
       "    }\n",
       "</style>\n",
       "<table border=\"1\" class=\"dataframe\">\n",
       "  <thead>\n",
       "    <tr style=\"text-align: right;\">\n",
       "      <th></th>\n",
       "      <th>label</th>\n",
       "    </tr>\n",
       "    <tr>\n",
       "      <th>person</th>\n",
       "      <th></th>\n",
       "    </tr>\n",
       "  </thead>\n",
       "  <tbody>\n",
       "    <tr>\n",
       "      <th>0008ed71</th>\n",
       "      <td>0</td>\n",
       "    </tr>\n",
       "    <tr>\n",
       "      <th>000c79fe</th>\n",
       "      <td>0</td>\n",
       "    </tr>\n",
       "    <tr>\n",
       "      <th>001802e4</th>\n",
       "      <td>0</td>\n",
       "    </tr>\n",
       "    <tr>\n",
       "      <th>0019e639</th>\n",
       "      <td>0</td>\n",
       "    </tr>\n",
       "    <tr>\n",
       "      <th>001b0bf9</th>\n",
       "      <td>0</td>\n",
       "    </tr>\n",
       "  </tbody>\n",
       "</table>\n",
       "</div>"
      ],
      "text/plain": [
       "          label\n",
       "person         \n",
       "0008ed71      0\n",
       "000c79fe      0\n",
       "001802e4      0\n",
       "0019e639      0\n",
       "001b0bf9      0"
      ]
     },
     "metadata": {},
     "output_type": "display_data"
    }
   ],
   "source": [
    "df_users = pd.read_csv('data/user-features.csv',low_memory=False).set_index('person')\n",
    "df_y = pd.read_csv('data/labels_training_set.csv').groupby('person').sum()\n",
    "\n",
    "display(df_users.head(), df_y.head())"
   ]
  },
  {
   "cell_type": "code",
   "execution_count": 19,
   "metadata": {
    "collapsed": true
   },
   "outputs": [],
   "source": [
    "posibilidades_algoritmos = []"
   ]
  },
  {
   "cell_type": "markdown",
   "metadata": {},
   "source": [
    "---\n",
    "\n",
    "### LightGBM"
   ]
  },
  {
   "cell_type": "code",
   "execution_count": 20,
   "metadata": {},
   "outputs": [
    {
     "name": "stdout",
     "output_type": "stream",
     "text": [
      "Model: lightgbm - AUC: 0.8669 - AUCPR:0.2556 - Accuracy: 0.9497 \n"
     ]
    }
   ],
   "source": [
    "import lightgbm as lgb  #conda install -c conda-forge lightgbm \n",
    "\n",
    "model_name = 'lightgbm'\n",
    "params = hiper_params[model_name]\n",
    "model = lgb.LGBMClassifier(**params)\n",
    "model_with_name = (model_name,model)\n",
    "\n",
    "\n",
    "SF.full_framework_wrapper(df_users,df_y, model_with_name)\n",
    "\n",
    "posibilidades_algoritmos.append(model_with_name)"
   ]
  },
  {
   "cell_type": "markdown",
   "metadata": {},
   "source": [
    "---\n",
    "\n",
    "### Neural Network"
   ]
  },
  {
   "cell_type": "code",
   "execution_count": 21,
   "metadata": {},
   "outputs": [
    {
     "name": "stderr",
     "output_type": "stream",
     "text": [
      "/home/camix/anaconda3/lib/python3.6/site-packages/sklearn/neural_network/multilayer_perceptron.py:562: ConvergenceWarning: Stochastic Optimizer: Maximum iterations (200) reached and the optimization hasn't converged yet.\n",
      "  % self.max_iter, ConvergenceWarning)\n"
     ]
    },
    {
     "name": "stdout",
     "output_type": "stream",
     "text": [
      "Model: neuralnetwork_normalized - AUC: 0.8387 - AUCPR:0.2174 - Accuracy: 0.9471 \n"
     ]
    }
   ],
   "source": [
    "from sklearn.neural_network import MLPClassifier\n",
    "\n",
    "model_name = 'neuralnetwork'\n",
    "params = hiper_params[model_name]\n",
    "model = MLPClassifier(**params)\n",
    "model_with_name = (model_name, model)\n",
    "\n",
    "# Funciona sólo con datos normalizados\n",
    "SF.full_framework_wrapper(df_users, df_y, model_with_name, normalize=True)\n",
    "posibilidades_algoritmos.append(model_with_name)"
   ]
  },
  {
   "cell_type": "markdown",
   "metadata": {},
   "source": [
    "### Todos los posibles algoritmos"
   ]
  },
  {
   "cell_type": "code",
   "execution_count": 22,
   "metadata": {},
   "outputs": [
    {
     "name": "stdout",
     "output_type": "stream",
     "text": [
      "['lightgbm', 'neuralnetwork']\n"
     ]
    }
   ],
   "source": [
    "print([x[0] for x in posibilidades_algoritmos])\n",
    "\n",
    "posibilidades_algoritmos_y_ensambles = posibilidades_algoritmos[:]"
   ]
  },
  {
   "cell_type": "code",
   "execution_count": 23,
   "metadata": {
    "collapsed": true
   },
   "outputs": [],
   "source": [
    "def ensamblar_algoritmos(posibilidades, n, tipo):\n",
    "    result = list(combinations(posibilidades,n))\n",
    "    result_names = [f'{x[0][0]}+{x[1][0]}_{tipo}' for x in result]\n",
    "    return list(zip(result_names,result))"
   ]
  },
  {
   "cell_type": "code",
   "execution_count": 24,
   "metadata": {
    "collapsed": true
   },
   "outputs": [],
   "source": [
    "posibilidades_algoritmos_y_ensambles += ensamblar_algoritmos(posibilidades_algoritmos,2,'soft')"
   ]
  },
  {
   "cell_type": "code",
   "execution_count": 25,
   "metadata": {},
   "outputs": [
    {
     "name": "stdout",
     "output_type": "stream",
     "text": [
      "['lightgbm', 'neuralnetwork', 'lightgbm+neuralnetwork_soft']\n"
     ]
    }
   ],
   "source": [
    "print([x[0] for x in posibilidades_algoritmos_y_ensambles])"
   ]
  },
  {
   "cell_type": "markdown",
   "metadata": {},
   "source": [
    "### Todos los posibles sets de features"
   ]
  },
  {
   "cell_type": "code",
   "execution_count": 26,
   "metadata": {
    "collapsed": true
   },
   "outputs": [],
   "source": [
    "posibilidades_features = {}\n",
    "posibilidades_features['Seleccion a Mano (FdM)'] = [ 'total_checkouts',\n",
    "                                                     'total_conversions',\n",
    "                                                     'total_events',\n",
    "                                                     'total_sessions',\n",
    "                                                     'total_session_checkout',\n",
    "                                                     'total_session_conversion',\n",
    "                                                     'total_events_ad_session',\n",
    "                                                     'total_ad_sessions',\n",
    "                                                     'avg_events_per_session',\n",
    "                                                     'avg_events_per_ad_session',\n",
    "                                                     'percentage_session_ad',\n",
    "                                                     'has_checkout',\n",
    "                                                     'has_conversion',\n",
    "                                                     'total_viewed_products_month_1',\n",
    "                                                     'total_checkouts_month_1',\n",
    "                                                     'total_conversions_month_1',\n",
    "                                                     'total_events_month_1',\n",
    "                                                     'total_sessions_month_1',\n",
    "                                                     'total_session_checkouts_month_1',\n",
    "                                                     'total_session_conversions_month_1',\n",
    "                                                     'total_events_ad_session_month_1',\n",
    "                                                     'total_ad_sessions_month_1',\n",
    "                                                     'has_checkout_month_1',\n",
    "                                                     'has_conversion_month_1',\n",
    "                                                     'total_viewed_products_month_2',\n",
    "                                                     'total_checkouts_month_2',\n",
    "                                                     'total_conversions_month_2',\n",
    "                                                     'total_events_month_2',\n",
    "                                                     'total_sessions_month_2',\n",
    "                                                     'total_session_checkouts_month_2',\n",
    "                                                     'total_session_conversions_month_2',\n",
    "                                                     'total_events_ad_session_month_2',\n",
    "                                                     'total_ad_sessions_month_2',\n",
    "                                                     'has_checkout_month_2',\n",
    "                                                     'has_conversion_month_2',\n",
    "                                                     'total_viewed_products_month_3',\n",
    "                                                     'total_checkouts_month_3',\n",
    "                                                     'total_conversions_month_3',\n",
    "                                                     'total_events_month_3',\n",
    "                                                     'total_sessions_month_3',\n",
    "                                                     'total_session_checkouts_month_3',\n",
    "                                                     'total_session_conversions_month_3',\n",
    "                                                     'total_events_ad_session_month_3',\n",
    "                                                     'total_ad_sessions_month_3',\n",
    "                                                     'has_checkout_month_3',\n",
    "                                                     'has_conversion_month_3',\n",
    "                                                     'total_viewed_products_month_4',\n",
    "                                                     'total_checkouts_month_4',\n",
    "                                                     'total_conversions_month_4',\n",
    "                                                     'total_events_month_4',\n",
    "                                                     'total_sessions_month_4',\n",
    "                                                     'total_session_checkouts_month_4',\n",
    "                                                     'total_session_conversions_month_4',\n",
    "                                                     'total_events_ad_session_month_4',\n",
    "                                                     'total_ad_sessions_month_4',\n",
    "                                                     'has_checkout_month_4',\n",
    "                                                     'has_conversion_month_4',\n",
    "                                                     'total_viewed_products_month_5',\n",
    "                                                     'total_checkouts_month_5',\n",
    "                                                     'total_conversions_month_5',\n",
    "                                                     'total_events_month_5',\n",
    "                                                     'total_sessions_month_5',\n",
    "                                                     'total_session_checkouts_month_5',\n",
    "                                                     'total_session_conversions_month_5',\n",
    "                                                     'total_events_ad_session_month_5',\n",
    "                                                     'total_ad_sessions_month_5',\n",
    "                                                     'has_checkout_month_5',\n",
    "                                                     'has_conversion_month_5',\n",
    "                                                     'total_viewed_products_months_1_to_4',\n",
    "                                                     'total_checkouts_months_1_to_4',\n",
    "                                                     'total_conversions_months_1_to_4',\n",
    "                                                     'total_events_months_1_to_4',\n",
    "                                                     'total_sessions_months_1_to_4',\n",
    "                                                     'total_session_checkouts_months_1_to_4',\n",
    "                                                     'total_session_conversions_months_1_to_4',\n",
    "                                                     'total_events_ad_session_months_1_to_4',\n",
    "                                                     'total_ad_sessions_months_1_to_4',\n",
    "                                                     'has_checkout_months_1_to_4',\n",
    "                                                     'has_conversion_months_1_to_4',\n",
    "                                                     'total_viewed_products_lw',\n",
    "                                                     'total_checkouts_lw',\n",
    "                                                     'total_conversions_lw',\n",
    "                                                     'total_events_lw',\n",
    "                                                     'total_sessions_lw',\n",
    "                                                     'total_session_checkouts_lw',\n",
    "                                                     'total_session_conversions_lw',\n",
    "                                                     'total_events_ad_session_lw',\n",
    "                                                     'total_ad_sessions_lw',\n",
    "                                                     'has_checkout_lw',\n",
    "                                                     'has_conversion_lw',\n",
    "                                                     'amount_of_months_that_has_bought',\n",
    "                                                     'timestamp_last_event',\n",
    "                                                     'timestamp_last_checkout',\n",
    "                                                     'timestamp_last_conversion',\n",
    "                                                     'timestamp_last_viewed_product',\n",
    "                                                     'days_to_last_event',\n",
    "                                                     'days_to_last_checkout',\n",
    "                                                     'days_to_last_conversion',\n",
    "                                                     'days_to_last_viewed_product',\n",
    "                                                     'doy_last_event',\n",
    "                                                     'dow_last_event',\n",
    "                                                     'dom_last_event',\n",
    "                                                     'woy_last_event',\n",
    "                                                     'doy_last_checkout',\n",
    "                                                     'dow_last_checkout',\n",
    "                                                     'dom_last_checkout',\n",
    "                                                     'woy_last_checkout',\n",
    "                                                     'doy_last_conversion',\n",
    "                                                     'dow_last_conversion',\n",
    "                                                     'dom_last_conversion',\n",
    "                                                     'woy_last_conversion',\n",
    "                                                     'doy_last_viewed_product',\n",
    "                                                     'dow_last_viewed_product',\n",
    "                                                     'dom_last_viewed_product',\n",
    "                                                     'woy_last_viewed_product',\n",
    "                                                     'last_conversion_sku',\n",
    "                                                     'last_conversion_price',\n",
    "                                                     'percentage_last_week_activity',\n",
    "                                                     'percentage_last_month_activity',\n",
    "                                                     'days_between_last_event_and_checkout',\n",
    "                                                     'percentage_regular_celphones_activity',\n",
    "                                                     'var_viewed',\n",
    "                                                     'conversion_gt_media'\n",
    "]"
   ]
  },
  {
   "cell_type": "code",
   "execution_count": 27,
   "metadata": {},
   "outputs": [
    {
     "name": "stdout",
     "output_type": "stream",
     "text": [
      "['Seleccion a Mano (FdM)']\n"
     ]
    }
   ],
   "source": [
    "print([x for x in posibilidades_features])"
   ]
  },
  {
   "cell_type": "markdown",
   "metadata": {},
   "source": [
    "---\n",
    "\n",
    "### Combinando ambas ideas"
   ]
  },
  {
   "cell_type": "code",
   "execution_count": 28,
   "metadata": {
    "scrolled": false
   },
   "outputs": [
    {
     "name": "stdout",
     "output_type": "stream",
     "text": [
      "                                            Tardó: 0.00s                                            \n",
      "                                      -----------------------                                       \n",
      "Seleccion a Mano (FdM):\n",
      "\n",
      "['total_checkouts', 'total_conversions', 'total_events', 'total_sessions', 'total_session_checkout', 'total_session_conversion', 'total_events_ad_session', 'total_ad_sessions', 'avg_events_per_session', 'avg_events_per_ad_session', 'percentage_session_ad', 'has_checkout', 'has_conversion', 'total_viewed_products_month_1', 'total_checkouts_month_1', 'total_conversions_month_1', 'total_events_month_1', 'total_sessions_month_1', 'total_session_checkouts_month_1', 'total_session_conversions_month_1', 'total_events_ad_session_month_1', 'total_ad_sessions_month_1', 'has_checkout_month_1', 'has_conversion_month_1', 'total_viewed_products_month_2', 'total_checkouts_month_2', 'total_conversions_month_2', 'total_events_month_2', 'total_sessions_month_2', 'total_session_checkouts_month_2', 'total_session_conversions_month_2', 'total_events_ad_session_month_2', 'total_ad_sessions_month_2', 'has_checkout_month_2', 'has_conversion_month_2', 'total_viewed_products_month_3', 'total_checkouts_month_3', 'total_conversions_month_3', 'total_events_month_3', 'total_sessions_month_3', 'total_session_checkouts_month_3', 'total_session_conversions_month_3', 'total_events_ad_session_month_3', 'total_ad_sessions_month_3', 'has_checkout_month_3', 'has_conversion_month_3', 'total_viewed_products_month_4', 'total_checkouts_month_4', 'total_conversions_month_4', 'total_events_month_4', 'total_sessions_month_4', 'total_session_checkouts_month_4', 'total_session_conversions_month_4', 'total_events_ad_session_month_4', 'total_ad_sessions_month_4', 'has_checkout_month_4', 'has_conversion_month_4', 'total_viewed_products_month_5', 'total_checkouts_month_5', 'total_conversions_month_5', 'total_events_month_5', 'total_sessions_month_5', 'total_session_checkouts_month_5', 'total_session_conversions_month_5', 'total_events_ad_session_month_5', 'total_ad_sessions_month_5', 'has_checkout_month_5', 'has_conversion_month_5', 'total_viewed_products_months_1_to_4', 'total_checkouts_months_1_to_4', 'total_conversions_months_1_to_4', 'total_events_months_1_to_4', 'total_sessions_months_1_to_4', 'total_session_checkouts_months_1_to_4', 'total_session_conversions_months_1_to_4', 'total_events_ad_session_months_1_to_4', 'total_ad_sessions_months_1_to_4', 'has_checkout_months_1_to_4', 'has_conversion_months_1_to_4', 'total_viewed_products_lw', 'total_checkouts_lw', 'total_conversions_lw', 'total_events_lw', 'total_sessions_lw', 'total_session_checkouts_lw', 'total_session_conversions_lw', 'total_events_ad_session_lw', 'total_ad_sessions_lw', 'has_checkout_lw', 'has_conversion_lw', 'amount_of_months_that_has_bought', 'timestamp_last_event', 'timestamp_last_checkout', 'timestamp_last_conversion', 'timestamp_last_viewed_product', 'days_to_last_event', 'days_to_last_checkout', 'days_to_last_conversion', 'days_to_last_viewed_product', 'doy_last_event', 'dow_last_event', 'dom_last_event', 'woy_last_event', 'doy_last_checkout', 'dow_last_checkout', 'dom_last_checkout', 'woy_last_checkout', 'doy_last_conversion', 'dow_last_conversion', 'dom_last_conversion', 'woy_last_conversion', 'doy_last_viewed_product', 'dow_last_viewed_product', 'dom_last_viewed_product', 'woy_last_viewed_product', 'last_conversion_sku', 'last_conversion_price', 'percentage_last_week_activity', 'percentage_last_month_activity', 'days_between_last_event_and_checkout', 'percentage_regular_celphones_activity', 'var_viewed', 'conversion_gt_media']\n",
      "\n",
      "\n",
      "\t * Model: lightgbm - AUC: 0.8704 - AUCPR:0.2583 - Accuracy: 0.9502 \n",
      "\t\t Tardó: 2.36s\n",
      "\t * Model: neuralnetwork_normalized - AUC: 0.8485 - AUCPR:0.2158 - Accuracy: 0.9494 \n",
      "\t\t Tardó: 7.19s\n",
      "\t * Model: lightgbm+neuralnetwork_soft - AUC: 0.8870 - Accuracy: 0.9496\n",
      "\t\t Tardó: 60.26s\n"
     ]
    }
   ],
   "source": [
    "resultados = []\n",
    "global_time = 0\n",
    "\n",
    "norm = False\n",
    "\n",
    "for forma, features in posibilidades_features.items():\n",
    "    global_start = time.process_time()\n",
    "    print(\"{: ^100}\\n{: ^100s}\".format(f\"Tardó: {global_time:.2f}s\",'-----------------------'))\n",
    "    print(f'{forma}:\\n')\n",
    "    print(f'{features}\\n\\n')\n",
    "    for nombre,algoritmo in posibilidades_algoritmos_y_ensambles:\n",
    "        norm = True if ('NN' in nombre or 'neuralnetwork' in nombre) and ('+' not in nombre) else False\n",
    "        print('\\t * ',end='')\n",
    "        model_with_name = (f'{nombre}',algoritmo)\n",
    "        start = time.process_time()\n",
    "        model, auc = SF.full_framework_wrapper(df_users, df_y, model_with_name, columns=features, normalize=norm)\n",
    "        end = time.process_time()\n",
    "        print(f'\\t\\t Tardó: {end-start:.2f}s')\n",
    "        resultados.append((auc, forma, (nombre, algoritmo), features))\n",
    "    global_end = time.process_time()\n",
    "    global_time = global_end-global_start"
   ]
  },
  {
   "cell_type": "code",
   "execution_count": 30,
   "metadata": {},
   "outputs": [
    {
     "data": {
      "text/plain": [
       "[(0.887002434474691, 'Seleccion a Mano (FdM)', 'lightgbm+neuralnetwork_soft'),\n",
       " (0.8704442317237467, 'Seleccion a Mano (FdM)', 'lightgbm'),\n",
       " (0.8484566250998925, 'Seleccion a Mano (FdM)', 'neuralnetwork')]"
      ]
     },
     "metadata": {},
     "output_type": "display_data"
    }
   ],
   "source": [
    "resultados.sort(reverse=True)\n",
    "display([(x[0],x[1],x[2][0]) for x in resultados])"
   ]
  },
  {
   "cell_type": "markdown",
   "metadata": {},
   "source": [
    "## Corrida Final\n",
    "\n",
    "Se corre entrenando con X (y no X_train) el submit final."
   ]
  },
  {
   "cell_type": "code",
   "execution_count": 31,
   "metadata": {},
   "outputs": [
    {
     "data": {
      "text/plain": [
       "'Mejor Apuesta: lightgbm+neuralnetwork_soft (0.8870 AUC) - Features: Seleccion a Mano (FdM)'"
      ]
     },
     "metadata": {},
     "output_type": "display_data"
    },
    {
     "data": {
      "text/plain": [
       "\"Features: ['total_checkouts', 'total_conversions', 'total_events', 'total_sessions', 'total_session_checkout', 'total_session_conversion', 'total_events_ad_session', 'total_ad_sessions', 'avg_events_per_session', 'avg_events_per_ad_session', 'percentage_session_ad', 'has_checkout', 'has_conversion', 'total_viewed_products_month_1', 'total_checkouts_month_1', 'total_conversions_month_1', 'total_events_month_1', 'total_sessions_month_1', 'total_session_checkouts_month_1', 'total_session_conversions_month_1', 'total_events_ad_session_month_1', 'total_ad_sessions_month_1', 'has_checkout_month_1', 'has_conversion_month_1', 'total_viewed_products_month_2', 'total_checkouts_month_2', 'total_conversions_month_2', 'total_events_month_2', 'total_sessions_month_2', 'total_session_checkouts_month_2', 'total_session_conversions_month_2', 'total_events_ad_session_month_2', 'total_ad_sessions_month_2', 'has_checkout_month_2', 'has_conversion_month_2', 'total_viewed_products_month_3', 'total_checkouts_month_3', 'total_conversions_month_3', 'total_events_month_3', 'total_sessions_month_3', 'total_session_checkouts_month_3', 'total_session_conversions_month_3', 'total_events_ad_session_month_3', 'total_ad_sessions_month_3', 'has_checkout_month_3', 'has_conversion_month_3', 'total_viewed_products_month_4', 'total_checkouts_month_4', 'total_conversions_month_4', 'total_events_month_4', 'total_sessions_month_4', 'total_session_checkouts_month_4', 'total_session_conversions_month_4', 'total_events_ad_session_month_4', 'total_ad_sessions_month_4', 'has_checkout_month_4', 'has_conversion_month_4', 'total_viewed_products_month_5', 'total_checkouts_month_5', 'total_conversions_month_5', 'total_events_month_5', 'total_sessions_month_5', 'total_session_checkouts_month_5', 'total_session_conversions_month_5', 'total_events_ad_session_month_5', 'total_ad_sessions_month_5', 'has_checkout_month_5', 'has_conversion_month_5', 'total_viewed_products_months_1_to_4', 'total_checkouts_months_1_to_4', 'total_conversions_months_1_to_4', 'total_events_months_1_to_4', 'total_sessions_months_1_to_4', 'total_session_checkouts_months_1_to_4', 'total_session_conversions_months_1_to_4', 'total_events_ad_session_months_1_to_4', 'total_ad_sessions_months_1_to_4', 'has_checkout_months_1_to_4', 'has_conversion_months_1_to_4', 'total_viewed_products_lw', 'total_checkouts_lw', 'total_conversions_lw', 'total_events_lw', 'total_sessions_lw', 'total_session_checkouts_lw', 'total_session_conversions_lw', 'total_events_ad_session_lw', 'total_ad_sessions_lw', 'has_checkout_lw', 'has_conversion_lw', 'amount_of_months_that_has_bought', 'timestamp_last_event', 'timestamp_last_checkout', 'timestamp_last_conversion', 'timestamp_last_viewed_product', 'days_to_last_event', 'days_to_last_checkout', 'days_to_last_conversion', 'days_to_last_viewed_product', 'doy_last_event', 'dow_last_event', 'dom_last_event', 'woy_last_event', 'doy_last_checkout', 'dow_last_checkout', 'dom_last_checkout', 'woy_last_checkout', 'doy_last_conversion', 'dow_last_conversion', 'dom_last_conversion', 'woy_last_conversion', 'doy_last_viewed_product', 'dow_last_viewed_product', 'dom_last_viewed_product', 'woy_last_viewed_product', 'last_conversion_sku', 'last_conversion_price', 'percentage_last_week_activity', 'percentage_last_month_activity', 'days_between_last_event_and_checkout', 'percentage_regular_celphones_activity', 'var_viewed', 'conversion_gt_media']\""
      ]
     },
     "metadata": {},
     "output_type": "display_data"
    }
   ],
   "source": [
    "max_auc, campeon_forma, (campeon_nombre, campeon_algoritmo), campeon_features = resultados[0]\n",
    "display(f\"Mejor Apuesta: {campeon_nombre} ({max_auc:.4f} AUC) - Features: {campeon_forma}\")\n",
    "display(f\"Features: {campeon_features}\")"
   ]
  },
  {
   "cell_type": "code",
   "execution_count": 32,
   "metadata": {},
   "outputs": [
    {
     "name": "stdout",
     "output_type": "stream",
     "text": [
      "lightgbm+neuralnetwork_soft - Seleccion a Mano (FdM) - 0.8870\n"
     ]
    },
    {
     "name": "stderr",
     "output_type": "stream",
     "text": [
      "/home/camix/anaconda3/lib/python3.6/site-packages/sklearn/neural_network/multilayer_perceptron.py:564: UserWarning: Training interrupted by user.\n",
      "  warnings.warn(\"Training interrupted by user.\")\n"
     ]
    },
    {
     "name": "stdout",
     "output_type": "stream",
     "text": [
      "Model: lightgbm+neuralnetwork_soft_all_in - AUC: 0.8870 - Accuracy: 0.9496\n"
     ]
    },
    {
     "data": {
      "text/plain": [
       "'submission-lightgbm-neuralnetwork_soft_all_in-0.8870.csv'"
      ]
     },
     "metadata": {},
     "output_type": "display_data"
    },
    {
     "data": {
      "text/plain": [
       "\"lightgbm+neuralnetwork_soft_all_in - {'estimators': (('lightgbm', LGBMClassifier(bagging_fraction=1.0, boosting_type='gbdt', class_weight=None,\\n        colsample_bytree=1.0, feature_fraction=0.7000000000000001,\\n        lambda_l2=0, learning_rate=0.05, max_depth=4, min_child_samples=20,\\n        min_child_weight=5.00001, min_split_gain=0.01, n_estimators=70,\\n        n_jobs=-1, num_leaves=36, objective='binary', random_state=None,\\n        reg_alpha=0.0, reg_lambda=0.0, silent=True, subsample=1.0,\\n        subsample_for_bin=200000, subsample_freq=0)), ('neuralnetwork', MLPClassifier(activation='relu', alpha=0.0001, batch_size='auto', beta_1=0.05,\\n       beta_2=0.86, early_stopping=False, epsilon=1e-08,\\n       hidden_layer_sizes=(4, 4), learning_rate='constant',\\n       learning_rate_init=0.001, max_iter=200, momentum=0.9,\\n       n_iter_no_change=10, nesterovs_momentum=True, power_t=0.5,\\n       random_state=None, shuffle=True, solver='adam', tol=0.0001,\\n       validation_fraction=0.15, verbose=False, warm_start=False))), 'flatten_transform': None, 'n_jobs': None, 'voting': 'soft', 'weights': None, 'lightgbm': LGBMClassifier(bagging_fraction=1.0, boosting_type='gbdt', class_weight=None,\\n        colsample_bytree=1.0, feature_fraction=0.7000000000000001,\\n        lambda_l2=0, learning_rate=0.05, max_depth=4, min_child_samples=20,\\n        min_child_weight=5.00001, min_split_gain=0.01, n_estimators=70,\\n        n_jobs=-1, num_leaves=36, objective='binary', random_state=None,\\n        reg_alpha=0.0, reg_lambda=0.0, silent=True, subsample=1.0,\\n        subsample_for_bin=200000, subsample_freq=0), 'neuralnetwork': MLPClassifier(activation='relu', alpha=0.0001, batch_size='auto', beta_1=0.05,\\n       beta_2=0.86, early_stopping=False, epsilon=1e-08,\\n       hidden_layer_sizes=(4, 4), learning_rate='constant',\\n       learning_rate_init=0.001, max_iter=200, momentum=0.9,\\n       n_iter_no_change=10, nesterovs_momentum=True, power_t=0.5,\\n       random_state=None, shuffle=True, solver='adam', tol=0.0001,\\n       validation_fraction=0.15, verbose=False, warm_start=False), 'lightgbm__boosting_type': 'gbdt', 'lightgbm__class_weight': None, 'lightgbm__colsample_bytree': 1.0, 'lightgbm__learning_rate': 0.05, 'lightgbm__max_depth': 4, 'lightgbm__min_child_samples': 20, 'lightgbm__min_child_weight': 5.00001, 'lightgbm__min_split_gain': 0.01, 'lightgbm__n_estimators': 70, 'lightgbm__n_jobs': -1, 'lightgbm__num_leaves': 36, 'lightgbm__objective': 'binary', 'lightgbm__random_state': None, 'lightgbm__reg_alpha': 0.0, 'lightgbm__reg_lambda': 0.0, 'lightgbm__silent': True, 'lightgbm__subsample': 1.0, 'lightgbm__subsample_for_bin': 200000, 'lightgbm__subsample_freq': 0, 'lightgbm__lambda_l2': 0, 'lightgbm__feature_fraction': 0.7000000000000001, 'lightgbm__bagging_fraction': 1.0, 'neuralnetwork__activation': 'relu', 'neuralnetwork__alpha': 0.0001, 'neuralnetwork__batch_size': 'auto', 'neuralnetwork__beta_1': 0.05, 'neuralnetwork__beta_2': 0.86, 'neuralnetwork__early_stopping': False, 'neuralnetwork__epsilon': 1e-08, 'neuralnetwork__hidden_layer_sizes': (4, 4), 'neuralnetwork__learning_rate': 'constant', 'neuralnetwork__learning_rate_init': 0.001, 'neuralnetwork__max_iter': 200, 'neuralnetwork__momentum': 0.9, 'neuralnetwork__n_iter_no_change': 10, 'neuralnetwork__nesterovs_momentum': True, 'neuralnetwork__power_t': 0.5, 'neuralnetwork__random_state': None, 'neuralnetwork__shuffle': True, 'neuralnetwork__solver': 'adam', 'neuralnetwork__tol': 0.0001, 'neuralnetwork__validation_fraction': 0.15, 'neuralnetwork__verbose': False, 'neuralnetwork__warm_start': False} - ['total_checkouts', 'total_conversions', 'total_events', 'total_sessions', 'total_session_checkout', 'total_session_conversion', 'total_events_ad_session', 'total_ad_sessions', 'avg_events_per_session', 'avg_events_per_ad_session', 'percentage_session_ad', 'has_checkout', 'has_conversion', 'total_viewed_products_month_1', 'total_checkouts_month_1', 'total_conversions_month_1', 'total_events_month_1', 'total_sessions_month_1', 'total_session_checkouts_month_1', 'total_session_conversions_month_1', 'total_events_ad_session_month_1', 'total_ad_sessions_month_1', 'has_checkout_month_1', 'has_conversion_month_1', 'total_viewed_products_month_2', 'total_checkouts_month_2', 'total_conversions_month_2', 'total_events_month_2', 'total_sessions_month_2', 'total_session_checkouts_month_2', 'total_session_conversions_month_2', 'total_events_ad_session_month_2', 'total_ad_sessions_month_2', 'has_checkout_month_2', 'has_conversion_month_2', 'total_viewed_products_month_3', 'total_checkouts_month_3', 'total_conversions_month_3', 'total_events_month_3', 'total_sessions_month_3', 'total_session_checkouts_month_3', 'total_session_conversions_month_3', 'total_events_ad_session_month_3', 'total_ad_sessions_month_3', 'has_checkout_month_3', 'has_conversion_month_3', 'total_viewed_products_month_4', 'total_checkouts_month_4', 'total_conversions_month_4', 'total_events_month_4', 'total_sessions_month_4', 'total_session_checkouts_month_4', 'total_session_conversions_month_4', 'total_events_ad_session_month_4', 'total_ad_sessions_month_4', 'has_checkout_month_4', 'has_conversion_month_4', 'total_viewed_products_month_5', 'total_checkouts_month_5', 'total_conversions_month_5', 'total_events_month_5', 'total_sessions_month_5', 'total_session_checkouts_month_5', 'total_session_conversions_month_5', 'total_events_ad_session_month_5', 'total_ad_sessions_month_5', 'has_checkout_month_5', 'has_conversion_month_5', 'total_viewed_products_months_1_to_4', 'total_checkouts_months_1_to_4', 'total_conversions_months_1_to_4', 'total_events_months_1_to_4', 'total_sessions_months_1_to_4', 'total_session_checkouts_months_1_to_4', 'total_session_conversions_months_1_to_4', 'total_events_ad_session_months_1_to_4', 'total_ad_sessions_months_1_to_4', 'has_checkout_months_1_to_4', 'has_conversion_months_1_to_4', 'total_viewed_products_lw', 'total_checkouts_lw', 'total_conversions_lw', 'total_events_lw', 'total_sessions_lw', 'total_session_checkouts_lw', 'total_session_conversions_lw', 'total_events_ad_session_lw', 'total_ad_sessions_lw', 'has_checkout_lw', 'has_conversion_lw', 'amount_of_months_that_has_bought', 'timestamp_last_event', 'timestamp_last_checkout', 'timestamp_last_conversion', 'timestamp_last_viewed_product', 'days_to_last_event', 'days_to_last_checkout', 'days_to_last_conversion', 'days_to_last_viewed_product', 'doy_last_event', 'dow_last_event', 'dom_last_event', 'woy_last_event', 'doy_last_checkout', 'dow_last_checkout', 'dom_last_checkout', 'woy_last_checkout', 'doy_last_conversion', 'dow_last_conversion', 'dom_last_conversion', 'woy_last_conversion', 'doy_last_viewed_product', 'dow_last_viewed_product', 'dom_last_viewed_product', 'woy_last_viewed_product', 'last_conversion_sku', 'last_conversion_price', 'percentage_last_week_activity', 'percentage_last_month_activity', 'days_between_last_event_and_checkout', 'percentage_regular_celphones_activity', 'var_viewed', 'conversion_gt_media']\""
      ]
     },
     "metadata": {},
     "output_type": "display_data"
    }
   ],
   "source": [
    "print(f\"{campeon_nombre} - {campeon_forma} - {max_auc:.4f}\")\n",
    "\n",
    "campeon_model, campeon_auc, csv_name, campeon_message = SF.full_framework_wrapper(df_users, \n",
    "                                                                                    df_y, \n",
    "                                                                                    (campeon_nombre,campeon_algoritmo),\n",
    "                                                                                    columns=campeon_features,\n",
    "                                                                                    submit=True,\n",
    "                                                                                    all_in=True)   \n",
    "\n",
    "#!kaggle competitions submit -f {csv_name} -m \"{campeon_message}\" trocafone"
   ]
  },
  {
   "cell_type": "markdown",
   "metadata": {},
   "source": [
    "https://www.kaggle.com/c/trocafone/submissions?sortBy=date\n",
    "\n",
    "https://www.kaggle.com/c/trocafone/leaderboard"
   ]
  }
 ],
 "metadata": {
  "kernelspec": {
   "display_name": "Python 3",
   "language": "python",
   "name": "python3"
  },
  "language_info": {
   "codemirror_mode": {
    "name": "ipython",
    "version": 3
   },
   "file_extension": ".py",
   "mimetype": "text/x-python",
   "name": "python",
   "nbconvert_exporter": "python",
   "pygments_lexer": "ipython3",
   "version": "3.6.6"
  },
  "toc": {
   "base_numbering": 1,
   "nav_menu": {},
   "number_sections": false,
   "sideBar": true,
   "skip_h1_title": true,
   "title_cell": "Índice",
   "title_sidebar": "Contenido",
   "toc_cell": false,
   "toc_position": {
    "height": "calc(100% - 180px)",
    "left": "10px",
    "top": "150px",
    "width": "204.867px"
   },
   "toc_section_display": true,
   "toc_window_display": true
  }
 },
 "nbformat": 4,
 "nbformat_minor": 2
}
