{
 "cells": [
  {
   "cell_type": "code",
   "execution_count": null,
   "metadata": {},
   "outputs": [],
   "source": [
    "import pandas as pd\n",
    "import numpy as np\n",
    "import calendar\n",
    "\n",
    "# !!!! borrar, va en otro notebook\n",
    "from sklearn.preprocessing import LabelEncoder\n",
    "from sklearn.tree import DecisionTreeClassifier, export_graphviz\n",
    "from sklearn.model_selection import train_test_split\n",
    "from sklearn.metrics import accuracy_score\n",
    "\n",
    "# Setting random seed.\n",
    "seed = 42"
   ]
  },
  {
   "cell_type": "code",
   "execution_count": null,
   "metadata": {},
   "outputs": [],
   "source": [
    "df_events = pd.read_csv('./data/events_up_to_01062018.csv', low_memory=False)\n",
    "df_sessions = pd.read_csv('./data/sessions.csv', low_memory=False)\n",
    "df_brands = pd.read_csv('data/brands.csv')\n",
    "df_os = pd.read_csv('data/os.csv')\n",
    "df_browsers = pd.read_csv('data/browsers.csv')\n",
    "df_y = pd.read_csv('data/labels_training_set.csv')\n",
    "df_y = df_y.groupby('person').sum()\n",
    "\n",
    "\n",
    "df = df_events.merge(df_sessions, how='left', left_index=True, right_index=True)\n",
    "df = df.merge(df_browsers, how='left', on='browser_version')\n",
    "df = df.merge(df_os, how='left', on='operating_system_version')\n",
    "df = df.merge(df_brands, how='left', on='model')"
   ]
  },
  {
   "cell_type": "code",
   "execution_count": null,
   "metadata": {},
   "outputs": [],
   "source": [
    "# Los atributos con pocos valores posibles se pasan a variables categoricas para ahorrar memoria\n",
    "df['event'] = df['event'].astype('category')\n",
    "df['condition'] = df['condition'].astype('category')\n",
    "df['storage'] = df['storage'].astype('category')\n",
    "df['search_engine'] = df['search_engine'].astype('category')\n",
    "df['channel'] = df['channel'].astype('category')\n",
    "df['device_type'] = df['device_type'].astype('category')\n",
    "\n",
    "df['brand'] = df['brand'].astype('category')\n",
    "df['operating_system'] = df['operating_system'].astype('category')\n",
    "df['browser'] = df['browser'].astype('category')\n",
    "\n",
    "# El tiempo es mejor manejarlo como tal\n",
    "df['timestamp'] = pd.to_datetime(df['timestamp'])"
   ]
  },
  {
   "cell_type": "code",
   "execution_count": null,
   "metadata": {},
   "outputs": [],
   "source": [
    "df['month_number'] = df['timestamp'].dt.month\n",
    "df['month_name'] = df['month_number'].apply(lambda x: calendar.month_abbr[x])\n",
    "df['week_day'] = df['timestamp'].dt.weekday\n",
    "df['week_number'] = df['timestamp'].dt.week\n",
    "df['week_day_name'] = df['timestamp'].dt.weekday_name\n",
    "df['day_date'] = df['timestamp'].dt.to_period('D')\n",
    "df['day_dom'] = df['timestamp'].dt.day\n",
    "df['day_doy'] = df['timestamp'].dt.dayofyear\n",
    "df['hour_count'] = df['timestamp'].dt.hour"
   ]
  },
  {
   "cell_type": "code",
   "execution_count": null,
   "metadata": {},
   "outputs": [],
   "source": [
    "df.sort_values(['person', 'timestamp'])"
   ]
  },
  {
   "cell_type": "code",
   "execution_count": null,
   "metadata": {},
   "outputs": [],
   "source": [
    "df['is_conversion'] = df['event'] == 'conversion'\n",
    "df['is_checkout'] = df['event'] == 'checkout'"
   ]
  },
  {
   "cell_type": "markdown",
   "metadata": {},
   "source": [
    "### Users DataFrame"
   ]
  },
  {
   "cell_type": "code",
   "execution_count": null,
   "metadata": {},
   "outputs": [],
   "source": [
    "# Total checkouts and conversions\n",
    "udf_tmp1 = df.groupby('person').agg({'is_conversion':'sum', 'is_checkout':'sum'})\n",
    "udf_tmp1.columns = ['total_conversions', 'total_checkouts']\n",
    "udf_tmp1['total_conversions'] = udf_tmp1['total_conversions'].astype('int')\n",
    "udf_tmp1['total_checkouts'] = udf_tmp1['total_checkouts'].astype('int')\n",
    "\n",
    "udf_tmp1['has_conversion'] = udf_tmp1['total_conversions'] > 0\n",
    "udf_tmp1['has_checkout'] = udf_tmp1['total_checkouts'] > 0\n",
    "\n",
    "udf_tmp1 = udf_tmp1.astype('int') "
   ]
  },
  {
   "cell_type": "code",
   "execution_count": null,
   "metadata": {},
   "outputs": [],
   "source": [
    "display(len(udf_tmp1))\n",
    "udf_tmp1[udf_tmp1['total_conversions'] > 10].sort_values('total_conversions', ascending=False)"
   ]
  },
  {
   "cell_type": "code",
   "execution_count": null,
   "metadata": {},
   "outputs": [],
   "source": [
    "# Has conversions or checkouts in may\n",
    "gb = df[df['month_number'] == 5].groupby('person')\n",
    "udf_tmp2 = gb.agg({'is_conversion':'sum', 'is_checkout':'sum'})\n",
    "udf_tmp2.columns = ['total_conversions_month_5', 'total_checkouts_month_5']\n",
    "\n",
    "udf_tmp2['total_conversions_month_5'] = udf_tmp2['total_conversions_month_5'].astype('int')\n",
    "udf_tmp2['total_checkouts_month_5'] = udf_tmp2['total_checkouts_month_5'].astype('int')\n",
    "\n",
    "udf_tmp2['has_conversion_month_5'] = udf_tmp2['total_conversions_month_5'] > 0\n",
    "udf_tmp2['has_checkout_month_5'] = udf_tmp2['total_checkouts_month_5'] > 0\n",
    "\n",
    "udf_tmp2 = udf_tmp2.astype('int')"
   ]
  },
  {
   "cell_type": "code",
   "execution_count": null,
   "metadata": {},
   "outputs": [],
   "source": [
    "udf_tmp2.head(10)"
   ]
  },
  {
   "cell_type": "code",
   "execution_count": null,
   "metadata": {},
   "outputs": [],
   "source": [
    "udf = udf_tmp1.merge(udf_tmp2, how='outer', on='person')\n",
    "udf = udf.fillna(0)\n",
    "udf = udf.astype('int')\n",
    "display(len(udf))\n",
    "udf.head()"
   ]
  },
  {
   "cell_type": "code",
   "execution_count": null,
   "metadata": {},
   "outputs": [],
   "source": [
    "display(len(udf))\n",
    "display(len(df_events['person'].unique()))\n",
    "display(len(df['person'].unique()))\n",
    "udf.head(20)"
   ]
  },
  {
   "cell_type": "code",
   "execution_count": null,
   "metadata": {},
   "outputs": [],
   "source": [
    "# Dummys de todos 0s y todos 1s\n",
    "gb = df[['person', 'week_number']].groupby('person')\n",
    "dummy = gb.agg('sum')\n",
    "\n",
    "dummy = dummy['week_number'] * 0\n",
    "dummy = dummy.to_frame()\n",
    "print(\"dummy-size: \"+str(len(dummy))+\" | y-size: \"+str(len(df_y)))\n",
    "y_df_tmp = y_df.set_index(y_df['person'])[['label']]\n",
    "\n",
    "dummy_final = dummy.merge(y_df_tmp, how='outer', left_index=True, right_index=True, indicator=True)\n",
    "#display(dummy.head())\n",
    "#display(y_df.head())\n",
    "#display(dummy_final.head())\n",
    "dummy['label'] = dummy['week_number'] * 0\n",
    "dummy = dummy[['label']]\n",
    "dummy = dummy[~dummy.index.isin(y_df.index)]\n",
    "display(len(dummy))\n",
    "dummy\n",
    "display(len(dummy_final.query('_merge != \"both\"')))\n",
    "dummy_final = dummy_final.query('_merge != \"both\"')[['week_number']]\n",
    "dummy_final.columns = ['label']\n",
    "dummy_final['label'] = dummy_final['label'] + 1\n",
    "print(\"checking sum is zero: \")\n",
    "display(dummy_final.sum())\n",
    "dummy_final.head()"
   ]
  },
  {
   "cell_type": "code",
   "execution_count": null,
   "metadata": {},
   "outputs": [],
   "source": [
    "dummy_final.to_csv('submit-zeros.csv', header=True)"
   ]
  },
  {
   "cell_type": "markdown",
   "metadata": {},
   "source": [
    "<Siguiente minado>"
   ]
  },
  {
   "cell_type": "markdown",
   "metadata": {},
   "source": [
    "# Submission Framework"
   ]
  },
  {
   "cell_type": "code",
   "execution_count": null,
   "metadata": {},
   "outputs": [],
   "source": [
    "def require(x1, x2):\n",
    "    if x1 != x2:\n",
    "        print('ERROR - {} must be equal to {}'.format(str(x1), str(x2)))\n",
    "        raise ValueError('Oh la la.') \n",
    "\n",
    "def df_label_xor(df1, df2):\n",
    "    \n",
    "    merged = df1.merge(df2, how='outer', left_index=True, right_index=True, indicator=True)\n",
    "    merged = merged.query('_merge != \"both\"')\n",
    "    return merged\n",
    "    \n",
    "# Crea la matriz X y el vector y para entrenar\n",
    "def fr1_extract_X_y(df, df_y):\n",
    "    require(len(df), 38829)\n",
    "    require(len(df_y), 19414)\n",
    "    \n",
    "    data = udf.merge(df_y, how='inner', left_index= True, right_index=True)\n",
    "    require(len(data), 19414)\n",
    "    \n",
    "    X = data.drop('label', axis=1).values\n",
    "    y = df_y.values\n",
    "    \n",
    "    return X, y\n",
    "\n",
    "# Splitea para generar los set de entrenamiento y de prueba\n",
    "def fr2_train_test_split(X, y, seed):\n",
    "    X_train, X_test, y_train, y_test = train_test_split(X, y, test_size=0.34, stratify=y, random_state=seed)\n",
    "    return X_train, X_test, y_train, y_test\n",
    "\n",
    "# Customizado, se tiene que hacer uno por algoritmo\n",
    "def fr3_decision_tree(X_train, X_test, y_train):\n",
    "    tree = DecisionTreeClassifier(criterion='gini',\n",
    "                              min_samples_leaf=5,\n",
    "                              min_samples_split=5,\n",
    "                              max_depth=3,\n",
    "                              random_state=seed)\n",
    "\n",
    "    tree.fit(X_train, y_train)\n",
    "    y_pred = tree.predict(X_test)\n",
    "    return y_pred\n",
    "    \n",
    "def fr4_accuracy_score(y_test, y_pred, model_name):\n",
    "    accuracy = accuracy_score(y_test, y_pred)\n",
    "    print('{} accuracy score: {}'.format(model_name, accuracy))    \n",
    "    \n",
    "# Crea la matriz X a predecir\n",
    "def fr5_extract_X_to_predict(df, df_y, model):\n",
    "    require(len(df), 38829)\n",
    "    require(len(df_y), 19414)\n",
    "       \n",
    "    data = df_label_xor(df, df_y)\n",
    "    data = data.drop(['label', '_merge'], axis=1)\n",
    "\n",
    "    require(len(data), 19415)\n",
    "\n",
    "    predictions = model.predict(data.values)\n",
    "    return data, predictions\n",
    "\n",
    "# Devuelve la cantidad de 1s predecidos\n",
    "def fr6_1s_predicted(predictions):\n",
    "    print('Ammount of 1s: {}'.format(predictions.sum()))\n",
    "    \n",
    "def fr7_to_csv(df, predictions, name_csv):\n",
    "    submission = df\n",
    "    submission['label'] = predictions\n",
    "    submission = submission['label']\n",
    "    \n",
    "    require(len(submission), 19415)\n",
    "    \n",
    "    submission.to_csv(name_csv, header=True)"
   ]
  },
  {
   "cell_type": "code",
   "execution_count": null,
   "metadata": {},
   "outputs": [],
   "source": [
    "# Framework para entrenar\n",
    "\n",
    "# SÓLO CAMBIAR ESTOS PARÁMETROS\n",
    "fr_df, fr_df_y = udf, df_y\n",
    "\n",
    "# De acá no tienen que tocar nada\n",
    "X, y = fr1_extract_X_y(fr_df, fr_df_y)\n",
    "X_train, X_test, y_train, y_test = fr2_train_test_split(X, y, seed)\n",
    "y_pred = fr3_decision_tree(X_train, X_test, y_train)\n",
    "fr4_accuracy_score(y_test, y_pred, 'DecissionTreeClassifier')"
   ]
  },
  {
   "cell_type": "code",
   "execution_count": null,
   "metadata": {},
   "outputs": [],
   "source": [
    "# Framework para predecir, luego se submitea el archivo generado\n",
    "\n",
    "# SÓLO CAMBIAR ESTOS PARÁMETROS\n",
    "fr_model = tree\n",
    "\n",
    "# De acá no tienen que tocar nada\n",
    "X_to_predict, predictions = fr5_extract_X_to_predict(fr_df, fr_df_y, fr_model)\n",
    "fr6_1s_predicted(predictions)\n",
    "fr7_to_csv(X_to_predict, predictions, 'submission-decission-tree-1.csv')"
   ]
  }
 ],
 "metadata": {
  "kernelspec": {
   "display_name": "Python 3",
   "language": "python",
   "name": "python3"
  },
  "language_info": {
   "codemirror_mode": {
    "name": "ipython",
    "version": 3
   },
   "file_extension": ".py",
   "mimetype": "text/x-python",
   "name": "python",
   "nbconvert_exporter": "python",
   "pygments_lexer": "ipython3",
   "version": "3.6.5"
  }
 },
 "nbformat": 4,
 "nbformat_minor": 2
}
