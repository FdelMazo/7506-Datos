{
 "cells": [
  {
   "cell_type": "code",
   "execution_count": null,
   "metadata": {},
   "outputs": [],
   "source": [
    "import pandas as pd\n",
    "import numpy as np\n",
    "\n",
    "df_events = pd.read_csv('./data/events_up_to_01062018.csv', low_memory=False)\n",
    "df_sessions = pd.read_csv('./data/sessions.csv', low_memory=False)\n",
    "df_brands = pd.read_csv('data/brands.csv')\n",
    "df_os = pd.read_csv('data/os.csv')\n",
    "df_browsers = pd.read_csv('data/browsers.csv')\n",
    "\n",
    "\n",
    "df = df_events.merge(df_sessions, how='left', left_index=True, right_index=True)\n",
    "df = df.merge(df_browsers, how='left', on='browser_version')\n",
    "df = df.merge(df_os, how='left', on='operating_system_version')\n",
    "df = df.merge(df_brands, how='left', on='model')"
   ]
  },
  {
   "cell_type": "code",
   "execution_count": null,
   "metadata": {},
   "outputs": [],
   "source": [
    "# Los atributos con pocos valores posibles se pasan a variables categoricas para ahorrar memoria\n",
    "df['event'] = df['event'].astype('category')\n",
    "df['condition'] = df['condition'].astype('category')\n",
    "df['storage'] = df['storage'].astype('category')\n",
    "df['search_engine'] = df['search_engine'].astype('category')\n",
    "df['channel'] = df['channel'].astype('category')\n",
    "df['device_type'] = df['device_type'].astype('category')\n",
    "\n",
    "df['brand'] = df['brand'].astype('category')\n",
    "df['operating_system'] = df['operating_system'].astype('category')\n",
    "df['browser'] = df['browser'].astype('category')\n",
    "\n",
    "# El tiempo es mejor manejarlo como tal\n",
    "df['timestamp'] = pd.to_datetime(df['timestamp'])\n"
   ]
  },
  {
   "cell_type": "code",
   "execution_count": null,
   "metadata": {},
   "outputs": [],
   "source": [
    "df['month_number'] = df['timestamp'].dt.month\n",
    "df['month_name'] = df['month_number'].apply(lambda x: calendar.month_abbr[x])\n",
    "df['week_day'] = df['timestamp'].dt.weekday\n",
    "df['week_number'] = df['timestamp'].dt.week\n",
    "df['week_day_name'] = df['timestamp'].dt.weekday_name\n",
    "df['day_date'] = df['timestamp'].dt.to_period('D')\n",
    "df['day_dom'] = df['timestamp'].dt.day\n",
    "df['day_doy'] = df['timestamp'].dt.dayofyear\n",
    "df['hour_count'] = df['timestamp'].dt.hour"
   ]
  },
  {
   "cell_type": "code",
   "execution_count": null,
   "metadata": {},
   "outputs": [],
   "source": [
    "df.sort_values(['person', 'timestamp'])"
   ]
  },
  {
   "cell_type": "code",
   "execution_count": null,
   "metadata": {},
   "outputs": [],
   "source": [
    "df['is_conversion'] = df['event'] == 'conversion'\n",
    "df['is_checkout'] = df['event'] == 'checkout'"
   ]
  },
  {
   "cell_type": "markdown",
   "metadata": {},
   "source": [
    "#### Users DataFrame"
   ]
  },
  {
   "cell_type": "code",
   "execution_count": null,
   "metadata": {},
   "outputs": [],
   "source": [
    "udf = df.groupby('person').agg({'is_conversion':'sum', 'is_checkout':'sum'})\n",
    "udf.columns = ['total_conversions', 'total_checkouts']\n",
    "df['total_conversions'] = udf['total_conversions'].astype('int')\n",
    "df['total_checkouts'] = udf['total_checkouts'].astype('int')\n",
    "\n",
    "udf['has_conversion'] = udf['total_conversions'] > 0\n",
    "udf['has_checkout'] = udf['total_checkouts'] > 0"
   ]
  },
  {
   "cell_type": "code",
   "execution_count": null,
   "metadata": {},
   "outputs": [],
   "source": [
    "udf"
   ]
  },
  {
   "cell_type": "code",
   "execution_count": null,
   "metadata": {},
   "outputs": [],
   "source": []
  }
 ],
 "metadata": {
  "kernelspec": {
   "display_name": "Python 3",
   "language": "python",
   "name": "python3"
  },
  "language_info": {
   "codemirror_mode": {
    "name": "ipython",
    "version": 3
   },
   "file_extension": ".py",
   "mimetype": "text/x-python",
   "name": "python",
   "nbconvert_exporter": "python",
   "pygments_lexer": "ipython3",
   "version": "3.6.5"
  }
 },
 "nbformat": 4,
 "nbformat_minor": 2
}
