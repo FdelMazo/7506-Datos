{
 "cells": [
  {
   "cell_type": "code",
   "execution_count": null,
   "metadata": {},
   "outputs": [],
   "source": [
    "# Set-up y vista rápida de una muestra\n",
    "import pandas as pd\n",
    "import matplotlib.pyplot as plt\n",
    "\n",
    "events_df = pd.read_csv('events.csv', low_memory=False)\n",
    "events_df.head()"
   ]
  },
  {
   "cell_type": "code",
   "execution_count": null,
   "metadata": {},
   "outputs": [],
   "source": [
    "events_df.describe()"
   ]
  },
  {
   "cell_type": "markdown",
   "metadata": {},
   "source": [
    "### 1. Analizar cuál es el tipo de evento predominante en el set de datos."
   ]
  },
  {
   "cell_type": "code",
   "execution_count": null,
   "metadata": {},
   "outputs": [],
   "source": [
    "eventos = events_df['event'].value_counts()\n",
    "evento_predominante = eventos.index[0]\n",
    "\n",
    "# El evento predominante es.......\n",
    "evento_predominante"
   ]
  },
  {
   "cell_type": "code",
   "execution_count": null,
   "metadata": {},
   "outputs": [],
   "source": [
    "# Lista entera\n",
    "eventos"
   ]
  },
  {
   "cell_type": "code",
   "execution_count": null,
   "metadata": {},
   "outputs": [],
   "source": [
    "# Siendo una variable categórica, se puede ver cómodamente en un gráfico de barras\n",
    "\n",
    "ax = eventos.plot(kind='barh', title =\"Eventos por usuario\", figsize=(15, 10), legend=True, fontsize=12)\n",
    "ax.set_ylabel(\"Evento\", fontsize=12)\n",
    "ax.set_xlabel(\"Usuarios\", fontsize=12)\n",
    "plt.show()"
   ]
  },
  {
   "cell_type": "markdown",
   "metadata": {},
   "source": [
    "### 2. Calcular cuales son los 5 productos (identificados por sku) con mayor cantidad de conversiones."
   ]
  },
  {
   "cell_type": "code",
   "execution_count": null,
   "metadata": {},
   "outputs": [],
   "source": [
    "productos_comprados = events_df.loc[events_df['event'] == 'conversion']\n",
    "productos_comprados = productos_comprados['sku'].value_counts()\n",
    "top_5 = productos_comprados.head(5)\n",
    "top_5"
   ]
  },
  {
   "cell_type": "code",
   "execution_count": null,
   "metadata": {},
   "outputs": [],
   "source": [
    "ax = top_5.plot(kind='bar', title =\"5 productos más vendidos\", figsize=(15, 10), legend=True, fontsize=12)\n",
    "ax.set_xlabel(\"sku\", fontsize=12)\n",
    "ax.set_ylabel(\"Compras\", fontsize=12)\n",
    "plt.show()"
   ]
  },
  {
   "cell_type": "code",
   "execution_count": null,
   "metadata": {},
   "outputs": [],
   "source": [
    "# A un emprendedor no le sirve decir 'El celular que más vendio es el 2692...' Queremos nombres de celulares!\n",
    "# A que modelo refiere el sku? \n",
    "\n",
    "modelos = events_df.loc[events_df['sku'].isin(top_5.index)]\n",
    "modelos = modelos['model'].value_counts()\n",
    "\n",
    "ax = modelos.plot(kind='bar', title =\"Modelos más vendidos\", figsize=(15, 10), legend=True, fontsize=12)\n",
    "ax.set_xlabel(\"Modelo\", fontsize=12)\n",
    "ax.set_ylabel(\"Compras\", fontsize=12)\n",
    "plt.show()"
   ]
  },
  {
   "cell_type": "markdown",
   "metadata": {},
   "source": [
    "### 3. Averiguar cuáles son los 10 usuarios que registraron más actividad en la plataforma (es decir, realizaron más eventos)."
   ]
  },
  {
   "cell_type": "code",
   "execution_count": null,
   "metadata": {},
   "outputs": [],
   "source": [
    "usuarios = events_df['person'].value_counts()\n",
    "usuarios_mas_activos = usuarios.head(10)"
   ]
  },
  {
   "cell_type": "code",
   "execution_count": null,
   "metadata": {},
   "outputs": [],
   "source": [
    "ax = usuarios_mas_activos.plot(kind='bar', title =\"10 usuarios más activos\", figsize=(15, 10), legend=True, fontsize=12)\n",
    "ax.set_xlabel(\"Usuario\", fontsize=12)\n",
    "ax.set_ylabel(\"Cantidad de eventos\", fontsize=12)\n",
    "plt.show()"
   ]
  }
 ],
 "metadata": {
  "kernelspec": {
   "display_name": "Python 3",
   "language": "python",
   "name": "python3"
  },
  "language_info": {
   "codemirror_mode": {
    "name": "ipython",
    "version": 3
   },
   "file_extension": ".py",
   "mimetype": "text/x-python",
   "name": "python",
   "nbconvert_exporter": "python",
   "pygments_lexer": "ipython3",
   "version": "3.6.5"
  }
 },
 "nbformat": 4,
 "nbformat_minor": 2
}
