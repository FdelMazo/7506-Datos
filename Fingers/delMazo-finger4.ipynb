{
 "cells": [
  {
   "cell_type": "markdown",
   "metadata": {},
   "source": [
    "Utilizando las herramientas que proveen distintas bibliotecas de Python (Numpy, Sklearn, etc.), se quiere realizar un análisis sobre reducción de dimensiones y visualización de datos. Se utilizará un set de datos sobre el cual se puede analizar la relación entre distintas muestras de tejido en términos de expresión genética.\n",
    "\n",
    "El primer archivo contiene 1641 observaciones, y el segundo archivo contiene para cada una de esas observaciones su label correspondiente respetando el orden de los registros. Es decir, por ejemplo, el label del primer registro de GTExdata.csv es el primer registro del archivo SampleLabels.csv y así sucesivamente. El label que vamos a usar es Tissue type.\n",
    "\n",
    "Se plantean los siguientes puntos a realizar:\n",
    "\n",
    "1) Realizar una descomposición en valores singulares sobre el set y luego:\n",
    "\n",
    "* Graficar la energía acumulada en función de la cantidad de autovalores, y graficar los autovalores del set.\n",
    "\n",
    "* Con los dos gráficos anteriores, indicar qué valor de k se podría utilizar para realizar una aproximación. \n",
    "\n",
    "* Realizar una reducción a dos dimensiones del set de datos y graficar los puntos en un scatter-plot utilizando colores para indicar el label correspondiente a cada punto.\n",
    "\n",
    "2) Utilizando el algoritmo t-SNE, se pide:\n",
    "\n",
    "* Realizar un scatter-plot en el plano 2D, utilizando colores para indicar el label.\n",
    "\n",
    "* Probar varios valores de perplexity (e.g. 3, 30, 1000). ¿Qué efectos tiene el perplexity en el gráfico?\n"
   ]
  },
  {
   "cell_type": "code",
   "execution_count": null,
   "metadata": {},
   "outputs": [],
   "source": [
    "import numpy as np\n",
    "import matplotlib.pyplot as plt\n",
    "import seaborn as sns\n",
    "import pandas as pd\n",
    "from scipy.linalg import svd\n",
    "from sklearn.manifold import TSNE"
   ]
  },
  {
   "cell_type": "code",
   "execution_count": null,
   "metadata": {},
   "outputs": [],
   "source": [
    "sns.set(style=\"darkgrid\")\n",
    "plt.rcParams['figure.figsize'] = (25,15)"
   ]
  },
  {
   "cell_type": "code",
   "execution_count": null,
   "metadata": {},
   "outputs": [],
   "source": [
    "df_gtex = pd.read_csv('GTExdata.csv',low_memory=False)\n",
    "display(df_gtex.head())\n",
    "\n",
    "df_sample = pd.read_csv('SampleLabels.csv',low_memory=False)\n",
    "display(df_sample.head())\n",
    "\n",
    "# Solo nos importa 'Tissue Type'\n",
    "df_sample = df_sample[['Tissue type']]"
   ]
  },
  {
   "cell_type": "markdown",
   "metadata": {},
   "source": [
    "---\n",
    "\n",
    "1) Realizar una descomposición en valores singulares sobre el set y luego:\n",
    "\n",
    "* Graficar la energía acumulada en función de la cantidad de autovalores, y graficar los autovalores del set.\n",
    "\n",
    "* Con los dos gráficos anteriores, indicar qué valor de k se podría utilizar para realizar una aproximación. \n",
    "\n",
    "* Realizar una reducción a dos dimensiones del set de datos y graficar los puntos en un scatter-plot utilizando colores para indicar el label correspondiente a cada punto."
   ]
  },
  {
   "cell_type": "code",
   "execution_count": null,
   "metadata": {},
   "outputs": [],
   "source": [
    "u, s, vt = svd(df_gtex)\n",
    "display(u[:3],s[:3],vt[:3])"
   ]
  },
  {
   "cell_type": "code",
   "execution_count": null,
   "metadata": {},
   "outputs": [],
   "source": [
    "energia_total = sum(s**2)\n",
    "autovalores_al_cuadrado = s**2\n",
    "energia_acumulada = np.cumsum(autovalores_al_cuadrado)\n",
    "\n",
    "energia_acumulada[:3]"
   ]
  },
  {
   "cell_type": "code",
   "execution_count": null,
   "metadata": {},
   "outputs": [],
   "source": [
    "plt.subplot(1,2,1)\n",
    "plt.plot(energia_acumulada)\n",
    "plt.title('Energía acumulada en función de la cantidad de autovalores')\n",
    "plt.xlabel('Cantidad de autovalores')\n",
    "plt.ylabel('Energía acumulada')\n",
    "\n",
    "plt.subplot(1,2,2)\n",
    "plt.plot(s)\n",
    "plt.title('Autovalores')\n",
    "plt.xlabel('Nro de autovalor')\n",
    "plt.ylabel('Valor')"
   ]
  },
  {
   "cell_type": "markdown",
   "metadata": {},
   "source": [
    "Podemos ver que los primeros 250 autovalores son los que contienen la mayor parte de la información, o incluso menos que esto. Busquemos el codo dentro de estos"
   ]
  },
  {
   "cell_type": "code",
   "execution_count": null,
   "metadata": {},
   "outputs": [],
   "source": [
    "porcentaje = ((autovalores_al_cuadrado / energia_total) * 100)\n",
    "porcentaje_acumulado = np.cumsum(porcentaje)\n",
    "\n",
    "primeros_250 = porcentaje_acumulado[:250]\n",
    "plt.plot(primeros_250)\n",
    "\n",
    "plt.title('Energía acumulada en función de la cantidad de autovalores para los primeros 250 autovalores')\n",
    "plt.xlabel('Cantidad de autovalores')\n",
    "plt.ylabel('Energía acumulada en porcentaje')"
   ]
  },
  {
   "cell_type": "markdown",
   "metadata": {},
   "source": [
    "Hacemos un zoom mas"
   ]
  },
  {
   "cell_type": "code",
   "execution_count": null,
   "metadata": {},
   "outputs": [],
   "source": [
    "primeros_50 = porcentaje_acumulado[:50]\n",
    "plt.plot(primeros_50)\n",
    "\n",
    "plt.title('Energía acumulada en función de la cantidad de autovalores para los primeros 50 autovalores')\n",
    "plt.xlabel('Cantidad de autovalores')\n",
    "plt.ylabel('Energía acumulada en porcentaje')"
   ]
  },
  {
   "cell_type": "code",
   "execution_count": null,
   "metadata": {},
   "outputs": [],
   "source": [
    "print('Con k=10 se preserva un {:.2f}% de la información'.format(porcentaje_acumulado[10]))\n",
    "print('Con k=20 se preserva un {:.2f}% de la información'.format(porcentaje_acumulado[20]))\n",
    "print('Con k=30 se preserva un {:.2f}% de la información'.format(porcentaje_acumulado[30]))\n",
    "print('Con k=40 se preserva un {:.2f}% de la información'.format(porcentaje_acumulado[40]))\n",
    "print('Con k=50 se preserva un {:.2f}% de la información'.format(porcentaje_acumulado[50]))"
   ]
  },
  {
   "cell_type": "markdown",
   "metadata": {},
   "source": [
    "Se concluye que se puede usars un K entre 40 y 50."
   ]
  },
  {
   "cell_type": "code",
   "execution_count": null,
   "metadata": {},
   "outputs": [],
   "source": [
    "# Realizo el producto interno entre U y Sigma y sobre el resultado me quedo con las dos primeras columnas\n",
    "\n",
    "reduccion_k_2 = u * s\n",
    "reduccion_k_2 = np.matrix(reduccion_k_2)[:,:2]\n",
    "reduccion_k_2 = pd.DataFrame(reduccion_k_2)\n",
    "reduccion_k_2 = reduccion_k_2.merge(df_sample, left_index=True, right_index=True)\n",
    "reduccion_k_2.head()"
   ]
  },
  {
   "cell_type": "code",
   "execution_count": null,
   "metadata": {},
   "outputs": [],
   "source": [
    "sns.scatterplot(0,1,data=reduccion_k_2,hue='Tissue type')\n",
    "plt.title('Información reducida a 2 dimensiones')"
   ]
  },
  {
   "cell_type": "markdown",
   "metadata": {},
   "source": [
    "---\n",
    "\n",
    "2) Utilizando el algoritmo t-SNE, se pide:\n",
    "\n",
    "* Realizar un scatter-plot en el plano 2D, utilizando colores para indicar el label.\n",
    "\n",
    "* Probar varios valores de perplexity (e.g. 3, 30, 1000). ¿Qué efectos tiene el perplexity en el gráfico?"
   ]
  },
  {
   "cell_type": "code",
   "execution_count": null,
   "metadata": {},
   "outputs": [],
   "source": [
    "tsne = TSNE(n_components=2, verbose=1)\n",
    "tsne_resultado = tsne.fit_transform(df_gtex)\n",
    "df_tsne = pd.DataFrame(tsne_resultado)\n",
    "df_tsne = df_tsne.merge(df_sample, left_index=True, right_index=True)\n",
    "\n",
    "sns.scatterplot(x=0,y=1,data=df_tsne,hue='Tissue type')\n",
    "plt.title('TSNE con todos los datos')"
   ]
  },
  {
   "cell_type": "code",
   "execution_count": null,
   "metadata": {},
   "outputs": [],
   "source": [
    "perplexities = [1,10,50]\n",
    "seleccion = 500\n",
    "\n",
    "fig, axs = plt.subplots(ncols=len(perplexities))\n",
    "\n",
    "for i,p in enumerate(perplexities):\n",
    "    tsne = TSNE(n_components=2,perplexity=p)\n",
    "    tsne_resultado = tsne.fit_transform(df_gtex[:seleccion])\n",
    "    df_tsne = pd.DataFrame(tsne_resultado)\n",
    "    df_tsne = df_tsne.merge(df_sample, left_index=True, right_index=True)\n",
    "    sns.scatterplot(x=0,y=1,data=df_tsne,hue='Tissue type',ax=axs[i])\n",
    "    axs[i].set_title('TSNE con {} registros, Perplexity={}'.format(seleccion, p))"
   ]
  },
  {
   "cell_type": "code",
   "execution_count": null,
   "metadata": {},
   "outputs": [],
   "source": [
    "perplexities = [100,1000,10000]\n",
    "seleccion = 500\n",
    "\n",
    "fig, axs = plt.subplots(ncols=len(perplexities))\n",
    "\n",
    "for i,p in enumerate(perplexities):\n",
    "    tsne = TSNE(n_components=2,perplexity=p)\n",
    "    tsne_resultado = tsne.fit_transform(df_gtex[:seleccion])\n",
    "    df_tsne = pd.DataFrame(tsne_resultado)\n",
    "    df_tsne = df_tsne.merge(df_sample, left_index=True, right_index=True)\n",
    "    sns.scatterplot(x=0,y=1,data=df_tsne,hue='Tissue type',ax=axs[i])\n",
    "    axs[i].set_title('TSNE con {} registros, Perplexity={}'.format(seleccion, p))"
   ]
  },
  {
   "cell_type": "markdown",
   "metadata": {},
   "source": [
    "Se puede ver como la variable de la perplejidad modifica como se agrupan los datos. A menor perplejidad, más grupos se formaran, aislandose del resto, mientras que a mayor todo será parte de la misma gran nube."
   ]
  }
 ],
 "metadata": {
  "kernelspec": {
   "display_name": "Python 3",
   "language": "python",
   "name": "python3"
  },
  "language_info": {
   "codemirror_mode": {
    "name": "ipython",
    "version": 3
   },
   "file_extension": ".py",
   "mimetype": "text/x-python",
   "name": "python",
   "nbconvert_exporter": "python",
   "pygments_lexer": "ipython3",
   "version": "3.6.6"
  },
  "toc": {
   "base_numbering": 1,
   "nav_menu": {},
   "number_sections": true,
   "sideBar": true,
   "skip_h1_title": false,
   "title_cell": "Table of Contents",
   "title_sidebar": "Contents",
   "toc_cell": false,
   "toc_position": {},
   "toc_section_display": true,
   "toc_window_display": false
  }
 },
 "nbformat": 4,
 "nbformat_minor": 2
}
