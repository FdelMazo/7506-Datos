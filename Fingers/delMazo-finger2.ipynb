{
 "cells": [
  {
   "cell_type": "code",
   "execution_count": null,
   "metadata": {},
   "outputs": [],
   "source": [
    "import pyspark\n",
    "sc = pyspark.SparkContext.getOrCreate()\n",
    "sqlContext = pyspark.sql.SQLContext(sc)\n",
    "df = sqlContext.read.csv('events.csv')"
   ]
  },
  {
   "cell_type": "markdown",
   "metadata": {},
   "source": [
    "# Encontrar cuál es el tipo de evento predominante."
   ]
  },
  {
   "cell_type": "code",
   "execution_count": null,
   "metadata": {},
   "outputs": [],
   "source": [
    "df.rdd.map(lambda a: (a[1],1)).reduceByKey(lambda a,b: (a + b)).takeOrdered(1, key=lambda x:-x[1])"
   ]
  },
  {
   "cell_type": "markdown",
   "metadata": {},
   "source": [
    "* Primero se mapea para llevar un contador de los eventos (columna de indice 1)\n",
    "* Despues, se reduce para hacer la sumatoria de ese contador\n",
    "* Luego, se ordena segun el valor (el contador) y se toma el primero"
   ]
  },
  {
   "cell_type": "markdown",
   "metadata": {},
   "source": [
    "# Encontrar el Top 5 de dispositivos más visitados dentro de la categoría Smartphones."
   ]
  },
  {
   "cell_type": "code",
   "execution_count": null,
   "metadata": {},
   "outputs": [],
   "source": [
    "# Aclaracion, ya que la pagina solo vende smartphones, asumo que se pide los mas visitados desde un smartphone.\n",
    "# Es decir, segun la columna 'device_type'\n",
    "# Por dispositivo se asume que se habla de SKUs\n",
    "\n",
    "df.rdd.filter(lambda x: x[1] == 'viewed product').filter(lambda x: x[19] == 'Smartphone').map(lambda a: (a[4],1)).reduceByKey(lambda a,b: (a + b)).takeOrdered(5, key=lambda x:-x[1])"
   ]
  },
  {
   "cell_type": "code",
   "execution_count": null,
   "metadata": {},
   "outputs": [],
   "source": [
    "# Viendo que el registro de desde donde se busca solo es para los eventos de visited sites (y que estos no se refieren a ningun producto en particular), se ve y comprueba con la lista vacia de la celda anterior que no devuelve nada\n",
    "# Se saca el filtro de device type\n",
    "\n",
    "df.rdd.filter(lambda x: x[1] == 'viewed product').map(lambda a: (a[4],1)).reduceByKey(lambda a,b: (a + b)).takeOrdered(5, key=lambda x:-x[1])"
   ]
  },
  {
   "cell_type": "code",
   "execution_count": null,
   "metadata": {},
   "outputs": [],
   "source": [
    "# Siendo que los skus no sirven, se busca el modelo\n",
    "\n",
    "df.rdd.filter(lambda x: x[1] == 'viewed product').map(lambda a: (a[5],1)).reduceByKey(lambda a,b: (a + b)).takeOrdered(5, key=lambda x:-x[1])"
   ]
  },
  {
   "cell_type": "markdown",
   "metadata": {},
   "source": [
    "(Mismo proceso que antes, con unos filter más)\n",
    "* Primero se filtra por device type y por evento de visita y evitar que sean visitas a sitios no de smartphones\n",
    "* Se mapea para llevar un contador de los sku (columna de indice 4)\n",
    "* Despues, se reduce por clave para hacer la sumatoria de ese contador\n",
    "* Luego, se ordena segun el valor (el contador) y se toman los primeros 5"
   ]
  }
 ],
 "metadata": {
  "kernelspec": {
   "display_name": "Python 3",
   "language": "python",
   "name": "python3"
  },
  "language_info": {
   "codemirror_mode": {
    "name": "ipython",
    "version": 3
   },
   "file_extension": ".py",
   "mimetype": "text/x-python",
   "name": "python",
   "nbconvert_exporter": "python",
   "pygments_lexer": "ipython3",
   "version": "3.6.6"
  }
 },
 "nbformat": 4,
 "nbformat_minor": 2
}
