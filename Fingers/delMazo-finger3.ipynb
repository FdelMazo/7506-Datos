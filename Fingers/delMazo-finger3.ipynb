{
 "cells": [
  {
   "cell_type": "code",
   "execution_count": null,
   "metadata": {},
   "outputs": [],
   "source": [
    "import pyspark\n",
    "spark = pyspark.sql.SparkSession.builder.appName(\"Airlines\").getOrCreate()\n",
    "df_airlines = spark.read.csv('airlines.csv', inferSchema=\"true\", header=\"true\")\n",
    "df_airlines.createOrReplaceTempView(\"airlines\")\n",
    "df_flights = spark.read.csv('flights.csv', inferSchema=\"true\", header=\"true\")\n",
    "df_flights.createOrReplaceTempView(\"flights\")\n",
    "df_airports = spark.read.csv('airports.csv', inferSchema=\"true\", header=\"true\")\n",
    "df_airports.createOrReplaceTempView(\"airports\")"
   ]
  },
  {
   "cell_type": "markdown",
   "metadata": {},
   "source": [
    "## 1. Mostrar los 5 aeropuertos de origen que tienen mayor cantidad de cancelaciones."
   ]
  },
  {
   "cell_type": "code",
   "execution_count": null,
   "metadata": {},
   "outputs": [],
   "source": [
    "query = 'SELECT airports.AIRPORT as origin_airport, COUNT(flights.FLIGHT_NUMBER) as cancelled_count\\\n",
    "                        FROM flights INNER JOIN airports ON flights.ORIGIN_AIRPORT = airports.IATA_CODE\\\n",
    "                        WHERE CANCELLED = 1\\\n",
    "                        GROUP BY airports.AIRPORT\\\n",
    "                        ORDER BY cancelled_count DESC\\\n",
    "                        LIMIT 5'\n",
    "\n",
    "spark.sql(query).show(20, False)"
   ]
  },
  {
   "cell_type": "markdown",
   "metadata": {},
   "source": [
    "## 2. Mostrar el nombre de aerolíneas y la cantidad de vuelos desde Atlanta (ATL) a Los Ángeles (LAX) ordenadas cantidad de vuelos"
   ]
  },
  {
   "cell_type": "code",
   "execution_count": null,
   "metadata": {},
   "outputs": [],
   "source": [
    "query = \"SELECT airlines.AIRLINE as airline_name, COUNT(flights.FLIGHT_NUMBER) as flights_ATL_to_ALX\\\n",
    "        FROM flights INNER JOIN airlines ON flights.AIRLINE=airlines.IATA_CODE\\\n",
    "        WHERE flights.ORIGIN_AIRPORT = 'ATL' AND flights.DESTINATION_AIRPORT = 'LAX'\\\n",
    "        GROUP BY airline_name\\\n",
    "        ORDER BY flights_ATL_to_ALX DESC\"\n",
    "\n",
    "spark.sql(query).show(20, False)"
   ]
  },
  {
   "cell_type": "markdown",
   "metadata": {},
   "source": [
    "## 3. Mostrar y Analizar el Query Plan del punto 2 para entender las optimizaciones que realiza Catalyst Optimizer, contestando las siguientes preguntas:\n",
    "\n",
    "### A. ¿Se realiza alguna optimización lógica, como filter pushdown? ¿En qué etapa?\n",
    "### B. ¿Que tipo de Join Físico se realiza? ¿En qué etapa?"
   ]
  },
  {
   "cell_type": "code",
   "execution_count": null,
   "metadata": {},
   "outputs": [],
   "source": [
    "spark.sql(query).explain(True)"
   ]
  },
  {
   "cell_type": "markdown",
   "metadata": {},
   "source": [
    "1. Unresolved Logical Plan: Se lee por primera vez (parser) el plan, no se hicieron las relaciones necesarias, todavía no hay optimizaciones ni acciones físicas"
   ]
  },
  {
   "cell_type": "markdown",
   "metadata": {},
   "source": [
    "2. Analyzed Logical Plan: Se analiza el plan, todavía no hay optimizaciones ni acciones físicas"
   ]
  },
  {
   "cell_type": "markdown",
   "metadata": {},
   "source": [
    "3. Optimized Logical Plan: Se hacen las optimizaciones, en este caso un filter pushdown. ¿Como nos damos cuenta? Comparamos el plan original contra el plan optimizado:\n",
    "\n",
    "Plan original, truncado para ver solo operaciones:\n",
    "```\n",
    "Sort \n",
    "    Aggregate\n",
    "        Filter\n",
    "            Join Inner\n",
    "```\n",
    "\n",
    "Plan optimizado, truncado para ver solo operaciones:\n",
    "```\n",
    "Sort\n",
    "    Aggregate\n",
    "        Project\n",
    "            Join Inner\n",
    "                Project\n",
    "                    Filter\n",
    "                        Filter isnotnull\n",
    "```\n",
    "\n",
    "**Se hizo un pushdown del primer filter (paso a estar abajo del join inner). También, se agrego el filter de si no es nulo (en este caso, el IATA)**\n",
    "\n",
    "No hay acciones físicas en esta etapa, solo optimizaciones."
   ]
  },
  {
   "cell_type": "markdown",
   "metadata": {},
   "source": [
    "4. Physical Plan: Se ejecuta el plan de acción.\n",
    "    \n",
    "**Leyendo el plan, se puede ver que el join ejecutado es un BroadcastHashJoin:**\n",
    "    \n",
    "`+- *(2) BroadcastHashJoin [AIRLINE#358], [IATA_CODE#340], Inner, BuildRight``"
   ]
  }
 ],
 "metadata": {
  "kernelspec": {
   "display_name": "Python 3",
   "language": "python",
   "name": "python3"
  },
  "language_info": {
   "codemirror_mode": {
    "name": "ipython",
    "version": 3
   },
   "file_extension": ".py",
   "mimetype": "text/x-python",
   "name": "python",
   "nbconvert_exporter": "python",
   "pygments_lexer": "ipython3",
   "version": "3.6.6"
  }
 },
 "nbformat": 4,
 "nbformat_minor": 2
}
