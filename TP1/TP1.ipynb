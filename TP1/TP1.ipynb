{
 "cells": [
  {
   "cell_type": "markdown",
   "metadata": {},
   "source": [
    "# 75.06 / 95.58 Organización de Datos\n",
    "# Trabajo Práctico 1\n",
    "\n",
    "### Grupo 30: Datatouille\n",
    "\n",
    "- 101055 - Bojman, Camila\n",
    "- 100029 - del Mazo, Federico\n",
    "- 100687 - Hortas, Cecilia\n",
    "- 97649 - Souto, Rodrigo\n",
    "\n",
    "> https://github.com/fdelmazo/7506-datos"
   ]
  },
  {
   "cell_type": "code",
   "execution_count": 9,
   "metadata": {},
   "outputs": [],
   "source": [
    "# Set-Up inicial\n",
    "\n",
    "import pandas as pd\n",
    "import numpy as np\n",
    "import matplotlib.pyplot as plt\n",
    "import seaborn as sns\n",
    "import squarify # https://github.com/laserson/squarify ( pip install squarify )\n",
    "import geopandas as gpd # http://geopandas.org/install.html ( conda install -c conda-forge geopandas o pip install geopandas )\n",
    "from shapely.geometry import Point\n",
    "from wordcloud import WordCloud # pip install wordcloud\n",
    "from time import strptime\n",
    "import calendar\n",
    "\n",
    "df = pd.read_csv('events.csv', low_memory=False, index_col='timestamp')"
   ]
  },
  {
   "cell_type": "code",
   "execution_count": 10,
   "metadata": {},
   "outputs": [],
   "source": [
    "sns.set(style=\"darkgrid\")\n",
    "plt.rcParams['axes.titlesize'] = 16\n",
    "plt.rcParams['axes.labelsize'] = 12\n",
    "plt.rcParams['axes.labelweight'] = 'bold'\n",
    "plt.rcParams['figure.figsize'] = (15,5)"
   ]
  },
  {
   "cell_type": "markdown",
   "metadata": {},
   "source": [
    "## Información general del dataset"
   ]
  },
  {
   "cell_type": "code",
   "execution_count": 11,
   "metadata": {},
   "outputs": [
    {
     "data": {
      "text/html": [
       "<div>\n",
       "<style scoped>\n",
       "    .dataframe tbody tr th:only-of-type {\n",
       "        vertical-align: middle;\n",
       "    }\n",
       "\n",
       "    .dataframe tbody tr th {\n",
       "        vertical-align: top;\n",
       "    }\n",
       "\n",
       "    .dataframe thead th {\n",
       "        text-align: right;\n",
       "    }\n",
       "</style>\n",
       "<table border=\"1\" class=\"dataframe\">\n",
       "  <thead>\n",
       "    <tr style=\"text-align: right;\">\n",
       "      <th></th>\n",
       "      <th>event</th>\n",
       "      <th>person</th>\n",
       "      <th>url</th>\n",
       "      <th>sku</th>\n",
       "      <th>model</th>\n",
       "      <th>condition</th>\n",
       "      <th>storage</th>\n",
       "      <th>color</th>\n",
       "      <th>skus</th>\n",
       "      <th>search_term</th>\n",
       "      <th>staticpage</th>\n",
       "      <th>campaign_source</th>\n",
       "      <th>search_engine</th>\n",
       "      <th>channel</th>\n",
       "      <th>new_vs_returning</th>\n",
       "      <th>city</th>\n",
       "      <th>region</th>\n",
       "      <th>country</th>\n",
       "      <th>device_type</th>\n",
       "      <th>screen_resolution</th>\n",
       "      <th>operating_system_version</th>\n",
       "      <th>browser_version</th>\n",
       "    </tr>\n",
       "    <tr>\n",
       "      <th>timestamp</th>\n",
       "      <th></th>\n",
       "      <th></th>\n",
       "      <th></th>\n",
       "      <th></th>\n",
       "      <th></th>\n",
       "      <th></th>\n",
       "      <th></th>\n",
       "      <th></th>\n",
       "      <th></th>\n",
       "      <th></th>\n",
       "      <th></th>\n",
       "      <th></th>\n",
       "      <th></th>\n",
       "      <th></th>\n",
       "      <th></th>\n",
       "      <th></th>\n",
       "      <th></th>\n",
       "      <th></th>\n",
       "      <th></th>\n",
       "      <th></th>\n",
       "      <th></th>\n",
       "      <th></th>\n",
       "    </tr>\n",
       "  </thead>\n",
       "  <tbody>\n",
       "    <tr>\n",
       "      <th>2018-06-15 15:35:06</th>\n",
       "      <td>viewed product</td>\n",
       "      <td>64fb2dba</td>\n",
       "      <td>NaN</td>\n",
       "      <td>6371.0</td>\n",
       "      <td>Samsung Galaxy J5</td>\n",
       "      <td>Bom</td>\n",
       "      <td>16GB</td>\n",
       "      <td>Dourado</td>\n",
       "      <td>NaN</td>\n",
       "      <td>NaN</td>\n",
       "      <td>NaN</td>\n",
       "      <td>NaN</td>\n",
       "      <td>NaN</td>\n",
       "      <td>NaN</td>\n",
       "      <td>NaN</td>\n",
       "      <td>NaN</td>\n",
       "      <td>NaN</td>\n",
       "      <td>NaN</td>\n",
       "      <td>NaN</td>\n",
       "      <td>NaN</td>\n",
       "      <td>NaN</td>\n",
       "      <td>NaN</td>\n",
       "    </tr>\n",
       "    <tr>\n",
       "      <th>2018-06-04 14:24:54</th>\n",
       "      <td>ad campaign hit</td>\n",
       "      <td>6554ce95</td>\n",
       "      <td>/</td>\n",
       "      <td>NaN</td>\n",
       "      <td>NaN</td>\n",
       "      <td>NaN</td>\n",
       "      <td>NaN</td>\n",
       "      <td>NaN</td>\n",
       "      <td>NaN</td>\n",
       "      <td>NaN</td>\n",
       "      <td>NaN</td>\n",
       "      <td>google</td>\n",
       "      <td>NaN</td>\n",
       "      <td>NaN</td>\n",
       "      <td>NaN</td>\n",
       "      <td>NaN</td>\n",
       "      <td>NaN</td>\n",
       "      <td>NaN</td>\n",
       "      <td>NaN</td>\n",
       "      <td>NaN</td>\n",
       "      <td>NaN</td>\n",
       "      <td>NaN</td>\n",
       "    </tr>\n",
       "    <tr>\n",
       "      <th>2018-06-03 23:57:19</th>\n",
       "      <td>viewed product</td>\n",
       "      <td>d572f187</td>\n",
       "      <td>NaN</td>\n",
       "      <td>13179.0</td>\n",
       "      <td>Samsung Galaxy Note 8</td>\n",
       "      <td>Muito Bom</td>\n",
       "      <td>64GB</td>\n",
       "      <td>Preto</td>\n",
       "      <td>NaN</td>\n",
       "      <td>NaN</td>\n",
       "      <td>NaN</td>\n",
       "      <td>NaN</td>\n",
       "      <td>NaN</td>\n",
       "      <td>NaN</td>\n",
       "      <td>NaN</td>\n",
       "      <td>NaN</td>\n",
       "      <td>NaN</td>\n",
       "      <td>NaN</td>\n",
       "      <td>NaN</td>\n",
       "      <td>NaN</td>\n",
       "      <td>NaN</td>\n",
       "      <td>NaN</td>\n",
       "    </tr>\n",
       "    <tr>\n",
       "      <th>2018-05-17 17:57:53</th>\n",
       "      <td>viewed product</td>\n",
       "      <td>425e7ec5</td>\n",
       "      <td>NaN</td>\n",
       "      <td>8471.0</td>\n",
       "      <td>Samsung Galaxy S7</td>\n",
       "      <td>Bom</td>\n",
       "      <td>32GB</td>\n",
       "      <td>Prata</td>\n",
       "      <td>NaN</td>\n",
       "      <td>NaN</td>\n",
       "      <td>NaN</td>\n",
       "      <td>NaN</td>\n",
       "      <td>NaN</td>\n",
       "      <td>NaN</td>\n",
       "      <td>NaN</td>\n",
       "      <td>NaN</td>\n",
       "      <td>NaN</td>\n",
       "      <td>NaN</td>\n",
       "      <td>NaN</td>\n",
       "      <td>NaN</td>\n",
       "      <td>NaN</td>\n",
       "      <td>NaN</td>\n",
       "    </tr>\n",
       "    <tr>\n",
       "      <th>2018-06-04 05:08:45</th>\n",
       "      <td>viewed product</td>\n",
       "      <td>0592d74e</td>\n",
       "      <td>NaN</td>\n",
       "      <td>3085.0</td>\n",
       "      <td>Motorola Moto X2</td>\n",
       "      <td>Excelente</td>\n",
       "      <td>32GB</td>\n",
       "      <td>Couro Vintage</td>\n",
       "      <td>NaN</td>\n",
       "      <td>NaN</td>\n",
       "      <td>NaN</td>\n",
       "      <td>NaN</td>\n",
       "      <td>NaN</td>\n",
       "      <td>NaN</td>\n",
       "      <td>NaN</td>\n",
       "      <td>NaN</td>\n",
       "      <td>NaN</td>\n",
       "      <td>NaN</td>\n",
       "      <td>NaN</td>\n",
       "      <td>NaN</td>\n",
       "      <td>NaN</td>\n",
       "      <td>NaN</td>\n",
       "    </tr>\n",
       "  </tbody>\n",
       "</table>\n",
       "</div>"
      ],
      "text/plain": [
       "                               event       ...       browser_version\n",
       "timestamp                                  ...                      \n",
       "2018-06-15 15:35:06   viewed product       ...                   NaN\n",
       "2018-06-04 14:24:54  ad campaign hit       ...                   NaN\n",
       "2018-06-03 23:57:19   viewed product       ...                   NaN\n",
       "2018-05-17 17:57:53   viewed product       ...                   NaN\n",
       "2018-06-04 05:08:45   viewed product       ...                   NaN\n",
       "\n",
       "[5 rows x 22 columns]"
      ]
     },
     "metadata": {},
     "output_type": "display_data"
    }
   ],
   "source": [
    "with pd.option_context('display.max_column',0):\n",
    "    display(df.sample(n=5))"
   ]
  },
  {
   "cell_type": "code",
   "execution_count": 12,
   "metadata": {},
   "outputs": [
    {
     "name": "stdout",
     "output_type": "stream",
     "text": [
      "22 atributos y 1011288 registros en el dataframe.\n",
      "\n",
      "Primer registro: 2018-01-01 07:32:26 \n",
      "Último registro: 2018-06-15 23:59:31.\n"
     ]
    }
   ],
   "source": [
    "print('{} atributos y {} registros en el dataframe.\\n'.format(df.shape[1],df.shape[0]))\n",
    "print('Primer registro: {} \\nÚltimo registro: {}.'.format(df.index.min(),df.index.max()))"
   ]
  },
  {
   "cell_type": "code",
   "execution_count": 13,
   "metadata": {},
   "outputs": [
    {
     "name": "stdout",
     "output_type": "stream",
     "text": [
      "<class 'pandas.core.frame.DataFrame'>\n",
      "Index: 1011288 entries, 2018-05-31 23:38:05 to 2018-06-04 23:18:10\n",
      "Data columns (total 22 columns):\n",
      "event                       1011288 non-null object\n",
      "person                      1011288 non-null object\n",
      "url                         82756 non-null object\n",
      "sku                         563838 non-null object\n",
      "model                       564284 non-null object\n",
      "condition                   563836 non-null object\n",
      "storage                     563836 non-null object\n",
      "color                       563836 non-null object\n",
      "skus                        221699 non-null object\n",
      "search_term                 48967 non-null object\n",
      "staticpage                  3598 non-null object\n",
      "campaign_source             82796 non-null object\n",
      "search_engine               50957 non-null object\n",
      "channel                     87378 non-null object\n",
      "new_vs_returning            87378 non-null object\n",
      "city                        87378 non-null object\n",
      "region                      87378 non-null object\n",
      "country                     87378 non-null object\n",
      "device_type                 87378 non-null object\n",
      "screen_resolution           87378 non-null object\n",
      "operating_system_version    87378 non-null object\n",
      "browser_version             87378 non-null object\n",
      "dtypes: object(22)\n",
      "memory usage: 177.5+ MB\n"
     ]
    }
   ],
   "source": [
    "bytes_used = df.memory_usage().sum()\n",
    "df.info()"
   ]
  },
  {
   "cell_type": "code",
   "execution_count": 14,
   "metadata": {},
   "outputs": [
    {
     "data": {
      "text/html": [
       "<div>\n",
       "<style scoped>\n",
       "    .dataframe tbody tr th:only-of-type {\n",
       "        vertical-align: middle;\n",
       "    }\n",
       "\n",
       "    .dataframe tbody tr th {\n",
       "        vertical-align: top;\n",
       "    }\n",
       "\n",
       "    .dataframe thead th {\n",
       "        text-align: right;\n",
       "    }\n",
       "</style>\n",
       "<table border=\"1\" class=\"dataframe\">\n",
       "  <thead>\n",
       "    <tr style=\"text-align: right;\">\n",
       "      <th></th>\n",
       "      <th>description</th>\n",
       "    </tr>\n",
       "    <tr>\n",
       "      <th>column</th>\n",
       "      <th></th>\n",
       "    </tr>\n",
       "  </thead>\n",
       "  <tbody>\n",
       "    <tr>\n",
       "      <th>timestamp</th>\n",
       "      <td>Fecha y hora cuando ocurrió el evento.</td>\n",
       "    </tr>\n",
       "    <tr>\n",
       "      <th>event</th>\n",
       "      <td>Tipo de evento.</td>\n",
       "    </tr>\n",
       "    <tr>\n",
       "      <th>person</th>\n",
       "      <td>Identificador de cliente que realizó el evento.</td>\n",
       "    </tr>\n",
       "    <tr>\n",
       "      <th>url</th>\n",
       "      <td>Url visitada por el usuario.</td>\n",
       "    </tr>\n",
       "    <tr>\n",
       "      <th>sku</th>\n",
       "      <td>Identificador de producto relacionado al evento.</td>\n",
       "    </tr>\n",
       "    <tr>\n",
       "      <th>model</th>\n",
       "      <td>Nombre descriptivo del producto incluyendo marca y modelo.</td>\n",
       "    </tr>\n",
       "    <tr>\n",
       "      <th>condition</th>\n",
       "      <td>Condición de venta del producto.</td>\n",
       "    </tr>\n",
       "    <tr>\n",
       "      <th>storage</th>\n",
       "      <td>Cantidad de almacenamiento del producto.</td>\n",
       "    </tr>\n",
       "    <tr>\n",
       "      <th>color</th>\n",
       "      <td>Color del producto.</td>\n",
       "    </tr>\n",
       "    <tr>\n",
       "      <th>skus</th>\n",
       "      <td>Identificadores de productos visualizados en el evento.</td>\n",
       "    </tr>\n",
       "    <tr>\n",
       "      <th>search_term</th>\n",
       "      <td>Términos de búsqueda utilizados en el evento.</td>\n",
       "    </tr>\n",
       "    <tr>\n",
       "      <th>staticpage</th>\n",
       "      <td>Identificador de página estática visitada.</td>\n",
       "    </tr>\n",
       "    <tr>\n",
       "      <th>campaign_source</th>\n",
       "      <td>Origen de campaña si el tráfico se originó de una campaña de marketing.</td>\n",
       "    </tr>\n",
       "    <tr>\n",
       "      <th>search_engine</th>\n",
       "      <td>Motor de búsqueda desde donde se originó el evento si aplica.</td>\n",
       "    </tr>\n",
       "    <tr>\n",
       "      <th>channel</th>\n",
       "      <td>Tipo de canal desde donde se originó el evento.</td>\n",
       "    </tr>\n",
       "    <tr>\n",
       "      <th>new_vs_returning</th>\n",
       "      <td>Indicador de si el evento fue generado por un usuario nuevo o por un usuario que regresa al sitio.</td>\n",
       "    </tr>\n",
       "    <tr>\n",
       "      <th>city</th>\n",
       "      <td>Ciudad desde donde se originó el evento.</td>\n",
       "    </tr>\n",
       "    <tr>\n",
       "      <th>region</th>\n",
       "      <td>Región desde donde se originó el evento.</td>\n",
       "    </tr>\n",
       "    <tr>\n",
       "      <th>country</th>\n",
       "      <td>País desde donde se originó el evento.</td>\n",
       "    </tr>\n",
       "    <tr>\n",
       "      <th>device_type</th>\n",
       "      <td>Tipo de dispositivo desde donde se genero el evento.</td>\n",
       "    </tr>\n",
       "    <tr>\n",
       "      <th>screen_resolution</th>\n",
       "      <td>Resolución de pantalla que se está utilizando en el dispositivo desde donde se genero el evento.</td>\n",
       "    </tr>\n",
       "    <tr>\n",
       "      <th>operating_system_version</th>\n",
       "      <td>Version de sistema operativo desde donde se origino el evento.</td>\n",
       "    </tr>\n",
       "    <tr>\n",
       "      <th>browser_version</th>\n",
       "      <td>Versión del browser utilizado en el evento.</td>\n",
       "    </tr>\n",
       "  </tbody>\n",
       "</table>\n",
       "</div>"
      ],
      "text/plain": [
       "                                                                                                                 description\n",
       "column                                                                                                                      \n",
       "timestamp                 Fecha y hora cuando ocurrió el evento.                                                            \n",
       "event                     Tipo de evento.                                                                                   \n",
       "person                    Identificador de cliente que realizó el evento.                                                   \n",
       "url                       Url visitada por el usuario.                                                                      \n",
       "sku                       Identificador de producto relacionado al evento.                                                  \n",
       "model                     Nombre descriptivo del producto incluyendo marca y modelo.                                        \n",
       "condition                 Condición de venta del producto.                                                                  \n",
       "storage                   Cantidad de almacenamiento del producto.                                                          \n",
       "color                     Color del producto.                                                                               \n",
       "skus                      Identificadores de productos visualizados en el evento.                                           \n",
       "search_term               Términos de búsqueda utilizados en el evento.                                                     \n",
       "staticpage                Identificador de página estática visitada.                                                        \n",
       "campaign_source           Origen de campaña si el tráfico se originó de una campaña de marketing.                           \n",
       "search_engine             Motor de búsqueda desde donde se originó el evento si aplica.                                     \n",
       "channel                   Tipo de canal desde donde se originó el evento.                                                   \n",
       "new_vs_returning          Indicador de si el evento fue generado por un usuario nuevo o por un usuario que regresa al sitio.\n",
       "city                      Ciudad desde donde se originó el evento.                                                          \n",
       "region                    Región desde donde se originó el evento.                                                          \n",
       "country                   País desde donde se originó el evento.                                                            \n",
       "device_type               Tipo de dispositivo desde donde se genero el evento.                                              \n",
       "screen_resolution         Resolución de pantalla que se está utilizando en el dispositivo desde donde se genero el evento.  \n",
       "operating_system_version  Version de sistema operativo desde donde se origino el evento.                                    \n",
       "browser_version           Versión del browser utilizado en el evento.                                                       "
      ]
     },
     "metadata": {},
     "output_type": "display_data"
    }
   ],
   "source": [
    "with pd.option_context('display.max_colwidth',-1):\n",
    "    display(pd.read_csv('columns-desc.csv',index_col='column'))"
   ]
  },
  {
   "cell_type": "code",
   "execution_count": 15,
   "metadata": {},
   "outputs": [
    {
     "data": {
      "text/html": [
       "<div>\n",
       "<style scoped>\n",
       "    .dataframe tbody tr th:only-of-type {\n",
       "        vertical-align: middle;\n",
       "    }\n",
       "\n",
       "    .dataframe tbody tr th {\n",
       "        vertical-align: top;\n",
       "    }\n",
       "\n",
       "    .dataframe thead th {\n",
       "        text-align: right;\n",
       "    }\n",
       "</style>\n",
       "<table border=\"1\" class=\"dataframe\">\n",
       "  <thead>\n",
       "    <tr style=\"text-align: right;\">\n",
       "      <th></th>\n",
       "      <th>count</th>\n",
       "      <th>unique</th>\n",
       "      <th>top</th>\n",
       "      <th>freq</th>\n",
       "    </tr>\n",
       "  </thead>\n",
       "  <tbody>\n",
       "    <tr>\n",
       "      <th>event</th>\n",
       "      <td>1011288</td>\n",
       "      <td>11</td>\n",
       "      <td>viewed product</td>\n",
       "      <td>528931</td>\n",
       "    </tr>\n",
       "    <tr>\n",
       "      <th>person</th>\n",
       "      <td>1011288</td>\n",
       "      <td>27624</td>\n",
       "      <td>71492f2b</td>\n",
       "      <td>2771</td>\n",
       "    </tr>\n",
       "    <tr>\n",
       "      <th>url</th>\n",
       "      <td>82756</td>\n",
       "      <td>227</td>\n",
       "      <td>/</td>\n",
       "      <td>28323</td>\n",
       "    </tr>\n",
       "    <tr>\n",
       "      <th>sku</th>\n",
       "      <td>563838</td>\n",
       "      <td>3574</td>\n",
       "      <td>2830.0</td>\n",
       "      <td>4282</td>\n",
       "    </tr>\n",
       "    <tr>\n",
       "      <th>model</th>\n",
       "      <td>564284</td>\n",
       "      <td>202</td>\n",
       "      <td>iPhone 6</td>\n",
       "      <td>50916</td>\n",
       "    </tr>\n",
       "    <tr>\n",
       "      <th>condition</th>\n",
       "      <td>563836</td>\n",
       "      <td>5</td>\n",
       "      <td>Bom</td>\n",
       "      <td>243014</td>\n",
       "    </tr>\n",
       "    <tr>\n",
       "      <th>storage</th>\n",
       "      <td>563836</td>\n",
       "      <td>8</td>\n",
       "      <td>16GB</td>\n",
       "      <td>190833</td>\n",
       "    </tr>\n",
       "    <tr>\n",
       "      <th>color</th>\n",
       "      <td>563836</td>\n",
       "      <td>63</td>\n",
       "      <td>Preto</td>\n",
       "      <td>132960</td>\n",
       "    </tr>\n",
       "    <tr>\n",
       "      <th>skus</th>\n",
       "      <td>221699</td>\n",
       "      <td>35310</td>\n",
       "      <td>2820,6706,6720,2750,6649,7251,6663,12604,7224,...</td>\n",
       "      <td>594</td>\n",
       "    </tr>\n",
       "    <tr>\n",
       "      <th>search_term</th>\n",
       "      <td>48967</td>\n",
       "      <td>5851</td>\n",
       "      <td>Iphone</td>\n",
       "      <td>1207</td>\n",
       "    </tr>\n",
       "    <tr>\n",
       "      <th>staticpage</th>\n",
       "      <td>3598</td>\n",
       "      <td>14</td>\n",
       "      <td>CustomerService</td>\n",
       "      <td>1528</td>\n",
       "    </tr>\n",
       "    <tr>\n",
       "      <th>campaign_source</th>\n",
       "      <td>82796</td>\n",
       "      <td>24</td>\n",
       "      <td>google</td>\n",
       "      <td>58153</td>\n",
       "    </tr>\n",
       "    <tr>\n",
       "      <th>search_engine</th>\n",
       "      <td>50957</td>\n",
       "      <td>4</td>\n",
       "      <td>Google</td>\n",
       "      <td>50240</td>\n",
       "    </tr>\n",
       "    <tr>\n",
       "      <th>channel</th>\n",
       "      <td>87378</td>\n",
       "      <td>7</td>\n",
       "      <td>Paid</td>\n",
       "      <td>44193</td>\n",
       "    </tr>\n",
       "    <tr>\n",
       "      <th>new_vs_returning</th>\n",
       "      <td>87378</td>\n",
       "      <td>2</td>\n",
       "      <td>Returning</td>\n",
       "      <td>60480</td>\n",
       "    </tr>\n",
       "    <tr>\n",
       "      <th>city</th>\n",
       "      <td>87378</td>\n",
       "      <td>1939</td>\n",
       "      <td>Unknown</td>\n",
       "      <td>15819</td>\n",
       "    </tr>\n",
       "    <tr>\n",
       "      <th>region</th>\n",
       "      <td>87378</td>\n",
       "      <td>93</td>\n",
       "      <td>Sao Paulo</td>\n",
       "      <td>24996</td>\n",
       "    </tr>\n",
       "    <tr>\n",
       "      <th>country</th>\n",
       "      <td>87378</td>\n",
       "      <td>46</td>\n",
       "      <td>Brazil</td>\n",
       "      <td>84308</td>\n",
       "    </tr>\n",
       "    <tr>\n",
       "      <th>device_type</th>\n",
       "      <td>87378</td>\n",
       "      <td>4</td>\n",
       "      <td>Smartphone</td>\n",
       "      <td>44239</td>\n",
       "    </tr>\n",
       "    <tr>\n",
       "      <th>screen_resolution</th>\n",
       "      <td>87378</td>\n",
       "      <td>282</td>\n",
       "      <td>360x640</td>\n",
       "      <td>30009</td>\n",
       "    </tr>\n",
       "    <tr>\n",
       "      <th>operating_system_version</th>\n",
       "      <td>87378</td>\n",
       "      <td>121</td>\n",
       "      <td>Windows 7</td>\n",
       "      <td>19675</td>\n",
       "    </tr>\n",
       "    <tr>\n",
       "      <th>browser_version</th>\n",
       "      <td>87378</td>\n",
       "      <td>343</td>\n",
       "      <td>Chrome 66.0</td>\n",
       "      <td>22611</td>\n",
       "    </tr>\n",
       "  </tbody>\n",
       "</table>\n",
       "</div>"
      ],
      "text/plain": [
       "                            count unique  \\\n",
       "event                     1011288     11   \n",
       "person                    1011288  27624   \n",
       "url                         82756    227   \n",
       "sku                        563838   3574   \n",
       "model                      564284    202   \n",
       "condition                  563836      5   \n",
       "storage                    563836      8   \n",
       "color                      563836     63   \n",
       "skus                       221699  35310   \n",
       "search_term                 48967   5851   \n",
       "staticpage                   3598     14   \n",
       "campaign_source             82796     24   \n",
       "search_engine               50957      4   \n",
       "channel                     87378      7   \n",
       "new_vs_returning            87378      2   \n",
       "city                        87378   1939   \n",
       "region                      87378     93   \n",
       "country                     87378     46   \n",
       "device_type                 87378      4   \n",
       "screen_resolution           87378    282   \n",
       "operating_system_version    87378    121   \n",
       "browser_version             87378    343   \n",
       "\n",
       "                                                                        top  \\\n",
       "event                                                        viewed product   \n",
       "person                                                             71492f2b   \n",
       "url                                                                       /   \n",
       "sku                                                                  2830.0   \n",
       "model                                                              iPhone 6   \n",
       "condition                                                               Bom   \n",
       "storage                                                                16GB   \n",
       "color                                                                 Preto   \n",
       "skus                      2820,6706,6720,2750,6649,7251,6663,12604,7224,...   \n",
       "search_term                                                          Iphone   \n",
       "staticpage                                                  CustomerService   \n",
       "campaign_source                                                      google   \n",
       "search_engine                                                        Google   \n",
       "channel                                                                Paid   \n",
       "new_vs_returning                                                  Returning   \n",
       "city                                                                Unknown   \n",
       "region                                                            Sao Paulo   \n",
       "country                                                              Brazil   \n",
       "device_type                                                      Smartphone   \n",
       "screen_resolution                                                   360x640   \n",
       "operating_system_version                                         Windows 7    \n",
       "browser_version                                                 Chrome 66.0   \n",
       "\n",
       "                            freq  \n",
       "event                     528931  \n",
       "person                      2771  \n",
       "url                        28323  \n",
       "sku                         4282  \n",
       "model                      50916  \n",
       "condition                 243014  \n",
       "storage                   190833  \n",
       "color                     132960  \n",
       "skus                         594  \n",
       "search_term                 1207  \n",
       "staticpage                  1528  \n",
       "campaign_source            58153  \n",
       "search_engine              50240  \n",
       "channel                    44193  \n",
       "new_vs_returning           60480  \n",
       "city                       15819  \n",
       "region                     24996  \n",
       "country                    84308  \n",
       "device_type                44239  \n",
       "screen_resolution          30009  \n",
       "operating_system_version   19675  \n",
       "browser_version            22611  "
      ]
     },
     "execution_count": 15,
     "metadata": {},
     "output_type": "execute_result"
    }
   ],
   "source": [
    "df.describe().T"
   ]
  },
  {
   "cell_type": "code",
   "execution_count": 16,
   "metadata": {},
   "outputs": [
    {
     "data": {
      "text/plain": [
       "event                             0\n",
       "person                            0\n",
       "url                          928532\n",
       "sku                          447450\n",
       "model                        447004\n",
       "condition                    447452\n",
       "storage                      447452\n",
       "color                        447452\n",
       "skus                         789589\n",
       "search_term                  962321\n",
       "staticpage                  1007690\n",
       "campaign_source              928492\n",
       "search_engine                960331\n",
       "channel                      923910\n",
       "new_vs_returning             923910\n",
       "city                         923910\n",
       "region                       923910\n",
       "country                      923910\n",
       "device_type                  923910\n",
       "screen_resolution            923910\n",
       "operating_system_version     923910\n",
       "browser_version              923910\n",
       "dtype: int64"
      ]
     },
     "execution_count": 16,
     "metadata": {},
     "output_type": "execute_result"
    }
   ],
   "source": [
    "df.isnull().sum()"
   ]
  },
  {
   "cell_type": "code",
   "execution_count": 17,
   "metadata": {},
   "outputs": [
    {
     "data": {
      "text/plain": [
       "event                       object\n",
       "person                      object\n",
       "url                         object\n",
       "sku                         object\n",
       "model                       object\n",
       "condition                   object\n",
       "storage                     object\n",
       "color                       object\n",
       "skus                        object\n",
       "search_term                 object\n",
       "staticpage                  object\n",
       "campaign_source             object\n",
       "search_engine               object\n",
       "channel                     object\n",
       "new_vs_returning            object\n",
       "city                        object\n",
       "region                      object\n",
       "country                     object\n",
       "device_type                 object\n",
       "screen_resolution           object\n",
       "operating_system_version    object\n",
       "browser_version             object\n",
       "dtype: object"
      ]
     },
     "execution_count": 17,
     "metadata": {},
     "output_type": "execute_result"
    }
   ],
   "source": [
    "df.dtypes"
   ]
  },
  {
   "cell_type": "markdown",
   "metadata": {},
   "source": [
    "---\n",
    "#### Pasado el vistazo general a los datos, se pueden transformar datos en sus tipos correspondientes para mejor manejo de estos y para ahorro de memoria"
   ]
  },
  {
   "cell_type": "code",
   "execution_count": 18,
   "metadata": {},
   "outputs": [],
   "source": [
    "# Los atributos con pocos valores posibles se pasan a variables categoricas para ahorrar memoria\n",
    "df['event'] = df['event'].astype('category')\n",
    "df['condition'] = df['condition'].astype('category')\n",
    "df['storage'] = df['storage'].astype('category')\n",
    "df['search_engine'] = df['search_engine'].astype('category')\n",
    "df['channel'] = df['channel'].astype('category')\n",
    "df['device_type'] = df['device_type'].astype('category')\n",
    "\n",
    "# El tiempo es mejor manejarlo como tal\n",
    "df.index = pd.to_datetime(df.index)\n",
    "\n",
    "# Teniendo solamente dos valores posibles para el tipo de usuario, y priorizando los nuevos, se transforma a una variable booleana\n",
    "df['new_user'] = df['new_vs_returning'].map(lambda x: True if x == 'New' else False)\n",
    "df['new_user'] = df['new_user'].astype('bool')"
   ]
  },
  {
   "cell_type": "code",
   "execution_count": 19,
   "metadata": {},
   "outputs": [
    {
     "name": "stdout",
     "output_type": "stream",
     "text": [
      "<class 'pandas.core.frame.DataFrame'>\n",
      "DatetimeIndex: 1011288 entries, 2018-05-31 23:38:05 to 2018-06-04 23:18:10\n",
      "Data columns (total 23 columns):\n",
      "event                       1011288 non-null category\n",
      "person                      1011288 non-null object\n",
      "url                         82756 non-null object\n",
      "sku                         563838 non-null object\n",
      "model                       564284 non-null object\n",
      "condition                   563836 non-null category\n",
      "storage                     563836 non-null category\n",
      "color                       563836 non-null object\n",
      "skus                        221699 non-null object\n",
      "search_term                 48967 non-null object\n",
      "staticpage                  3598 non-null object\n",
      "campaign_source             82796 non-null object\n",
      "search_engine               50957 non-null category\n",
      "channel                     87378 non-null category\n",
      "new_vs_returning            87378 non-null object\n",
      "city                        87378 non-null object\n",
      "region                      87378 non-null object\n",
      "country                     87378 non-null object\n",
      "device_type                 87378 non-null category\n",
      "screen_resolution           87378 non-null object\n",
      "operating_system_version    87378 non-null object\n",
      "browser_version             87378 non-null object\n",
      "new_user                    1011288 non-null bool\n",
      "dtypes: bool(1), category(6), object(16)\n",
      "memory usage: 137.9+ MB\n",
      "Memoria ahorrada: 41.4611MB\n"
     ]
    }
   ],
   "source": [
    "# Chequeo\n",
    "df.info()\n",
    "\n",
    "ahorro = (bytes_used - df.memory_usage().sum()) /1000000\n",
    "print(\"Memoria ahorrada: {:.4f}MB\".format(ahorro))"
   ]
  },
  {
   "cell_type": "markdown",
   "metadata": {},
   "source": [
    "---\n",
    "## Información de eventos"
   ]
  },
  {
   "cell_type": "code",
   "execution_count": 20,
   "metadata": {},
   "outputs": [
    {
     "data": {
      "text/plain": [
       "count            1011288\n",
       "unique                11\n",
       "top       viewed product\n",
       "freq              528931\n",
       "Name: event, dtype: object"
      ]
     },
     "execution_count": 20,
     "metadata": {},
     "output_type": "execute_result"
    }
   ],
   "source": [
    "event = df['event']\n",
    "event.describe()"
   ]
  },
  {
   "cell_type": "code",
   "execution_count": 21,
   "metadata": {},
   "outputs": [
    {
     "data": {
      "text/html": [
       "<div>\n",
       "<style scoped>\n",
       "    .dataframe tbody tr th:only-of-type {\n",
       "        vertical-align: middle;\n",
       "    }\n",
       "\n",
       "    .dataframe tbody tr th {\n",
       "        vertical-align: top;\n",
       "    }\n",
       "\n",
       "    .dataframe thead th {\n",
       "        text-align: right;\n",
       "    }\n",
       "</style>\n",
       "<table border=\"1\" class=\"dataframe\">\n",
       "  <thead>\n",
       "    <tr style=\"text-align: right;\">\n",
       "      <th></th>\n",
       "      <th>description</th>\n",
       "    </tr>\n",
       "    <tr>\n",
       "      <th>event</th>\n",
       "      <th></th>\n",
       "    </tr>\n",
       "  </thead>\n",
       "  <tbody>\n",
       "    <tr>\n",
       "      <th>viewed product</th>\n",
       "      <td>El usuario visita una página de producto.</td>\n",
       "    </tr>\n",
       "    <tr>\n",
       "      <th>brand listing</th>\n",
       "      <td>El usuario visita un listado específico de una marca viendo un conjunto de productos.</td>\n",
       "    </tr>\n",
       "    <tr>\n",
       "      <th>visited site</th>\n",
       "      <td>El usuario ingresa al sitio a una determinada url.</td>\n",
       "    </tr>\n",
       "    <tr>\n",
       "      <th>ad campaign hit</th>\n",
       "      <td>El usuario ingresa al sitio mediante una campana de marketing online.</td>\n",
       "    </tr>\n",
       "    <tr>\n",
       "      <th>generic listing</th>\n",
       "      <td>El usuario visita la homepage.</td>\n",
       "    </tr>\n",
       "    <tr>\n",
       "      <th>searched products</th>\n",
       "      <td>El usuario realiza una búsqueda de productos en la interfaz de búsqueda del site.</td>\n",
       "    </tr>\n",
       "    <tr>\n",
       "      <th>search engine hit</th>\n",
       "      <td>El usuario ingresa al sitio mediante un motor de búsqueda web.</td>\n",
       "    </tr>\n",
       "    <tr>\n",
       "      <th>checkout</th>\n",
       "      <td>El usuario ingresa al checkout de compra de un producto.</td>\n",
       "    </tr>\n",
       "    <tr>\n",
       "      <th>staticpage</th>\n",
       "      <td>El usuario visita una página</td>\n",
       "    </tr>\n",
       "    <tr>\n",
       "      <th>conversion</th>\n",
       "      <td>El usuario realiza una conversión comprando un producto.</td>\n",
       "    </tr>\n",
       "    <tr>\n",
       "      <th>lead</th>\n",
       "      <td>El usuario se registra para recibir una notificación de disponibilidad de stock para un producto que no se encontraba disponible en ese momento.</td>\n",
       "    </tr>\n",
       "  </tbody>\n",
       "</table>\n",
       "</div>"
      ],
      "text/plain": [
       "                                                                                                                                                        description\n",
       "event                                                                                                                                                              \n",
       "viewed product     El usuario visita una página de producto.                                                                                                       \n",
       "brand listing      El usuario visita un listado específico de una marca viendo un conjunto de productos.                                                           \n",
       "visited site       El usuario ingresa al sitio a una determinada url.                                                                                              \n",
       "ad campaign hit    El usuario ingresa al sitio mediante una campana de marketing online.                                                                           \n",
       "generic listing    El usuario visita la homepage.                                                                                                                  \n",
       "searched products  El usuario realiza una búsqueda de productos en la interfaz de búsqueda del site.                                                               \n",
       "search engine hit  El usuario ingresa al sitio mediante un motor de búsqueda web.                                                                                  \n",
       "checkout           El usuario ingresa al checkout de compra de un producto.                                                                                        \n",
       "staticpage         El usuario visita una página                                                                                                                    \n",
       "conversion         El usuario realiza una conversión comprando un producto.                                                                                        \n",
       "lead               El usuario se registra para recibir una notificación de disponibilidad de stock para un producto que no se encontraba disponible en ese momento."
      ]
     },
     "metadata": {},
     "output_type": "display_data"
    }
   ],
   "source": [
    "with pd.option_context('display.max_colwidth',0):\n",
    "    display(pd.read_csv('events-desc.csv',index_col='event'))"
   ]
  },
  {
   "cell_type": "code",
   "execution_count": 22,
   "metadata": {},
   "outputs": [
    {
     "data": {
      "text/plain": [
       "Text(0.5,1,'Cantidad de visitas segun evento')"
      ]
     },
     "execution_count": 22,
     "metadata": {},
     "output_type": "execute_result"
    },
    {
     "data": {
      "image/png": "[encoded data removed]",
      "text/plain": [
       "<Figure size 1080x360 with 1 Axes>"
      ]
     },
     "metadata": {},
     "output_type": "display_data"
    }
   ],
   "source": [
    "#data = event.value_counts().head(7)\n",
    "#ax = sns.barplot(x=data.index,y=data)\n",
    "#ax.set(xlabel='Count',ylabel='Evento')\n",
    "\n",
    "# Mismo grafico, de otra forma (tarda más tiempo (escribir %%time al comienzo de la celda))\n",
    "orden = event.value_counts().head(7).index\n",
    "visu = sns.countplot(x='event',data=df,order=orden)\n",
    "visu.axes.set_title('Cantidad de visitas segun evento')"
   ]
  },
  {
   "cell_type": "markdown",
   "metadata": {},
   "source": [
    "---\n",
    "## Información geográfica"
   ]
  },
  {
   "cell_type": "code",
   "execution_count": 23,
   "metadata": {},
   "outputs": [
    {
     "data": {
      "text/plain": [
       "Text(0.5,1,'Países con más visitas')"
      ]
     },
     "execution_count": 23,
     "metadata": {},
     "output_type": "execute_result"
    },
    {
     "data": {
      "image/png": "[encoded data removed]",
      "text/plain": [
       "<Figure size 1080x360 with 1 Axes>"
      ]
     },
     "metadata": {},
     "output_type": "display_data"
    }
   ],
   "source": [
    "countries = df['country'].value_counts()\n",
    "countries = countries.drop('Unknown')\n",
    "data = countries.head(3)\n",
    "\n",
    "visu = squarify.plot(data, label=data.index, alpha=.5, color=['green','red','cyan'])\n",
    "visu.axes.set_title('Países con más visitas')"
   ]
  },
  {
   "cell_type": "code",
   "execution_count": 24,
   "metadata": {},
   "outputs": [
    {
     "data": {
      "text/plain": [
       "Text(0.5,1,'Países con más visitas, exceptuando Brazil')"
      ]
     },
     "execution_count": 24,
     "metadata": {},
     "output_type": "execute_result"
    },
    {
     "data": {
      "image/png": "[encoded data removed]",
      "text/plain": [
       "<Figure size 1080x360 with 1 Axes>"
      ]
     },
     "metadata": {},
     "output_type": "display_data"
    }
   ],
   "source": [
    "# Siempre supimos (asumimos) que Brazil sería el país con mayor tráfico. \n",
    "# Este dato no nos deja ver la proporción del resto de los países\n",
    "countries = df['country'].value_counts()\n",
    "countries = countries.drop('Unknown')\n",
    "countries = countries.drop('Brazil')\n",
    "data = countries.head(7)\n",
    "\n",
    "visu = squarify.plot(data, label=data.index, alpha=.5, color=['red','cyan','yellow','grey','purple','orange','blue'])\n",
    "visu.axes.set_title('Países con más visitas, exceptuando Brazil')"
   ]
  },
  {
   "cell_type": "markdown",
   "metadata": {},
   "source": [
    "### Sacando las longitudes y latitudes de distintas ciudades del mundo, podemos ver que zonas de los 4 países con más trafico son las que más visitas tienen. \n",
    "\n",
    "Con ayuda del módulo geopandas, podemos plotear directamente sobre un mapa\n",
    "Las bases de datos adicionales fueron sacadas de http://www.geonames.org/"
   ]
  },
  {
   "cell_type": "code",
   "execution_count": 25,
   "metadata": {},
   "outputs": [
    {
     "data": {
      "text/html": [
       "<div>\n",
       "<style scoped>\n",
       "    .dataframe tbody tr th:only-of-type {\n",
       "        vertical-align: middle;\n",
       "    }\n",
       "\n",
       "    .dataframe tbody tr th {\n",
       "        vertical-align: top;\n",
       "    }\n",
       "\n",
       "    .dataframe thead th {\n",
       "        text-align: right;\n",
       "    }\n",
       "</style>\n",
       "<table border=\"1\" class=\"dataframe\">\n",
       "  <thead>\n",
       "    <tr style=\"text-align: right;\">\n",
       "      <th></th>\n",
       "      <th>name</th>\n",
       "      <th>latitude</th>\n",
       "      <th>longitude</th>\n",
       "      <th>coordinates</th>\n",
       "    </tr>\n",
       "  </thead>\n",
       "  <tbody>\n",
       "    <tr>\n",
       "      <th>0</th>\n",
       "      <td>Tawaribar Rapids</td>\n",
       "      <td>2.66667</td>\n",
       "      <td>-59.96667</td>\n",
       "      <td>POINT (-59.96666999999999 2.66667)</td>\n",
       "    </tr>\n",
       "    <tr>\n",
       "      <th>1</th>\n",
       "      <td>Machpawa Falls</td>\n",
       "      <td>2.90000</td>\n",
       "      <td>-59.95000</td>\n",
       "      <td>POINT (-59.95 2.9)</td>\n",
       "    </tr>\n",
       "    <tr>\n",
       "      <th>2</th>\n",
       "      <td>Kulutuik Fall</td>\n",
       "      <td>5.08333</td>\n",
       "      <td>-59.96667</td>\n",
       "      <td>POINT (-59.96666999999999 5.08333)</td>\n",
       "    </tr>\n",
       "    <tr>\n",
       "      <th>3</th>\n",
       "      <td>Kukuipawa Falls</td>\n",
       "      <td>2.82548</td>\n",
       "      <td>-59.95024</td>\n",
       "      <td>POINT (-59.95024 2.82548)</td>\n",
       "    </tr>\n",
       "    <tr>\n",
       "      <th>4</th>\n",
       "      <td>Kenukawai Mountain</td>\n",
       "      <td>1.46667</td>\n",
       "      <td>-58.43333</td>\n",
       "      <td>POINT (-58.43333000000001 1.46667)</td>\n",
       "    </tr>\n",
       "  </tbody>\n",
       "</table>\n",
       "</div>"
      ],
      "text/plain": [
       "                 name  latitude  longitude                         coordinates\n",
       "0    Tawaribar Rapids   2.66667  -59.96667  POINT (-59.96666999999999 2.66667)\n",
       "1      Machpawa Falls   2.90000  -59.95000                  POINT (-59.95 2.9)\n",
       "2       Kulutuik Fall   5.08333  -59.96667  POINT (-59.96666999999999 5.08333)\n",
       "3     Kukuipawa Falls   2.82548  -59.95024           POINT (-59.95024 2.82548)\n",
       "4  Kenukawai Mountain   1.46667  -58.43333  POINT (-58.43333000000001 1.46667)"
      ]
     },
     "execution_count": 25,
     "metadata": {},
     "output_type": "execute_result"
    }
   ],
   "source": [
    "BR = pd.read_csv('BR.csv', low_memory=False, sep='\\t')\n",
    "BR = BR[['name','latitude','longitude']]\n",
    "\n",
    "# Para que geopandas pueda leer bien las latitudes y longitudes, deben ser pasadas al tipo Point\n",
    "BR['coordinates'] = list(zip(BR['longitude'],BR['latitude']))\n",
    "BR['coordinates'] = BR['coordinates'].apply(Point)\n",
    "BR.head()"
   ]
  },
  {
   "cell_type": "code",
   "execution_count": 26,
   "metadata": {},
   "outputs": [
    {
     "ename": "ImportError",
     "evalue": "The descartes package is required for plotting polygons in geopandas.",
     "output_type": "error",
     "traceback": [
      "\u001b[0;31m---------------------------------------------------------------------------\u001b[0m",
      "\u001b[0;31mModuleNotFoundError\u001b[0m                       Traceback (most recent call last)",
      "\u001b[0;32m~/.local/lib/python3.6/site-packages/geopandas/plotting.py\u001b[0m in \u001b[0;36mplot_polygon_collection\u001b[0;34m(ax, geoms, values, color, cmap, vmin, vmax, **kwargs)\u001b[0m\n\u001b[1;32m     81\u001b[0m     \u001b[0;32mtry\u001b[0m\u001b[0;34m:\u001b[0m\u001b[0;34m\u001b[0m\u001b[0m\n\u001b[0;32m---> 82\u001b[0;31m         \u001b[0;32mfrom\u001b[0m \u001b[0mdescartes\u001b[0m\u001b[0;34m.\u001b[0m\u001b[0mpatch\u001b[0m \u001b[0;32mimport\u001b[0m \u001b[0mPolygonPatch\u001b[0m\u001b[0;34m\u001b[0m\u001b[0m\n\u001b[0m\u001b[1;32m     83\u001b[0m     \u001b[0;32mexcept\u001b[0m \u001b[0mImportError\u001b[0m\u001b[0;34m:\u001b[0m\u001b[0;34m\u001b[0m\u001b[0m\n",
      "\u001b[0;31mModuleNotFoundError\u001b[0m: No module named 'descartes'",
      "\nDuring handling of the above exception, another exception occurred:\n",
      "\u001b[0;31mImportError\u001b[0m                               Traceback (most recent call last)",
      "\u001b[0;32m<ipython-input-26-b292f0b1ce2e>\u001b[0m in \u001b[0;36m<module>\u001b[0;34m()\u001b[0m\n\u001b[1;32m     18\u001b[0m \u001b[0;31m# Se prepara el 'fondo' del gráfico, siendo este nomás el país. Para esto se usan los datos por defecto de geopandas\u001b[0m\u001b[0;34m\u001b[0m\u001b[0;34m\u001b[0m\u001b[0m\n\u001b[1;32m     19\u001b[0m \u001b[0mworld\u001b[0m \u001b[0;34m=\u001b[0m \u001b[0mgpd\u001b[0m\u001b[0;34m.\u001b[0m\u001b[0mread_file\u001b[0m\u001b[0;34m(\u001b[0m\u001b[0mgpd\u001b[0m\u001b[0;34m.\u001b[0m\u001b[0mdatasets\u001b[0m\u001b[0;34m.\u001b[0m\u001b[0mget_path\u001b[0m\u001b[0;34m(\u001b[0m\u001b[0;34m'naturalearth_lowres'\u001b[0m\u001b[0;34m)\u001b[0m\u001b[0;34m)\u001b[0m\u001b[0;34m\u001b[0m\u001b[0m\n\u001b[0;32m---> 20\u001b[0;31m \u001b[0max\u001b[0m \u001b[0;34m=\u001b[0m \u001b[0mworld\u001b[0m\u001b[0;34m[\u001b[0m\u001b[0mworld\u001b[0m\u001b[0;34m.\u001b[0m\u001b[0mname\u001b[0m\u001b[0;34m==\u001b[0m\u001b[0;34m'Brazil'\u001b[0m\u001b[0;34m]\u001b[0m\u001b[0;34m.\u001b[0m\u001b[0mplot\u001b[0m\u001b[0;34m(\u001b[0m\u001b[0mcolor\u001b[0m\u001b[0;34m=\u001b[0m\u001b[0;34m'white'\u001b[0m\u001b[0;34m,\u001b[0m\u001b[0medgecolor\u001b[0m\u001b[0;34m=\u001b[0m\u001b[0;34m'black'\u001b[0m\u001b[0;34m)\u001b[0m\u001b[0;34m\u001b[0m\u001b[0m\n\u001b[0m\u001b[1;32m     21\u001b[0m \u001b[0;34m\u001b[0m\u001b[0m\n\u001b[1;32m     22\u001b[0m \u001b[0mvisu\u001b[0m \u001b[0;34m=\u001b[0m \u001b[0mdata\u001b[0m\u001b[0;34m.\u001b[0m\u001b[0mplot\u001b[0m\u001b[0;34m(\u001b[0m\u001b[0max\u001b[0m\u001b[0;34m=\u001b[0m\u001b[0max\u001b[0m\u001b[0;34m,\u001b[0m\u001b[0mcmap\u001b[0m\u001b[0;34m=\u001b[0m\u001b[0;34m'OrRd'\u001b[0m\u001b[0;34m)\u001b[0m\u001b[0;34m\u001b[0m\u001b[0m\n",
      "\u001b[0;32m~/.local/lib/python3.6/site-packages/geopandas/geodataframe.py\u001b[0m in \u001b[0;36mplot\u001b[0;34m(self, *args, **kwargs)\u001b[0m\n\u001b[1;32m    532\u001b[0m         \u001b[0;32mfrom\u001b[0m \u001b[0mthere\u001b[0m\u001b[0;34m.\u001b[0m\u001b[0;34m\u001b[0m\u001b[0m\n\u001b[1;32m    533\u001b[0m         \"\"\"\n\u001b[0;32m--> 534\u001b[0;31m         \u001b[0;32mreturn\u001b[0m \u001b[0mplot_dataframe\u001b[0m\u001b[0;34m(\u001b[0m\u001b[0mself\u001b[0m\u001b[0;34m,\u001b[0m \u001b[0;34m*\u001b[0m\u001b[0margs\u001b[0m\u001b[0;34m,\u001b[0m \u001b[0;34m**\u001b[0m\u001b[0mkwargs\u001b[0m\u001b[0;34m)\u001b[0m\u001b[0;34m\u001b[0m\u001b[0m\n\u001b[0m\u001b[1;32m    535\u001b[0m \u001b[0;34m\u001b[0m\u001b[0m\n\u001b[1;32m    536\u001b[0m     \u001b[0mplot\u001b[0m\u001b[0;34m.\u001b[0m\u001b[0m__doc__\u001b[0m \u001b[0;34m=\u001b[0m \u001b[0mplot_dataframe\u001b[0m\u001b[0;34m.\u001b[0m\u001b[0m__doc__\u001b[0m\u001b[0;34m\u001b[0m\u001b[0m\n",
      "\u001b[0;32m~/.local/lib/python3.6/site-packages/geopandas/plotting.py\u001b[0m in \u001b[0;36mplot_dataframe\u001b[0;34m(df, column, cmap, color, ax, categorical, legend, scheme, k, vmin, vmax, markersize, figsize, legend_kwds, **style_kwds)\u001b[0m\n\u001b[1;32m    412\u001b[0m         return plot_series(df.geometry, cmap=cmap, color=color, ax=ax,\n\u001b[1;32m    413\u001b[0m                            \u001b[0mfigsize\u001b[0m\u001b[0;34m=\u001b[0m\u001b[0mfigsize\u001b[0m\u001b[0;34m,\u001b[0m \u001b[0mmarkersize\u001b[0m\u001b[0;34m=\u001b[0m\u001b[0mmarkersize\u001b[0m\u001b[0;34m,\u001b[0m\u001b[0;34m\u001b[0m\u001b[0m\n\u001b[0;32m--> 414\u001b[0;31m                            **style_kwds)\n\u001b[0m\u001b[1;32m    415\u001b[0m \u001b[0;34m\u001b[0m\u001b[0m\n\u001b[1;32m    416\u001b[0m     \u001b[0;31m# To accept pd.Series and np.arrays as column\u001b[0m\u001b[0;34m\u001b[0m\u001b[0;34m\u001b[0m\u001b[0m\n",
      "\u001b[0;32m~/.local/lib/python3.6/site-packages/geopandas/plotting.py\u001b[0m in \u001b[0;36mplot_series\u001b[0;34m(s, cmap, color, ax, figsize, **style_kwds)\u001b[0m\n\u001b[1;32m    292\u001b[0m         \u001b[0mvalues_\u001b[0m \u001b[0;34m=\u001b[0m \u001b[0mvalues\u001b[0m\u001b[0;34m[\u001b[0m\u001b[0mpoly_idx\u001b[0m\u001b[0;34m]\u001b[0m \u001b[0;32mif\u001b[0m \u001b[0mcmap\u001b[0m \u001b[0;32melse\u001b[0m \u001b[0;32mNone\u001b[0m\u001b[0;34m\u001b[0m\u001b[0m\n\u001b[1;32m    293\u001b[0m         plot_polygon_collection(ax, polys, values_, facecolor=facecolor,\n\u001b[0;32m--> 294\u001b[0;31m                                 cmap=cmap, **style_kwds)\n\u001b[0m\u001b[1;32m    295\u001b[0m \u001b[0;34m\u001b[0m\u001b[0m\n\u001b[1;32m    296\u001b[0m     \u001b[0;31m# plot all LineStrings and MultiLineString components in same collection\u001b[0m\u001b[0;34m\u001b[0m\u001b[0;34m\u001b[0m\u001b[0m\n",
      "\u001b[0;32m~/.local/lib/python3.6/site-packages/geopandas/plotting.py\u001b[0m in \u001b[0;36mplot_polygon_collection\u001b[0;34m(ax, geoms, values, color, cmap, vmin, vmax, **kwargs)\u001b[0m\n\u001b[1;32m     82\u001b[0m         \u001b[0;32mfrom\u001b[0m \u001b[0mdescartes\u001b[0m\u001b[0;34m.\u001b[0m\u001b[0mpatch\u001b[0m \u001b[0;32mimport\u001b[0m \u001b[0mPolygonPatch\u001b[0m\u001b[0;34m\u001b[0m\u001b[0m\n\u001b[1;32m     83\u001b[0m     \u001b[0;32mexcept\u001b[0m \u001b[0mImportError\u001b[0m\u001b[0;34m:\u001b[0m\u001b[0;34m\u001b[0m\u001b[0m\n\u001b[0;32m---> 84\u001b[0;31m         raise ImportError(\"The descartes package is required\"\n\u001b[0m\u001b[1;32m     85\u001b[0m                           \" for plotting polygons in geopandas.\")\n\u001b[1;32m     86\u001b[0m     \u001b[0;32mfrom\u001b[0m \u001b[0mmatplotlib\u001b[0m\u001b[0;34m.\u001b[0m\u001b[0mcollections\u001b[0m \u001b[0;32mimport\u001b[0m \u001b[0mPatchCollection\u001b[0m\u001b[0;34m\u001b[0m\u001b[0m\n",
      "\u001b[0;31mImportError\u001b[0m: The descartes package is required for plotting polygons in geopandas."
     ]
    },
    {
     "data": {
      "image/png": "[encoded data removed]",
      "text/plain": [
       "<Figure size 1080x360 with 1 Axes>"
      ]
     },
     "metadata": {},
     "output_type": "display_data"
    }
   ],
   "source": [
    "# Se debe hacer un join de los datos que se tienen (nombre de ciudad, cantidad de eventos) y los datos de geonames (nombre de ciudad, punto en el mapa), y esto plotearlo sobre los datos de geopandas (nombre de pais, punto en el mapa mundial)\n",
    "\n",
    "# Se preparan los datos para el join (inner join de nombre de ciudad (columna name))\n",
    "ciudades_brazil = df.loc[(df['country'] == 'Brazil')]\n",
    "data = ciudades_brazil['city'].value_counts()\n",
    "data = data.drop('Unknown')\n",
    "data = data.to_frame()\n",
    "data.reset_index(inplace=True)\n",
    "data = data.rename(columns={'index':'name','city':'count'})\n",
    "\n",
    "# Se pasa de un dataframe normal de pandas a uno de geopandas\n",
    "BRA = gpd.GeoDataFrame(BR, geometry='coordinates')\n",
    "\n",
    "# Se hace el join (en geopandas: merge) de ambos sets. Siendo que geonames daba mucha más información de la necesaria, duplicando valores por ciudades, se borran los duplicados\n",
    "data = BRA.merge(data, on='name')\n",
    "data = data.drop_duplicates('name')\n",
    "\n",
    "# Se prepara el 'fondo' del gráfico, siendo este nomás el país. Para esto se usan los datos por defecto de geopandas\n",
    "world = gpd.read_file(gpd.datasets.get_path('naturalearth_lowres'))\n",
    "ax = world[world.name=='Brazil'].plot(color='white',edgecolor='black')\n",
    "\n",
    "visu = data.plot(ax=ax,cmap='OrRd')\n",
    "visu.axes.set_title('Ciudades de Brazil con más visitas')"
   ]
  },
  {
   "cell_type": "code",
   "execution_count": 27,
   "metadata": {},
   "outputs": [
    {
     "data": {
      "text/plain": [
       "Buenos Aires       76\n",
       "Unknown             8\n",
       "Córdoba             2\n",
       "Neuquén             1\n",
       "Isidro Casanova     1\n",
       "Lanus               1\n",
       "Ramos Mejia         1\n",
       "Podesta             1\n",
       "Lomas de Zamora     1\n",
       "Mendoza             1\n",
       "Rosario             1\n",
       "Name: city, dtype: int64"
      ]
     },
     "execution_count": 27,
     "metadata": {},
     "output_type": "execute_result"
    }
   ],
   "source": [
    "ciudades_argentina = df.loc[(df['country'] == 'Argentina')]\n",
    "data = ciudades_argentina['city'].value_counts()\n",
    "data\n",
    "\n",
    "# Viendo que la mayoría de los eventos de Argentina vienen de Buenos Aires, hacer el gráfico sobre el mapa sería trivial"
   ]
  },
  {
   "cell_type": "code",
   "execution_count": 28,
   "metadata": {},
   "outputs": [
    {
     "data": {
      "image/png": "[encoded data removed]",
      "text/plain": [
       "<Figure size 1080x360 with 1 Axes>"
      ]
     },
     "metadata": {},
     "output_type": "display_data"
    }
   ],
   "source": [
    "st = df['search_term'].dropna()\n",
    "st = st.apply(lambda x: x.lower())\n",
    "st = st.value_counts().to_frame()\n",
    "st = st.loc[(st['search_term'] >= 300)]\n",
    "\n",
    "text = ''\n",
    "for w,q in zip(st.index,st['search_term']):\n",
    "    text += ' '.join([w for x in range(q)])\n",
    "\n",
    "text = ' '.join([s for s in text.split() if len(s)>2])    \n",
    "\n",
    "wordcloud = WordCloud(width=2000, height=800, margin=0,collocations=False).generate(text)\n",
    " \n",
    "plt.imshow(wordcloud, interpolation='bilinear')\n",
    "plt.axis(\"off\")\n",
    "plt.margins(x=0, y=0)\n",
    "plt.show()"
   ]
  },
  {
   "cell_type": "code",
   "execution_count": 29,
   "metadata": {},
   "outputs": [
    {
     "data": {
      "text/plain": [
       "Text(114,0.5,'Mes')"
      ]
     },
     "execution_count": 29,
     "metadata": {},
     "output_type": "execute_result"
    },
    {
     "data": {
      "image/png": "[encoded data removed]",
      "text/plain": [
       "<Figure size 1080x360 with 2 Axes>"
      ]
     },
     "metadata": {},
     "output_type": "display_data"
    }
   ],
   "source": [
    "df['month'] = df.index.month\n",
    "df['day'] = df.index.day\n",
    "for_heatmap = df.pivot_table(index='month',columns='day', values='event', aggfunc='count')\n",
    "for_heatmap\n",
    "g = sns.heatmap(for_heatmap,  cmap=\"OrRd\")\n",
    "g.set_title(\"Tráfico en sitio según mes y día\")\n",
    "g.set_xlabel(\"Día\")\n",
    "g.set_ylabel(\"Mes\")"
   ]
  },
  {
   "cell_type": "code",
   "execution_count": 30,
   "metadata": {},
   "outputs": [
    {
     "data": {
      "text/plain": [
       "Text(114,0.5,'Mes')"
      ]
     },
     "execution_count": 30,
     "metadata": {},
     "output_type": "execute_result"
    },
    {
     "data": {
      "image/png": "[encoded data removed]",
      "text/plain": [
       "<Figure size 1080x360 with 2 Axes>"
      ]
     },
     "metadata": {},
     "output_type": "display_data"
    }
   ],
   "source": [
    "df['month'] = df.index.month\n",
    "df['week_day'] = df.index.weekday\n",
    "\n",
    "for_heatmap = df.pivot_table(index='month',columns='week_day', values='event', aggfunc='count')\n",
    "for_heatmap.columns = ['Monday', 'Tuesday', 'Wednesday', 'Thursday', 'Friday', 'Saturday', 'Sunday']\n",
    "\n",
    "g = sns.heatmap(for_heatmap,  cmap=\"OrRd\")\n",
    "g.set_title(\"Tráfico en sitio según mes y día de la semana\")\n",
    "g.set_xlabel(\"Día de la semana\")\n",
    "g.set_ylabel(\"Mes\")"
   ]
  },
  {
   "cell_type": "code",
   "execution_count": 31,
   "metadata": {},
   "outputs": [
    {
     "data": {
      "text/plain": [
       "<matplotlib.axes._subplots.AxesSubplot at 0x7f4a711e8a20>"
      ]
     },
     "execution_count": 31,
     "metadata": {},
     "output_type": "execute_result"
    },
    {
     "data": {
      "image/png": "[encoded data removed]",
      "text/plain": [
       "<Figure size 1080x360 with 1 Axes>"
      ]
     },
     "metadata": {},
     "output_type": "display_data"
    }
   ],
   "source": [
    "df['week_day_name'] = df.index.weekday_name\n",
    "weekday_names = ['Monday', 'Tuesday', 'Wednesday', 'Thursday', 'Friday', 'Saturday', 'Sunday']\n",
    "weekday_counts = df.groupby('week_day_name').count()\n",
    "weekday_counts = weekday_counts.loc[weekday_names]\n",
    "weekday_counts['event'].plot(kind='bar') #Probando, después se tunea"
   ]
  },
  {
   "cell_type": "code",
   "execution_count": 32,
   "metadata": {
    "scrolled": true
   },
   "outputs": [
    {
     "data": {
      "text/plain": [
       "<matplotlib.axes._subplots.AxesSubplot at 0x7f4a6dabfc50>"
      ]
     },
     "execution_count": 32,
     "metadata": {},
     "output_type": "execute_result"
    },
    {
     "data": {
      "image/png": "[encoded data removed]",
      "text/plain": [
       "<Figure size 1080x360 with 1 Axes>"
      ]
     },
     "metadata": {},
     "output_type": "display_data"
    }
   ],
   "source": [
    "df['month_name'] = df['month'].apply(lambda x: calendar.month_abbr[x])\n",
    "month_name= ['Jan', 'Feb', 'Mar', 'Apr', 'May', 'Jun']\n",
    "month_counts = df.groupby('month_name').count()\n",
    "month_counts\n",
    "month_counts = month_counts.loc[month_name]\n",
    "month_counts['event'].plot(kind='bar') #Probando, después se tunea"
   ]
  },
  {
   "cell_type": "markdown",
   "metadata": {},
   "source": [
    "## Análisis de Static Pages"
   ]
  },
  {
   "cell_type": "code",
   "execution_count": 33,
   "metadata": {},
   "outputs": [
    {
     "data": {
      "text/plain": [
       "CustomerService                      1528\n",
       "AboutUs                               443\n",
       "FaqEcommerce                          347\n",
       "Quiosks                               326\n",
       "trust-trocafone                       243\n",
       "galaxy-s8                             167\n",
       "TermsAndConditionsReturnEcommerce     156\n",
       "how-to-sell                            96\n",
       "Conditions                             89\n",
       "how-to-buy                             86\n",
       "TermsAndConditionsEcommerce            59\n",
       "club-trocafone                         46\n",
       "PrivacyEcommerce                        9\n",
       "black_friday                            3\n",
       "Name: staticpage, dtype: int64"
      ]
     },
     "execution_count": 33,
     "metadata": {},
     "output_type": "execute_result"
    }
   ],
   "source": [
    "df['staticpage'].value_counts()"
   ]
  },
  {
   "cell_type": "markdown",
   "metadata": {},
   "source": [
    "Podemos ver que la cantidad de visitas a **Customer Service** es mucho mayor a la página de **FAQ**. Para optimizar recursos sería más eficiente intentar de redireccionar el tráfico a FAQ, haciendo más visible los links a la página y de ser necesario mejorándola."
   ]
  },
  {
   "cell_type": "code",
   "execution_count": 35,
   "metadata": {},
   "outputs": [
    {
     "data": {
      "text/plain": [
       "Text(0.5,1,'Cantidad de eventos según staticpage')"
      ]
     },
     "execution_count": 35,
     "metadata": {},
     "output_type": "execute_result"
    },
    {
     "data": {
      "image/png": "[encoded data removed]",
      "text/plain": [
       "<Figure size 1080x360 with 1 Axes>"
      ]
     },
     "metadata": {},
     "output_type": "display_data"
    }
   ],
   "source": [
    "faq_and_service = df[(df['staticpage'] == 'CustomerService') | (df['staticpage'] == 'FaqEcommerce')]['staticpage']\n",
    "visu = sns.countplot(faq_and_service)\n",
    "visu.axes.set_title('Cantidad de eventos según staticpage')"
   ]
  },
  {
   "cell_type": "markdown",
   "metadata": {},
   "source": [
    "---\n",
    "## Conclusiones (insights)"
   ]
  },
  {
   "cell_type": "markdown",
   "metadata": {},
   "source": [
    "- Intro de trocafone\n",
    "- Info general del dataset\n",
    "- Columna por columna graficos interesnates\n",
    "    - Pregunta\n",
    "    - Grafico\n",
    "    - Respuesta / Analisis\n",
    "- Insights generales\n",
    "\n",
    "Buenos robos:\n",
    "- https://jilt.com/blog/ecommerce-metrics/\n",
    "- https://python-graph-gallery.com/\n",
    "- https://github.com/kevinspasiuk/orgaDatos/blob/master/General.ipynb -> Reloj / Postulaciones y vistas a lo largo del tiempo\n",
    "- https://github.com/GastonMontes/75.06-Datos-TP1/blob/master/Notebooks/Junto.ipynb -> Sabe analizar\n",
    "- Apunte cap 2 tiene muy buenos analisis\n",
    "- https://github.com/lrargerich/7506/blob/master/Notebooks/Analisis%20Exploratorio/Movies%20from%20IMDB.ipynb\n",
    "- https://github.com/lrargerich/7506/blob/master/Notebooks/Analisis%20Exploratorio/MovieLens.ipynb\n",
    "- https://github.com/lrargerich/7506/blob/master/Notebooks/Analisis%20Exploratorio/Airplane%20Crashes.ipynb\n",
    "- https://github.com/lrargerich/7506/blob/master/Notebooks/Analisis%20Exploratorio/Universities%20-%20Times%20ranking.ipynb\n",
    "- https://github.com/idontdomath/datos-exploratory-data-analysis/blob/master/2018-02/02-kickstarter-projects.ipynb\n",
    "\n",
    "---\n",
    "- [ ] ¿Pudieron descubrir features en el campo ‘model’? ¿Cuales fueron?\n",
    "- [ ] ¿Identificaron patrones o funnels de usuarios que realizan checkouts/conversiones en Trocafone? \n",
    "- [ ] ¿Se comportan de forma distinta dependiendo del tipo de dispositivo desde el cual acceden?\n",
    "- [ ] ¿Se comportan de forma distinta dependiendo del tipo de fuente de tráfico al que pertenecen?\n",
    "- [ ] ¿Realizaron algún análisis sobre búsquedas que realizan los usuarios y las keywords que utilizan apoyándose en algún tipo de visualización?\n",
    "- [ ] ¿Realizaron algún análisis de lugar donde se originan las visitas de los usuarios de Trocafone (a nivel país, regiones más importantes o ciudades más importantes) apoyándose en algún tipo de visualización?\n",
    "- [ ] ¿Pudieron descubrir features jerarquizando información de alguno de los campos (por ejemplo “screen_resolution”)?\n",
    "\n",
    "---\n",
    "- [ ] Boxplot, violin, stacked bar, histograma, scatter plot, radar chart\n",
    "- [ ] Trafico y compras en mismo grafico de lineas que no se como se llama y es igual (lineal?)\n",
    "- [ ] Treemap barchart por meses y compras en cada mes. Normalizar el mes de junio!!\n",
    "- [ ] Grafico de rankings de celular mas viewed pasados los meses\n",
    "- [ ] Conversiones vs Checkouts \n",
    "- [ ] Analisis de mayo. Por que hay tantos datos?\n",
    "- [ ] Comparacion entre conversiones, checkouts y viewed products. Analizar que porcentaje de futuros compradores se fueron perdiendo\n",
    "- [ ] Agregar barplot de regiones antes del mapa brazuca\n",
    "---\n",
    "- [ ] ¿Tienen todos los ejes su rótulo?\n",
    "- [ ] ¿Tiene cada visualización un título?\n",
    "- [ ] ¿Es entendible la visualización sin tener que leer la explicación?\n",
    "- [ ] ¿El uso del color es adecuado?\n",
    "- [ ] ¿Hay un exceso o falta de elementos visuales en la visualización elegida?\n",
    "- [ ] ¿Presenta el grupo un listado de \"insights\" aprendidos sobre los datos en base al análisis realizado? ¿Es interesante?"
   ]
  },
  {
   "cell_type": "code",
   "execution_count": null,
   "metadata": {},
   "outputs": [],
   "source": []
  },
  {
   "cell_type": "code",
   "execution_count": null,
   "metadata": {},
   "outputs": [],
   "source": []
  },
  {
   "cell_type": "code",
   "execution_count": null,
   "metadata": {},
   "outputs": [],
   "source": []
  },
  {
   "cell_type": "code",
   "execution_count": null,
   "metadata": {},
   "outputs": [],
   "source": []
  },
  {
   "cell_type": "code",
   "execution_count": null,
   "metadata": {},
   "outputs": [],
   "source": []
  },
  {
   "cell_type": "code",
   "execution_count": null,
   "metadata": {},
   "outputs": [],
   "source": []
  },
  {
   "cell_type": "code",
   "execution_count": null,
   "metadata": {},
   "outputs": [],
   "source": []
  },
  {
   "cell_type": "code",
   "execution_count": null,
   "metadata": {},
   "outputs": [],
   "source": []
  },
  {
   "cell_type": "code",
   "execution_count": null,
   "metadata": {},
   "outputs": [],
   "source": []
  },
  {
   "cell_type": "code",
   "execution_count": null,
   "metadata": {},
   "outputs": [],
   "source": []
  }
 ],
 "metadata": {
  "kernelspec": {
   "display_name": "Python 3",
   "language": "python",
   "name": "python3"
  },
  "language_info": {
   "codemirror_mode": {
    "name": "ipython",
    "version": 3
   },
   "file_extension": ".py",
   "mimetype": "text/x-python",
   "name": "python",
   "nbconvert_exporter": "python",
   "pygments_lexer": "ipython3",
   "version": "3.6.5"
  }
 },
 "nbformat": 4,
 "nbformat_minor": 2
}
