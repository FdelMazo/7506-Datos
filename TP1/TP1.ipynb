{
 "cells": [
  {
   "cell_type": "markdown",
   "metadata": {},
   "source": [
    "# 75.06 / 95.58 Organización de Datos\n",
    "# Trabajo Práctico 1\n",
    "\n",
    "### Grupo Datatouille\n",
    "\n",
    "- 101055 - Bojman, Camila\n",
    "- 100029 - del Mazo, Federico\n",
    "- 100687 - Hortas, Cecilia\n",
    "- 97649 - Souto, Rodrigo\n",
    "\n",
    "> https://github.com/fdelmazo/7506-datos"
   ]
  },
  {
   "cell_type": "code",
   "execution_count": null,
   "metadata": {},
   "outputs": [],
   "source": [
    "# Set-Up inicial\n",
    "\n",
    "import pandas as pd\n",
    "import numpy as np\n",
    "import matplotlib.pyplot as plt\n",
    "import seaborn as sns\n",
    "import squarify # https://github.com/laserson/squarify ( pip install squarify )\n",
    "import geopandas as gpd # http://geopandas.org/install.html ( conda install -c conda-forge geopandas o pip install geopandas )\n",
    "from shapely.geometry import Point\n",
    "from wordcloud import WordCloud # pip install wordcloud\n",
    "\n",
    "sns.set(style=\"darkgrid\")\n",
    "plt.rcParams['axes.titlesize'] = 16\n",
    "plt.rcParams['axes.labelsize'] = 12\n",
    "plt.rcParams['axes.labelweight'] = 'bold'\n",
    "plt.rcParams['figure.figsize'] = (15,5)\n",
    "\n",
    "df = pd.read_csv('events.csv', low_memory=False, index_col='timestamp')"
   ]
  },
  {
   "cell_type": "markdown",
   "metadata": {},
   "source": [
    "## Información general del dataset"
   ]
  },
  {
   "cell_type": "code",
   "execution_count": null,
   "metadata": {},
   "outputs": [],
   "source": [
    "with pd.option_context('display.max_column',0):\n",
    "    display(df.sample(n=5))"
   ]
  },
  {
   "cell_type": "code",
   "execution_count": null,
   "metadata": {},
   "outputs": [],
   "source": [
    "print('{} atributos y {} registros en el dataframe.\\n'.format(df.shape[1],df.shape[0]))\n",
    "print('Primer registro: {} \\nÚltimo registro: {}.'.format(df.index.min(),df.index.max()))"
   ]
  },
  {
   "cell_type": "code",
   "execution_count": null,
   "metadata": {},
   "outputs": [],
   "source": [
    "bytes_used = df.memory_usage().sum()\n",
    "df.info()"
   ]
  },
  {
   "cell_type": "code",
   "execution_count": null,
   "metadata": {},
   "outputs": [],
   "source": [
    "with pd.option_context('display.max_colwidth',-1):\n",
    "    display(pd.read_csv('columns-desc.csv',index_col='column'))"
   ]
  },
  {
   "cell_type": "code",
   "execution_count": null,
   "metadata": {},
   "outputs": [],
   "source": [
    "df.describe().T"
   ]
  },
  {
   "cell_type": "code",
   "execution_count": null,
   "metadata": {},
   "outputs": [],
   "source": [
    "df.isnull().sum()"
   ]
  },
  {
   "cell_type": "markdown",
   "metadata": {},
   "source": [
    "---\n",
    "#### Pasado el vistazo general a los datos, se pueden transformar datos en sus tipos correspondientes para mejor manejo de estos y para ahorro de memoria"
   ]
  },
  {
   "cell_type": "code",
   "execution_count": null,
   "metadata": {},
   "outputs": [],
   "source": [
    "# Los atributos con pocos valores posibles se pasan a variables categoricas para ahorrar memoria\n",
    "df['event'] = df['event'].astype('category')\n",
    "df['condition'] = df['condition'].astype('category')\n",
    "df['storage'] = df['storage'].astype('category')\n",
    "df['search_engine'] = df['search_engine'].astype('category')\n",
    "df['channel'] = df['channel'].astype('category')\n",
    "df['device_type'] = df['device_type'].astype('category')\n",
    "\n",
    "# El tiempo es mejor manejarlo como tal\n",
    "df.index = pd.to_datetime(df.index)\n",
    "\n",
    "# Teniendo solamente dos valores posibles para el tipo de usuario, y priorizando los nuevos, se transforma a una variable booleana\n",
    "df = df.rename(columns={'new_vs_returning':'new_user'})\n",
    "d = {'New':True, 'Returning':False}\n",
    "df['new_user'].map(d)\n",
    "df['new_user'] = df['new_user'].astype('bool')"
   ]
  },
  {
   "cell_type": "code",
   "execution_count": null,
   "metadata": {},
   "outputs": [],
   "source": [
    "# Chequeo\n",
    "df.info()\n",
    "\n",
    "ahorro = (bytes_used - df.memory_usage().sum()) /1000000\n",
    "print(\"Memoria ahorrada: {:.4f}MB\".format(ahorro))"
   ]
  },
  {
   "cell_type": "markdown",
   "metadata": {},
   "source": [
    "---\n",
    "## Información de eventos"
   ]
  },
  {
   "cell_type": "code",
   "execution_count": null,
   "metadata": {},
   "outputs": [],
   "source": [
    "event = df['event']\n",
    "event.describe()"
   ]
  },
  {
   "cell_type": "code",
   "execution_count": null,
   "metadata": {},
   "outputs": [],
   "source": [
    "with pd.option_context('display.max_colwidth',0):\n",
    "    display(pd.read_csv('events-desc.csv',index_col='event'))"
   ]
  },
  {
   "cell_type": "code",
   "execution_count": null,
   "metadata": {},
   "outputs": [],
   "source": [
    "#data = event.value_counts().head(7)\n",
    "#ax = sns.barplot(x=data.index,y=data)\n",
    "#ax.set(xlabel='Count',ylabel='Evento')\n",
    "\n",
    "# Mismo grafico, de otra forma (tarda más tiempo (escribir %%time al comienzo de la celda))\n",
    "orden = event.value_counts().head(7).index\n",
    "visu = sns.countplot(x='event',data=df,order=orden)\n",
    "visu.axes.set_title('Cantidad de visitas segun evento')"
   ]
  },
  {
   "cell_type": "markdown",
   "metadata": {},
   "source": [
    "---\n",
    "## Información geográfica"
   ]
  },
  {
   "cell_type": "code",
   "execution_count": null,
   "metadata": {},
   "outputs": [],
   "source": [
    "countries = df['country'].value_counts()\n",
    "countries = countries.drop('Unknown')\n",
    "data = countries.head(3)\n",
    "\n",
    "visu = squarify.plot(data, label=data.index, alpha=.5, color=['green','red','cyan'])\n",
    "visu.axes.set_title('Países con más visitas')"
   ]
  },
  {
   "cell_type": "code",
   "execution_count": null,
   "metadata": {},
   "outputs": [],
   "source": [
    "# Siempre supimos (asumimos) que Brazil sería el país con mayor tráfico. \n",
    "# Este dato no nos deja ver la proporción del resto de los países\n",
    "countries = df['country'].value_counts()\n",
    "countries = countries.drop('Unknown')\n",
    "countries = countries.drop('Brazil')\n",
    "data = countries.head(7)\n",
    "\n",
    "visu = squarify.plot(data, label=data.index, alpha=.5, color=['red','cyan','yellow','grey','purple','orange','blue'])\n",
    "visu.axes.set_title('Países con más visitas, exceptuando Brazil')"
   ]
  },
  {
   "cell_type": "markdown",
   "metadata": {},
   "source": [
    "### Sacando las longitudes y latitudes de distintas ciudades del mundo, podemos ver que zonas de los 4 países con más trafico son las que más visitas tienen. \n",
    "\n",
    "Con ayuda del módulo geopandas, podemos plotear directamente sobre un mapa\n",
    "Las bases de datos adicionales fueron sacadas de http://www.geonames.org/"
   ]
  },
  {
   "cell_type": "code",
   "execution_count": null,
   "metadata": {},
   "outputs": [],
   "source": [
    "BR = pd.read_csv('BR.csv', low_memory=False, sep='\\t')\n",
    "BR = BR[['name','latitude','longitude']]\n",
    "\n",
    "# Para que geopandas pueda leer bien las latitudes y longitudes, deben ser pasadas al tipo Point\n",
    "BR['coordinates'] = list(zip(BR['longitude'],BR['latitude']))\n",
    "BR['coordinates'] = BR['coordinates'].apply(Point)\n",
    "BR.head()"
   ]
  },
  {
   "cell_type": "code",
   "execution_count": null,
   "metadata": {},
   "outputs": [],
   "source": [
    "# Se debe hacer un join de los datos que se tienen (nombre de ciudad, cantidad de eventos) y los datos de geonames (nombre de ciudad, punto en el mapa), y esto plotearlo sobre los datos de geopandas (nombre de pais, punto en el mapa mundial)\n",
    "\n",
    "# Se preparan los datos para el join (inner join de nombre de ciudad (columna name))\n",
    "ciudades_brazil = df.loc[(df['country'] == 'Brazil')]\n",
    "data = ciudades_brazil['city'].value_counts()\n",
    "data = data.drop('Unknown')\n",
    "data = data.to_frame()\n",
    "data.reset_index(inplace=True)\n",
    "data = data.rename(columns={'index':'name','city':'count'})\n",
    "\n",
    "# Se pasa de un dataframe normal de pandas a uno de geopandas\n",
    "BRA = gpd.GeoDataFrame(BR, geometry='coordinates')\n",
    "\n",
    "# Se hace el join (en geopandas: merge) de ambos sets. Siendo que geonames daba mucha más información de la necesaria, duplicando valores por ciudades, se borran los duplicados\n",
    "data = BRA.merge(data, on='name')\n",
    "data = data.drop_duplicates('name')\n",
    "\n",
    "# Se prepara el 'fondo' del gráfico, siendo este nomás el país. Para esto se usan los datos por defecto de geopandas\n",
    "world = gpd.read_file(gpd.datasets.get_path('naturalearth_lowres'))\n",
    "ax = world[world.name=='Brazil'].plot(color='white',edgecolor='black')\n",
    "\n",
    "visu = data.plot(ax=ax,cmap='OrRd')\n",
    "visu.axes.set_title('Ciudades de Brazil con más visitas')"
   ]
  },
  {
   "cell_type": "code",
   "execution_count": null,
   "metadata": {},
   "outputs": [],
   "source": [
    "US = pd.read_csv('US.csv', low_memory=False, sep='\\t')\n",
    "US = US[['name','latitude','longitude']]\n",
    "US['coordinates'] = list(zip(US['longitude'],US['latitude']))\n",
    "US['coordinates'] = US['coordinates'].apply(Point)"
   ]
  },
  {
   "cell_type": "code",
   "execution_count": null,
   "metadata": {},
   "outputs": [],
   "source": [
    "ciudades_argentina = df.loc[(df['country'] == 'Argentina')]\n",
    "data = ciudades_argentina['city'].value_counts()\n",
    "data\n",
    "\n",
    "# Viendo que la mayoría de los eventos de Argentina vienen de Buenos Aires, hacer el gráfico sobre el mapa sería trivial"
   ]
  },
  {
   "cell_type": "code",
   "execution_count": null,
   "metadata": {},
   "outputs": [],
   "source": [
    "ciudades_usa = df.loc[(df['country'] == 'United States')]\n",
    "data = ciudades_usa['city'].value_counts()\n",
    "data = data.drop('Unknown')\n",
    "data = data.to_frame()\n",
    "data.reset_index(inplace=True)\n",
    "data = data.rename(columns={'index':'name','city':'count'})\n",
    "\n",
    "USA = gpd.GeoDataFrame(US, geometry='coordinates')\n",
    "\n",
    "world = gpd.read_file(gpd.datasets.get_path('naturalearth_lowres'))\n",
    "world\n",
    "ax = world[world.name=='United States'].plot(color='white',edgecolor='black')\n",
    "\n",
    "data = USA.merge(data, on='name')\n",
    "data = data.drop_duplicates('name')\n",
    "\n",
    "visu = data.plot(ax=ax,cmap='Blues')\n",
    "visu.axes.set_title('Ciudades de Estados Unidos con más visitas')"
   ]
  },
  {
   "cell_type": "code",
   "execution_count": null,
   "metadata": {},
   "outputs": [],
   "source": [
    "st = df['search_term'].dropna()\n",
    "st = st.apply(lambda x: x.lower())\n",
    "st = st.value_counts().to_frame()\n",
    "st = st.loc[(st['search_term'] >= 300)]\n",
    "st"
   ]
  },
  {
   "cell_type": "code",
   "execution_count": null,
   "metadata": {},
   "outputs": [],
   "source": [
    "# Create a list of word\n",
    "text = ''\n",
    "for w,q in zip(st.index,st['search_term']):\n",
    "    text += ' '.join([w for x in range(q)])\n",
    "\n",
    "text = ' '.join([s for s in text.split() if len(s)>2])    \n",
    "\n",
    "wordcloud = WordCloud(width=2000, height=800, margin=0,collocations=False).generate(text)\n",
    " \n",
    "plt.imshow(wordcloud, interpolation='bilinear')\n",
    "plt.axis(\"off\")\n",
    "plt.margins(x=0, y=0)\n",
    "plt.show()\n"
   ]
  },
  {
   "cell_type": "markdown",
   "metadata": {},
   "source": [
    "---\n",
    "## Conclusiones (insights)"
   ]
  }
 ],
 "metadata": {
  "kernelspec": {
   "display_name": "Python 3",
   "language": "python",
   "name": "python3"
  },
  "language_info": {
   "codemirror_mode": {
    "name": "ipython",
    "version": 3
   },
   "file_extension": ".py",
   "mimetype": "text/x-python",
   "name": "python",
   "nbconvert_exporter": "python",
   "pygments_lexer": "ipython3",
   "version": "3.6.6"
  }
 },
 "nbformat": 4,
 "nbformat_minor": 2
}
