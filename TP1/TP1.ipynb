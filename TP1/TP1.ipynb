{
 "cells": [
  {
   "cell_type": "markdown",
   "metadata": {},
   "source": [
    "# [75.06 / 95.58] Organización de Datos\n",
    "## Trabajo Práctico 1: Análisis Exploratorio de Datos\n",
    "\n",
    "**Grupo 30: Datatouille**\n",
    "\n",
    "- 101055 - Bojman, Camila\n",
    "- 100029 - del Mazo, Federico\n",
    "- 100687 - Hortas, Cecilia\n",
    "- 97649 - Souto, Rodrigo\n",
    "\n",
    "**https://github.com/fdelmazo/7506-datos**\n",
    "\n",
    "Presentamos aca un análisis de datos obtenido de usuarios que visitaron www.trocafone.com, un sitio de e-commerce de compra y venta de celulares reacondicionados, con operaciones principalmente en Brasil."
   ]
  },
  {
   "cell_type": "markdown",
   "metadata": {},
   "source": [
    "## Set up inicial e información general del dataset"
   ]
  },
  {
   "cell_type": "code",
   "execution_count": null,
   "metadata": {},
   "outputs": [],
   "source": [
    "import pandas as pd\n",
    "import numpy as np\n",
    "import matplotlib.pyplot as plt\n",
    "import seaborn as sns\n",
    "import squarify # pip install squarify\n",
    "import geopandas as gpd #  conda install -c conda-forge geopandas\n",
    "from wordcloud import WordCloud # conda install -c conda-forge wordcloud\n",
    "from shapely.geometry import Point\n",
    "from time import strptime\n",
    "import calendar\n",
    "%matplotlib inline\n",
    "\n",
    "df = pd.read_csv('data/events.csv', low_memory=False)"
   ]
  },
  {
   "cell_type": "code",
   "execution_count": null,
   "metadata": {},
   "outputs": [],
   "source": [
    "sns.set(style=\"darkgrid\")\n",
    "plt.rcParams['axes.titlesize'] = 16\n",
    "plt.rcParams['axes.labelsize'] = 12\n",
    "plt.rcParams['axes.labelweight'] = 'bold'\n",
    "plt.rcParams['figure.figsize'] = (25,15)"
   ]
  },
  {
   "cell_type": "code",
   "execution_count": null,
   "metadata": {},
   "outputs": [],
   "source": [
    "with pd.option_context('display.max_column',0):\n",
    "  display(df.sample(n=5))"
   ]
  },
  {
   "cell_type": "markdown",
   "metadata": {},
   "source": [
    "## Set up inicial e información general del dataset"
   ]
  },
  {
   "cell_type": "code",
   "execution_count": null,
   "metadata": {},
   "outputs": [],
   "source": [
    "bytes_used = df.memory_usage().sum()\n",
    "print('Memoria usada: {:.2f}MB'.format(bytes_used/1000000))\n",
    "print('{} atributos y {} registros en el dataframe.\\n'.format(df.shape[1],df.shape[0]))\n",
    "print('Primer registro: {} \\nÚltimo registro: {}.'.format(df['timestamp'].min(),df['timestamp'].max()))"
   ]
  },
  {
   "cell_type": "code",
   "execution_count": null,
   "metadata": {},
   "outputs": [],
   "source": [
    "describe = df.describe().T\n",
    "descripcion = pd.read_csv('data/columns-desc.csv',index_col='column')\n",
    "data = pd.merge(descripcion,describe,left_index=True,right_index=True)\n",
    "data['null count'] = df.isnull().sum()\n",
    "data['dtype'] = df.dtypes\n",
    "with pd.option_context('display.max_colwidth',-1):\n",
    "    display(data)"
   ]
  },
  {
   "cell_type": "markdown",
   "metadata": {},
   "source": [
    "**Se sabe que los datos proporcionados son un mero subconjunto de todos los datos de la empresa.**\n",
    "\n",
    "**¿Cómo se decidio el truncamiento de la base original?**"
   ]
  },
  {
   "cell_type": "code",
   "execution_count": null,
   "metadata": {},
   "outputs": [],
   "source": [
    "print('Cantidad de usuarios: {}'.format(df['person'].nunique()))\n",
    "\n",
    "by_person = df[['event','person']].groupby('person')\n",
    "con_checkouts = by_person.agg({'event':lambda x: any(y == 'checkout' for y in x)}).sum()['event']\n",
    "\n",
    "print('Cantidad de usuarios con checkouts: {}'.format(con_checkouts))"
   ]
  },
  {
   "cell_type": "markdown",
   "metadata": {},
   "source": [
    "Después de varias teorías y sus respectivas pruebas, encontramos que todos los usuarios presentes en el set tienen al menos un evento checkout, mostrando que efectivamente la base de datos original se truncó (ya que sería inocente creerse que el 100% de los usuarios que entran al sitio tienen un checkout). \n",
    "\n",
    "Este dato parece menor pero es muy importante; nos muestra que las conclusiones de este análisis no podrán hacerse sobre el sitio en su totalidad. Por los limites de los datos de entrada todas las conclusiones serán sobre los usuarios que hayan tenido al menos un checkout, en vez de acerca de todos los usuarios del sitio."
   ]
  },
  {
   "cell_type": "markdown",
   "metadata": {},
   "source": [
    "## Curado y limpieza de datos"
   ]
  },
  {
   "cell_type": "markdown",
   "metadata": {},
   "source": [
    "Pasado el vistazo general a los datos, se pueden transformar datos en sus tipos correspondientes para mejor manejo de estos y para ahorro de memoria."
   ]
  },
  {
   "cell_type": "code",
   "execution_count": null,
   "metadata": {},
   "outputs": [],
   "source": [
    "# Los atributos con pocos valores posibles se pasan a variables categoricas para ahorrar memoria\n",
    "df['event'] = df['event'].astype('category')\n",
    "df['condition'] = df['condition'].astype('category')\n",
    "df['storage'] = df['storage'].astype('category')\n",
    "df['search_engine'] = df['search_engine'].astype('category')\n",
    "df['channel'] = df['channel'].astype('category')\n",
    "df['device_type'] = df['device_type'].astype('category')\n",
    "\n",
    "# El tiempo es mejor manejarlo como tal\n",
    "df['timestamp'] = pd.to_datetime(df['timestamp'])\n",
    "\n",
    "# Chequeo\n",
    "df.info()"
   ]
  },
  {
   "cell_type": "code",
   "execution_count": null,
   "metadata": {},
   "outputs": [],
   "source": [
    "ahorro = (bytes_used - df.memory_usage().sum())\n",
    "porcentaje = (ahorro/bytes_used) * 100\n",
    "print(\"Memoria ahorrada: {:.4f}MB ({:.2f}%)\".format(ahorro/1000000,porcentaje))"
   ]
  },
  {
   "cell_type": "markdown",
   "metadata": {},
   "source": [
    "Se decide usar el tiempo del evento registrado como un id de este (es decir, como índice del set de datos)."
   ]
  },
  {
   "cell_type": "code",
   "execution_count": null,
   "metadata": {},
   "outputs": [],
   "source": [
    "df.set_index('timestamp', drop=False, inplace=True)"
   ]
  },
  {
   "cell_type": "markdown",
   "metadata": {},
   "source": [
    "TO DO:\n",
    "    - Sacar registros producto del 'double tracking'. Por ej: Compras iguales (usuario, modelo) registradas en el mismo minuto\n",
    "    "
   ]
  },
  {
   "cell_type": "markdown",
   "metadata": {},
   "source": [
    "## Data Mining"
   ]
  },
  {
   "cell_type": "markdown",
   "metadata": {},
   "source": [
    "De las columnas `model`, `operating_system_version` y `browser_version` se pueden extraer datos de la marca, el sistema operativo y el explorador. Estos se usan para generar nuevos dataframes y luego se hace un *left join* de los datos obtenidos.\n",
    "\n",
    "Todo el código respecto a la creación de nuevos dataframes está ubicado en `anexo.ipynb`."
   ]
  },
  {
   "cell_type": "code",
   "execution_count": null,
   "metadata": {},
   "outputs": [],
   "source": [
    "df_brands = pd.read_csv('data/brands.csv')\n",
    "df = df.merge(df_brands, how='left', on='model')\n",
    "df['brand'].astype('category')\n",
    "sample = df[(df['model'].notnull()) & (df['brand'].notnull())]\n",
    "sample[['model','brand']].head()"
   ]
  },
  {
   "cell_type": "code",
   "execution_count": null,
   "metadata": {},
   "outputs": [],
   "source": [
    "df_os = pd.read_csv('data/os.csv')\n",
    "df = df.merge(df_os, how='left', on='operating_system_version')\n",
    "df['operating_system'].astype('category')\n",
    "sample = df[(df['operating_system_version'].notnull()) & (df['operating_system'].notnull())]\n",
    "sample[['operating_system_version', 'operating_system']].head()"
   ]
  },
  {
   "cell_type": "code",
   "execution_count": null,
   "metadata": {},
   "outputs": [],
   "source": [
    "df_browsers = pd.read_csv('data/browsers.csv')\n",
    "df = df.merge(df_browsers, how='left', on='browser_version')\n",
    "df['browser'].astype('category')\n",
    "sample = df[(df['browser_version'].notnull()) & (df['browser'].notnull())]\n",
    "sample[['browser_version','browser']].head()"
   ]
  },
  {
   "cell_type": "markdown",
   "metadata": {},
   "source": [
    "Extracción de información de las fechas."
   ]
  },
  {
   "cell_type": "code",
   "execution_count": null,
   "metadata": {},
   "outputs": [],
   "source": [
    "df['month_number'] = df.index.month\n",
    "df['month_name'] = df['month_number'].apply(lambda x: calendar.month_abbr[x])\n",
    "df['week_day'] = df.index.weekday\n",
    "df['week_day_name'] = df.index.weekday_name\n",
    "df['day_date'] = df.index.to_period('D')\n",
    "df['day_dom'] = df.index.day\n",
    "df['day_doy'] = df.index.dayofyear"
   ]
  },
  {
   "cell_type": "markdown",
   "metadata": {},
   "source": [
    "---\n",
    "## Análisis de eventos\n",
    "\n",
    "* ¿Qué evento es el mas frecuente?\n",
    "* ¿Están los eventos distribuidos uniformemente segun el día del mes?\n",
    "* ¿Están los eventos distribuidos uniformemente segun el día de la semana?\n",
    "* ¿En qué mes hubo mas visitas al sitio?"
   ]
  },
  {
   "cell_type": "code",
   "execution_count": null,
   "metadata": {},
   "outputs": [],
   "source": [
    "event = df['event']\n",
    "descripcion = pd.read_csv('data/events-desc.csv',index_col='event')\n",
    "descripcion['value_counts'] = event.value_counts()\n",
    "with pd.option_context('display.max_colwidth',0):\n",
    "    display(descripcion)"
   ]
  },
  {
   "cell_type": "code",
   "execution_count": null,
   "metadata": {},
   "outputs": [],
   "source": [
    "orden = event.value_counts().head(7).index\n",
    "visu = sns.countplot(x='event',data=df,order=orden)\n",
    "visu.axes.set_title('Frecuencia de eventos')\n",
    "visu.set_xlabel(\"Evento\")\n",
    "visu.set_ylabel(\"Cantidad\")\n",
    "\n",
    "plt.savefig('informe/figures/01-eventos-barplot.png')"
   ]
  },
  {
   "cell_type": "markdown",
   "metadata": {},
   "source": [
    "El evento con mas hits es el de ver un producto. Esto tiene sentido ya que trocafone es una plataforma de e-commerce y ver productos es su principal función como sitio. "
   ]
  },
  {
   "cell_type": "code",
   "execution_count": null,
   "metadata": {},
   "outputs": [],
   "source": [
    "data = df.pivot_table(index='day_dom',columns='month_number', values='event', aggfunc='count')\n",
    "data = ((data-data.min()) / (data.max() - data.min()))\n",
    "\n",
    "visu = sns.heatmap(data.T,  cmap=\"OrRd\")\n",
    "visu.set_title(\"Tráfico en sitio según mes y día\")\n",
    "visu.set_xlabel(\"Día\")\n",
    "visu.set_ylabel(\"Mes\")\n",
    "\n",
    "plt.savefig('informe/figures/02-eventos_segun_mes-heatmap.png')"
   ]
  },
  {
   "cell_type": "markdown",
   "metadata": {},
   "source": [
    "Como se puede ver, no hay relación directa entre dia del mes y mayores visitas al sitio. Se podría decir que la segunda quincena tiene más visitas que la primera, pero las magnitudes no son lo suficientemente distintas como para argumentar esto.\n",
    "\n",
    "Es importante que este gráfico este normalizado para poder encontrar patrones y no simplemente ver como el mes con más eventos es simplemente el mes con más eventos por día."
   ]
  },
  {
   "cell_type": "code",
   "execution_count": null,
   "metadata": {},
   "outputs": [],
   "source": [
    "data = df.pivot_table(index='week_day',columns='month_number', values='event', aggfunc='count')\n",
    "data.index = ['Monday', 'Tuesday', 'Wednesday', 'Thursday', 'Friday', 'Saturday', 'Sunday']\n",
    "data = ((data-data.min()) / (data.max() - data.min()))\n",
    "\n",
    "visu = sns.heatmap(data.T,  cmap=\"OrRd\")\n",
    "visu.set_title(\"Tráfico (normalizado) en sitio según mes y día de la semana\")\n",
    "visu.set_xlabel(\"Día de la semana\")\n",
    "visu.set_ylabel(\"Mes\")\n",
    "\n",
    "plt.savefig('informe/figures/03-eventos_segun_dow-heatmap.png')"
   ]
  },
  {
   "cell_type": "markdown",
   "metadata": {},
   "source": [
    "Se puede observar en el gráfico que los días de mayor tráfico son los días laborales mientras que el fin de semana los usuarios visitan notoriamente menos la página."
   ]
  },
  {
   "cell_type": "code",
   "execution_count": null,
   "metadata": {},
   "outputs": [],
   "source": [
    "month_name = ['Jan', 'Feb', 'Mar', 'Apr', 'May', 'Jun']\n",
    "month_counts = df.groupby('month_name').count()\n",
    "month_counts = month_counts.loc[month_name]\n",
    "visu = month_counts['event'].plot(kind='bar')\n",
    "visu.axes.set_title('Cantidad de visitas segun mes')\n",
    "visu.set_xlabel(\"Mes\")\n",
    "visu.set_ylabel(\"Cantidad\")\n",
    "\n",
    "plt.savefig('informe/figures/04-eventos_segun_mes-barplot.png')"
   ]
  },
  {
   "cell_type": "markdown",
   "metadata": {},
   "source": [
    "Como se puede ver, mayo y junio tienen considerablemente más visitas que el resto de los meses. Y esto es incluso teniendo en cuenta que en junio se registraron la mitad de los días (el último registro del set de datos es el 15 de junio).\n",
    "\n",
    "Esto nos lleva directamente a la próxima sección.\n",
    "\n",
    "### ¿Por que mayo y junio son los meses de mayor tráfico? ¿Eso implica una mayor cantidad de ventas?"
   ]
  },
  {
   "cell_type": "code",
   "execution_count": null,
   "metadata": {},
   "outputs": [],
   "source": [
    "df_top = df.loc[(df['month_name'] == 'May') | (df['month_name'] == 'Jun')]\n",
    "\n",
    "df_temporal = df_top[['event', 'day_dom']]\n",
    "df_temporal = df_temporal.loc[(df_temporal['event'] == 'conversion') | (df_temporal['event'] == 'checkout') | (df_temporal['event'] == 'viewed product')]\n",
    "df_temporal = df_temporal.groupby('day_dom')['event'].value_counts().unstack('event')\n",
    "\n",
    "visu = plt.plot(np.log(df_temporal))\n",
    "plt.legend(iter(visu), ('checkout', 'conversion', 'viewed_products'))\n",
    "#visu.set_title(\"Tráfico en sitio según mes y día\")\n",
    "#visu.set_xlabel(\"Día\")\n",
    "#visu.set_ylabel(\"Mes\")\n",
    "#plt.savefig('informe/figures/05-???-lineplot.png')"
   ]
  },
  {
   "cell_type": "markdown",
   "metadata": {},
   "source": [
    "TO DO:\n",
    "    - Pequeña conclusion\n",
    "    - Titulo, ejes"
   ]
  },
  {
   "cell_type": "markdown",
   "metadata": {},
   "source": [
    "---\n",
    "\n",
    "## Análisis geográfico\n",
    "\n",
    "* ¿Desde que países se accede más al sitio?\n",
    "* De esos paises, ¿desde que ciudades?"
   ]
  },
  {
   "cell_type": "code",
   "execution_count": null,
   "metadata": {},
   "outputs": [],
   "source": [
    "countries = df['country'].value_counts()\n",
    "countries = countries.drop('Unknown')\n",
    "data = countries.head(3)\n",
    "\n",
    "visu = squarify.plot(data, label=data.index, alpha=.5, color=['green','red','cyan'])\n",
    "visu.set_title('Países con más visitas')\n",
    "\n",
    "plt.savefig('informe/figures/06-paises_visitas-treemap.png')"
   ]
  },
  {
   "cell_type": "markdown",
   "metadata": {},
   "source": [
    "Al ser Trocafone una empresa que inicialmente radicó en Brasil y llegó a Argentina en 2016 era esperable que Brasil sea el país de mayor tráfico.\n",
    "\n",
    "Por la amplia diferencia, se separa a Brasil del gráfico y se analiza el tráfico en el resto de los países, para pdoer ver su diferencia en orden y magnitud."
   ]
  },
  {
   "cell_type": "code",
   "execution_count": null,
   "metadata": {},
   "outputs": [],
   "source": [
    "countries = df['country'].value_counts()\n",
    "countries = countries.drop('Unknown')\n",
    "countries = countries.drop('Brazil')\n",
    "data = countries.head(7)\n",
    "\n",
    "visu = squarify.plot(data, label=data.index, alpha=.5, color=['red','cyan','yellow','grey','purple','orange','blue'])\n",
    "visu.set_title('Países con más visitas, exceptuando Brazil')\n",
    "\n",
    "plt.savefig('informe/figures/07-paises_visitas_sin_brazil-treemap.png')"
   ]
  },
  {
   "cell_type": "markdown",
   "metadata": {},
   "source": [
    "TO DO:\n",
    "    - Analisis: Reflexionar por qué tanta gente de USA entra a Trocafone"
   ]
  },
  {
   "cell_type": "markdown",
   "metadata": {},
   "source": [
    "**Sacando las longitudes y latitudes de distintas ciudades del mundo, podemos ver que ciudades de los países con más trafico son las que más visitas tienen.** \n",
    "\n",
    "Con ayuda del módulo geopandas, podemos plotear directamente sobre un mapa.\n",
    "\n",
    "Las bases de datos adicionales fueron sacadas de http://www.geonames.org/."
   ]
  },
  {
   "cell_type": "code",
   "execution_count": null,
   "metadata": {},
   "outputs": [],
   "source": [
    "BR = pd.read_csv('data/BR.csv', low_memory=False, sep='\\t')\n",
    "BR = BR[['name','latitude','longitude']]\n",
    "\n",
    "# Para que geopandas pueda leer bien las latitudes y longitudes, deben ser de la clase Point\n",
    "BR['coordinates'] = list(zip(BR['longitude'],BR['latitude']))\n",
    "BR['coordinates'] = BR['coordinates'].apply(Point)\n",
    "BR.head()"
   ]
  },
  {
   "cell_type": "code",
   "execution_count": null,
   "metadata": {},
   "outputs": [],
   "source": [
    "# Se debe hacer un join de los datos que se tienen (nombre de ciudad, cantidad de eventos) y los datos de geonames (nombre de ciudad, punto en el mapa), y esto plotearlo sobre los datos de geopandas (nombre de pais, punto en el mapa mundial)\n",
    "\n",
    "# Se preparan los datos para el join (inner join de nombre de ciudad (columna name))\n",
    "ciudades_brazil = df.loc[(df['country'] == 'Brazil')]\n",
    "data = ciudades_brazil['city'].value_counts()\n",
    "data = data.drop('Unknown')\n",
    "data = data.to_frame()\n",
    "data.reset_index(inplace=True)\n",
    "data = data.rename(columns={'index':'name','city':'count'})\n",
    "\n",
    "# Se pasa de un dataframe normal de pandas a uno de geopandas\n",
    "BRA = gpd.GeoDataFrame(BR, geometry='coordinates')\n",
    "\n",
    "# Se hace el inner join de ambos sets. Siendo que geonames daba mucha más información de la necesaria, duplicando valores por ciudades, se borran los duplicados\n",
    "data = BRA.merge(data, on='name')\n",
    "data = data.drop_duplicates('name')\n",
    "\n",
    "# Se prepara el 'fondo' del gráfico, siendo este nomás el país. Para esto se usan los datos por defecto de geopandas\n",
    "world = gpd.read_file(gpd.datasets.get_path('naturalearth_lowres'))\n",
    "ax = world[world.name=='Brazil'].plot(color='white',edgecolor='black')\n",
    "\n",
    "visu = data.plot(ax=ax,cmap='OrRd', legend=True)\n",
    "visu.axes.set_title('Ciudades de Brazil con más visitas')\n",
    "\n",
    "plt.savefig('informe/figures/08-ciudades_brazil-choropleth.png')"
   ]
  },
  {
   "cell_type": "markdown",
   "metadata": {},
   "source": [
    "TO DO:\n",
    "    - Cloropeth de regiones\n",
    "    - Analisis"
   ]
  },
  {
   "cell_type": "markdown",
   "metadata": {},
   "source": [
    "---\n",
    "## Análisis de busquedas\n",
    "\n",
    "Para lo que respecta a busquedas, hay varias cosas para analizar y encontrar:\n",
    "\n",
    "1. La mas obvia, qué terminos ingresan los usuarios en el buscador? (columna search term)\n",
    "    * Esto nos da una visualización rápida de los gustos en crudo de los usuarios. Lo que antojan.\n",
    "1. Qué productos buscan específicamente, usando la interfaz? (evento searched product)\n",
    "    * Esta busqueda es un poco más refinada, permitiendonos saber específicamente los productos buscados, en vez de la crudeza de escribir cualquier termino que nos puede plantear el punto anterior.\n",
    "    \n",
    "Si bien tienen un objetivo en comun, difieren sustancialmente los analisis. En el primero se puede ver una vista rápida de marcas/modelos, mientras que en la segunda habrá una idea un poco mas profunda."
   ]
  },
  {
   "cell_type": "code",
   "execution_count": null,
   "metadata": {},
   "outputs": [],
   "source": [
    "# Buscamos las palabras más buscadas, con un mínimo de 300 busquedas\n",
    "\n",
    "search_terms = df['search_term'].dropna()\n",
    "search_terms = search_terms.apply(lambda x: x.lower())\n",
    "search_terms = search_terms.value_counts()\n",
    "search_terms = search_terms[search_terms >= 300]\n",
    "\n",
    "# Para que funcione correctamente el módulo de wordcloud, hay que juntar todas las palabras en el mismo texto.\n",
    "text = ''\n",
    "for w,q in zip(search_terms.index,search_terms):\n",
    "    text += ' '.join([w for x in range(q)])\n",
    "\n",
    "text = ' '.join([s for s in text.split() if len(s)>2])    \n",
    "\n",
    "wordcloud = WordCloud(width=2000, height=800, margin=0,collocations=False).generate(text)\n",
    " \n",
    "plt.imshow(wordcloud, interpolation='bilinear')\n",
    "plt.axis(\"off\")\n",
    "plt.margins(x=0, y=0)\n",
    "plt.show()\n",
    "\n",
    "plt.savefig('informe/figures/09-search_terms-wordcloud.png')"
   ]
  },
  {
   "cell_type": "markdown",
   "metadata": {},
   "source": [
    "Se puede ver que los términos más buscados estan relacionados a las marcas de Motorola, Apple y Samsung."
   ]
  },
  {
   "cell_type": "code",
   "execution_count": null,
   "metadata": {},
   "outputs": [],
   "source": [
    "# Sabemos que el evento searched products refiere a varios SKUs. Spearemos y busquemos especificamente cuales son los más buscados.\n",
    "searched = df[df['event']=='searched products']\n",
    "skus_codiciados = searched['skus'].str.split(',').to_frame()\n",
    "skus_codiciados = skus_codiciados['skus'].apply(pd.Series).unstack().reset_index()\n",
    "skus_codiciados = skus_codiciados[['timestamp',0]]\n",
    "skus_codiciados.rename(columns={0: 'sku'}, inplace=True)\n",
    "skus_codiciados.sample(5)"
   ]
  },
  {
   "cell_type": "code",
   "execution_count": null,
   "metadata": {},
   "outputs": [],
   "source": [
    "top_5 = skus_codiciados['sku'].value_counts().head(5)\n",
    "visu = top_5.plot(kind='bar', title =\"5 productos más buscados por interfaz\")\n",
    "visu.set_xlabel(\"SKU\")\n",
    "visu.set_ylabel(\"Busquedas\")\n",
    "plt.show()\n",
    "\n",
    "plt.savefig('informe/figures/10-skus_buscados-barplot.png')"
   ]
  },
  {
   "cell_type": "markdown",
   "metadata": {},
   "source": [
    "TO DO:\n",
    "    - Agregar entre parentesis el nombre del modelo ademas del sku"
   ]
  },
  {
   "cell_type": "markdown",
   "metadata": {},
   "source": [
    "## Análisis de modelos\n",
    "\n",
    "Queremos encontrar algun patrón de visita y compra desde el punto de vista del dispositivo y luego ver si en esos patrones hay diferencias según marca o modelo"
   ]
  },
  {
   "cell_type": "code",
   "execution_count": null,
   "metadata": {},
   "outputs": [],
   "source": [
    "# Qué eventos tenemos asociados a un modelo?\n",
    "cronologia = df.loc[df['model'].notnull(), ['model', 'event','condition']]\n",
    "cronologia['event'].value_counts()"
   ]
  },
  {
   "cell_type": "markdown",
   "metadata": {},
   "source": [
    "Tomamos como cronología de eventos sobre un modelo:\n",
    "    1. Visitarlo (`viewed product`)\n",
    "    1. Mandar a comprarlo (`checkout`)\n",
    "    1. Efectivamente comprarlo (`conversion`)"
   ]
  },
  {
   "cell_type": "code",
   "execution_count": null,
   "metadata": {},
   "outputs": [],
   "source": [
    "# Se descartan los eventos 'lead' porque no influyen en el análisis\n",
    "cronologia = cronologia.loc[cronologia['event'] != 'lead'] \n",
    "\n",
    "# Comparemos los modelos por los cuales más se opera segun el evento\n",
    "vistos = cronologia.loc[cronologia['event']=='viewed product']['model'].value_counts().head()\n",
    "checkouts = cronologia.loc[cronologia['event']=='checkout']['model'].value_counts().head()\n",
    "comprados = cronologia.loc[cronologia['event']=='conversion']['model'].value_counts().head()\n",
    "\n",
    "print(\"Más vistas\") ; display(vistos)\n",
    "print(\"Más checkouts\") ; display(checkouts)\n",
    "print(\"Más compras\") ; display(comprados)"
   ]
  },
  {
   "cell_type": "code",
   "execution_count": null,
   "metadata": {},
   "outputs": [],
   "source": [
    "# Definimos un set de X modelos como los más prominentes, haciendo una combinación de los 7 más vistos, los 5 más por comprar  y los 5 más comprados\n",
    "modelos_prominentes = set(vistos.index)\n",
    "modelos_prominentes.update(checkouts.index)\n",
    "modelos_prominentes.update(comprados.index)\n",
    "\n",
    "eventos = cronologia.groupby('model')['event'].value_counts().unstack('event') \n",
    "eventos = eventos[['viewed product', 'checkout', 'conversion']]\n",
    "eventos = eventos.loc[eventos.index.isin(modelos_prominentes)]\n",
    "eventos"
   ]
  },
  {
   "cell_type": "code",
   "execution_count": null,
   "metadata": {},
   "outputs": [],
   "source": [
    "# Paso a porcentajes las columnas\n",
    "eventos['total'] = eventos.sum(axis=1)\n",
    "for c in eventos:\n",
    "    eventos[c+'%'] = ( eventos[c] / eventos['total'] ) * 100\n",
    "\n",
    "vistos = eventos['viewed product%']\n",
    "checkouts = eventos['checkout%']\n",
    "comprados = eventos['conversion%']\n",
    "\n",
    "plt.bar(vistos.index, vistos, color=sns.xkcd_rgb[\"muted blue\"],log=True)\n",
    "plt.bar(checkouts.index, checkouts, bottom=vistos, color=sns.xkcd_rgb[\"muted green\"],log=True)\n",
    "plt.bar(comprados.index, comprados, bottom=vistos+checkouts, color=sns.xkcd_rgb[\"muted pink\"],log=True)\n",
    "plt.legend(['viewed product','checkout', 'conversion'])\n",
    "plt.ylabel('Cantidad de eventos')\n",
    "plt.xlabel('Modelos de celular')\n",
    "plt.title('Cantidad de eventos en función de modelo de celular (escala logarítmica)')\n",
    "plt.show()\n",
    "plt.savefig('informe/figures/11-modelos_eventos-stackedbarplot.png')"
   ]
  },
  {
   "cell_type": "code",
   "execution_count": null,
   "metadata": {},
   "outputs": [],
   "source": [
    "for c in eventos[['viewed product','checkout','conversion']]:\n",
    "    eventos[c+' ranking'] = eventos[c].rank('index',ascending=False)\n",
    "\n",
    "rankings = (eventos.filter(regex='ranking')).T\n",
    "orden = (eventos.sort_values('viewed product ranking', ascending=True)).index\n",
    "orden = [None] +[(str(i+1) + ' - ' + x) for i,x in enumerate(orden)]\n",
    "\n",
    "fig, ax = plt.subplots()\n",
    "ax.plot(rankings)\n",
    "fig.gca().invert_yaxis()\n",
    "plt.ylabel('Modelo')\n",
    "plt.xlabel('Evento')\n",
    "plt.title('Rankings de modelos para distintos eventos')\n",
    "ax.set_yticklabels(orden)\n",
    "\n",
    "plt.savefig('informe/figures/12-rankings_celulares-rank.png')"
   ]
  },
  {
   "cell_type": "markdown",
   "metadata": {},
   "source": [
    "Es interesante ver como los celulares Samsung tienden a tener el comportamiento inverso al de los celulares Apple. Los Samsung son menos buscados pero más comprados mientras que los Apple son muy buscados pero poco comprados (¿será por 'espantarse' al ver el precio?)."
   ]
  },
  {
   "cell_type": "markdown",
   "metadata": {},
   "source": [
    "Buscamos ahora alguna diferencia en compras de celulares re-acondicionados segun la condición de estos."
   ]
  },
  {
   "cell_type": "code",
   "execution_count": null,
   "metadata": {},
   "outputs": [],
   "source": [
    "condiciones_analizadas = ['Bom', 'Muito Bom', 'Excelente']\n",
    "\n",
    "condicion = cronologia.groupby('model')['condition'].value_counts().unstack('condition')\n",
    "condicion = condicion[condiciones_analizadas]\n",
    "condicion = condicion.loc[condicion.index.isin(modelos_prominentes)]\n",
    "\n",
    "condicion['total'] = condicion.sum(axis=1)\n",
    "for c in condicion:\n",
    "    condicion[c] = ( condicion[c] / condicion['total'] ) * 100\n",
    "\n",
    "bom = condicion['Bom']\n",
    "muito_bom = condicion['Muito Bom']\n",
    "excelente = condicion['Excelente']\n",
    "\n",
    "plt.bar(bom.index, bom, color=sns.xkcd_rgb[\"muted blue\"],log=True)\n",
    "plt.bar(muito_bom.index, muito_bom, bottom=bom, color=sns.xkcd_rgb[\"muted green\"],log=True)\n",
    "plt.bar(excelente.index, excelente, bottom=bom+muito_bom, color=sns.xkcd_rgb[\"muted pink\"],log=True)\n",
    "plt.legend(condiciones_analizadas)\n",
    "plt.ylabel('Cantidad')\n",
    "plt.xlabel('Modelo')\n",
    "plt.title('Cantidad de vistas y compras segun condición de modelo')\n",
    "ax.set_yticklabels(orden)\n",
    "\n",
    "\n",
    "plt.savefig('informe/figures/13-condicion-stackedbarplot.png')"
   ]
  },
  {
   "cell_type": "markdown",
   "metadata": {},
   "source": [
    "Vemos como nuevamente hay una diferencia substancial entre celulares marca Apple y celulares marca Samsung. Para los Samsungs, los usuarios estan más dispuestos a ver o comprar celulares en peor condición, mientras que para los Apple lo que más se buscan son celulares en mejor condición."
   ]
  },
  {
   "cell_type": "code",
   "execution_count": null,
   "metadata": {},
   "outputs": [],
   "source": []
  },
  {
   "cell_type": "markdown",
   "metadata": {},
   "source": [
    "## Análisis de páginas estáticas"
   ]
  },
  {
   "cell_type": "code",
   "execution_count": null,
   "metadata": {},
   "outputs": [],
   "source": [
    "df['staticpage'].value_counts()"
   ]
  },
  {
   "cell_type": "markdown",
   "metadata": {},
   "source": [
    "Podemos ver que la cantidad de visitas a **Customer Service** es mucho mayor a la página de **FAQ**. Para optimizar recursos sería más eficiente intentar de redireccionar el tráfico a FAQ, haciendo más visible los links a la página y de ser necesario mejorándola."
   ]
  },
  {
   "cell_type": "code",
   "execution_count": null,
   "metadata": {},
   "outputs": [],
   "source": [
    "faq_and_service = df[(df['staticpage'] == 'CustomerService') | (df['staticpage'] == 'FaqEcommerce')]['staticpage']\n",
    "visu = sns.countplot(faq_and_service)\n",
    "visu.set(xlabel='Page', ylabel='Visits')\n",
    "visu.axes.set_title('Cantidad de eventos según staticpage')"
   ]
  },
  {
   "cell_type": "markdown",
   "metadata": {},
   "source": [
    "## Análisis de New vs Returning"
   ]
  },
  {
   "cell_type": "markdown",
   "metadata": {},
   "source": [
    "La intención de este  análisis es mostrar que cantidad de usuarios solo ingresan una vez al site.\n",
    "El primer gráfico no nos aporta información, porque todos los usuarios que volvieron a ingresar, en su primera vez fueron **New**."
   ]
  },
  {
   "cell_type": "code",
   "execution_count": null,
   "metadata": {},
   "outputs": [],
   "source": [
    "order = df['new_vs_returning'].value_counts().index\n",
    "visu = sns.countplot(df['new_vs_returning'].dropna(), order=order)\n",
    "visu.set(xlabel='Tipo de usario', ylabel='Visitas al home')\n",
    "visu.axes.set_title('Cantidad de eventos según marca')"
   ]
  },
  {
   "cell_type": "markdown",
   "metadata": {},
   "source": [
    "En este gráfico sí se puede apreciar los valores reales de usuarios que regresan con los que sólo entraron una vez.\n",
    "Para aumentar la tasa de personas que regresan a ĺa página proponemos aumentar el presupuesto en publicidad y mejorar la experiencia de usuario de la home para que provea al usuario una experiencia más amena."
   ]
  },
  {
   "cell_type": "code",
   "execution_count": null,
   "metadata": {},
   "outputs": [],
   "source": [
    "gb = df.groupby(['person', 'new_vs_returning']).agg({'new_vs_returning' : 'size'})\n",
    "gb = gb.unstack(level='new_vs_returning')\n",
    "gb = gb['new_vs_returning']\n",
    "returners_count = gb['Returning'].count()\n",
    "only_once_count = gb['New'].count() - returners_count\n",
    "\n",
    "objects = ('Regresan', 'Sólo una vez')\n",
    "y_pos = np.arange(len(objects))\n",
    "type_users_count = pd.Series([returners_count, only_once_count])\n",
    " \n",
    "plt.bar(y_pos, type_users_count, align='center', alpha=0.5)\n",
    "plt.xticks(y_pos, objects)\n",
    "plt.ylabel('Cantidad')\n",
    "plt.title('Tipos de usuarios')\n",
    " \n",
    "plt.show()"
   ]
  },
  {
   "cell_type": "markdown",
   "metadata": {},
   "source": [
    "## Análisis de Brands"
   ]
  },
  {
   "cell_type": "code",
   "execution_count": null,
   "metadata": {},
   "outputs": [],
   "source": [
    "order = df['brand'].value_counts().index\n",
    "visu = sns.countplot(df['brand'].dropna(), order=order)\n",
    "visu.axes.set_title('Cantidad de eventos segun marca')\n",
    "visu.axes.set_xlabel('Cantidad', fontsize=28);\n",
    "visu.axes.set_ylabel('Marca', fontsize=28);\n",
    "sns.set(font_scale=2)"
   ]
  },
  {
   "cell_type": "code",
   "execution_count": null,
   "metadata": {},
   "outputs": [],
   "source": [
    "df_conv_by_brand = df.loc[(df['event'] == 'conversion') | (df['event'] == 'checkout')][['event', 'brand']]\n",
    "# Es necesario para que no me muestre las otras categorías que ya fueron filtradas\n",
    "df_conv_by_brand['event'] = df_conv_by_brand['event'].astype('object').astype('category')\n",
    "ax = sns.countplot(x='brand', hue='event', data=df_conv_by_brand)\n",
    "ax.set_yscale('log')\n",
    "\n",
    "ax.legend(loc='upper left', fontsize=20,bbox_to_anchor=(0, 1.1))\n",
    "ax.set_xlabel('Cantidad (log)', fontsize=28);\n",
    "ax.set_ylabel('Marca', fontsize=28);\n",
    "ax.set_title('Relación de conversiones en escala logarítmica', fontsize=28);\n",
    "sns.set(font_scale=3)"
   ]
  },
  {
   "cell_type": "markdown",
   "metadata": {},
   "source": [
    "## Análisis de tipos de dispositivos"
   ]
  },
  {
   "cell_type": "markdown",
   "metadata": {},
   "source": [
    "Cómo la mayoría del tráfico proviene de smartphones y computadoras, debería dedicarse una mayor cantidad de recursos a desarrollar la aplicación para estos dispositivos y no dedicar mucho tiempo y desarrolladores a las aplicaciones para tablets."
   ]
  },
  {
   "cell_type": "code",
   "execution_count": null,
   "metadata": {},
   "outputs": [],
   "source": [
    "order = df['device_type'].value_counts().index\n",
    "visu = sns.countplot(df['device_type'].dropna(), order=order)\n",
    "visu.set(xlabel='Device Type', ylabel='Visits')\n",
    "visu.axes.set_title('Cantidad de eventos segun tipo de dispositivo')"
   ]
  },
  {
   "cell_type": "markdown",
   "metadata": {},
   "source": [
    "## ¿Aumentó Trocafone el presupuesto en publicidad en algún período específico?"
   ]
  },
  {
   "cell_type": "code",
   "execution_count": null,
   "metadata": {},
   "outputs": [],
   "source": [
    "publicitados = df.loc[df['campaign_source'].notnull(), ['campaign_source','month']] #(df['event']).isnull().sum() = 0\n",
    "\n",
    "publicitados['month'] = publicitados['month'].apply(lambda x: calendar.month_abbr[x])\n",
    "month_counts = publicitados.groupby('month').count()\n",
    "month_counts = month_counts.loc[month_name]\n",
    "month_counts = month_counts['campaign_source']\n",
    "plt.bar(month_counts.index, month_counts, color=sns.xkcd_rgb[\"muted green\"])\n",
    "plt.title('Cantidad de visitas por mes por una publicidad')"
   ]
  },
  {
   "cell_type": "markdown",
   "metadata": {},
   "source": [
    "No se halló la respuesta buscada ya que la distribución presentada de la cantidad de visitas de campaign_hit remite a la misma distribución de eventos por usuario. Mayo es el mes que notoriamente tiene una mayor cantidad de eventos generalmente pero también de campaign_hits. Por lo tanto concluimos que el gráfico es irrelevante para este tipo de análisis."
   ]
  },
  {
   "cell_type": "markdown",
   "metadata": {},
   "source": [
    "## ¿Cuáles son los métodos de publicidad más usados?"
   ]
  },
  {
   "cell_type": "code",
   "execution_count": null,
   "metadata": {},
   "outputs": [],
   "source": [
    "ranking = df['campaign_source'].value_counts()\n",
    "ranking_visu = ranking.head(5)\n",
    "\n",
    "visu = squarify.plot(ranking_visu, label=ranking_visu.index, alpha=.5, color=['red','cyan','yellow','grey','purple','orange','blue'])\n",
    "visu.axes.set_title('5 metodos de publicidad más clikeados')"
   ]
  },
  {
   "cell_type": "markdown",
   "metadata": {},
   "source": [
    "Por su importancia mundial era esperable que Google sea el método de publicidad con más alcance. Se procede a analizar los otros motores de b"
   ]
  },
  {
   "cell_type": "code",
   "execution_count": null,
   "metadata": {},
   "outputs": [],
   "source": [
    "ranking = ranking.drop('google')\n",
    "ranking_visu2 = ranking.head(10)\n",
    "\n",
    "ranking_visu2\n",
    "visu = squarify.plot(ranking_visu2, label=ranking.index, alpha=.5, color=['red','cyan','yellow','grey','purple','orange','blue'])\n",
    "visu.axes.set_title('10 metodos de publicidad más clikeados sin Google')"
   ]
  },
  {
   "cell_type": "markdown",
   "metadata": {},
   "source": [
    "## ¿Cuál es la distribución de la cantidad de eventos producidos por usuario en función de los eventos?"
   ]
  },
  {
   "cell_type": "code",
   "execution_count": null,
   "metadata": {},
   "outputs": [],
   "source": [
    "usuarios = df.groupby(['person', 'event'])\n",
    "usuarios = usuarios.size().unstack(level = 'event')\n",
    "usuarios = usuarios.fillna(usuarios.mean())\n",
    "p = sns.boxplot(data=usuarios)\n",
    "sns.set(font_scale=1.5)"
   ]
  },
  {
   "cell_type": "markdown",
   "metadata": {},
   "source": [
    "Como se puede observar el gráfico no es ilustrativo de la respuesta que se desea obtener. Por lo tanto, se propone truncar la éscala del eje y a un valor en el cual se puedan observar las figuras de manera apropiada y representativa."
   ]
  },
  {
   "cell_type": "code",
   "execution_count": null,
   "metadata": {},
   "outputs": [],
   "source": [
    "usuarios = df.groupby(['person', 'event'])\n",
    "usuarios = usuarios.size().unstack(level = 'event')\n",
    "usuarios = usuarios.fillna(usuarios.mean())\n",
    "p = sns.boxplot(data=usuarios)\n",
    "p.axes.set_ylim((0,25))\n"
   ]
  },
  {
   "cell_type": "markdown",
   "metadata": {},
   "source": [
    "Se propone analizar la cantidad de eventos producidos por usuario en un gráfico de tipo boxplot. Se puede observar que los usuarios suelen más comúnmente ver los productos antes que comprarlos, algo que podía predecirse anteriormente. Lo que puede resultar llamativo es que la cantidad de usuarios que ven productos es mayor a los que los buscan, pero esto se puede explicar por el hecho de que en una búsqueda pueden verse varios productos a la vez y eso cuenta como un solo evento. En cambio, ante el evento viewed products al ver un producto se contabiliza como un solo evento."
   ]
  },
  {
   "cell_type": "code",
   "execution_count": null,
   "metadata": {},
   "outputs": [],
   "source": [
    "df['color'].unique()"
   ]
  },
  {
   "cell_type": "code",
   "execution_count": null,
   "metadata": {},
   "outputs": [],
   "source": [
    "df.columns"
   ]
  },
  {
   "cell_type": "code",
   "execution_count": null,
   "metadata": {},
   "outputs": [],
   "source": [
    "df['operating_system_version'].unique()"
   ]
  },
  {
   "cell_type": "markdown",
   "metadata": {},
   "source": [
    "---\n",
    "---\n",
    "\n",
    "# TO DO \n",
    "\n",
    "Buenos robos:\n",
    "- https://jilt.com/blog/ecommerce-metrics/\n",
    "- https://python-graph-gallery.com/\n",
    "- https://github.com/kevinspasiuk/orgaDatos/blob/master/General.ipynb -> Reloj / Postulaciones y vistas a lo largo del tiempo\n",
    "- https://github.com/GastonMontes/75.06-Datos-TP1/blob/master/Notebooks/Junto.ipynb -> Sabe analizar\n",
    "- Apunte cap 2 tiene muy buenos analisis\n",
    "- https://github.com/lrargerich/7506/blob/master/Notebooks/Analisis%20Exploratorio/Movies%20from%20IMDB.ipynb\n",
    "- https://github.com/lrargerich/7506/blob/master/Notebooks/Analisis%20Exploratorio/MovieLens.ipynb\n",
    "- https://github.com/lrargerich/7506/blob/master/Notebooks/Analisis%20Exploratorio/Airplane%20Crashes.ipynb\n",
    "- https://github.com/lrargerich/7506/blob/master/Notebooks/Analisis%20Exploratorio/Universities%20-%20Times%20ranking.ipynb\n",
    "- https://github.com/idontdomath/datos-exploratory-data-analysis/blob/master/2018-02/02-kickstarter-projects.ipynb\n",
    "\n",
    "---\n",
    "- [X] ¿Pudieron descubrir features en el campo ‘model’? ¿Cuales fueron?\n",
    "- [ ] ¿Identificaron patrones o funnels de usuarios que realizan checkouts/conversiones en Trocafone? \n",
    "    - [ ] ¿Se comportan de forma distinta dependiendo del tipo de dispositivo desde el cual acceden?\n",
    "    - [ ] ¿Se comportan de forma distinta dependiendo del tipo de fuente de tráfico al que pertenecen?\n",
    "- [X] ¿Realizaron algún análisis sobre búsquedas que realizan los usuarios y las keywords que utilizan apoyándose en algún tipo de visualización?\n",
    "- [X] ¿Realizaron algún análisis de lugar donde se originan las visitas de los usuarios de Trocafone (a nivel país, regiones más importantes o ciudades más importantes) apoyándose en algún tipo de visualización?\n",
    "- [ ] ¿Pudieron descubrir features jerarquizando información de alguno de los campos (por ejemplo “screen_resolution”)?\n",
    "\n",
    "---\n",
    "- [X] Boxplot\n",
    "- [ ] Violin\n",
    "- [X] Stacked bar\n",
    "- [ ] Histograma\n",
    "- [ ] Scatter plot\n",
    "- [X] Radar chart\n",
    "- [X] Visualicemos los modelos más prominentes por ranking\n",
    "- [X] Trafico y compras en mismo grafico de lineas que no se como se llama y es igual (lineal?)\n",
    "- [ ] Treemap barchart por meses y compras en cada mes. Normalizar el mes de junio!!\n",
    "- [ ] Grafico de rankings de celular mas viewed pasados los meses\n",
    "- [ ] Conversiones vs Checkouts \n",
    "- [ ] Analisis de mayo. Por que hay tantos datos?\n",
    "- [X] Comparacion entre conversiones, checkouts y viewed products. \n",
    "- [ ] Agregar barplot de regiones antes del mapa b?razuca\n",
    "---\n",
    "- [ ] ¿Tienen todos los ejes su rótulo?\n",
    "- [ ] ¿Tiene cada visualización un título?\n",
    "- [ ] ¿Es entendible la visualización sin tener que leer la explicación?\n",
    "- [ ] ¿El uso del color es adecuado?\n",
    "- [ ] ¿Hay un exceso o falta de elementos visuales en la visualización elegida?\n",
    "- [ ] ¿Presenta el grupo un listado de \"insights\" aprendidos sobre los datos en base al análisis realizado? ¿Es interesante?"
   ]
  }
 ],
 "metadata": {
  "kernelspec": {
   "display_name": "Python 3",
   "language": "python",
   "name": "python3"
  },
  "language_info": {
   "codemirror_mode": {
    "name": "ipython",
    "version": 3
   },
   "file_extension": ".py",
   "mimetype": "text/x-python",
   "name": "python",
   "nbconvert_exporter": "python",
   "pygments_lexer": "ipython3",
   "version": "3.6.6"
  }
 },
 "nbformat": 4,
 "nbformat_minor": 2
}
