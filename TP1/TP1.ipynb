{
 "cells": [
  {
   "cell_type": "markdown",
   "metadata": {},
   "source": [
    "# 75.06 / 95.58 Organización de Datos\n",
    "# Trabajo Práctico 1\n",
    "\n",
    "### Grupo 30: Datatouille\n",
    "\n",
    "- 101055 - Bojman, Camila\n",
    "- 100029 - del Mazo, Federico\n",
    "- 100687 - Hortas, Cecilia\n",
    "- 97649 - Souto, Rodrigo\n",
    "\n",
    "> https://github.com/fdelmazo/7506-datos"
   ]
  },
  {
   "cell_type": "code",
   "execution_count": null,
   "metadata": {},
   "outputs": [],
   "source": [
    "# Set-Up inicial\n",
    "\n",
    "import pandas as pd\n",
    "import numpy as np\n",
    "import matplotlib.pyplot as plt\n",
    "import seaborn as sns\n",
    "import squarify # https://github.com/laserson/squarify ( pip install squarify )\n",
    "import geopandas as gpd # http://geopandas.org/install.html ( conda install -c conda-forge geopandas o pip install geopandas )\n",
    "from shapely.geometry import Point\n",
    "from wordcloud import WordCloud # pip install wordcloud\n",
    "from time import strptime\n",
    "import calendar\n",
    "\n",
    "df = pd.read_csv('events.csv', low_memory=False, index_col='timestamp')"
   ]
  },
  {
   "cell_type": "code",
   "execution_count": null,
   "metadata": {},
   "outputs": [],
   "source": [
    "sns.set(style=\"darkgrid\")\n",
    "plt.rcParams['axes.titlesize'] = 16\n",
    "plt.rcParams['axes.labelsize'] = 12\n",
    "plt.rcParams['axes.labelweight'] = 'bold'\n",
    "plt.rcParams['figure.figsize'] = (15,5)"
   ]
  },
  {
   "cell_type": "markdown",
   "metadata": {},
   "source": [
    "## Información general del dataset"
   ]
  },
  {
   "cell_type": "code",
   "execution_count": null,
   "metadata": {},
   "outputs": [],
   "source": [
    "with pd.option_context('display.max_column',0):\n",
    "    display(df.sample(n=5))"
   ]
  },
  {
   "cell_type": "code",
   "execution_count": null,
   "metadata": {},
   "outputs": [],
   "source": [
    "print('{} atributos y {} registros en el dataframe.\\n'.format(df.shape[1],df.shape[0]))\n",
    "print('Primer registro: {} \\nÚltimo registro: {}.'.format(df.index.min(),df.index.max()))"
   ]
  },
  {
   "cell_type": "code",
   "execution_count": null,
   "metadata": {},
   "outputs": [],
   "source": [
    "bytes_used = df.memory_usage().sum()\n",
    "df.info()"
   ]
  },
  {
   "cell_type": "code",
   "execution_count": null,
   "metadata": {},
   "outputs": [],
   "source": [
    "with pd.option_context('display.max_colwidth',-1):\n",
    "    display(pd.read_csv('columns-desc.csv',index_col='column'))"
   ]
  },
  {
   "cell_type": "code",
   "execution_count": null,
   "metadata": {},
   "outputs": [],
   "source": [
    "df.describe().T"
   ]
  },
  {
   "cell_type": "code",
   "execution_count": null,
   "metadata": {},
   "outputs": [],
   "source": [
    "df.isnull().sum()"
   ]
  },
  {
   "cell_type": "code",
   "execution_count": null,
   "metadata": {},
   "outputs": [],
   "source": [
    "df.dtypes"
   ]
  },
  {
   "cell_type": "markdown",
   "metadata": {},
   "source": [
    "---\n",
    "#### Pasado el vistazo general a los datos, se pueden transformar datos en sus tipos correspondientes para mejor manejo de estos y para ahorro de memoria"
   ]
  },
  {
   "cell_type": "code",
   "execution_count": null,
   "metadata": {},
   "outputs": [],
   "source": [
    "# Los atributos con pocos valores posibles se pasan a variables categoricas para ahorrar memoria\n",
    "df['event'] = df['event'].astype('category')\n",
    "df['condition'] = df['condition'].astype('category')\n",
    "df['storage'] = df['storage'].astype('category')\n",
    "df['search_engine'] = df['search_engine'].astype('category')\n",
    "df['channel'] = df['channel'].astype('category')\n",
    "df['device_type'] = df['device_type'].astype('category')\n",
    "\n",
    "# El tiempo es mejor manejarlo como tal\n",
    "df.index = pd.to_datetime(df.index)\n",
    "\n",
    "# Teniendo solamente dos valores posibles para el tipo de usuario, y priorizando los nuevos, se transforma a una variable booleana\n",
    "df['new_user'] = df['new_vs_returning'].map(lambda x: True if x == 'New' else False)\n",
    "df['new_user'] = df['new_user'].astype('bool')"
   ]
  },
  {
   "cell_type": "code",
   "execution_count": null,
   "metadata": {},
   "outputs": [],
   "source": [
    "# Chequeo\n",
    "df.info()\n",
    "\n",
    "ahorro = (bytes_used - df.memory_usage().sum()) /1000000\n",
    "print(\"Memoria ahorrada: {:.4f}MB\".format(ahorro))"
   ]
  },
  {
   "cell_type": "markdown",
   "metadata": {},
   "source": [
    "---\n",
    "## Información de eventos"
   ]
  },
  {
   "cell_type": "code",
   "execution_count": null,
   "metadata": {},
   "outputs": [],
   "source": [
    "event = df['event']\n",
    "event.describe()"
   ]
  },
  {
   "cell_type": "code",
   "execution_count": null,
   "metadata": {},
   "outputs": [],
   "source": [
    "with pd.option_context('display.max_colwidth',0):\n",
    "    display(pd.read_csv('events-desc.csv',index_col='event'))"
   ]
  },
  {
   "cell_type": "code",
   "execution_count": null,
   "metadata": {},
   "outputs": [],
   "source": [
    "#data = event.value_counts().head(7)\n",
    "#ax = sns.barplot(x=data.index,y=data)\n",
    "#ax.set(xlabel='Count',ylabel='Evento')\n",
    "\n",
    "# Mismo grafico, de otra forma (tarda más tiempo (escribir %%time al comienzo de la celda))\n",
    "orden = event.value_counts().head(7).index\n",
    "visu = sns.countplot(x='event',data=df,order=orden)\n",
    "visu.axes.set_title('Cantidad de visitas segun evento')"
   ]
  },
  {
   "cell_type": "markdown",
   "metadata": {},
   "source": [
    "---\n",
    "## Información geográfica"
   ]
  },
  {
   "cell_type": "code",
   "execution_count": null,
   "metadata": {},
   "outputs": [],
   "source": [
    "countries = df['country'].value_counts()\n",
    "countries = countries.drop('Unknown')\n",
    "data = countries.head(3)\n",
    "\n",
    "visu = squarify.plot(data, label=data.index, alpha=.5, color=['green','red','cyan'])\n",
    "visu.axes.set_title('Países con más visitas')"
   ]
  },
  {
   "cell_type": "code",
   "execution_count": null,
   "metadata": {},
   "outputs": [],
   "source": [
    "# Siempre supimos (asumimos) que Brazil sería el país con mayor tráfico. \n",
    "# Este dato no nos deja ver la proporción del resto de los países\n",
    "countries = df['country'].value_counts()\n",
    "countries = countries.drop('Unknown')\n",
    "countries = countries.drop('Brazil')\n",
    "data = countries.head(7)\n",
    "\n",
    "visu = squarify.plot(data, label=data.index, alpha=.5, color=['red','cyan','yellow','grey','purple','orange','blue'])\n",
    "visu.axes.set_title('Países con más visitas, exceptuando Brazil')"
   ]
  },
  {
   "cell_type": "markdown",
   "metadata": {},
   "source": [
    "### Sacando las longitudes y latitudes de distintas ciudades del mundo, podemos ver que zonas de los 4 países con más trafico son las que más visitas tienen. \n",
    "\n",
    "Con ayuda del módulo geopandas, podemos plotear directamente sobre un mapa\n",
    "Las bases de datos adicionales fueron sacadas de http://www.geonames.org/"
   ]
  },
  {
   "cell_type": "code",
   "execution_count": null,
   "metadata": {},
   "outputs": [],
   "source": [
    "BR = pd.read_csv('BR.csv', low_memory=False, sep='\\t')\n",
    "BR = BR[['name','latitude','longitude']]\n",
    "\n",
    "# Para que geopandas pueda leer bien las latitudes y longitudes, deben ser pasadas al tipo Point\n",
    "BR['coordinates'] = list(zip(BR['longitude'],BR['latitude']))\n",
    "BR['coordinates'] = BR['coordinates'].apply(Point)\n",
    "BR.head()"
   ]
  },
  {
   "cell_type": "code",
   "execution_count": null,
   "metadata": {},
   "outputs": [],
   "source": [
    "# Se debe hacer un join de los datos que se tienen (nombre de ciudad, cantidad de eventos) y los datos de geonames (nombre de ciudad, punto en el mapa), y esto plotearlo sobre los datos de geopandas (nombre de pais, punto en el mapa mundial)\n",
    "\n",
    "# Se preparan los datos para el join (inner join de nombre de ciudad (columna name))\n",
    "ciudades_brazil = df.loc[(df['country'] == 'Brazil')]\n",
    "data = ciudades_brazil['city'].value_counts()\n",
    "data = data.drop('Unknown')\n",
    "data = data.to_frame()\n",
    "data.reset_index(inplace=True)\n",
    "data = data.rename(columns={'index':'name','city':'count'})\n",
    "\n",
    "# Se pasa de un dataframe normal de pandas a uno de geopandas\n",
    "BRA = gpd.GeoDataFrame(BR, geometry='coordinates')\n",
    "\n",
    "# Se hace el join (en geopandas: merge) de ambos sets. Siendo que geonames daba mucha más información de la necesaria, duplicando valores por ciudades, se borran los duplicados\n",
    "data = BRA.merge(data, on='name')\n",
    "data = data.drop_duplicates('name')\n",
    "\n",
    "# Se prepara el 'fondo' del gráfico, siendo este nomás el país. Para esto se usan los datos por defecto de geopandas\n",
    "world = gpd.read_file(gpd.datasets.get_path('naturalearth_lowres'))\n",
    "ax = world[world.name=='Brazil'].plot(color='white',edgecolor='black')\n",
    "\n",
    "visu = data.plot(ax=ax,cmap='OrRd')\n",
    "visu.axes.set_title('Ciudades de Brazil con más visitas')"
   ]
  },
  {
   "cell_type": "code",
   "execution_count": null,
   "metadata": {},
   "outputs": [],
   "source": [
    "ciudades_argentina = df.loc[(df['country'] == 'Argentina')]\n",
    "data = ciudades_argentina['city'].value_counts()\n",
    "data\n",
    "\n",
    "# Viendo que la mayoría de los eventos de Argentina vienen de Buenos Aires, hacer el gráfico sobre el mapa sería trivial"
   ]
  },
  {
   "cell_type": "code",
   "execution_count": null,
   "metadata": {},
   "outputs": [],
   "source": [
    "st = df['search_term'].dropna()\n",
    "st = st.apply(lambda x: x.lower())\n",
    "st = st.value_counts().to_frame()\n",
    "st = st.loc[(st['search_term'] >= 300)]\n",
    "\n",
    "text = ''\n",
    "for w,q in zip(st.index,st['search_term']):\n",
    "    text += ' '.join([w for x in range(q)])\n",
    "\n",
    "text = ' '.join([s for s in text.split() if len(s)>2])    \n",
    "\n",
    "wordcloud = WordCloud(width=2000, height=800, margin=0,collocations=False).generate(text)\n",
    " \n",
    "plt.imshow(wordcloud, interpolation='bilinear')\n",
    "plt.axis(\"off\")\n",
    "plt.margins(x=0, y=0)\n",
    "plt.show()"
   ]
  },
  {
   "cell_type": "code",
   "execution_count": null,
   "metadata": {},
   "outputs": [],
   "source": [
    "df['month'] = df.index.month\n",
    "df['day'] = df.index.day\n",
    "for_heatmap = df.pivot_table(index='month',columns='day', values='event', aggfunc='count')\n",
    "for_heatmap\n",
    "g = sns.heatmap(for_heatmap,  cmap=\"OrRd\")\n",
    "g.set_title(\"Tráfico en sitio según mes y día\")\n",
    "g.set_xlabel(\"Día\")\n",
    "g.set_ylabel(\"Mes\")"
   ]
  },
  {
   "cell_type": "code",
   "execution_count": null,
   "metadata": {},
   "outputs": [],
   "source": [
    "df['month'] = df.index.month\n",
    "df['week_day'] = df.index.weekday\n",
    "\n",
    "for_heatmap = df.pivot_table(index='month',columns='week_day', values='event', aggfunc='count')\n",
    "for_heatmap.columns = ['Monday', 'Tuesday', 'Wednesday', 'Thursday', 'Friday', 'Saturday', 'Sunday']\n",
    "\n",
    "g = sns.heatmap(for_heatmap,  cmap=\"OrRd\")\n",
    "g.set_title(\"Tráfico en sitio según mes y día de la semana\")\n",
    "g.set_xlabel(\"Día de la semana\")\n",
    "g.set_ylabel(\"Mes\")"
   ]
  },
  {
   "cell_type": "code",
   "execution_count": null,
   "metadata": {},
   "outputs": [],
   "source": [
    "df['week_day_name'] = df.index.weekday_name\n",
    "weekday_names = ['Monday', 'Tuesday', 'Wednesday', 'Thursday', 'Friday', 'Saturday', 'Sunday']\n",
    "weekday_counts = df.groupby('week_day_name').count()\n",
    "weekday_counts = weekday_counts.loc[weekday_names]\n",
    "weekday_counts['event'].plot(kind='bar') #Probando, después se tunea"
   ]
  },
  {
   "cell_type": "code",
   "execution_count": null,
   "metadata": {},
   "outputs": [],
   "source": [
    "df['month_name'] = df['month'].apply(lambda x: calendar.month_abbr[x])\n",
    "month_name= ['Jan', 'Feb', 'Mar', 'Apr', 'May', 'Jun']\n",
    "month_counts = df.groupby('month_name').count()\n",
    "month_counts\n",
    "month_counts = month_counts.loc[month_name]\n",
    "month_counts['event'].plot(kind='bar') #Probando, después se tunea"
   ]
  },
  {
   "cell_type": "markdown",
   "metadata": {},
   "source": [
    "## Análisis de Static Pages"
   ]
  },
  {
   "cell_type": "code",
   "execution_count": null,
   "metadata": {},
   "outputs": [],
   "source": [
    "df['staticpage'].value_counts()"
   ]
  },
  {
   "cell_type": "markdown",
   "metadata": {},
   "source": [
    "Podemos ver que la cantidad de visitas a **Customer Service** es mucho mayor a la página de **FAQ**. Para optimizar recursos sería más eficiente intentar de redireccionar el tráfico a FAQ, haciendo más visible los links a la página y de ser necesario mejorándola."
   ]
  },
  {
   "cell_type": "code",
   "execution_count": null,
   "metadata": {},
   "outputs": [],
   "source": [
    "faq_and_service = df[(df['staticpage'] == 'CustomerService') | (df['staticpage'] == 'FaqEcommerce')]['staticpage']\n",
    "visu = sns.countplot(faq_and_service)\n",
    "visu.set(xlabel='Page', ylabel='Visits')\n",
    "visu.axes.set_title('Cantidad de eventos según staticpage')"
   ]
  },
  {
   "cell_type": "markdown",
   "metadata": {},
   "source": [
    "## Análisis de Device Type"
   ]
  },
  {
   "cell_type": "markdown",
   "metadata": {},
   "source": [
    "Cómo la mayoría del tráfico proviene de smartphones y computadoras, debería dedicarse una mayor cantidad de recursos a desarrollar la aplicación para estos dispositivos y no dedicar mucho tiempo y desarrolladores a las aplicaciones para tablets."
   ]
  },
  {
   "cell_type": "code",
   "execution_count": null,
   "metadata": {},
   "outputs": [],
   "source": [
    "order = df['device_type'].value_counts().index\n",
    "visu = sns.countplot(df['device_type'].dropna(), order=order)\n",
    "visu.set(xlabel='Device Type', ylabel='Visits')\n",
    "visu.axes.set_title('Cantidad de eventos segun marca')"
   ]
  },
  {
   "cell_type": "markdown",
   "metadata": {},
   "source": [
    "---\n",
    "## Conclusiones (insights)"
   ]
  },
  {
   "cell_type": "markdown",
   "metadata": {},
   "source": [
    "- Intro de trocafone\n",
    "- Info general del dataset\n",
    "- Columna por columna graficos interesnates\n",
    "    - Pregunta\n",
    "    - Grafico\n",
    "    - Respuesta / Analisis\n",
    "- Insights generales\n",
    "\n",
    "Buenos robos:\n",
    "- https://jilt.com/blog/ecommerce-metrics/\n",
    "- https://python-graph-gallery.com/\n",
    "- https://github.com/kevinspasiuk/orgaDatos/blob/master/General.ipynb -> Reloj / Postulaciones y vistas a lo largo del tiempo\n",
    "- https://github.com/GastonMontes/75.06-Datos-TP1/blob/master/Notebooks/Junto.ipynb -> Sabe analizar\n",
    "- Apunte cap 2 tiene muy buenos analisis\n",
    "- https://github.com/lrargerich/7506/blob/master/Notebooks/Analisis%20Exploratorio/Movies%20from%20IMDB.ipynb\n",
    "- https://github.com/lrargerich/7506/blob/master/Notebooks/Analisis%20Exploratorio/MovieLens.ipynb\n",
    "- https://github.com/lrargerich/7506/blob/master/Notebooks/Analisis%20Exploratorio/Airplane%20Crashes.ipynb\n",
    "- https://github.com/lrargerich/7506/blob/master/Notebooks/Analisis%20Exploratorio/Universities%20-%20Times%20ranking.ipynb\n",
    "- https://github.com/idontdomath/datos-exploratory-data-analysis/blob/master/2018-02/02-kickstarter-projects.ipynb\n",
    "\n",
    "---\n",
    "- [ ] ¿Pudieron descubrir features en el campo ‘model’? ¿Cuales fueron?\n",
    "- [ ] ¿Identificaron patrones o funnels de usuarios que realizan checkouts/conversiones en Trocafone? \n",
    "- [ ] ¿Se comportan de forma distinta dependiendo del tipo de dispositivo desde el cual acceden?\n",
    "- [ ] ¿Se comportan de forma distinta dependiendo del tipo de fuente de tráfico al que pertenecen?\n",
    "- [ ] ¿Realizaron algún análisis sobre búsquedas que realizan los usuarios y las keywords que utilizan apoyándose en algún tipo de visualización?\n",
    "- [ ] ¿Realizaron algún análisis de lugar donde se originan las visitas de los usuarios de Trocafone (a nivel país, regiones más importantes o ciudades más importantes) apoyándose en algún tipo de visualización?\n",
    "- [ ] ¿Pudieron descubrir features jerarquizando información de alguno de los campos (por ejemplo “screen_resolution”)?\n",
    "\n",
    "---\n",
    "- [ ] Boxplot, violin, stacked bar, histograma, scatter plot, radar chart\n",
    "- [ ] Trafico y compras en mismo grafico de lineas que no se como se llama y es igual (lineal?)\n",
    "- [ ] Treemap barchart por meses y compras en cada mes. Normalizar el mes de junio!!\n",
    "- [ ] Grafico de rankings de celular mas viewed pasados los meses\n",
    "- [ ] Conversiones vs Checkouts \n",
    "- [ ] Analisis de mayo. Por que hay tantos datos?\n",
    "- [ ] Comparacion entre conversiones, checkouts y viewed products. Analizar que porcentaje de futuros compradores se fueron perdiendo\n",
    "- [ ] Agregar barplot de regiones antes del mapa brazuca\n",
    "---\n",
    "- [ ] ¿Tienen todos los ejes su rótulo?\n",
    "- [ ] ¿Tiene cada visualización un título?\n",
    "- [ ] ¿Es entendible la visualización sin tener que leer la explicación?\n",
    "- [ ] ¿El uso del color es adecuado?\n",
    "- [ ] ¿Hay un exceso o falta de elementos visuales en la visualización elegida?\n",
    "- [ ] ¿Presenta el grupo un listado de \"insights\" aprendidos sobre los datos en base al análisis realizado? ¿Es interesante?"
   ]
  },
  {
   "cell_type": "code",
   "execution_count": null,
   "metadata": {},
   "outputs": [],
   "source": []
  }
 ],
 "metadata": {
  "kernelspec": {
   "display_name": "Python 3",
   "language": "python",
   "name": "python3"
  },
  "language_info": {
   "codemirror_mode": {
    "name": "ipython",
    "version": 3
   },
   "file_extension": ".py",
   "mimetype": "text/x-python",
   "name": "python",
   "nbconvert_exporter": "python",
   "pygments_lexer": "ipython3",
   "version": "3.6.5"
  }
 },
 "nbformat": 4,
 "nbformat_minor": 2
}
