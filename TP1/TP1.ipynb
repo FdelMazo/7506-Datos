{
 "cells": [
  {
   "cell_type": "markdown",
   "metadata": {
    "toc": true
   },
   "source": [
    "<h1>Índice<span class=\"tocSkip\"></span></h1>\n",
    "<div class=\"toc\"><ul class=\"toc-item\"><li><span><a href=\"#Set-up-inicial-y-curado-de-datos\" data-toc-modified-id=\"Set-up-inicial-y-curado-de-datos-1\"><span class=\"toc-item-num\">1&nbsp;&nbsp;</span>Set up inicial y curado de datos</a></span><ul class=\"toc-item\"><li><span><a href=\"#Información-general-del-dataset\" data-toc-modified-id=\"Información-general-del-dataset-1.1\"><span class=\"toc-item-num\">1.1&nbsp;&nbsp;</span>Información general del dataset</a></span></li><li><span><a href=\"#Selección-de-datos\" data-toc-modified-id=\"Selección-de-datos-1.2\"><span class=\"toc-item-num\">1.2&nbsp;&nbsp;</span>Selección de datos</a></span></li><li><span><a href=\"#Data-Mining\" data-toc-modified-id=\"Data-Mining-1.3\"><span class=\"toc-item-num\">1.3&nbsp;&nbsp;</span>Data Mining</a></span></li><li><span><a href=\"#Limpieza-de-datos\" data-toc-modified-id=\"Limpieza-de-datos-1.4\"><span class=\"toc-item-num\">1.4&nbsp;&nbsp;</span>Limpieza de datos</a></span></li></ul></li><li><span><a href=\"#Análisis-de-eventos\" data-toc-modified-id=\"Análisis-de-eventos-2\"><span class=\"toc-item-num\">2&nbsp;&nbsp;</span>Análisis de eventos</a></span><ul class=\"toc-item\"><li><span><a href=\"#Conversion-Rate\" data-toc-modified-id=\"Conversion-Rate-2.1\"><span class=\"toc-item-num\">2.1&nbsp;&nbsp;</span>Conversion Rate</a></span></li><li><span><a href=\"#¿Cuál-es-el-evento-más-frecuente?\" data-toc-modified-id=\"¿Cuál-es-el-evento-más-frecuente?-2.2\"><span class=\"toc-item-num\">2.2&nbsp;&nbsp;</span>¿Cuál es el evento más frecuente?</a></span></li><li><span><a href=\"#¿Cómo-evolucionan-los-eventos-a-través-el-tiempo?\" data-toc-modified-id=\"¿Cómo-evolucionan-los-eventos-a-través-el-tiempo?-2.3\"><span class=\"toc-item-num\">2.3&nbsp;&nbsp;</span>¿Cómo evolucionan los eventos a través el tiempo?</a></span></li><li><span><a href=\"#¿A-qué-hora-se-registró-la-mayor-cantidad-de-conversiones?\" data-toc-modified-id=\"¿A-qué-hora-se-registró-la-mayor-cantidad-de-conversiones?-2.4\"><span class=\"toc-item-num\">2.4&nbsp;&nbsp;</span>¿A qué hora se registró la mayor cantidad de conversiones?</a></span></li><li><span><a href=\"#¿A-qué-hora-se-registró-la-mayor-cantidad-de-checkouts?\" data-toc-modified-id=\"¿A-qué-hora-se-registró-la-mayor-cantidad-de-checkouts?-2.5\"><span class=\"toc-item-num\">2.5&nbsp;&nbsp;</span>¿A qué hora se registró la mayor cantidad de checkouts?</a></span></li></ul></li><li><span><a href=\"#Análisis-geográfico\" data-toc-modified-id=\"Análisis-geográfico-3\"><span class=\"toc-item-num\">3&nbsp;&nbsp;</span>Análisis geográfico</a></span><ul class=\"toc-item\"><li><span><a href=\"#¿Desde-que-países-se-accede-más-al-sitio?\" data-toc-modified-id=\"¿Desde-que-países-se-accede-más-al-sitio?-3.1\"><span class=\"toc-item-num\">3.1&nbsp;&nbsp;</span>¿Desde que países se accede más al sitio?</a></span></li><li><span><a href=\"#¿Desde-que-regiones-y-ciudades-de-Brazil-se-registran-más-visitas?\" data-toc-modified-id=\"¿Desde-que-regiones-y-ciudades-de-Brazil-se-registran-más-visitas?-3.2\"><span class=\"toc-item-num\">3.2&nbsp;&nbsp;</span>¿Desde que regiones y ciudades de Brazil se registran más visitas?</a></span></li></ul></li><li><span><a href=\"#Análisis-de-busquedas\" data-toc-modified-id=\"Análisis-de-busquedas-4\"><span class=\"toc-item-num\">4&nbsp;&nbsp;</span>Análisis de busquedas</a></span><ul class=\"toc-item\"><li><span><a href=\"#¿Qué-terminos-ingresan-los-usuarios-en-el-buscador?\" data-toc-modified-id=\"¿Qué-terminos-ingresan-los-usuarios-en-el-buscador?-4.1\"><span class=\"toc-item-num\">4.1&nbsp;&nbsp;</span>¿Qué terminos ingresan los usuarios en el buscador?</a></span></li><li><span><a href=\"#¿Qué-productos-buscan-usando-la-interfaz?\" data-toc-modified-id=\"¿Qué-productos-buscan-usando-la-interfaz?-4.2\"><span class=\"toc-item-num\">4.2&nbsp;&nbsp;</span>¿Qué productos buscan usando la interfaz?</a></span></li></ul></li><li><span><a href=\"#Análisis-de-modelos\" data-toc-modified-id=\"Análisis-de-modelos-5\"><span class=\"toc-item-num\">5&nbsp;&nbsp;</span>Análisis de modelos</a></span><ul class=\"toc-item\"><li><span><a href=\"#¿Qué-eventos-tenemos-asociados-a-un-modelo?\" data-toc-modified-id=\"¿Qué-eventos-tenemos-asociados-a-un-modelo?-5.1\"><span class=\"toc-item-num\">5.1&nbsp;&nbsp;</span>¿Qué eventos tenemos asociados a un modelo?</a></span></li><li><span><a href=\"#¿Es-el-modelo-más-comprado-el-más-buscado?-¿Es-el-modelo-mas-buscado-el-más-llevado-al-carrito?\" data-toc-modified-id=\"¿Es-el-modelo-más-comprado-el-más-buscado?-¿Es-el-modelo-mas-buscado-el-más-llevado-al-carrito?-5.2\"><span class=\"toc-item-num\">5.2&nbsp;&nbsp;</span>¿Es el modelo más comprado el más buscado? ¿Es el modelo mas buscado el más llevado al carrito?</a></span></li><li><span><a href=\"#¿Varían-los-eventos-del-modelo-según-su-condición?-¿Están-los-usuarios-dispuestos-a-comprar-mejores-modelos-a-menor-condición?\" data-toc-modified-id=\"¿Varían-los-eventos-del-modelo-según-su-condición?-¿Están-los-usuarios-dispuestos-a-comprar-mejores-modelos-a-menor-condición?-5.3\"><span class=\"toc-item-num\">5.3&nbsp;&nbsp;</span>¿Varían los eventos del modelo según su condición? ¿Están los usuarios dispuestos a comprar mejores modelos a menor condición?</a></span></li><li><span><a href=\"#¿Como-varían-los-colores-de-los-modelos-más-prominentes?\" data-toc-modified-id=\"¿Como-varían-los-colores-de-los-modelos-más-prominentes?-5.4\"><span class=\"toc-item-num\">5.4&nbsp;&nbsp;</span>¿Como varían los colores de los modelos más prominentes?</a></span></li></ul></li><li><span><a href=\"#Análisis-de-páginas-estáticas\" data-toc-modified-id=\"Análisis-de-páginas-estáticas-6\"><span class=\"toc-item-num\">6&nbsp;&nbsp;</span>Análisis de páginas estáticas</a></span></li><li><span><a href=\"#Análisis-de-New-vs-Returning\" data-toc-modified-id=\"Análisis-de-New-vs-Returning-7\"><span class=\"toc-item-num\">7&nbsp;&nbsp;</span>Análisis de New vs Returning</a></span></li><li><span><a href=\"#Análisis-de-Brands\" data-toc-modified-id=\"Análisis-de-Brands-8\"><span class=\"toc-item-num\">8&nbsp;&nbsp;</span>Análisis de Brands</a></span></li><li><span><a href=\"#Análisis-de-tipos-de-dispositivos\" data-toc-modified-id=\"Análisis-de-tipos-de-dispositivos-9\"><span class=\"toc-item-num\">9&nbsp;&nbsp;</span>Análisis de tipos de dispositivos</a></span></li><li><span><a href=\"#Análisis-de-publicidad\" data-toc-modified-id=\"Análisis-de-publicidad-10\"><span class=\"toc-item-num\">10&nbsp;&nbsp;</span>Análisis de publicidad</a></span><ul class=\"toc-item\"><li><span><a href=\"#¿Aumentó-Trocafone-el-presupuesto-en-publicidad-en-algún-período-específico?\" data-toc-modified-id=\"¿Aumentó-Trocafone-el-presupuesto-en-publicidad-en-algún-período-específico?-10.1\"><span class=\"toc-item-num\">10.1&nbsp;&nbsp;</span>¿Aumentó Trocafone el presupuesto en publicidad en algún período específico?</a></span></li><li><span><a href=\"#¿Cuáles-son-los-métodos-de-publicidad-más-usados?\" data-toc-modified-id=\"¿Cuáles-son-los-métodos-de-publicidad-más-usados?-10.2\"><span class=\"toc-item-num\">10.2&nbsp;&nbsp;</span>¿Cuáles son los métodos de publicidad más usados?</a></span></li></ul></li><li><span><a href=\"#Análisis-de-canales-de-tráfico\" data-toc-modified-id=\"Análisis-de-canales-de-tráfico-11\"><span class=\"toc-item-num\">11&nbsp;&nbsp;</span>Análisis de canales de tráfico</a></span><ul class=\"toc-item\"><li><span><a href=\"#Revenue-by-Traffic-Source\" data-toc-modified-id=\"Revenue-by-Traffic-Source-11.1\"><span class=\"toc-item-num\">11.1&nbsp;&nbsp;</span>Revenue by Traffic Source</a></span></li></ul></li><li><span><a href=\"#¿Cuál-es-la-distribución-de-la-cantidad-de-eventos-producidos-por-usuario-en-función-de-los-eventos?\" data-toc-modified-id=\"¿Cuál-es-la-distribución-de-la-cantidad-de-eventos-producidos-por-usuario-en-función-de-los-eventos?-12\"><span class=\"toc-item-num\">12&nbsp;&nbsp;</span>¿Cuál es la distribución de la cantidad de eventos producidos por usuario en función de los eventos?</a></span></li></ul></div>"
   ]
  },
  {
   "cell_type": "markdown",
   "metadata": {},
   "source": [
    "# [75.06 / 95.58] Organización de Datos <br> Trabajo Práctico 1: Análisis Exploratorio de Datos\n",
    "\n",
    "**Grupo 30: Datatouille**\n",
    "\n",
    "- 101055 - Bojman, Camila\n",
    "- 100029 - del Mazo, Federico\n",
    "- 100687 - Hortas, Cecilia\n",
    "- 97649 - Souto, Rodrigo\n",
    "\n",
    "**https://github.com/fdelmazo/7506-datos**\n",
    "\n",
    "**https://kaggle.com/datatouille2018/7506-TP1/**\n",
    "\n",
    "Presentamos aca un análisis de datos obtenido de usuarios que visitaron www.trocafone.com, un sitio de e-commerce de compra y venta de celulares reacondicionados, con operaciones principalmente en Brasil."
   ]
  },
  {
   "cell_type": "markdown",
   "metadata": {},
   "source": [
    "---\n",
    "\n",
    "## Set up inicial y curado de datos"
   ]
  },
  {
   "cell_type": "code",
   "execution_count": null,
   "metadata": {},
   "outputs": [],
   "source": [
    "import pandas as pd\n",
    "import numpy as np\n",
    "import matplotlib.pyplot as plt\n",
    "import seaborn as sns\n",
    "import squarify # pip install squarify\n",
    "import geopandas as gpd #  conda install -c conda-forge geopandas\n",
    "from wordcloud import WordCloud # conda install -c conda-forge wordcloud\n",
    "from shapely.geometry import Point\n",
    "from time import strptime\n",
    "from math import pi\n",
    "from PIL import Image\n",
    "import calendar\n",
    "%matplotlib inline\n",
    "\n",
    "df = pd.read_csv('data/events.csv', low_memory=False)"
   ]
  },
  {
   "cell_type": "code",
   "execution_count": null,
   "metadata": {},
   "outputs": [],
   "source": [
    "sns.set(style=\"darkgrid\")\n",
    "plt.rcParams['axes.titlesize'] = 30\n",
    "plt.rcParams['axes.labelsize'] = 24\n",
    "plt.rcParams['axes.labelweight'] = 'bold'\n",
    "plt.rcParams['figure.figsize'] = (25,15)\n",
    "sns.set(font_scale=2)"
   ]
  },
  {
   "cell_type": "code",
   "execution_count": null,
   "metadata": {},
   "outputs": [],
   "source": [
    "with pd.option_context('display.max_column',0):\n",
    "  display(df.sample(n=5))"
   ]
  },
  {
   "cell_type": "markdown",
   "metadata": {},
   "source": [
    "### Información general del dataset"
   ]
  },
  {
   "cell_type": "code",
   "execution_count": null,
   "metadata": {},
   "outputs": [],
   "source": [
    "bytes_used = df.memory_usage().sum()\n",
    "print('Memoria usada: {:.2f}MB'.format(bytes_used/1000000))\n",
    "print('{} atributos y {} registros en el dataframe.\\n'.format(df.shape[1],df.shape[0]))\n",
    "print('Primer registro: {} \\nÚltimo registro: {}.'.format(df['timestamp'].min(),df['timestamp'].max()))"
   ]
  },
  {
   "cell_type": "code",
   "execution_count": null,
   "metadata": {},
   "outputs": [],
   "source": [
    "describe = df.describe().T\n",
    "descripcion = pd.read_csv('data/columns-desc.csv',index_col='column')\n",
    "data = pd.merge(descripcion,describe,left_index=True,right_index=True)\n",
    "data['null count'] = df.isnull().sum()\n",
    "data['dtype'] = df.dtypes\n",
    "with pd.option_context('display.max_colwidth',-1):\n",
    "    display(data)"
   ]
  },
  {
   "cell_type": "markdown",
   "metadata": {},
   "source": [
    "**Se sabe que los datos proporcionados son un mero subconjunto de todos los datos de la empresa.**\n",
    "\n",
    "**¿Cómo se decidió el truncamiento de la base original?**"
   ]
  },
  {
   "cell_type": "code",
   "execution_count": null,
   "metadata": {},
   "outputs": [],
   "source": [
    "print('Cantidad de usuarios: {}'.format(df['person'].nunique()))\n",
    "\n",
    "by_person = df[['event','person']].groupby('person')\n",
    "con_checkouts = by_person.agg({'event':lambda x: any(y == 'checkout' for y in x)}).sum()['event']\n",
    "\n",
    "print('Cantidad de usuarios con checkouts: {}'.format(con_checkouts))"
   ]
  },
  {
   "cell_type": "markdown",
   "metadata": {},
   "source": [
    "Después de varias teorías y sus respectivas pruebas, encontramos que todos los usuarios presentes en el set tienen al menos un evento checkout, mostrando que efectivamente la base de datos original se truncó (ya que sería inocente creerse que el 100% de los usuarios que entran al sitio tienen un checkout). \n",
    "\n",
    "Este dato parece menor pero es muy importante; nos muestra que las conclusiones de este análisis no podrán hacerse sobre el sitio en su totalidad. Por los limites de los datos de entrada todas las conclusiones serán sobre los usuarios que hayan tenido al menos un checkout, en vez de acerca de todos los usuarios del sitio."
   ]
  },
  {
   "cell_type": "markdown",
   "metadata": {},
   "source": [
    "### Selección de datos\n",
    "\n",
    "Pasado el vistazo general a los datos, se pueden transformar datos en sus tipos correspondientes para mejor manejo de estos y para ahorro de memoria."
   ]
  },
  {
   "cell_type": "code",
   "execution_count": null,
   "metadata": {},
   "outputs": [],
   "source": [
    "# Los atributos con pocos valores posibles se pasan a variables categoricas para ahorrar memoria\n",
    "df['event'] = df['event'].astype('category')\n",
    "df['condition'] = df['condition'].astype('category')\n",
    "df['storage'] = df['storage'].astype('category')\n",
    "df['search_engine'] = df['search_engine'].astype('category')\n",
    "df['channel'] = df['channel'].astype('category')\n",
    "df['device_type'] = df['device_type'].astype('category')\n",
    "\n",
    "# Se pasan los sku a números, para evitar conflictos entre skus iguales pero registrados como 1001 vs 1001.0\n",
    "df['sku'] = df['sku'].replace({np.nan:0.0, 'undefined':0.0})\n",
    "df['sku'] = df['sku'].astype('float64')\n",
    "\n",
    "# El tiempo es mejor manejarlo como tal\n",
    "df['timestamp'] = pd.to_datetime(df['timestamp'])\n",
    "\n",
    "# Chequeo\n",
    "df.info()"
   ]
  },
  {
   "cell_type": "code",
   "execution_count": null,
   "metadata": {},
   "outputs": [],
   "source": [
    "ahorro = (bytes_used - df.memory_usage().sum())\n",
    "porcentaje = (ahorro/bytes_used) * 100\n",
    "print(\"Memoria ahorrada: {:.4f}MB ({:.2f}%)\".format(ahorro/1000000,porcentaje))"
   ]
  },
  {
   "cell_type": "markdown",
   "metadata": {},
   "source": [
    "### Data Mining"
   ]
  },
  {
   "cell_type": "markdown",
   "metadata": {},
   "source": [
    "De las columnas `model`, `operating_system_version` y `browser_version` se pueden extraer datos de la marca, el sistema operativo y el explorador. Estos se usan para generar nuevos dataframes y luego se hace un *left join* de los datos obtenidos.\n",
    "\n",
    "Todo el código respecto a la creación de nuevos dataframes está ubicado en `anexo.ipynb`."
   ]
  },
  {
   "cell_type": "code",
   "execution_count": null,
   "metadata": {},
   "outputs": [],
   "source": [
    "df_brands = pd.read_csv('data/brands.csv')\n",
    "df = df.merge(df_brands, how='left', on='model')\n",
    "df['brand'] = df['brand'].astype('category')\n",
    "sample = df[df['model'].notnull()]\n",
    "sample[['model','brand']].head()"
   ]
  },
  {
   "cell_type": "code",
   "execution_count": null,
   "metadata": {},
   "outputs": [],
   "source": [
    "df_os = pd.read_csv('data/os.csv')\n",
    "df = df.merge(df_os, how='left', on='operating_system_version')\n",
    "df['operating_system'] = df['operating_system'].astype('category')\n",
    "sample = df[df['operating_system_version'].notnull()]\n",
    "sample[['operating_system_version', 'operating_system']].head()"
   ]
  },
  {
   "cell_type": "code",
   "execution_count": null,
   "metadata": {},
   "outputs": [],
   "source": [
    "df_browsers = pd.read_csv('data/browsers.csv')\n",
    "df = df.merge(df_browsers, how='left', on='browser_version')\n",
    "df['browser'] = df['browser'].astype('category')\n",
    "sample = df[df['browser_version'].notnull()]\n",
    "sample[['browser_version','browser']].head()"
   ]
  },
  {
   "cell_type": "markdown",
   "metadata": {},
   "source": [
    "Extracción de información de las fechas."
   ]
  },
  {
   "cell_type": "code",
   "execution_count": null,
   "metadata": {},
   "outputs": [],
   "source": [
    "df['month_number'] = df['timestamp'].dt.month\n",
    "df['month_name'] = df['month_number'].apply(lambda x: calendar.month_abbr[x])\n",
    "df['week_day'] = df['timestamp'].dt.weekday\n",
    "df['week_number'] = df['timestamp'].dt.week\n",
    "df['week_day_name'] = df['timestamp'].dt.weekday_name\n",
    "df['day_date'] = df['timestamp'].dt.to_period('D')\n",
    "df['day_dom'] = df['timestamp'].dt.day\n",
    "df['hour_count'] = df['timestamp'].dt.hour\n",
    "df['day_doy'] = df['timestamp'].dt.dayofyear"
   ]
  },
  {
   "cell_type": "markdown",
   "metadata": {},
   "source": [
    "Finalmente, sabiendo que los SKUs se refieren a la combinación única entre modelo, condición de compra, almacenamiento y color, se agrega la columna 'sku_name' para saber específicamente a que dispositivo se refiere."
   ]
  },
  {
   "cell_type": "code",
   "execution_count": null,
   "metadata": {},
   "outputs": [],
   "source": [
    "df['sku_name'] = df['model'] + ' ' + df['storage'].astype(str) + ' ' + df['color'] + ' (' + df['condition'].astype(str) + ')'\n",
    "df['sku_name'].to_frame().head()"
   ]
  },
  {
   "cell_type": "markdown",
   "metadata": {},
   "source": [
    "### Limpieza de datos\n",
    "\n",
    "Tomando como un error de tracking (double tracking en este caso) cuando un usuario compra el mismo celular varías veces en un día, se limpian estos datos duplicados."
   ]
  },
  {
   "cell_type": "code",
   "execution_count": null,
   "metadata": {},
   "outputs": [],
   "source": [
    "df2 = df[df['event'] == 'conversion'][['day_date','person','event','model']]\n",
    "df2.groupby('person').head()\n",
    "double_tracking_rows = df2.duplicated(keep='last')\n",
    "double_tracking_rows = double_tracking_rows[double_tracking_rows]\n",
    "print('Se limpian {} registros producto de double tracking.'.format(double_tracking_rows.count()))\n",
    "display(df2[df2.index.isin(double_tracking_rows.index)].sort_values('person').head())\n",
    "\n",
    "df = df[~df.index.isin(double_tracking_rows.index)]"
   ]
  },
  {
   "cell_type": "markdown",
   "metadata": {},
   "source": [
    "---\n",
    "## Análisis de eventos"
   ]
  },
  {
   "cell_type": "code",
   "execution_count": null,
   "metadata": {},
   "outputs": [],
   "source": [
    "event = df['event']\n",
    "descripcion = pd.read_csv('data/events-desc.csv',index_col='event')\n",
    "descripcion['value_counts'] = event.value_counts()\n",
    "with pd.option_context('display.max_colwidth',0):\n",
    "    display(descripcion)"
   ]
  },
  {
   "cell_type": "markdown",
   "metadata": {},
   "source": [
    "### Conversion Rate\n",
    "\n",
    "La primer métrica a analizar y la más importante en un negocio de e-commerce  es el **conversion rate**. Siendo una conversión un usuario tomando la acción deseada, en este caso comprar un producto, queremos saber como es la razón entre conversiones y el total de eventos."
   ]
  },
  {
   "cell_type": "code",
   "execution_count": null,
   "metadata": {},
   "outputs": [],
   "source": [
    "conversion_rate_total = (df.loc[df['event']=='conversion'].shape[0] / df.shape[0] )*100\n",
    "print('Overall conversion rate, from 2018-01-01 to 2018-06-15: {:.3f}%'.format(conversion_rate_total))"
   ]
  },
  {
   "cell_type": "markdown",
   "metadata": {},
   "source": [
    "Este dato, suelto, no sirve. ¿Cuando es un buen número? Cuando es mejor que el del mes pasado!"
   ]
  },
  {
   "cell_type": "code",
   "execution_count": null,
   "metadata": {},
   "outputs": [],
   "source": [
    "data = df[['event','week_number']]\n",
    "data = data.groupby(['week_number','event']).agg({'event':'count'})\n",
    "data = data.rename(columns={'event':'count'})\n",
    "data = data.reset_index()\n",
    "data = data.pivot_table(index='week_number', values='count', columns='event')\n",
    "data = pd.DataFrame(data.to_records())\n",
    "data['conversion rate'] = ( data['conversion'] / data.sum(axis=1) ) * 100\n",
    "\n",
    "plt.plot(data['conversion rate'])\n",
    "plt.ylabel('Conversion rate')\n",
    "plt.xlabel('Semana del año')\n",
    "plt.xticks(data['week_number'])\n",
    "plt.title('Conversion rate por semana')\n",
    "\n",
    "plt.savefig('informe/figures/010-conversion_rate_semana-lineplot.png')"
   ]
  },
  {
   "cell_type": "code",
   "execution_count": null,
   "metadata": {},
   "outputs": [],
   "source": [
    "data = df[['event','month_number']]\n",
    "data = data.groupby(['month_number','event']).agg({'event':'count'})\n",
    "data = data.rename(columns={'event':'count'})\n",
    "data = data.reset_index()\n",
    "data = data.pivot_table(index='month_number', values='count', columns='event')\n",
    "data = pd.DataFrame(data.to_records())\n",
    "data['conversion rate'] = ( data['conversion'] / data.sum(axis=1) ) * 100\n",
    "\n",
    "visu = sns.barplot(x=data['month_number'],y=data['conversion rate'])\n",
    "visu.set_title('Conversion rate según mes')\n",
    "visu.set_ylabel('Conversion Rate')\n",
    "visu.set_xlabel('Mes')\n",
    "visu.set_xticklabels(['Jan', 'Feb', 'Mar', 'Apr', 'May', '(First half) Jun'])\n",
    "\n",
    "plt.savefig('informe/figures/011-conversion_rate_mes-barplot.png')"
   ]
  },
  {
   "cell_type": "markdown",
   "metadata": {},
   "source": [
    "Lo que se puede ver en ambos gráficos es que los primeros 4 meses del año hubo un conversion rate bastante estable, y luego una súbita baja en mayo. En las semanas de mayo a junio se ve que hay indicios de un incremento. Al no haber datos de todo el mes de junio, no se pueden hacer más conclusiones pasada la semana 24."
   ]
  },
  {
   "cell_type": "markdown",
   "metadata": {},
   "source": [
    "### ¿Cuál es el evento más frecuente?"
   ]
  },
  {
   "cell_type": "code",
   "execution_count": null,
   "metadata": {},
   "outputs": [],
   "source": [
    "orden = event.value_counts().head(7).index\n",
    "visu = sns.countplot(x='event',data=df,order=orden)\n",
    "visu.axes.set_title('Frecuencia de eventos', fontsize=30)\n",
    "visu.set_xlabel(\"Evento\", fontsize=24)\n",
    "visu.set_ylabel(\"Cantidad\", fontsize=24)\n",
    "\n",
    "plt.savefig('informe/figures/02-eventos-barplot.png')"
   ]
  },
  {
   "cell_type": "markdown",
   "metadata": {},
   "source": [
    "El evento con mas hits es el de ver un producto. Esto tiene sentido ya que trocafone es una plataforma de e-commerce y ver productos es su principal función como sitio. "
   ]
  },
  {
   "cell_type": "markdown",
   "metadata": {},
   "source": [
    "### ¿Cómo evolucionan los eventos a través el tiempo?\n",
    "\n",
    "Lo siguiente que nos preguntamos es si aumentaron los productos vistos, los checkouts y las compras en el transcurso del primer semestre del 2018."
   ]
  },
  {
   "cell_type": "code",
   "execution_count": null,
   "metadata": {},
   "outputs": [],
   "source": [
    "data = df.pivot_table(index='day_dom',columns='month_number', values='event', aggfunc='count')\n",
    "data = ((data-data.min()) / (data.max() - data.min()))\n",
    "\n",
    "visu = sns.heatmap(data.T,  cmap=\"OrRd\")\n",
    "visu.set_title(\"Tráfico (normalizado) en sitio según mes y día\")\n",
    "visu.set_xlabel(\"Día\")\n",
    "visu.set_ylabel(\"Mes\")\n",
    "\n",
    "plt.savefig('informe/figures/030-eventos_segun_mes-heatmap.png')"
   ]
  },
  {
   "cell_type": "markdown",
   "metadata": {},
   "source": [
    "Como se puede ver, no hay relación directa entre dia del mes y mayores visitas al sitio. Se podría decir que la segunda quincena tiene más visitas que la primera, pero las magnitudes no son lo suficientemente distintas como para argumentar esto.\n",
    "\n",
    "Es importante que este gráfico este normalizado para poder encontrar patrones y no simplemente ver como el mes con más eventos es simplemente el mes con más eventos por día."
   ]
  },
  {
   "cell_type": "code",
   "execution_count": null,
   "metadata": {},
   "outputs": [],
   "source": [
    "data = df.pivot_table(index='week_day',columns='month_number', values='event', aggfunc='count')\n",
    "data.index = ['Monday', 'Tuesday', 'Wednesday', 'Thursday', 'Friday', 'Saturday', 'Sunday']\n",
    "data = ((data-data.min()) / (data.max() - data.min()))\n",
    "\n",
    "visu = sns.heatmap(data.T,  cmap=\"OrRd\")\n",
    "visu.set_title('Tráfico (normalizado) en sitio según mes y día de la semana', fontsize=30)\n",
    "visu.set_xlabel('Día de la semana', fontsize=24)\n",
    "visu.set_ylabel('Mes', fontsize=24)\n",
    "\n",
    "plt.savefig('informe/figures/031-eventos_segun_dow-heatmap.png')"
   ]
  },
  {
   "cell_type": "markdown",
   "metadata": {},
   "source": [
    "Se puede observar en el gráfico que los días de mayor tráfico son los días laborales mientras que el fin de semana los usuarios visitan notoriamente menos la página."
   ]
  },
  {
   "cell_type": "code",
   "execution_count": null,
   "metadata": {},
   "outputs": [],
   "source": [
    "month_name = ['Jan', 'Feb', 'Mar', 'Apr', 'May', 'Jun']\n",
    "month_counts = df.groupby('month_name').count()\n",
    "month_counts = month_counts.loc[month_name]\n",
    "visu = month_counts['event'].plot(kind='bar')\n",
    "visu.axes.set_title('Cantidad de eventos segun mes')\n",
    "visu.set_xlabel('Mes')\n",
    "visu.set_ylabel(\"Cantidad\")\n",
    "\n",
    "plt.savefig('informe/figures/032-eventos_segun_mes-barplot.png')"
   ]
  },
  {
   "cell_type": "markdown",
   "metadata": {},
   "source": [
    "Como se puede ver, mayo y junio tienen considerablemente más visitas que el resto de los meses. Y esto es incluso teniendo en cuenta que en junio se registraron la mitad de los días (el último registro del set de datos es el 15 de junio).\n",
    "\n",
    "Es importante notar como esta evolución es casi inversa a la del conversion rate, mostrando que en mayo si bien no hubo tantas ventas, si aumento mucho la cantidad de visitas."
   ]
  },
  {
   "cell_type": "markdown",
   "metadata": {},
   "source": [
    "**¿Por que mayo y junio son los meses de mayor tráfico? ¿Eso implica una mayor cantidad de ventas?**"
   ]
  },
  {
   "cell_type": "code",
   "execution_count": null,
   "metadata": {},
   "outputs": [],
   "source": [
    "df_top = df.loc[(df['month_name'] == 'May') | (df['month_name'] == 'Jun')]\n",
    "\n",
    "df_temporal = df_top[['event', 'day_dom']]\n",
    "df_temporal = df_temporal.loc[(df_temporal['event'] == 'conversion') | (df_temporal['event'] == 'checkout') | (df_temporal['event'] == 'viewed product')]\n",
    "df_temporal = df_temporal.groupby('day_dom')['event'].value_counts().unstack('event')\n",
    "\n",
    "visu = plt.plot(np.log(df_temporal))\n",
    "plt.legend(iter(visu), ('checkout', 'conversion', 'viewed_products'))\n",
    "plt.title(\"Cantidad de eventos según día de los meses de junio y mayo\")\n",
    "plt.xlabel(\"Día\")\n",
    "plt.ylabel(\"Cantidad\")\n",
    "plt.savefig('informe/figures/033-eventos_mayo_junio_lineplot.png')"
   ]
  },
  {
   "cell_type": "markdown",
   "metadata": {},
   "source": [
    "Es posible concluir que hay un pico entre los días 13 y 16 de los distintos tipos de eventos. Como Trocafone es del país de Brasil y el mayor tráfico proviene de allí, lo cual será verificado posteriormente, se infiere que puede deberse a alguna promoción lanzada en la plataforma o en el mismo país. Esto no puede concluirse con certeza debido a la escasez de información en internet y en la plataforma de promociones pasadas."
   ]
  },
  {
   "cell_type": "markdown",
   "metadata": {},
   "source": [
    "### ¿A qué hora se registró la mayor cantidad de conversiones?"
   ]
  },
  {
   "cell_type": "code",
   "execution_count": null,
   "metadata": {},
   "outputs": [],
   "source": [
    "df_conversion = df.loc[df['event'] == 'conversion']['hour_count'].value_counts().to_frame().sort_index()\n",
    "df_checkout = df.loc[df['event'] == 'checkout']['hour_count'].value_counts().to_frame().sort_index()\n",
    "\n",
    "labels = np.array([0, 1, 2, 3, 4, 5, 6, 7, 8, 9, 10, 11, 12, 13, 14, 15, 16, 17, 18, 19, 20, 21, 22, 23])\n",
    "angles = [i / float(24) * 2 * pi for i in range(24)]\n",
    "angles += angles[:1]  #cerrar el círculo\n",
    "\n",
    "gray = '#999999'\n",
    "black = '#000000'\n",
    "orange = '#FD7120'\n",
    "blue = '#00BFFF'"
   ]
  },
  {
   "cell_type": "code",
   "execution_count": null,
   "metadata": {},
   "outputs": [],
   "source": [
    "fig=plt.figure(figsize=(7,7))\n",
    "series = plt.subplot(1, 1, 1, polar=True)\n",
    "    \n",
    "series.set_theta_offset(pi / 2)\n",
    "series.set_theta_direction(-1)\n",
    "\n",
    "plt.xticks(angles, labels, color=black, size=20)\n",
    "\n",
    "plt.yticks([20, 40, 60, 80], ['20', '40', '60', '80'], color=gray, size=2)\n",
    "\n",
    "plt.ylim(0,100),\n",
    "\n",
    "series_values = df_conversion.values.flatten().tolist()\n",
    "series_values += series_values[:1]  \n",
    "\n",
    "series.set_rlabel_position(0)\n",
    "series.plot(angles, series_values, color=orange, linestyle='solid', linewidth=1)\n",
    "series.fill(angles, series_values, color=orange, alpha=0.5)\n",
    "series.set_title('Cantidad de conversiones por hora', fontsize=20)\n",
    "plt.savefig('informe/figures/040-hours-conversion-radarchart.png')"
   ]
  },
  {
   "cell_type": "markdown",
   "metadata": {},
   "source": [
    "Como es esperable, a la mañana y a la madrugada se registra una muy baja cantidad de compras. Se produce un pico a las 19 hs, hora en la que la mayoría de la gente vuelve del trabajo."
   ]
  },
  {
   "cell_type": "markdown",
   "metadata": {},
   "source": [
    "### ¿A qué hora se registró la mayor cantidad de checkouts?"
   ]
  },
  {
   "cell_type": "code",
   "execution_count": null,
   "metadata": {},
   "outputs": [],
   "source": [
    "fig=plt.figure(figsize=(7,7))\n",
    "series = plt.subplot(1, 1, 1, polar=True)\n",
    "    \n",
    "series.set_theta_offset(pi / 2)\n",
    "series.set_theta_direction(-1)\n",
    "\n",
    "plt.xticks(angles, labels, color=black, size=20)\n",
    "\n",
    "#plt.yticks([1000, 1250, 1500, 1750, 2000], ['1000', '1250', '1500', '1750', '2000'], color=gray, size=7)\n",
    "    \n",
    "plt.ylim(0,2250)\n",
    "\n",
    "series_values = df_checkout.values.flatten().tolist()\n",
    "series_values += series_values[:1]  \n",
    "\n",
    "series.set_rlabel_position(0)\n",
    "series.plot(angles, series_values, color=blue, linestyle='solid', linewidth=1)\n",
    "series.fill(angles, series_values, color=blue, alpha=0.5)\n",
    "series.set_title('Cantidad de checkouts por hora', fontsize=20)\n",
    "plt.savefig('informe/figures/041-hours-checkout-radarchart.png')"
   ]
  },
  {
   "cell_type": "markdown",
   "metadata": {},
   "source": [
    "En las primeras 12 hs del día la cantidad de conversiones realizadas es muy baja a contraste de las restantes 12 hs. A diferencia de las conversiones, la cantidad de checkouts realizados mantiene su valor más alto a lo largo de la tarde y la noche. Igualmente se produce un pico a las 19 hs."
   ]
  },
  {
   "cell_type": "markdown",
   "metadata": {},
   "source": [
    "---\n",
    "\n",
    "## Análisis geográfico"
   ]
  },
  {
   "cell_type": "markdown",
   "metadata": {},
   "source": [
    "### ¿Desde que países se accede más al sitio?"
   ]
  },
  {
   "cell_type": "code",
   "execution_count": null,
   "metadata": {},
   "outputs": [],
   "source": [
    "countries = df['country'].value_counts()\n",
    "countries = countries.drop('Unknown')\n",
    "data = countries.head(3)\n",
    "\n",
    "visu = squarify.plot(data, label=data.index, alpha=.5, color=['green','red','cyan'])\n",
    "visu.set_title('Países con más visitas')\n",
    "\n",
    "plt.savefig('informe/figures/050-paises_visitas-treemap.png')"
   ]
  },
  {
   "cell_type": "markdown",
   "metadata": {},
   "source": [
    "Al ser Trocafone una empresa que inicialmente radicó en Brasil y llegó a Argentina en 2016 era esperable que Brasil sea el país de mayor tráfico.\n",
    "\n",
    "Por la amplia diferencia, se separa a Brasil del gráfico y se analiza el tráfico en el resto de los países, para pdoer ver su diferencia en orden y magnitud."
   ]
  },
  {
   "cell_type": "code",
   "execution_count": null,
   "metadata": {},
   "outputs": [],
   "source": [
    "countries = df['country'].value_counts()\n",
    "countries = countries.drop('Unknown')\n",
    "countries = countries.drop('Brazil')\n",
    "data = countries.head(7)\n",
    "\n",
    "visu = squarify.plot(data, label=data.index, alpha=.5, color=['red','cyan','yellow','grey','purple','orange','blue'])\n",
    "visu.set_title('Países con más visitas, exceptuando Brazil')\n",
    "\n",
    "plt.savefig('informe/figures/051-paises_visitas_sin_brazil-treemap.png')"
   ]
  },
  {
   "cell_type": "markdown",
   "metadata": {},
   "source": [
    "### ¿Desde que regiones y ciudades de Brazil se registran más visitas?\n",
    "\n",
    "**Sacando las longitudes y latitudes de distintas ciudades del mundo, podemos ver que ciudades de Brazil son las que más visitas tienen.** \n",
    "\n",
    "Con ayuda del módulo geopandas, podemos plotear directamente sobre un mapa.\n",
    "\n",
    "Las bases de datos adicionales fueron sacadas de http://www.geonames.org/.\n",
    "\n",
    "Primero, se grafica las regiones, para tener un vistazo general de donde nos encontraremos más visitas. Luego, se ve por ciudad."
   ]
  },
  {
   "cell_type": "code",
   "execution_count": null,
   "metadata": {},
   "outputs": [],
   "source": [
    "regiones_brasil = df.loc[(df['country'] == 'Brazil')]['region']\n",
    "data = regiones_brasil.value_counts()\n",
    "data = data.drop('Unknown')\n",
    "\n",
    "fig = data.head(7).plot(kind='bar')\n",
    "fig.axes.set_title('Regiones de Brazil con más visitas')\n",
    "fig.axes.set_ylabel('Visitas')\n",
    "fig.axes.set_xlabel('Región')\n",
    "\n",
    "plt.savefig('informe/figures/060-regiones_brazil-barplot.png')"
   ]
  },
  {
   "cell_type": "markdown",
   "metadata": {},
   "source": [
    "Viendo que la mayoría de los eventos se registran en la region de San Pablo, Minas Gerais y Rio de Janeiro, se ve que la mayor concentración esta sobre la costa del sur este."
   ]
  },
  {
   "cell_type": "code",
   "execution_count": null,
   "metadata": {},
   "outputs": [],
   "source": [
    "BR = pd.read_csv('data/BR.csv', low_memory=False, sep='\\t')\n",
    "BR = BR[['name','latitude','longitude']]\n",
    "\n",
    "# Para que geopandas pueda leer bien las latitudes y longitudes, deben ser de la clase Point\n",
    "BR['coordinates'] = list(zip(BR['longitude'],BR['latitude']))\n",
    "BR['coordinates'] = BR['coordinates'].apply(Point)\n",
    "BR.head()"
   ]
  },
  {
   "cell_type": "code",
   "execution_count": null,
   "metadata": {},
   "outputs": [],
   "source": [
    "# Se debe hacer un join de los datos que se tienen (nombre de ciudad, cantidad de eventos) y los datos de geonames (nombre de ciudad, punto en el mapa), y esto plotearlo sobre los datos de geopandas (nombre de pais, punto en el mapa mundial)\n",
    "\n",
    "# Se preparan los datos para el join (inner join de nombre de ciudad (columna name))\n",
    "ciudades_brazil = df.loc[(df['country'] == 'Brazil')]\n",
    "data = ciudades_brazil['city'].value_counts()\n",
    "data = data.drop('Unknown')\n",
    "data = data.to_frame()\n",
    "data.reset_index(inplace=True)\n",
    "data = data.rename(columns={'index':'name','city':'count'})\n",
    "\n",
    "# Se pasa de un dataframe normal de pandas a uno de geopandas\n",
    "BRA = gpd.GeoDataFrame(BR, geometry='coordinates')\n",
    "\n",
    "# Se hace el inner join de ambos sets. Siendo que geonames daba mucha más información de la necesaria, duplicando valores por ciudades, se borran los duplicados\n",
    "data = BRA.merge(data, on='name')\n",
    "data = data.drop_duplicates('name')\n",
    "\n",
    "# Se prepara el 'fondo' del gráfico, siendo este nomás el país. Para esto se usan los datos por defecto de geopandas\n",
    "world = gpd.read_file(gpd.datasets.get_path('naturalearth_lowres'))\n",
    "ax = world[world.name=='Brazil'].plot(color='white',edgecolor='black')\n",
    "\n",
    "visu = data.plot(ax=ax,cmap='OrRd', legend=True)\n",
    "visu.axes.set_title('Ciudades de Brazil con más visitas')\n",
    "\n",
    "plt.savefig('informe/figures/061-ciudades_brazil-choropleth.png')"
   ]
  },
  {
   "cell_type": "markdown",
   "metadata": {},
   "source": [
    "Como se preveía en el gráfico anterior, se ve como la mayoría de las visitas se producen sobre la costa sudeste de Brazil."
   ]
  },
  {
   "cell_type": "markdown",
   "metadata": {},
   "source": [
    "---\n",
    "## Análisis de busquedas\n",
    "\n",
    "Para lo que respecta a busquedas, hay varias cosas para analizar y encontrar:\n",
    "\n",
    "1. La mas obvia, ¿qué terminos ingresan los usuarios en el buscador? (columna search term)\n",
    "    * Esto nos da una visualización rápida de los gustos en crudo de los usuarios. Lo que antojan.\n",
    "1. ¿Qué productos buscan específicamente, usando la interfaz? (evento searched product)\n",
    "    * Esta busqueda es un poco más refinada, permitiendonos saber específicamente los productos buscados, en vez de la crudeza de escribir cualquier termino que nos puede plantear el punto anterior.\n",
    "    \n",
    "Si bien tienen un objetivo en comun, difieren sustancialmente los analisis. En el primero se puede ver una vista rápida de marcas/modelos, mientras que en la segunda habrá una idea un poco mas profunda."
   ]
  },
  {
   "cell_type": "markdown",
   "metadata": {},
   "source": [
    "### ¿Qué terminos ingresan los usuarios en el buscador?"
   ]
  },
  {
   "cell_type": "code",
   "execution_count": null,
   "metadata": {},
   "outputs": [],
   "source": [
    "# Buscamos las palabras más buscadas, con un mínimo de 300 busquedas\n",
    "\n",
    "search_terms = df['search_term'].dropna()\n",
    "search_terms = search_terms.apply(lambda x: x.lower())\n",
    "search_terms = search_terms.value_counts()\n",
    "search_terms = search_terms[search_terms >= 300]\n",
    "\n",
    "# Para que funcione correctamente el módulo de wordcloud, hay que juntar todas las palabras en el mismo texto.\n",
    "text = ''\n",
    "for w,q in zip(search_terms.index,search_terms):\n",
    "    text += ' '.join([w for x in range(q)])\n",
    "\n",
    "text = ' '.join([s for s in text.split() if len(s)>2])    \n",
    "\n",
    "wordcloud = WordCloud(width=2000, height=800, margin=0,collocations=False).generate(text)\n",
    " \n",
    "plt.imshow(wordcloud, interpolation='bilinear')\n",
    "plt.axis(\"off\")\n",
    "plt.margins(x=0, y=0)\n",
    "plt.show()\n",
    "\n",
    "wordcloud.to_image().save('informe/figures/07-search_terms-wordcloud.png')"
   ]
  },
  {
   "cell_type": "markdown",
   "metadata": {},
   "source": [
    "Se puede ver que los términos más buscados estan relacionados a las marcas de Motorola, Apple y Samsung."
   ]
  },
  {
   "cell_type": "markdown",
   "metadata": {},
   "source": [
    "### ¿Qué productos buscan usando la interfaz?"
   ]
  },
  {
   "cell_type": "code",
   "execution_count": null,
   "metadata": {},
   "outputs": [],
   "source": [
    "# Sabemos que el evento searched products refiere a varios SKUs. Spearemos y busquemos especificamente cuales son los más buscados.\n",
    "searched = df[df['event']=='searched products']\n",
    "skus_codiciados = searched['skus'].str.split(',').to_frame()\n",
    "skus_codiciados = skus_codiciados['skus'].apply(pd.Series).unstack().reset_index()\n",
    "skus_codiciados = skus_codiciados[['level_1',0]]\n",
    "skus_codiciados.rename(columns={'level_1':'id',0:'sku'}, inplace=True)\n",
    "skus_codiciados.sample(5)"
   ]
  },
  {
   "cell_type": "code",
   "execution_count": null,
   "metadata": {},
   "outputs": [],
   "source": [
    "top_5 = skus_codiciados['sku'].value_counts().head(5)\n",
    "sku_names = df[df['sku'].isin(top_5.index)][['sku','sku_name']].drop_duplicates()\n",
    "\n",
    "visu = top_5.plot(kind='bar', title ='5 productos más buscados por interfaz')\n",
    "visu.set_title('5 productos más buscados por interfaz', fontsize=30)\n",
    "visu.set_xlabel('SKU', fontsize=24)\n",
    "visu.set_ylabel('Busquedas', fontsize=24)\n",
    "\n",
    "display(sku_names)\n",
    "plt.savefig('informe/figures/08-skus_buscados-barplot.png')"
   ]
  },
  {
   "cell_type": "markdown",
   "metadata": {},
   "source": [
    "## Análisis de modelos\n",
    "\n",
    "Queremos encontrar algun patrón de visita y compra desde el punto de vista del dispositivo y luego ver si en esos patrones hay diferencias según marca o modelo"
   ]
  },
  {
   "cell_type": "markdown",
   "metadata": {},
   "source": [
    "### ¿Qué eventos tenemos asociados a un modelo?"
   ]
  },
  {
   "cell_type": "code",
   "execution_count": null,
   "metadata": {},
   "outputs": [],
   "source": [
    "cronologia = df.loc[df['model'].notnull(), ['model', 'event','condition']]\n",
    "cronologia['event'].value_counts()"
   ]
  },
  {
   "cell_type": "markdown",
   "metadata": {},
   "source": [
    "Tomamos como cronología de eventos sobre un modelo:\n",
    "1. Visitarlo (`viewed product`)\n",
    "1. Mandar a comprarlo (`checkout`)\n",
    "1. Efectivamente comprarlo (`conversion`)"
   ]
  },
  {
   "cell_type": "markdown",
   "metadata": {},
   "source": [
    "### ¿Es el modelo más comprado el más buscado? ¿Es el modelo mas buscado el más llevado al carrito?"
   ]
  },
  {
   "cell_type": "code",
   "execution_count": null,
   "metadata": {},
   "outputs": [],
   "source": [
    "# Se descartan los eventos 'lead' porque no influyen en el análisis\n",
    "cronologia = cronologia.loc[cronologia['event'] != 'lead'] \n",
    "\n",
    "# Comparemos los modelos por los cuales más se opera segun el evento\n",
    "vistos = cronologia.loc[cronologia['event']=='viewed product']['model'].value_counts().head()\n",
    "checkouts = cronologia.loc[cronologia['event']=='checkout']['model'].value_counts().head()\n",
    "comprados = cronologia.loc[cronologia['event']=='conversion']['model'].value_counts().head()\n",
    "\n",
    "print(\"Más vistas\") ; display(vistos)\n",
    "print(\"Más checkouts\") ; display(checkouts)\n",
    "print(\"Más compras\") ; display(comprados)"
   ]
  },
  {
   "cell_type": "code",
   "execution_count": null,
   "metadata": {},
   "outputs": [],
   "source": [
    "# Definimos un set de X modelos como los más prominentes, haciendo una combinación de los 7 más vistos, los 5 más por comprar  y los 5 más comprados\n",
    "modelos_prominentes = set(vistos.index)\n",
    "modelos_prominentes.update(checkouts.index)\n",
    "modelos_prominentes.update(comprados.index)\n",
    "\n",
    "eventos = cronologia.groupby('model')['event'].value_counts().unstack('event') \n",
    "eventos = eventos[['viewed product', 'checkout', 'conversion']]\n",
    "eventos = eventos.loc[eventos.index.isin(modelos_prominentes)]\n",
    "eventos"
   ]
  },
  {
   "cell_type": "code",
   "execution_count": null,
   "metadata": {},
   "outputs": [],
   "source": [
    "# Paso a porcentajes las columnas\n",
    "eventos['total'] = eventos.sum(axis=1)\n",
    "for c in eventos:\n",
    "    eventos[c+'%'] = ( eventos[c] / eventos['total'] ) * 100\n",
    "\n",
    "vistos = eventos['viewed product%']\n",
    "checkouts = eventos['checkout%']\n",
    "comprados = eventos['conversion%']\n",
    "\n",
    "plt.bar(vistos.index, vistos, color=sns.xkcd_rgb[\"muted blue\"],log=True)\n",
    "plt.bar(checkouts.index, checkouts, bottom=vistos, color=sns.xkcd_rgb[\"muted green\"],log=True)\n",
    "plt.bar(comprados.index, comprados, bottom=vistos+checkouts, color=sns.xkcd_rgb[\"muted pink\"],log=True)\n",
    "plt.legend(['viewed product','checkout', 'conversion'])\n",
    "plt.ylabel('Cantidad de eventos')\n",
    "plt.xlabel('Modelos de celular')\n",
    "plt.title('Cantidad de eventos en función de modelo (escala logarítmica)')\n",
    "plt.show()\n",
    "plt.savefig('informe/figures/090-modelos_eventos-stackedbarplot.png')"
   ]
  },
  {
   "cell_type": "code",
   "execution_count": null,
   "metadata": {},
   "outputs": [],
   "source": [
    "for c in eventos[['viewed product','checkout','conversion']]:\n",
    "    eventos[c+' ranking'] = eventos[c].rank('index', ascending=False)\n",
    "\n",
    "rankings = (eventos.filter(regex='ranking')).T\n",
    "#display(eventos[['viewed product','viewed product ranking','checkout','checkout ranking','conversion','conversion ranking']])\n",
    "orden = (eventos.sort_values('viewed product ranking', ascending=True)).index\n",
    "orden = [(str(i+1) + ' - ' + x) for i,x in enumerate(orden)]\n",
    "\n",
    "orden2 = (eventos.sort_values('conversion ranking')).index\n",
    "orden2 = [(str(i+1) + ' - ' + x ) for i,x in enumerate(orden2)]\n",
    "\n",
    "fig = plt.figure()\n",
    "ax = fig.add_subplot(111)\n",
    "ax.set_ylim(8)\n",
    "ax.plot(rankings)\n",
    "ax.set_yticklabels(orden)\n",
    "\n",
    "ax2 = ax.twinx()\n",
    "ax2.set_ylim(8)\n",
    "ax2.set_yticklabels(orden2)\n",
    "\n",
    "plt.title('Rankings de modelos para distintos eventos', fontsize=30)\n",
    "plt.savefig('informe/figures/091-rankings_celulares-rank.png')"
   ]
  },
  {
   "cell_type": "markdown",
   "metadata": {},
   "source": [
    "Es interesante ver como los celulares Samsung tienden a tener el comportamiento inverso al de los celulares Apple. Los Samsung son menos buscados pero más comprados mientras que los Apple son muy buscados pero poco comprados (¿será por 'espantarse' al ver el precio?)."
   ]
  },
  {
   "cell_type": "markdown",
   "metadata": {},
   "source": [
    "### ¿Varían los eventos del modelo según su condición? ¿Están los usuarios dispuestos a comprar mejores modelos a menor condición?\n",
    "\n",
    "Buscamos ahora alguna diferencia en compras de celulares re-acondicionados segun la condición de estos."
   ]
  },
  {
   "cell_type": "code",
   "execution_count": null,
   "metadata": {},
   "outputs": [],
   "source": [
    "condiciones_analizadas = ['Bom', 'Muito Bom', 'Excelente']\n",
    "\n",
    "condicion = cronologia.groupby('model')['condition'].value_counts().unstack('condition')\n",
    "condicion = condicion[condiciones_analizadas]\n",
    "condicion = condicion.loc[condicion.index.isin(modelos_prominentes)]\n",
    "\n",
    "condicion['total'] = condicion.sum(axis=1)\n",
    "for c in condicion:\n",
    "    condicion[c] = ( condicion[c] / condicion['total'] ) * 100\n",
    "\n",
    "bom = condicion['Bom']\n",
    "muito_bom = condicion['Muito Bom']\n",
    "excelente = condicion['Excelente']\n",
    "\n",
    "plt.bar(bom.index, bom, color=sns.xkcd_rgb[\"muted blue\"],log=True)\n",
    "plt.bar(muito_bom.index, muito_bom, bottom=bom, color=sns.xkcd_rgb[\"muted green\"],log=True)\n",
    "plt.bar(excelente.index, excelente, bottom=bom+muito_bom, color=sns.xkcd_rgb[\"muted pink\"],log=True)\n",
    "plt.legend(condiciones_analizadas)\n",
    "plt.ylabel('Cantidad', fontsize=24)\n",
    "plt.xlabel('Modelo', fontsize=24)\n",
    "plt.title('Cantidad de vistas y compras segun condición de modelo', fontsize=30)\n",
    "ax.set_yticklabels(orden)\n",
    "\n",
    "\n",
    "plt.savefig('informe/figures/10-condicion-stackedbarplot.png')"
   ]
  },
  {
   "cell_type": "markdown",
   "metadata": {},
   "source": [
    "Vemos como nuevamente hay una diferencia substancial entre celulares marca Apple y celulares marca Samsung. Para los Samsungs, los usuarios estan más dispuestos a ver o comprar celulares en peor condición, mientras que para los Apple lo que más se buscan son celulares en mejor condición."
   ]
  },
  {
   "cell_type": "markdown",
   "metadata": {},
   "source": [
    "### ¿Como varían los colores de los modelos más prominentes?"
   ]
  },
  {
   "cell_type": "code",
   "execution_count": null,
   "metadata": {},
   "outputs": [],
   "source": [
    "sns_colors = {'Preto':'black', 'Dourado':'gold', 'Branco':'white', 'Prata':'silver', 'Rosa':'pink', 'Azul':'blue',\n",
    "       'Black Piano':'midnightblue', 'Olympic Edition':'dodgerblue', 'Cinza espacial':'grey', 'Prateado':'darkgray',\n",
    "       'Ouro Rosa':'hotpink', 'Preto Matte':'darkslategray', 'Preto Brilhante':'k', 'Vermelho':'red'} \n",
    "\n",
    "data = df.loc[df['model'].isin(modelos_prominentes)][['model','color']].groupby('model')['color'].value_counts().to_frame()\n",
    "data = data.rename(columns={'color':'count'})\n",
    "data = data.reset_index()\n",
    "visu = plt.scatter(data['model'], data['count'], s=3000, alpha=0.5,c=data['color'].apply(lambda x:sns_colors[x]))\n",
    "visu.axes.set_title(\"Visitas a modelos prominentes segun color\")\n",
    "visu.axes.set_xlabel(\"Modelo\")\n",
    "visu.axes.set_ylabel(\"Visitas\")\n",
    "\n",
    "plt.savefig('informe/figures/11-colores-bubbleplot.png')"
   ]
  },
  {
   "cell_type": "markdown",
   "metadata": {},
   "source": [
    "## Análisis de páginas estáticas"
   ]
  },
  {
   "cell_type": "code",
   "execution_count": null,
   "metadata": {},
   "outputs": [],
   "source": [
    "df['staticpage'].value_counts()"
   ]
  },
  {
   "cell_type": "markdown",
   "metadata": {},
   "source": [
    "Podemos ver que la cantidad de visitas a **Customer Service** es mucho mayor a la página de **FAQ**. Para optimizar recursos sería más eficiente intentar de redireccionar el tráfico a FAQ, haciendo más visible los links a la página y de ser necesario mejorándola."
   ]
  },
  {
   "cell_type": "code",
   "execution_count": null,
   "metadata": {},
   "outputs": [],
   "source": [
    "faq_and_service = df[(df['staticpage'] == 'CustomerService') | (df['staticpage'] == 'FaqEcommerce')]['staticpage']\n",
    "visu = sns.countplot(faq_and_service)\n",
    "visu.set(xlabel='Page', ylabel='Visits')\n",
    "visu.axes.set_title('Cantidad de eventos según staticpage')\n",
    "\n",
    "plt.savefig('informe/figures/12-static_pages-barplot.png')"
   ]
  },
  {
   "cell_type": "markdown",
   "metadata": {},
   "source": [
    "## Análisis de New vs Returning"
   ]
  },
  {
   "cell_type": "markdown",
   "metadata": {},
   "source": [
    "La intención de este  análisis es mostrar que cantidad de usuarios solo ingresan una vez al site.\n",
    "El primer gráfico no nos aporta información, porque todos los usuarios que volvieron a ingresar, en su primera vez fueron **New**."
   ]
  },
  {
   "cell_type": "code",
   "execution_count": null,
   "metadata": {},
   "outputs": [],
   "source": [
    "order = df['new_vs_returning'].value_counts().index\n",
    "visu = sns.countplot(df['new_vs_returning'].dropna(), order=order)\n",
    "visu.set(xlabel='Tipo de usario', ylabel='Visitas al home')\n",
    "visu.axes.set_title('Cantidad de eventos según marca')\n",
    "\n",
    "plt.savefig('informe/figures/130-eventos_new_returning-barplot.png')"
   ]
  },
  {
   "cell_type": "markdown",
   "metadata": {},
   "source": [
    "En este gráfico sí se puede apreciar los valores reales de usuarios que regresan con los que sólo entraron una vez.\n",
    "Para aumentar la tasa de personas que regresan a ĺa página proponemos aumentar el presupuesto en publicidad y mejorar la experiencia de usuario de la home para que provea al usuario una experiencia más amena."
   ]
  },
  {
   "cell_type": "code",
   "execution_count": null,
   "metadata": {},
   "outputs": [],
   "source": [
    "gb = df.groupby(['person', 'new_vs_returning']).agg({'new_vs_returning' : 'size'})\n",
    "gb = gb.unstack(level='new_vs_returning')\n",
    "gb = gb['new_vs_returning']\n",
    "returners_count = gb['Returning'].count()\n",
    "only_once_count = gb['New'].count() - returners_count\n",
    "\n",
    "objects = ('Regresan', 'Sólo una vez')\n",
    "y_pos = np.arange(len(objects))\n",
    "type_users_count = pd.Series([returners_count, only_once_count])\n",
    " \n",
    "plt.bar(y_pos, type_users_count, align='center', alpha=0.5)\n",
    "plt.xticks(y_pos, objects)\n",
    "plt.ylabel('Cantidad')\n",
    "plt.title('Tipos de usuarios')\n",
    " \n",
    "plt.savefig('informe/figures/131-tipos_usuarios-barplot.png')\n",
    "plt.show()"
   ]
  },
  {
   "cell_type": "markdown",
   "metadata": {},
   "source": [
    "## Análisis de Brands"
   ]
  },
  {
   "cell_type": "code",
   "execution_count": null,
   "metadata": {},
   "outputs": [],
   "source": [
    "order = df['brand'].value_counts().index\n",
    "visu = sns.countplot(df['brand'].dropna(), order=order)\n",
    "visu.axes.set_title('Cantidad de eventos segun marca')\n",
    "visu.axes.set_xlabel('Cantidad', fontsize=28);\n",
    "visu.axes.set_ylabel('Marca', fontsize=28);\n",
    "sns.set(font_scale=2)\n",
    "\n",
    "plt.savefig('informe/figures/141-eventos_marca-barplot.png')"
   ]
  },
  {
   "cell_type": "code",
   "execution_count": null,
   "metadata": {},
   "outputs": [],
   "source": [
    "df_conv_by_brand = df.loc[(df['event'] == 'conversion') | (df['event'] == 'checkout')][['event', 'brand']]\n",
    "# Es necesario para que no me muestre las otras categorías que ya fueron filtradas\n",
    "df_conv_by_brand['event'] = df_conv_by_brand['event'].astype('object').astype('category')\n",
    "ax = sns.countplot(x='brand', hue='event', data=df_conv_by_brand)\n",
    "ax.set_yscale('log')\n",
    "\n",
    "ax.legend(loc='upper left', fontsize=20,bbox_to_anchor=(0, 1.1))\n",
    "ax.set_xlabel('Cantidad (log)', fontsize=28);\n",
    "ax.set_ylabel('Marca', fontsize=28);\n",
    "ax.set_title('Relación de conversiones y checkouts en escala logarítmica', fontsize=28);\n",
    "sns.set(font_scale=3)\n",
    "\n",
    "plt.savefig('informe/figures/142-conversiones_checkouts_marca-barplot.png')"
   ]
  },
  {
   "cell_type": "markdown",
   "metadata": {},
   "source": [
    "## Análisis de tipos de dispositivos"
   ]
  },
  {
   "cell_type": "markdown",
   "metadata": {},
   "source": [
    "Cómo la mayoría del tráfico proviene de smartphones y computadoras, debería dedicarse una mayor cantidad de recursos a desarrollar la aplicación para estos dispositivos y no dedicar mucho tiempo y desarrolladores a las aplicaciones para tablets."
   ]
  },
  {
   "cell_type": "code",
   "execution_count": null,
   "metadata": {},
   "outputs": [],
   "source": [
    "order = df['device_type'].value_counts().index\n",
    "visu = sns.countplot(df['device_type'].dropna(), order=order)\n",
    "visu.set(xlabel='Device Type', ylabel='Visits')\n",
    "visu.axes.set_title('Cantidad de eventos segun tipo de dispositivo')\n",
    "\n",
    "plt.savefig('informe/figures/15-eventos_tipo-barplot.png')"
   ]
  },
  {
   "cell_type": "markdown",
   "metadata": {},
   "source": [
    "## Análisis de publicidad"
   ]
  },
  {
   "cell_type": "markdown",
   "metadata": {},
   "source": [
    "### ¿Aumentó Trocafone el presupuesto en publicidad en algún período específico?"
   ]
  },
  {
   "cell_type": "code",
   "execution_count": null,
   "metadata": {},
   "outputs": [],
   "source": [
    "publicitados = df.loc[df['campaign_source'].notnull()][['campaign_source','month_number']] \n",
    "\n",
    "month_counts = publicitados.groupby('month_number').count()\n",
    "month_counts = month_counts['campaign_source']\n",
    "visu = sns.barplot(x=month_counts.index, y=month_counts)\n",
    "visu.set_title('Cantidad de visitas por mes por una publicidad')\n",
    "visu.set_ylabel('Visitas')\n",
    "visu.set_xlabel('Mes')\n",
    "visu.set_xticklabels(['Jan', 'Feb', 'Mar', 'Apr', 'May', '(First half) Jun'])\n",
    "\n",
    "plt.savefig('informe/figures/16-presupuesto-barplot.png')"
   ]
  },
  {
   "cell_type": "markdown",
   "metadata": {},
   "source": [
    "No se halló la respuesta buscada ya que la distribución presentada de la cantidad de visitas de campaign_hit remite a la misma distribución de eventos por usuario. Mayo es el mes que notoriamente tiene una mayor cantidad de eventos generalmente pero también de campaign_hits. Por lo tanto concluimos que el gráfico es irrelevante para este tipo de análisis."
   ]
  },
  {
   "cell_type": "markdown",
   "metadata": {},
   "source": [
    "### ¿Cuáles son los métodos de publicidad más usados?"
   ]
  },
  {
   "cell_type": "code",
   "execution_count": null,
   "metadata": {},
   "outputs": [],
   "source": [
    "ranking = df['campaign_source'].value_counts()\n",
    "ranking_visu = ranking.head(5)\n",
    "\n",
    "visu = squarify.plot(ranking_visu, label=ranking_visu.index, alpha=.5, color=['red','cyan','yellow','grey','purple','orange','blue'])\n",
    "visu.axes.set_title('5 metodos de publicidad más clikeados')\n",
    "\n",
    "plt.savefig('informe/figures/170-publicidad_clickeada-barplot.png')"
   ]
  },
  {
   "cell_type": "markdown",
   "metadata": {},
   "source": [
    "Por su importancia mundial era esperable que Google sea el método de publicidad con más alcance. Se procede a analizar los otros motores de b"
   ]
  },
  {
   "cell_type": "code",
   "execution_count": null,
   "metadata": {},
   "outputs": [],
   "source": [
    "ranking = ranking.drop('google')\n",
    "ranking_visu2 = ranking.head(10)\n",
    "\n",
    "ranking_visu2\n",
    "visu = squarify.plot(ranking_visu2, label=ranking.index, alpha=.5, color=['red','cyan','yellow','grey','purple','orange','blue'])\n",
    "visu.axes.set_title('10 metodos de publicidad más clikeados sin Google')\n",
    "\n",
    "plt.savefig('informe/figures/171-publicidad_sin_google-barplot.png')"
   ]
  },
  {
   "cell_type": "markdown",
   "metadata": {},
   "source": [
    "## Análisis de canales de tráfico\n",
    "\n",
    "Canales de Tráfico:\n",
    "\n",
    "* Paid: Usuarios que llegan mediante una campaña de marketing.\n",
    "\n",
    "* Direct: Usuarios que llegan directamente al sitio, sin ayuda externa (por ejemplo, escribiendo directamente la url en el explorador web, un marcador, un link de un documento sin tracking)\n",
    "\n",
    "* Email: Usuarios que llegan desde un link en un email.\n",
    "\n",
    "* Organic: Usuarios que llegan desde motores de búsqueda.\n",
    "\n",
    "* Referral: Usuarios que llegan al sitio desde otro sitio web. \n",
    "\n",
    "* Social: Usuarios que llegan desde redes sociales."
   ]
  },
  {
   "cell_type": "markdown",
   "metadata": {},
   "source": [
    "### Revenue by Traffic Source\n",
    "\n",
    "Otra importante métrica a analizar del e-commerce es la del revenue by traffic source. Con esto nos referimos a que channel de trafico atrae más consumidores que efectivamente compran."
   ]
  },
  {
   "cell_type": "code",
   "execution_count": null,
   "metadata": {},
   "outputs": [],
   "source": [
    "channels = df[(df['channel'].notnull()) & (df['channel'] != 'Unknown')][['channel','event','person']].drop_duplicates()\n",
    "channels['total persons'] = channels.groupby('channel')['person'].transform('count')\n",
    "\n",
    "users = channels[['channel','person']]\n",
    "total_persons = channels[['channel','total persons']].drop_duplicates()\n",
    "conversions = df[df['event']=='conversion'][['person']]\n",
    "total_conversions = users.merge(conversions, how='right').groupby('channel').agg({'person':'count'}).rename(columns={'person':'total conversions'})\n",
    "\n",
    "channels_conversions = channels.merge(total_conversions,left_on='channel',right_index=True)\n",
    "channels_conversions = channels_conversions[['channel','total persons','total conversions']].drop_duplicates()\n",
    "channels_conversions['revenue'] = ( channels_conversions['total conversions'] / channels_conversions['total persons'] ) * 100\n",
    "channels_conversions"
   ]
  },
  {
   "cell_type": "code",
   "execution_count": null,
   "metadata": {},
   "outputs": [],
   "source": [
    "revenue_label = list(\"{:.2f}%\".format(x) for x in channels_conversions['revenue'])\n",
    "\n",
    "barra_total = sns.barplot(x='channel', y='total persons', data=channels_conversions, color=sns.xkcd_rgb[\"muted blue\"])\n",
    "barra_conversiones = sns.barplot(x='channel', y='total conversions', data=channels_conversions, color=sns.xkcd_rgb[\"muted green\"])\n",
    "barra_total.set_yscale('log')\n",
    "barra_conversiones.set_yscale('log')\n",
    "\n",
    "for i,barra in enumerate(barra_total.patches[:6]):\n",
    "    height = barra.get_height()\n",
    "    barra_conversiones.text(barra.get_x() + barra.get_width()/2., height + 10, revenue_label[i], ha='center')\n",
    "\n",
    "barra_total.set_title('Revenue by Traffic Source (escala logarítmica)')\n",
    "barra_total.set_ylabel('Cantidad de eventos (log)')\n",
    "barra_total.set_xlabel('Canal de tráfico')\n",
    "barra_total.legend(['conversions','total'])\n",
    "\n",
    "plt.savefig('informe/figures/180-revenue_traffic-boxplot.png')"
   ]
  },
  {
   "cell_type": "markdown",
   "metadata": {},
   "source": [
    "Como se puede ver si bien el canal pago es el que más usuarios atrae, son otros canales con menos usuarios, como las redes sociales, donde más ganancia hay, y por ende donde mayor foco e inversión hay que hacer."
   ]
  },
  {
   "cell_type": "markdown",
   "metadata": {},
   "source": [
    "## ¿Cuál es la distribución de la cantidad de eventos producidos por usuario en función de los eventos?"
   ]
  },
  {
   "cell_type": "code",
   "execution_count": null,
   "metadata": {},
   "outputs": [],
   "source": [
    "usuarios = df.groupby(['person', 'event'])\n",
    "usuarios = usuarios.size().unstack(level = 'event')\n",
    "usuarios = usuarios.fillna(usuarios.mean())\n",
    "p = sns.boxplot(data=usuarios)\n",
    "sns.set(font_scale=1.5)\n",
    "\n",
    "plt.savefig('informe/figures/190-usuarios_eventos-boxplot.png')"
   ]
  },
  {
   "cell_type": "markdown",
   "metadata": {},
   "source": [
    "Como se puede observar el gráfico no es ilustrativo de la respuesta que se desea obtener. Por lo tanto, se propone truncar la éscala del eje y a un valor en el cual se puedan observar las figuras de manera apropiada y representativa."
   ]
  },
  {
   "cell_type": "code",
   "execution_count": null,
   "metadata": {},
   "outputs": [],
   "source": [
    "usuarios = df.groupby(['person', 'event'])\n",
    "usuarios = usuarios.size().unstack(level = 'event')\n",
    "usuarios = usuarios.fillna(usuarios.mean())\n",
    "p = sns.boxplot(data=usuarios)\n",
    "p.axes.set_ylim((0,25))\n",
    "\n",
    "plt.savefig('informe/figures/191-usuarios_eventos_truncado-boxplot.png')"
   ]
  },
  {
   "cell_type": "markdown",
   "metadata": {},
   "source": [
    "Se propone analizar la cantidad de eventos producidos por usuario en un gráfico de tipo boxplot. Se puede observar que los usuarios suelen más comúnmente ver los productos antes que comprarlos, algo que podía predecirse anteriormente. Lo que puede resultar llamativo es que la cantidad de usuarios que ven productos es mayor a los que los buscan, pero esto se puede explicar por el hecho de que en una búsqueda pueden verse varios productos a la vez y eso cuenta como un solo evento. En cambio, ante el evento viewed products al ver un producto se contabiliza como un solo evento."
   ]
  }
 ],
 "metadata": {
  "kernelspec": {
   "display_name": "Python 3",
   "language": "python",
   "name": "python3"
  },
  "language_info": {
   "codemirror_mode": {
    "name": "ipython",
    "version": 3
   },
   "file_extension": ".py",
   "mimetype": "text/x-python",
   "name": "python",
   "nbconvert_exporter": "python",
   "pygments_lexer": "ipython3",
   "version": "3.6.3"
  },
  "toc": {
   "base_numbering": 1,
   "nav_menu": {},
   "number_sections": true,
   "sideBar": true,
   "skip_h1_title": true,
   "title_cell": "Índice",
   "title_sidebar": "Contenido",
   "toc_cell": true,
   "toc_position": {
    "height": "calc(100% - 180px)",
    "left": "10px",
    "top": "150px",
    "width": "204.867px"
   },
   "toc_section_display": true,
   "toc_window_display": true
  }
 },
 "nbformat": 4,
 "nbformat_minor": 2
}
