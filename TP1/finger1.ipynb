{
 "cells": [
  {
   "cell_type": "code",
   "execution_count": 26,
   "metadata": {
    "scrolled": true
   },
   "outputs": [
    {
     "data": {
      "text/html": [
       "<div>\n",
       "<style scoped>\n",
       "    .dataframe tbody tr th:only-of-type {\n",
       "        vertical-align: middle;\n",
       "    }\n",
       "\n",
       "    .dataframe tbody tr th {\n",
       "        vertical-align: top;\n",
       "    }\n",
       "\n",
       "    .dataframe thead th {\n",
       "        text-align: right;\n",
       "    }\n",
       "</style>\n",
       "<table border=\"1\" class=\"dataframe\">\n",
       "  <thead>\n",
       "    <tr style=\"text-align: right;\">\n",
       "      <th></th>\n",
       "      <th>timestamp</th>\n",
       "      <th>event</th>\n",
       "      <th>person</th>\n",
       "      <th>url</th>\n",
       "      <th>sku</th>\n",
       "      <th>model</th>\n",
       "      <th>condition</th>\n",
       "      <th>storage</th>\n",
       "      <th>color</th>\n",
       "      <th>skus</th>\n",
       "      <th>...</th>\n",
       "      <th>search_engine</th>\n",
       "      <th>channel</th>\n",
       "      <th>new_vs_returning</th>\n",
       "      <th>city</th>\n",
       "      <th>region</th>\n",
       "      <th>country</th>\n",
       "      <th>device_type</th>\n",
       "      <th>screen_resolution</th>\n",
       "      <th>operating_system_version</th>\n",
       "      <th>browser_version</th>\n",
       "    </tr>\n",
       "  </thead>\n",
       "  <tbody>\n",
       "    <tr>\n",
       "      <th>0</th>\n",
       "      <td>2018-05-31 23:38:05</td>\n",
       "      <td>ad campaign hit</td>\n",
       "      <td>0004b0a2</td>\n",
       "      <td>/comprar/iphone/iphone-5s</td>\n",
       "      <td>NaN</td>\n",
       "      <td>NaN</td>\n",
       "      <td>NaN</td>\n",
       "      <td>NaN</td>\n",
       "      <td>NaN</td>\n",
       "      <td>NaN</td>\n",
       "      <td>...</td>\n",
       "      <td>NaN</td>\n",
       "      <td>NaN</td>\n",
       "      <td>NaN</td>\n",
       "      <td>NaN</td>\n",
       "      <td>NaN</td>\n",
       "      <td>NaN</td>\n",
       "      <td>NaN</td>\n",
       "      <td>NaN</td>\n",
       "      <td>NaN</td>\n",
       "      <td>NaN</td>\n",
       "    </tr>\n",
       "    <tr>\n",
       "      <th>1</th>\n",
       "      <td>2018-05-31 23:38:05</td>\n",
       "      <td>visited site</td>\n",
       "      <td>0004b0a2</td>\n",
       "      <td>NaN</td>\n",
       "      <td>NaN</td>\n",
       "      <td>NaN</td>\n",
       "      <td>NaN</td>\n",
       "      <td>NaN</td>\n",
       "      <td>NaN</td>\n",
       "      <td>NaN</td>\n",
       "      <td>...</td>\n",
       "      <td>NaN</td>\n",
       "      <td>Paid</td>\n",
       "      <td>New</td>\n",
       "      <td>Camaragibe</td>\n",
       "      <td>Pernambuco</td>\n",
       "      <td>Brazil</td>\n",
       "      <td>Smartphone</td>\n",
       "      <td>360x640</td>\n",
       "      <td>Android 6</td>\n",
       "      <td>Chrome Mobile 39</td>\n",
       "    </tr>\n",
       "    <tr>\n",
       "      <th>2</th>\n",
       "      <td>2018-05-31 23:38:09</td>\n",
       "      <td>viewed product</td>\n",
       "      <td>0004b0a2</td>\n",
       "      <td>NaN</td>\n",
       "      <td>2694.0</td>\n",
       "      <td>iPhone 5s</td>\n",
       "      <td>Bom</td>\n",
       "      <td>32GB</td>\n",
       "      <td>Cinza espacial</td>\n",
       "      <td>NaN</td>\n",
       "      <td>...</td>\n",
       "      <td>NaN</td>\n",
       "      <td>NaN</td>\n",
       "      <td>NaN</td>\n",
       "      <td>NaN</td>\n",
       "      <td>NaN</td>\n",
       "      <td>NaN</td>\n",
       "      <td>NaN</td>\n",
       "      <td>NaN</td>\n",
       "      <td>NaN</td>\n",
       "      <td>NaN</td>\n",
       "    </tr>\n",
       "    <tr>\n",
       "      <th>3</th>\n",
       "      <td>2018-05-31 23:38:40</td>\n",
       "      <td>checkout</td>\n",
       "      <td>0004b0a2</td>\n",
       "      <td>NaN</td>\n",
       "      <td>2694.0</td>\n",
       "      <td>iPhone 5s</td>\n",
       "      <td>Bom</td>\n",
       "      <td>32GB</td>\n",
       "      <td>Cinza espacial</td>\n",
       "      <td>NaN</td>\n",
       "      <td>...</td>\n",
       "      <td>NaN</td>\n",
       "      <td>NaN</td>\n",
       "      <td>NaN</td>\n",
       "      <td>NaN</td>\n",
       "      <td>NaN</td>\n",
       "      <td>NaN</td>\n",
       "      <td>NaN</td>\n",
       "      <td>NaN</td>\n",
       "      <td>NaN</td>\n",
       "      <td>NaN</td>\n",
       "    </tr>\n",
       "    <tr>\n",
       "      <th>4</th>\n",
       "      <td>2018-05-29 13:29:25</td>\n",
       "      <td>viewed product</td>\n",
       "      <td>0006a21a</td>\n",
       "      <td>NaN</td>\n",
       "      <td>15338.0</td>\n",
       "      <td>Samsung Galaxy S8</td>\n",
       "      <td>Bom</td>\n",
       "      <td>64GB</td>\n",
       "      <td>Dourado</td>\n",
       "      <td>NaN</td>\n",
       "      <td>...</td>\n",
       "      <td>NaN</td>\n",
       "      <td>NaN</td>\n",
       "      <td>NaN</td>\n",
       "      <td>NaN</td>\n",
       "      <td>NaN</td>\n",
       "      <td>NaN</td>\n",
       "      <td>NaN</td>\n",
       "      <td>NaN</td>\n",
       "      <td>NaN</td>\n",
       "      <td>NaN</td>\n",
       "    </tr>\n",
       "  </tbody>\n",
       "</table>\n",
       "<p>5 rows × 23 columns</p>\n",
       "</div>"
      ],
      "text/plain": [
       "             timestamp            event    person                        url  \\\n",
       "0  2018-05-31 23:38:05  ad campaign hit  0004b0a2  /comprar/iphone/iphone-5s   \n",
       "1  2018-05-31 23:38:05     visited site  0004b0a2                        NaN   \n",
       "2  2018-05-31 23:38:09   viewed product  0004b0a2                        NaN   \n",
       "3  2018-05-31 23:38:40         checkout  0004b0a2                        NaN   \n",
       "4  2018-05-29 13:29:25   viewed product  0006a21a                        NaN   \n",
       "\n",
       "       sku              model condition storage           color skus  \\\n",
       "0      NaN                NaN       NaN     NaN             NaN  NaN   \n",
       "1      NaN                NaN       NaN     NaN             NaN  NaN   \n",
       "2   2694.0          iPhone 5s       Bom    32GB  Cinza espacial  NaN   \n",
       "3   2694.0          iPhone 5s       Bom    32GB  Cinza espacial  NaN   \n",
       "4  15338.0  Samsung Galaxy S8       Bom    64GB         Dourado  NaN   \n",
       "\n",
       "         ...        search_engine channel new_vs_returning        city  \\\n",
       "0        ...                  NaN     NaN              NaN         NaN   \n",
       "1        ...                  NaN    Paid              New  Camaragibe   \n",
       "2        ...                  NaN     NaN              NaN         NaN   \n",
       "3        ...                  NaN     NaN              NaN         NaN   \n",
       "4        ...                  NaN     NaN              NaN         NaN   \n",
       "\n",
       "       region country device_type screen_resolution operating_system_version  \\\n",
       "0         NaN     NaN         NaN               NaN                      NaN   \n",
       "1  Pernambuco  Brazil  Smartphone           360x640                Android 6   \n",
       "2         NaN     NaN         NaN               NaN                      NaN   \n",
       "3         NaN     NaN         NaN               NaN                      NaN   \n",
       "4         NaN     NaN         NaN               NaN                      NaN   \n",
       "\n",
       "    browser_version  \n",
       "0               NaN  \n",
       "1  Chrome Mobile 39  \n",
       "2               NaN  \n",
       "3               NaN  \n",
       "4               NaN  \n",
       "\n",
       "[5 rows x 23 columns]"
      ]
     },
     "execution_count": 26,
     "metadata": {},
     "output_type": "execute_result"
    }
   ],
   "source": [
    "# Set-up y vista rápida de una muestra\n",
    "import pandas as pd\n",
    "import matplotlib.pyplot as plt\n",
    "\n",
    "events_df = pd.read_csv('events.csv', low_memory=False)\n",
    "events_df.head()"
   ]
  },
  {
   "cell_type": "code",
   "execution_count": 27,
   "metadata": {},
   "outputs": [
    {
     "data": {
      "text/html": [
       "<div>\n",
       "<style scoped>\n",
       "    .dataframe tbody tr th:only-of-type {\n",
       "        vertical-align: middle;\n",
       "    }\n",
       "\n",
       "    .dataframe tbody tr th {\n",
       "        vertical-align: top;\n",
       "    }\n",
       "\n",
       "    .dataframe thead th {\n",
       "        text-align: right;\n",
       "    }\n",
       "</style>\n",
       "<table border=\"1\" class=\"dataframe\">\n",
       "  <thead>\n",
       "    <tr style=\"text-align: right;\">\n",
       "      <th></th>\n",
       "      <th>timestamp</th>\n",
       "      <th>event</th>\n",
       "      <th>person</th>\n",
       "      <th>url</th>\n",
       "      <th>sku</th>\n",
       "      <th>model</th>\n",
       "      <th>condition</th>\n",
       "      <th>storage</th>\n",
       "      <th>color</th>\n",
       "      <th>skus</th>\n",
       "      <th>...</th>\n",
       "      <th>search_engine</th>\n",
       "      <th>channel</th>\n",
       "      <th>new_vs_returning</th>\n",
       "      <th>city</th>\n",
       "      <th>region</th>\n",
       "      <th>country</th>\n",
       "      <th>device_type</th>\n",
       "      <th>screen_resolution</th>\n",
       "      <th>operating_system_version</th>\n",
       "      <th>browser_version</th>\n",
       "    </tr>\n",
       "  </thead>\n",
       "  <tbody>\n",
       "    <tr>\n",
       "      <th>count</th>\n",
       "      <td>1011288</td>\n",
       "      <td>1011288</td>\n",
       "      <td>1011288</td>\n",
       "      <td>82756</td>\n",
       "      <td>563838</td>\n",
       "      <td>564284</td>\n",
       "      <td>563836</td>\n",
       "      <td>563836</td>\n",
       "      <td>563836</td>\n",
       "      <td>221699</td>\n",
       "      <td>...</td>\n",
       "      <td>50957</td>\n",
       "      <td>87378</td>\n",
       "      <td>87378</td>\n",
       "      <td>87378</td>\n",
       "      <td>87378</td>\n",
       "      <td>87378</td>\n",
       "      <td>87378</td>\n",
       "      <td>87378</td>\n",
       "      <td>87378</td>\n",
       "      <td>87378</td>\n",
       "    </tr>\n",
       "    <tr>\n",
       "      <th>unique</th>\n",
       "      <td>793805</td>\n",
       "      <td>11</td>\n",
       "      <td>27624</td>\n",
       "      <td>227</td>\n",
       "      <td>3574</td>\n",
       "      <td>202</td>\n",
       "      <td>5</td>\n",
       "      <td>8</td>\n",
       "      <td>63</td>\n",
       "      <td>35310</td>\n",
       "      <td>...</td>\n",
       "      <td>4</td>\n",
       "      <td>7</td>\n",
       "      <td>2</td>\n",
       "      <td>1939</td>\n",
       "      <td>93</td>\n",
       "      <td>46</td>\n",
       "      <td>4</td>\n",
       "      <td>282</td>\n",
       "      <td>121</td>\n",
       "      <td>343</td>\n",
       "    </tr>\n",
       "    <tr>\n",
       "      <th>top</th>\n",
       "      <td>2018-05-15 15:56:06</td>\n",
       "      <td>viewed product</td>\n",
       "      <td>71492f2b</td>\n",
       "      <td>/</td>\n",
       "      <td>2830.0</td>\n",
       "      <td>iPhone 6</td>\n",
       "      <td>Bom</td>\n",
       "      <td>16GB</td>\n",
       "      <td>Preto</td>\n",
       "      <td>2820,6706,6720,2750,6649,7251,6663,12604,7224,...</td>\n",
       "      <td>...</td>\n",
       "      <td>Google</td>\n",
       "      <td>Paid</td>\n",
       "      <td>Returning</td>\n",
       "      <td>Unknown</td>\n",
       "      <td>Sao Paulo</td>\n",
       "      <td>Brazil</td>\n",
       "      <td>Smartphone</td>\n",
       "      <td>360x640</td>\n",
       "      <td>Windows 7</td>\n",
       "      <td>Chrome 66.0</td>\n",
       "    </tr>\n",
       "    <tr>\n",
       "      <th>freq</th>\n",
       "      <td>11</td>\n",
       "      <td>528931</td>\n",
       "      <td>2771</td>\n",
       "      <td>28323</td>\n",
       "      <td>4282</td>\n",
       "      <td>50916</td>\n",
       "      <td>243014</td>\n",
       "      <td>190833</td>\n",
       "      <td>132960</td>\n",
       "      <td>594</td>\n",
       "      <td>...</td>\n",
       "      <td>50240</td>\n",
       "      <td>44193</td>\n",
       "      <td>60480</td>\n",
       "      <td>15819</td>\n",
       "      <td>24996</td>\n",
       "      <td>84308</td>\n",
       "      <td>44239</td>\n",
       "      <td>30009</td>\n",
       "      <td>19675</td>\n",
       "      <td>22611</td>\n",
       "    </tr>\n",
       "  </tbody>\n",
       "</table>\n",
       "<p>4 rows × 23 columns</p>\n",
       "</div>"
      ],
      "text/plain": [
       "                  timestamp           event    person    url     sku  \\\n",
       "count               1011288         1011288   1011288  82756  563838   \n",
       "unique               793805              11     27624    227    3574   \n",
       "top     2018-05-15 15:56:06  viewed product  71492f2b      /  2830.0   \n",
       "freq                     11          528931      2771  28323    4282   \n",
       "\n",
       "           model condition storage   color  \\\n",
       "count     564284    563836  563836  563836   \n",
       "unique       202         5       8      63   \n",
       "top     iPhone 6       Bom    16GB   Preto   \n",
       "freq       50916    243014  190833  132960   \n",
       "\n",
       "                                                     skus       ...        \\\n",
       "count                                              221699       ...         \n",
       "unique                                              35310       ...         \n",
       "top     2820,6706,6720,2750,6649,7251,6663,12604,7224,...       ...         \n",
       "freq                                                  594       ...         \n",
       "\n",
       "       search_engine channel new_vs_returning     city     region country  \\\n",
       "count          50957   87378            87378    87378      87378   87378   \n",
       "unique             4       7                2     1939         93      46   \n",
       "top           Google    Paid        Returning  Unknown  Sao Paulo  Brazil   \n",
       "freq           50240   44193            60480    15819      24996   84308   \n",
       "\n",
       "       device_type screen_resolution operating_system_version browser_version  \n",
       "count        87378             87378                    87378           87378  \n",
       "unique           4               282                      121             343  \n",
       "top     Smartphone           360x640               Windows 7      Chrome 66.0  \n",
       "freq         44239             30009                    19675           22611  \n",
       "\n",
       "[4 rows x 23 columns]"
      ]
     },
     "execution_count": 27,
     "metadata": {},
     "output_type": "execute_result"
    }
   ],
   "source": [
    "events_df.describe()"
   ]
  },
  {
   "cell_type": "markdown",
   "metadata": {},
   "source": [
    "### 1. Analizar cuál es el tipo de evento predominante en el set de datos."
   ]
  },
  {
   "cell_type": "code",
   "execution_count": 28,
   "metadata": {},
   "outputs": [
    {
     "data": {
      "text/plain": [
       "'viewed product'"
      ]
     },
     "execution_count": 28,
     "metadata": {},
     "output_type": "execute_result"
    }
   ],
   "source": [
    "eventos = events_df['event'].value_counts()\n",
    "evento_predominante = eventos.index[0]\n",
    "\n",
    "# El evento predominante es.......\n",
    "evento_predominante"
   ]
  },
  {
   "cell_type": "code",
   "execution_count": 29,
   "metadata": {},
   "outputs": [
    {
     "data": {
      "text/plain": [
       "viewed product       528931\n",
       "brand listing         98635\n",
       "visited site          87378\n",
       "ad campaign hit       82827\n",
       "generic listing       67534\n",
       "searched products     56073\n",
       "search engine hit     50957\n",
       "checkout              33735\n",
       "staticpage             3598\n",
       "conversion             1172\n",
       "lead                    448\n",
       "Name: event, dtype: int64"
      ]
     },
     "execution_count": 29,
     "metadata": {},
     "output_type": "execute_result"
    }
   ],
   "source": [
    "# Lista entera\n",
    "eventos"
   ]
  },
  {
   "cell_type": "code",
   "execution_count": 73,
   "metadata": {},
   "outputs": [
    {
     "data": {
      "image/png": "[encoded data removed]",
      "text/plain": [
       "<Figure size 1080x720 with 1 Axes>"
      ]
     },
     "metadata": {},
     "output_type": "display_data"
    }
   ],
   "source": [
    "# Siendo una variable categórica, se puede ver cómodamente en un gráfico de barras\n",
    "\n",
    "ax = eventos.plot(kind='barh', title =\"Eventos por usuario\", figsize=(15, 10), legend=True, fontsize=12)\n",
    "ax.set_xlabel(\"Evento\", fontsize=12)\n",
    "ax.set_ylabel(\"Usuario\", fontsize=12)\n",
    "plt.show()"
   ]
  },
  {
   "cell_type": "markdown",
   "metadata": {},
   "source": [
    "### 2. Calcular cuales son los 5 productos (identificados por sku) con mayor cantidad de conversiones."
   ]
  },
  {
   "cell_type": "code",
   "execution_count": 69,
   "metadata": {},
   "outputs": [
    {
     "data": {
      "text/plain": [
       "6371.0    30\n",
       "6370.0    18\n",
       "7631.0    17\n",
       "2692.0    16\n",
       "3371.0    14\n",
       "Name: sku, dtype: int64"
      ]
     },
     "execution_count": 69,
     "metadata": {},
     "output_type": "execute_result"
    }
   ],
   "source": [
    "productos_comprados = events_df.loc[events_df['event'] == 'conversion']\n",
    "productos_comprados = productos_comprados['sku'].value_counts()\n",
    "top_5 = productos_comprados.head(5)\n",
    "top_5"
   ]
  },
  {
   "cell_type": "code",
   "execution_count": 70,
   "metadata": {},
   "outputs": [
    {
     "data": {
      "image/png": "[encoded data removed]",
      "text/plain": [
       "<Figure size 1080x720 with 1 Axes>"
      ]
     },
     "metadata": {},
     "output_type": "display_data"
    }
   ],
   "source": [
    "ax = top_5.plot(kind='bar', title =\"5 productos más vendidos\", figsize=(15, 10), legend=True, fontsize=12)\n",
    "ax.set_xlabel(\"sku\", fontsize=12)\n",
    "ax.set_ylabel(\"Compras\", fontsize=12)\n",
    "plt.show()"
   ]
  },
  {
   "cell_type": "markdown",
   "metadata": {},
   "source": [
    "### 3. Averiguar cuáles son los 10 usuarios que registraron más actividad en la plataforma (es decir, realizaron más eventos)."
   ]
  },
  {
   "cell_type": "code",
   "execution_count": 76,
   "metadata": {},
   "outputs": [],
   "source": [
    "usuarios = events_df['person'].value_counts()\n",
    "usuarios_mas_activos = usuarios.head(10)"
   ]
  },
  {
   "cell_type": "code",
   "execution_count": 77,
   "metadata": {},
   "outputs": [
    {
     "data": {
      "image/png": "[encoded data removed]",
      "text/plain": [
       "<Figure size 1080x720 with 1 Axes>"
      ]
     },
     "metadata": {},
     "output_type": "display_data"
    }
   ],
   "source": [
    "ax = usuarios_mas_activos.plot(kind='bar', title =\"10 usuarios más activos\", figsize=(15, 10), legend=True, fontsize=12)\n",
    "ax.set_xlabel(\"Usuario\", fontsize=12)\n",
    "ax.set_ylabel(\"Cantidad de eventos\", fontsize=12)\n",
    "plt.show()"
   ]
  }
 ],
 "metadata": {
  "kernelspec": {
   "display_name": "Python 3",
   "language": "python",
   "name": "python3"
  },
  "language_info": {
   "codemirror_mode": {
    "name": "ipython",
    "version": 3
   },
   "file_extension": ".py",
   "mimetype": "text/x-python",
   "name": "python",
   "nbconvert_exporter": "python",
   "pygments_lexer": "ipython3",
   "version": "3.6.5"
  }
 },
 "nbformat": 4,
 "nbformat_minor": 2
}
