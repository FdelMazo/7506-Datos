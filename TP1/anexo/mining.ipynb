{
 "cells": [
  {
   "cell_type": "code",
   "execution_count": null,
   "metadata": {},
   "outputs": [],
   "source": [
    "import pandas as pd\n",
    "\n",
    "df = pd.read_csv(\"../data/events.csv\", low_memory=False)"
   ]
  },
  {
   "cell_type": "markdown",
   "metadata": {},
   "source": [
    "### Brand"
   ]
  },
  {
   "cell_type": "code",
   "execution_count": null,
   "metadata": {},
   "outputs": [],
   "source": [
    "checked = ['iphone', 'samsung', 'motorola', 'lenovo', 'sony', 'lg', 'ipad', 'asus', 'quantum', 'blackberry']\n",
    "model_parsed = df['model'].dropna().map(lambda x: x.lower())\n",
    "model_parsed = model_parsed.map(lambda x: x.split())\n",
    "\n",
    "def find_brand(model):\n",
    "    for str in model:\n",
    "        if str in checked:\n",
    "            return str\n",
    "    return \"other\"\n",
    "\n",
    "\n",
    "df['brand'] = model_parsed.map(find_brand)\n",
    "df['brand'] = df['brand'].astype('category')"
   ]
  },
  {
   "cell_type": "code",
   "execution_count": null,
   "metadata": {},
   "outputs": [],
   "source": [
    "df[['model', 'brand']].dropna().drop_duplicates().to_csv('../data/brands.csv', index=False)"
   ]
  },
  {
   "cell_type": "markdown",
   "metadata": {},
   "source": [
    "### Operative system"
   ]
  },
  {
   "cell_type": "code",
   "execution_count": null,
   "metadata": {},
   "outputs": [],
   "source": [
    "df['operating_system_version'].unique()"
   ]
  },
  {
   "cell_type": "code",
   "execution_count": null,
   "metadata": {},
   "outputs": [],
   "source": [
    "checked = ['windows', 'android', 'linux', 'mac', 'ios', 'ubuntu', 'chrome', 'tizen', 'other']\n",
    "os_version_parsed = df['operating_system_version'].dropna().map(lambda x: x.lower())\n",
    "os_version_parsed = os_version_parsed.map(lambda x: x.split())\n",
    "\n",
    "def find_os(os_version):\n",
    "    for str in os_version:\n",
    "        if str in checked:\n",
    "            return str\n",
    "    return \"another\"\n",
    "\n",
    "\n",
    "df['operating_system'] = os_version_parsed.map(find_os)\n",
    "df['operating_system'] = df['operating_system'].astype('category')"
   ]
  },
  {
   "cell_type": "code",
   "execution_count": null,
   "metadata": {},
   "outputs": [],
   "source": [
    "df[['operating_system_version', 'operating_system']].dropna().head(10)\n",
    "df[df['operating_system'] == 'another'][['operating_system_version', 'operating_system']].head(10)"
   ]
  },
  {
   "cell_type": "code",
   "execution_count": null,
   "metadata": {},
   "outputs": [],
   "source": [
    "df['operating_system'].value_counts()"
   ]
  },
  {
   "cell_type": "code",
   "execution_count": null,
   "metadata": {},
   "outputs": [],
   "source": [
    "df[['operating_system_version', 'operating_system']].dropna().drop_duplicates().to_csv('../data/os.csv', index=False)"
   ]
  },
  {
   "cell_type": "code",
   "execution_count": null,
   "metadata": {},
   "outputs": [],
   "source": [
    "df[['operating_system_version', 'operating_system']].head(10)"
   ]
  },
  {
   "cell_type": "code",
   "execution_count": null,
   "metadata": {},
   "outputs": [],
   "source": []
  }
 ],
 "metadata": {
  "kernelspec": {
   "display_name": "Python 3",
   "language": "python",
   "name": "python3"
  },
  "language_info": {
   "codemirror_mode": {
    "name": "ipython",
    "version": 3
   },
   "file_extension": ".py",
   "mimetype": "text/x-python",
   "name": "python",
   "nbconvert_exporter": "python",
   "pygments_lexer": "ipython3",
   "version": "3.6.5"
  }
 },
 "nbformat": 4,
 "nbformat_minor": 2
}
