{
 "cells": [
  {
   "cell_type": "markdown",
   "metadata": {},
   "source": [
    "# [75.06 / 95.58] Organización de Datos\n",
    "## Trabajo Práctico 1: Análisis Exploratorio de Datos\n",
    "### Anexo: Creación de dataframes\n",
    "\n",
    "**Grupo 30: Datatouille**\n",
    "\n",
    "- 101055 - Bojman, Camila\n",
    "- 100029 - del Mazo, Federico\n",
    "- 100687 - Hortas, Cecilia\n",
    "- 97649 - Souto, Rodrigo\n",
    "\n",
    "**https://github.com/FdelMazo/7506-Datos**"
   ]
  },
  {
   "cell_type": "code",
   "execution_count": null,
   "metadata": {},
   "outputs": [],
   "source": [
    "import pandas as pd\n",
    "import numpy as np\n",
    "\n",
    "df = pd.read_csv(\"data/events.csv\", low_memory=False)\n",
    "df['timestamp'] = pd.to_datetime(df['timestamp'])"
   ]
  },
  {
   "cell_type": "markdown",
   "metadata": {},
   "source": [
    "### brands.csv"
   ]
  },
  {
   "cell_type": "code",
   "execution_count": null,
   "metadata": {},
   "outputs": [],
   "source": [
    "checked = ['iphone', 'samsung', 'motorola', 'lenovo', 'sony', 'lg', 'ipad', 'asus', 'quantum', 'blackberry']\n",
    "model_parsed = df['model'].dropna().map(lambda x: x.lower())\n",
    "model_parsed = model_parsed.map(lambda x: x.split())\n",
    "\n",
    "def find_brand(model):\n",
    "    for str in model:\n",
    "        if str in checked:\n",
    "            return str\n",
    "    return \"other\"\n",
    "\n",
    "\n",
    "df['brand'] = model_parsed.map(find_brand)\n",
    "df['brand'] = df['brand'].astype('category')"
   ]
  },
  {
   "cell_type": "code",
   "execution_count": null,
   "metadata": {},
   "outputs": [],
   "source": [
    "df[['model', 'brand']].dropna().drop_duplicates().to_csv('data/brands.csv', index=False)"
   ]
  },
  {
   "cell_type": "markdown",
   "metadata": {},
   "source": [
    "### os.csv"
   ]
  },
  {
   "cell_type": "code",
   "execution_count": null,
   "metadata": {},
   "outputs": [],
   "source": [
    "df['operating_system_version'].unique()"
   ]
  },
  {
   "cell_type": "code",
   "execution_count": null,
   "metadata": {},
   "outputs": [],
   "source": [
    "checked = ['windows', 'android', 'linux', 'mac', 'ios', 'ubuntu', 'chrome os', 'tizen', 'other']\n",
    "os_version_parsed = df['operating_system_version'].dropna().map(lambda x: x.lower())\n",
    "\n",
    "def find_os(os_version):\n",
    "    for os in checked:\n",
    "        if os in os_version:\n",
    "            return os\n",
    "    return \"another\"\n",
    "\n",
    "\n",
    "df['operating_system'] = os_version_parsed.map(find_os)\n",
    "df['operating_system'] = df['operating_system'].astype('category')"
   ]
  },
  {
   "cell_type": "code",
   "execution_count": null,
   "metadata": {},
   "outputs": [],
   "source": [
    "df[['operating_system_version', 'operating_system']].dropna().head(10)\n",
    "df[df['operating_system'] == 'another'][['operating_system_version', 'operating_system']].head(10)"
   ]
  },
  {
   "cell_type": "code",
   "execution_count": null,
   "metadata": {},
   "outputs": [],
   "source": [
    "df['operating_system'].value_counts()"
   ]
  },
  {
   "cell_type": "code",
   "execution_count": null,
   "metadata": {},
   "outputs": [],
   "source": [
    "df[['operating_system_version', 'operating_system']].dropna().drop_duplicates().to_csv('data/os.csv', index=False)"
   ]
  },
  {
   "cell_type": "code",
   "execution_count": null,
   "metadata": {},
   "outputs": [],
   "source": [
    "df[['operating_system_version', 'operating_system']].head(10)"
   ]
  },
  {
   "cell_type": "markdown",
   "metadata": {},
   "source": [
    "### browsers.csv"
   ]
  },
  {
   "cell_type": "code",
   "execution_count": null,
   "metadata": {},
   "outputs": [],
   "source": [
    "checked = ['mobile safari', 'chrome mobile', 'ie mobile', 'firefox mobile', 'edge mobile', 'opera mobile',\n",
    "           'mobile', 'chrome', 'android', 'opera', 'ie', 'firefox', \n",
    "           'facebook', 'samsung', 'chromium', 'edge', 'yandex', 'uc', \n",
    "           'other', 'safari', 'puffin', 'maxthon', 'vivaldi']\n",
    "browser_version_parsed = df['browser_version'].dropna().map(lambda x: x.lower())\n",
    "\n",
    "def find_browser(browser_version):\n",
    "    for browser in checked:\n",
    "        if browser in browser_version:\n",
    "            return browser\n",
    "    return \"other\"\n",
    "\n",
    "\n",
    "df['browser'] = browser_version_parsed.map(find_browser)\n",
    "df['browser'] = df['browser'].astype('category')"
   ]
  },
  {
   "cell_type": "code",
   "execution_count": null,
   "metadata": {},
   "outputs": [],
   "source": [
    "df[(df['browser'] == 'mobile')][['browser_version', 'browser']]"
   ]
  },
  {
   "cell_type": "code",
   "execution_count": null,
   "metadata": {},
   "outputs": [],
   "source": [
    "df[['browser_version', 'browser']].dropna().head(10)\n",
    "display(df['browser'].value_counts())\n",
    "df[(df['browser'] == 'another')][['browser_version', 'browser']]"
   ]
  },
  {
   "cell_type": "code",
   "execution_count": null,
   "metadata": {},
   "outputs": [],
   "source": [
    "df[['browser_version', 'browser']].dropna().drop_duplicates().to_csv('data/browsers.csv', index=False)"
   ]
  },
  {
   "cell_type": "code",
   "execution_count": null,
   "metadata": {},
   "outputs": [],
   "source": [
    "df[['browser_version', 'browser']].head(20)"
   ]
  },
  {
   "cell_type": "markdown",
   "metadata": {},
   "source": [
    "#### Colors"
   ]
  },
  {
   "cell_type": "code",
   "execution_count": null,
   "metadata": {},
   "outputs": [],
   "source": []
  },
  {
   "cell_type": "markdown",
   "metadata": {},
   "source": [
    "# Funnels"
   ]
  },
  {
   "cell_type": "markdown",
   "metadata": {},
   "source": [
    "Definimos una sesión como una serie de eventos por usuario, los cuales están todos con menos de 30 minutos de inactividad entre el actual y el anterior."
   ]
  },
  {
   "cell_type": "code",
   "execution_count": null,
   "metadata": {},
   "outputs": [],
   "source": [
    "funnel = df.sort_values(['person', 'timestamp'])"
   ]
  },
  {
   "cell_type": "code",
   "execution_count": null,
   "metadata": {},
   "outputs": [],
   "source": [
    "funnel['time_diff'] = funnel.groupby('person')['timestamp'].diff()\n",
    "funnel['time_diff'] = funnel['time_diff'].fillna(0)\n",
    "funnel['time_diff_min'] = funnel['time_diff'] / np.timedelta64(1, 'm')"
   ]
  },
  {
   "cell_type": "code",
   "execution_count": null,
   "metadata": {},
   "outputs": [],
   "source": [
    "THRESHOLD = 30 # minutes\n",
    "\n",
    "funnel['new_session'] = funnel['time_diff_min'] > THRESHOLD\n",
    "funnel['session_id'] = funnel.groupby('person')['new_session'].cumsum()\n",
    "funnel['session_id'] = funnel['session_id'].astype('int')"
   ]
  },
  {
   "cell_type": "code",
   "execution_count": null,
   "metadata": {},
   "outputs": [],
   "source": [
    "gb = funnel.groupby(['person', 'session_id'])\n",
    "\n",
    "funnel['session_cumno'] = gb.cumcount()\n",
    "funnel['session_total_events'] = gb['session_cumno'].transform(lambda x: x.size)\n",
    "funnel['session_first'] = funnel['session_cumno'] == 0\n",
    "funnel['session_last'] = funnel['session_cumno'] == (-1+funnel['session_total_events'])"
   ]
  },
  {
   "cell_type": "code",
   "execution_count": null,
   "metadata": {},
   "outputs": [],
   "source": [
    "cols = ['person', 'timestamp', 'time_diff_min', \\\n",
    "        'session_id', 'event', 'session_total_events', \\\n",
    "        'session_cumno', 'session_first', 'session_last']\n",
    "funnel[cols]"
   ]
  },
  {
   "cell_type": "code",
   "execution_count": null,
   "metadata": {},
   "outputs": [],
   "source": [
    "funnel['is_conversion'] = funnel['event'] == 'conversion'\n",
    "gb = funnel.groupby(['person', 'session_id'])\n",
    "funnel['session_conversion'] = gb['is_conversion'].transform(lambda x: x.sum())\n",
    "funnel['session_conversion'] = funnel['session_conversion'] > 0"
   ]
  },
  {
   "cell_type": "code",
   "execution_count": null,
   "metadata": {},
   "outputs": [],
   "source": [
    "funnel2[funnel2['session_conversion']][cols].head(10)"
   ]
  },
  {
   "cell_type": "code",
   "execution_count": null,
   "metadata": {},
   "outputs": [],
   "source": [
    "funnel['is_checkout'] = funnel['event'] == 'checkout'\n",
    "gb = funnel.groupby(['person', 'session_id'])\n",
    "funnel['session_checkout'] = gb['is_checkout'].transform(lambda x: x.sum())\n",
    "funnel['session_checkout'] = funnel['session_checkout'] > 0"
   ]
  },
  {
   "cell_type": "code",
   "execution_count": null,
   "metadata": {},
   "outputs": [],
   "source": [
    "funnel2[funnel2['session_checkout']][cols].head(10)"
   ]
  },
  {
   "cell_type": "code",
   "execution_count": null,
   "metadata": {},
   "outputs": [],
   "source": [
    "funnel['ad_origin'] = (funnel['event'] == 'ad campaign hit') & funnel['session_first']\n",
    "gb = funnel.groupby(['person', 'session_id'])\n",
    "funnel['session_organic'] = gb['add_origin'].transform(lambda x: x.sum())\n",
    "funnel['session_organic'] = funnel['session_organic'] == 0"
   ]
  },
  {
   "cell_type": "code",
   "execution_count": null,
   "metadata": {},
   "outputs": [],
   "source": [
    "funnel[cols]"
   ]
  },
  {
   "cell_type": "code",
   "execution_count": null,
   "metadata": {},
   "outputs": [],
   "source": []
  },
  {
   "cell_type": "code",
   "execution_count": null,
   "metadata": {},
   "outputs": [],
   "source": [
    "cols_csv = ['time_diff_min', \\\n",
    "        'session_id', 'session_total_events', \\\n",
    "        'session_cumno', 'session_first', 'session_last', \\\n",
    "        'session_conversion', 'session_checkout', 'session_organic']\n",
    "\n",
    "funnel[cols_csv].to_csv('data/sessions.csv', index=False)"
   ]
  },
  {
   "cell_type": "code",
   "execution_count": null,
   "metadata": {},
   "outputs": [],
   "source": [
    "df = funnel"
   ]
  },
  {
   "cell_type": "markdown",
   "metadata": {},
   "source": [
    "#### Funnel graph"
   ]
  },
  {
   "cell_type": "code",
   "execution_count": null,
   "metadata": {},
   "outputs": [],
   "source": [
    "import plotly\n",
    "import plotly.plotly as py\n",
    "import plotly.graph_objs as go\n",
    "\n",
    "from __future__ import division\n",
    "\n",
    "plotly.tools.set_credentials_file(username='datatouille', api_key='GJ7Foc8nFWf23VZfzFSK')"
   ]
  },
  {
   "cell_type": "code",
   "execution_count": null,
   "metadata": {},
   "outputs": [],
   "source": [
    "dfunnel = df[\\\n",
    "    (df['event'] == 'generic listing') | \\\n",
    "    (df['event'] == 'brand listing') | \\\n",
    "    (df['event'] == 'searched products') | \\\n",
    "    (df['event'] == 'viewed product') | \\\n",
    "    (df['event'] == 'checkout') | \\\n",
    "    (df['event'] == 'conversion') \\\n",
    "]\n",
    "\n",
    "# color for each segment\n",
    "colors = ['rgb(63,92,128)', 'rgb(90,131,182)', 'rgb(255,255,255)', 'rgb(127,127,127)', 'rgb(84,73,75)']\n",
    "colors = ['rgb(63,92,128)', 'rgb(84,73,75)']"
   ]
  },
  {
   "cell_type": "code",
   "execution_count": null,
   "metadata": {},
   "outputs": [],
   "source": [
    "df.loc[df['skus'].dropna().index]['event'].value_counts()"
   ]
  },
  {
   "cell_type": "code",
   "execution_count": null,
   "metadata": {},
   "outputs": [],
   "source": [
    "dfunnel = dfunnel.groupby(['event', 'session_organic']).size().unstack(level='session_organic')\n",
    "dfunnel"
   ]
  },
  {
   "cell_type": "code",
   "execution_count": null,
   "metadata": {},
   "outputs": [],
   "source": [
    "def group_lists(event):\n",
    "    if event == 'brand listing' or event == 'generic listing' or event == 'searched products':\n",
    "        return 'listed'\n",
    "    return event\n",
    "\n",
    "dfunnel.columns = ['Ad', 'Organic']\n",
    "dfunnel = dfunnel.groupby(dfunnel.index.map(lambda x: group_lists(x))).sum()\n",
    "dfunnel = dfunnel.reindex(['listed', \\\n",
    "                 'viewed product', 'checkout', 'conversion'])\n",
    "dfunnel = np.log(dfunnel)"
   ]
  },
  {
   "cell_type": "code",
   "execution_count": null,
   "metadata": {},
   "outputs": [],
   "source": [
    "dfunnel"
   ]
  },
  {
   "cell_type": "code",
   "execution_count": null,
   "metadata": {},
   "outputs": [],
   "source": [
    "total = [sum(row[1]) for row in dfunnel.iterrows()]"
   ]
  },
  {
   "cell_type": "code",
   "execution_count": null,
   "metadata": {},
   "outputs": [],
   "source": [
    "n_phase, n_seg = dfunnel.shape"
   ]
  },
  {
   "cell_type": "code",
   "execution_count": null,
   "metadata": {},
   "outputs": [],
   "source": [
    "plot_width = 500\n",
    "unit_width = plot_width / total[0]\n",
    " \n",
    "phase_w = [int(value * unit_width) for value in total]\n",
    " \n",
    "# height of a section and difference between sections \n",
    "section_h = 100\n",
    "section_d = 10\n",
    "\n",
    "# shapes of the plot\n",
    "shapes = []\n",
    " \n",
    "# plot traces data\n",
    "data = []\n",
    " \n",
    "# height of the phase labels\n",
    "label_y = []"
   ]
  },
  {
   "cell_type": "code",
   "execution_count": null,
   "metadata": {},
   "outputs": [],
   "source": [
    "height = section_h * n_phase + section_d * (n_phase-1)\n",
    "\n",
    "# rows of the DataFrame\n",
    "df_rows = list(dfunnel.iterrows())\n",
    "\n",
    "# iteration over all the phases\n",
    "for i in range(n_phase):\n",
    "    # phase name\n",
    "    row_name = dfunnel.index[i]\n",
    "    \n",
    "    # width of each segment (smaller rectangles) will be calculated\n",
    "    # according to their contribution in the total users of phase\n",
    "    seg_unit_width = phase_w[i] / total[i]\n",
    "    seg_w = [int(df_rows[i][1][j] * seg_unit_width) for j in range(n_seg)]\n",
    "    \n",
    "    # starting point of segment (the rectangle shape) on the X-axis\n",
    "    xl = -1 * (phase_w[i] / 2)\n",
    "    \n",
    "    # iteration over all the segments\n",
    "    for j in range(n_seg):\n",
    "        # name of the segment\n",
    "        seg_name = dfunnel.columns[j]\n",
    "        \n",
    "        # corner points of a segment used in the SVG path\n",
    "        points = [xl, height, xl + seg_w[j], height, xl + seg_w[j], height - section_h, xl, height - section_h]\n",
    "        path = 'M {0} {1} L {2} {3} L {4} {5} L {6} {7} Z'.format(*points)\n",
    "        \n",
    "        shape = {\n",
    "                'type': 'path',\n",
    "                'path': path,\n",
    "                'fillcolor': colors[j],\n",
    "                'line': {\n",
    "                    'width': 1,\n",
    "                    'color': colors[j]\n",
    "                }\n",
    "        }\n",
    "        shapes.append(shape)\n",
    "        \n",
    "        # to support hover on shapes\n",
    "        hover_trace = go.Scatter(\n",
    "            x=[xl + (seg_w[j] / 2)],\n",
    "            y=[height - (section_h / 2)],\n",
    "            mode='markers',\n",
    "            marker=dict(\n",
    "                size=min(seg_w[j]/2, (section_h / 2)),\n",
    "                color='rgba(255,255,255,1)'\n",
    "            ),\n",
    "            text=\"Segment : %s\" % (seg_name),\n",
    "            name=\"Value : %d\" % (dfunnel[seg_name][row_name])\n",
    "        )\n",
    "        data.append(hover_trace)\n",
    "        \n",
    "        xl = xl + seg_w[j]\n",
    "\n",
    "    label_y.append(height - (section_h / 2))\n",
    "\n",
    "    height = height - (section_h + section_d)"
   ]
  },
  {
   "cell_type": "code",
   "execution_count": null,
   "metadata": {},
   "outputs": [],
   "source": [
    "# For phase names\n",
    "label_trace = go.Scatter(\n",
    "    x=[-350]*n_phase,\n",
    "    y=label_y,\n",
    "    mode='text',\n",
    "    text=dfunnel.index.tolist(),\n",
    "    textfont=dict(\n",
    "        color='rgb(200,200,200)',\n",
    "        size=11\n",
    "    )\n",
    ")\n",
    "\n",
    "data.append(label_trace)\n",
    " \n",
    "# For phase values (total)\n",
    "value_trace = go.Scatter(\n",
    "    x=[350]*n_phase,\n",
    "    y=label_y,\n",
    "    mode='text',\n",
    "    text=total,\n",
    "    textfont=dict(\n",
    "        color='rgb(200,200,200)',\n",
    "        size=11\n",
    "    )\n",
    ")"
   ]
  },
  {
   "cell_type": "code",
   "execution_count": null,
   "metadata": {},
   "outputs": [],
   "source": [
    "layout = go.Layout(\n",
    "    title=\"<b>Funnel (log) [Ad:Azul | Orgánico:Marrón]</b>\",\n",
    "    titlefont=dict(\n",
    "        size=20,\n",
    "        color='rgb(230,230,230)'\n",
    "    ),\n",
    "    hovermode='closest',\n",
    "    shapes=shapes,\n",
    "    showlegend=False,\n",
    "    paper_bgcolor='rgba(44,58,71,1)',\n",
    "    plot_bgcolor='rgba(44,58,71,1)',\n",
    "    xaxis=dict(\n",
    "        showticklabels=False,\n",
    "        zeroline=False,\n",
    "    ),\n",
    "    yaxis=dict(\n",
    "        showticklabels=False,\n",
    "        zeroline=False\n",
    "    )\n",
    ")\n",
    "\n",
    "fig = go.Figure(data=data, layout=layout)\n",
    "py.iplot(fig)"
   ]
  },
  {
   "cell_type": "code",
   "execution_count": null,
   "metadata": {},
   "outputs": [],
   "source": []
  },
  {
   "cell_type": "code",
   "execution_count": null,
   "metadata": {},
   "outputs": [],
   "source": []
  }
 ],
 "metadata": {
  "kernelspec": {
   "display_name": "Python 3",
   "language": "python",
   "name": "python3"
  },
  "language_info": {
   "codemirror_mode": {
    "name": "ipython",
    "version": 3
   },
   "file_extension": ".py",
   "mimetype": "text/x-python",
   "name": "python",
   "nbconvert_exporter": "python",
   "pygments_lexer": "ipython3",
   "version": "3.6.5"
  },
  "toc": {
   "base_numbering": 1,
   "nav_menu": {},
   "number_sections": false,
   "sideBar": true,
   "skip_h1_title": true,
   "title_cell": "Table of Contents",
   "title_sidebar": "Contents",
   "toc_cell": false,
   "toc_position": {},
   "toc_section_display": true,
   "toc_window_display": true
  }
 },
 "nbformat": 4,
 "nbformat_minor": 2
}
